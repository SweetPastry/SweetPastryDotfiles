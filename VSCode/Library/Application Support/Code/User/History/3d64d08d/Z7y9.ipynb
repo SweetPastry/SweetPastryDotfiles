{
 "cells": [
  {
   "cell_type": "code",
   "execution_count": 4,
   "metadata": {},
   "outputs": [],
   "source": [
    "# 不使用 typing 库的时候可以注解 int, float, str, bool, None 这些基础的数据类型\n",
    "def exampleFunc1(a: int, b: int) -> int:\n",
    "    return a + b\n",
    "print(exampleFunc(1, 1))"
   ]
  },
  {
   "cell_type": "code",
   "execution_count": 11,
   "metadata": {},
   "outputs": [
    {
     "name": "stdout",
     "output_type": "stream",
     "text": [
      "(5, 7, 9)\n"
     ]
    }
   ],
   "source": [
    "def exampleFunc2(a: tuple[int], b: tuple[int]) -> tuple[int]:\n",
    "    return tuple(a + b for a, b in zip(a, b))\n",
    "print(exampleFunc2((1, 2, 3), (4, 5, 6)))"
   ]
  },
  {
   "cell_type": "code",
   "execution_count": 23,
   "metadata": {},
   "outputs": [
    {
     "name": "stdout",
     "output_type": "stream",
     "text": [
      "You're calling exampleFunc3!\n",
      "1.32\n"
     ]
    }
   ],
   "source": [
    "# typing 库提供了更多复杂和泛型类型，如 Union, Optional, Callable, TypeVar 等\n",
    "\n",
    "from typing import *\n",
    "\n",
    "def echo(func: Callable[[Any], Any]) -> Callable[[Any], Any]:\n",
    "    def wrapper(*args, **kwargs):\n",
    "        print(f\"You're calling {func.__name__}!\")\n",
    "        return func(*args, **kwargs)\n",
    "    return wrapper\n",
    "\n",
    "@echo\n",
    "def exampleFunc3(a: float, b: float) -> float:\n",
    "    return a * b\n",
    "\n",
    "a: float = 1.1; b: float = 1.2\n",
    "\n",
    "print(exampleFunc3(a, b))"
   ]
  },
  {
   "cell_type": "code",
   "execution_count": null,
   "metadata": {},
   "outputs": [],
   "source": []
  },
  {
   "cell_type": "code",
   "execution_count": null,
   "metadata": {},
   "outputs": [],
   "source": []
  }
 ],
 "metadata": {
  "kernelspec": {
   "display_name": "MyEnv",
   "language": "python",
   "name": "python3"
  },
  "language_info": {
   "codemirror_mode": {
    "name": "ipython",
    "version": 3
   },
   "file_extension": ".py",
   "mimetype": "text/x-python",
   "name": "python",
   "nbconvert_exporter": "python",
   "pygments_lexer": "ipython3",
   "version": "3.12.2"
  }
 },
 "nbformat": 4,
 "nbformat_minor": 2
}
