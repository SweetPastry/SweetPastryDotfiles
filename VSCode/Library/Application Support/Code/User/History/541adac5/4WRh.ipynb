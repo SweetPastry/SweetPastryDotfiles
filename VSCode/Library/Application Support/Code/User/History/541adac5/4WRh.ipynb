{
 "cells": [
  {
   "cell_type": "code",
   "execution_count": 6,
   "metadata": {},
   "outputs": [
    {
     "name": "stdout",
     "output_type": "stream",
     "text": [
      "\n",
      "str =\n",
      "\n",
      "    '0BI0PAHN01IB8TFNJUXE'\n",
      "\n"
     ]
    }
   ],
   "source": [
    "strList=[char(double('A'):double('Z')),char(double('0'):double('9'))];\n",
    "str=strList(randi([1,length(strList)],1,20))"
   ]
  },
  {
   "cell_type": "code",
   "execution_count": 7,
   "metadata": {},
   "outputs": [
    {
     "name": "stderr",
     "output_type": "stream",
     "text": [
      "\u001b[0;31mDeletion requires an existing variable.\n",
      "\n",
      "\u001b[0m"
     ]
    }
   ],
   "source": [
    "tr(2:(2+1)) = [];"
   ]
  }
 ],
 "metadata": {
  "kernelspec": {
   "display_name": "Matlab (Connection)",
   "language": "matlab",
   "name": "matlab_connect"
  },
  "language_info": {
   "codemirror_mode": "octave",
   "file_extension": ".m",
   "help_links": [
    {
     "text": "MetaKernel Magics",
     "url": "https://metakernel.readthedocs.io/en/latest/source/README.html"
    }
   ],
   "mimetype": "text/x-octave",
   "name": "matlab",
   "version": "0.17.1"
  }
 },
 "nbformat": 4,
 "nbformat_minor": 2
}
