{
 "cells": [
  {
   "cell_type": "code",
   "execution_count": null,
   "id": "147156c1",
   "metadata": {},
   "outputs": [
    {
     "ename": "",
     "evalue": "",
     "output_type": "error",
     "traceback": [
      "\u001b[1;31mFailed to start the Kernel. \n",
      "\u001b[1;31mError: Compilation failed, but no parsable errors were found. STDERR:\n",
      "\u001b[1;31m   Compiling ctx v1.0.0 (/private/var/folders/c5/kj9p5qmd7gndcqhl48t7wf9c0000gn/T/.tmpFLVpvo)\n",
      "\u001b[1;31merror: could not compile `ctx` (lib)\n",
      "\u001b[1;31m\n",
      "\u001b[1;31mCaused by:\n",
      "\u001b[1;31m  process didn't exit successfully: `/opt/homebrew/bin/rustc --crate-name ctx --edition=2024 src/lib.rs --error-format=json --json=diagnostic-rendered-ansi,artifacts,future-incompat --crate-type cdylib --emit=dep-info,link -C opt-level=2 -C embed-bitcode=no -C codegen-units=16 -C debug-assertions=on --check-cfg 'cfg(docsrs,test)' --check-cfg 'cfg(feature, values())' -C metadata=c311dee22b65b928 -C rpath --out-dir /private/var/folders/c5/kj9p5qmd7gndcqhl48t7wf9c0000gn/T/.tmpFLVpvo/target/aarch64-apple-darwin/debug/deps --target aarch64-apple-darwin -C incremental=/private/var/folders/c5/kj9p5qmd7gndcqhl48t7wf9c0000gn/T/.tmpFLVpvo/target/aarch64-apple-darwin/debug/incremental -C strip=debuginfo -L dependency=/private/var/folders/c5/kj9p5qmd7gndcqhl48t7wf9c0000gn/T/.tmpFLVpvo/target/aarch64-apple-darwin/debug/deps -L dependency=/private/var/folders/c5/kj9p5qmd7gndcqhl48t7wf9c0000gn/T/.tmpFLVpvo/target/debug/deps -Cprefer-dynamic` (signal: 9, SIGKILL: kill)\n",
      "\u001b[1;31m\n",
      "\u001b[1;31mSTDOUT:{\"reason\":\"build-finished\",\"success\":false}. \n",
      "\u001b[1;31mView Jupyter <a href='command:jupyter.viewOutput'>log</a> for further details."
     ]
    }
   ],
   "source": [
    "println!(\"Hello, Rust in Jupyter!\");"
   ]
  }
 ],
 "metadata": {
  "kernelspec": {
   "display_name": "Rust",
   "language": "rust",
   "name": "rust"
  },
  "language_info": {
   "name": "rust"
  }
 },
 "nbformat": 4,
 "nbformat_minor": 5
}
