{
 "cells": [
  {
   "cell_type": "code",
   "execution_count": null,
   "id": "147156c1",
   "metadata": {},
   "outputs": [
    {
     "ename": "",
     "evalue": "",
     "output_type": "error",
     "traceback": [
      "\u001b[1;31mFailed to start the Kernel. \n",
      "\u001b[1;31mError: Subprocess terminated with signal 9. This is known to happen when evcxr is installed via a Homebrew shell under emulation. Try installing rustup and evcxr without using Homebrew and see if that helps. \n",
      "\u001b[1;31mView Jupyter <a href='command:jupyter.viewOutput'>log</a> for further details."
     ]
    }
   ],
   "source": [
    "println!(\"Hello, Rust in Jupyter!\");"
   ]
  }
 ],
 "metadata": {
  "kernelspec": {
   "display_name": "Rust",
   "language": "rust",
   "name": "rust"
  },
  "language_info": {
   "name": "rust"
  }
 },
 "nbformat": 4,
 "nbformat_minor": 5
}
