{
 "cells": [
  {
   "cell_type": "code",
   "execution_count": 1,
   "metadata": {},
   "outputs": [
    {
     "name": "stdout",
     "output_type": "stream",
     "text": [
      "\n",
      "A =\n",
      "\n",
      "     3     0\n",
      "     8    -1\n",
      "\n"
     ]
    }
   ],
   "source": [
    "A = [\n",
    "    3, 0;\n",
    "    8, -1;\n",
    "]"
   ]
  },
  {
   "cell_type": "code",
   "execution_count": 2,
   "metadata": {},
   "outputs": [
    {
     "name": "stdout",
     "output_type": "stream",
     "text": [
      "\n",
      "V =\n",
      "\n",
      "                         0         0.447213595499958\n",
      "                         1         0.894427190999916\n",
      "\n",
      "\n",
      "D =\n",
      "\n",
      "    -1     0\n",
      "     0     3\n",
      "\n"
     ]
    }
   ],
   "source": [
    "[V, D] = eig(A)"
   ]
  },
  {
   "cell_type": "code",
   "execution_count": 8,
   "metadata": {},
   "outputs": [
    {
     "name": "stdout",
     "output_type": "stream",
     "text": [
      "\n",
      "ans =\n",
      "\n",
      "                         0          1.34164078649987\n",
      "                        -1          2.68328157299975\n",
      "\n",
      "\n",
      "ans =\n",
      "\n",
      "                         0        -0.447213595499958\n",
      "                         3          2.68328157299975\n",
      "\n"
     ]
    }
   ],
   "source": [
    "A*V\n",
    "D*V"
   ]
  }
 ],
 "metadata": {
  "kernelspec": {
   "display_name": "Matlab (Connection)",
   "language": "matlab",
   "name": "matlab_connect"
  },
  "language_info": {
   "codemirror_mode": "octave",
   "file_extension": ".m",
   "help_links": [
    {
     "text": "MetaKernel Magics",
     "url": "https://metakernel.readthedocs.io/en/latest/source/README.html"
    }
   ],
   "mimetype": "text/x-octave",
   "name": "matlab",
   "version": "0.17.1"
  }
 },
 "nbformat": 4,
 "nbformat_minor": 2
}
