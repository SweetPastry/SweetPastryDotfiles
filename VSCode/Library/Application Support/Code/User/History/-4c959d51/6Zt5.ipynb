{
 "cells": [
  {
   "cell_type": "code",
   "execution_count": null,
   "metadata": {},
   "outputs": [
    {
     "name": "stdout",
     "output_type": "stream",
     "text": [
      "\n",
      "ans =\n",
      "\n",
      "         0.814723686393179         0.157613081677548\n",
      "         0.905791937075619         0.970592781760616\n",
      "         0.126986816293506         0.957166948242946\n",
      "         0.913375856139019         0.485375648722841\n",
      "          0.63235924622541           0.8002804688888\n",
      "        0.0975404049994095         0.141886338627215\n",
      "         0.278498218867048         0.421761282626275\n",
      "         0.546881519204984         0.915735525189067\n",
      "         0.957506835434298         0.792207329559554\n",
      "         0.964888535199277         0.959492426392903\n",
      "\n"
     ]
    }
   ],
   "source": [
    "rand(10, 2);\n"
   ]
  }
 ],
 "metadata": {
  "kernelspec": {
   "display_name": "Matlab (Connection)",
   "language": "matlab",
   "name": "matlab_connect"
  },
  "language_info": {
   "codemirror_mode": "octave",
   "file_extension": ".m",
   "help_links": [
    {
     "text": "MetaKernel Magics",
     "url": "https://metakernel.readthedocs.io/en/latest/source/README.html"
    }
   ],
   "mimetype": "text/x-octave",
   "name": "matlab",
   "version": "0.17.1"
  }
 },
 "nbformat": 4,
 "nbformat_minor": 2
}
