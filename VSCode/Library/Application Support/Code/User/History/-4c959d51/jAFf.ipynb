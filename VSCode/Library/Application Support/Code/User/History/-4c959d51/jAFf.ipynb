{
 "cells": [
  {
   "cell_type": "code",
   "execution_count": 185,
   "metadata": {},
   "outputs": [],
   "source": [
    "clear;  % 清空工作区, 防止以前的文件有影响"
   ]
  },
  {
   "cell_type": "code",
   "execution_count": 186,
   "metadata": {},
   "outputs": [
    {
     "name": "stdout",
     "output_type": "stream",
     "text": [
      "\n",
      "randPoints =\n",
      "\n",
      "         0.951630464777727         0.301454948712065\n",
      "         0.920332039836564         0.701098755900926\n",
      "        0.0526769976807926         0.666338851584426\n",
      "         0.737858095516997         0.539126465042857\n",
      "         0.269119426398556         0.698105520180308\n",
      "         0.422835615008808         0.666527913402587\n",
      "         0.547870901214845         0.178132454400338\n",
      "         0.942736984276934         0.128014399720173\n",
      "         0.417744104316662         0.999080394761361\n",
      "         0.983052466469856         0.171121066356432\n",
      "\n"
     ]
    }
   ],
   "source": [
    "randPoints = rand(10, 2)"
   ]
  },
  {
   "cell_type": "code",
   "execution_count": 187,
   "metadata": {},
   "outputs": [
    {
     "name": "stdout",
     "output_type": "stream",
     "text": [
      "\n",
      "Your variables are:\n",
      "\n",
      "randPoints  \n",
      "\n"
     ]
    }
   ],
   "source": [
    "who"
   ]
  },
  {
   "cell_type": "code",
   "execution_count": 188,
   "metadata": {},
   "outputs": [
    {
     "name": "stdout",
     "output_type": "stream",
     "text": [
      "\n",
      "Your variables are:\n",
      "\n",
      "randPoints  \n",
      "\n"
     ]
    }
   ],
   "source": [
    "who randPoints"
   ]
  },
  {
   "cell_type": "code",
   "execution_count": 189,
   "metadata": {},
   "outputs": [
    {
     "name": "stdout",
     "output_type": "stream",
     "text": [
      "  Name             Size            Bytes  Class     Attributes\n",
      "\n",
      "  randPoints      10x2               160  double              \n",
      "\n"
     ]
    }
   ],
   "source": [
    "whos"
   ]
  },
  {
   "cell_type": "code",
   "execution_count": 190,
   "metadata": {},
   "outputs": [
    {
     "name": "stdout",
     "output_type": "stream",
     "text": [
      "  Name             Size            Bytes  Class     Attributes\n",
      "\n",
      "  randPoints      10x2               160  double              \n",
      "\n"
     ]
    }
   ],
   "source": [
    "whos randPoints"
   ]
  },
  {
   "cell_type": "code",
   "execution_count": 191,
   "metadata": {},
   "outputs": [],
   "source": [
    "save randPoints.mat\n",
    "% ipynb 和 .m 文件在 vscode 中都无法执行这个命令\n",
    "% 又可以执行了, 不清楚为什么"
   ]
  },
  {
   "cell_type": "code",
   "execution_count": 192,
   "metadata": {},
   "outputs": [],
   "source": [
    "clear;"
   ]
  },
  {
   "cell_type": "code",
   "execution_count": 193,
   "metadata": {},
   "outputs": [],
   "source": [
    "load randPoints.mat\n",
    "% 可以执行这个"
   ]
  },
  {
   "cell_type": "code",
   "execution_count": 194,
   "metadata": {},
   "outputs": [
    {
     "name": "stdout",
     "output_type": "stream",
     "text": [
      "\n",
      "randPoints =\n",
      "\n",
      "         0.951630464777727         0.301454948712065\n",
      "         0.920332039836564         0.701098755900926\n",
      "        0.0526769976807926         0.666338851584426\n",
      "         0.737858095516997         0.539126465042857\n",
      "         0.269119426398556         0.698105520180308\n",
      "         0.422835615008808         0.666527913402587\n",
      "         0.547870901214845         0.178132454400338\n",
      "         0.942736984276934         0.128014399720173\n",
      "         0.417744104316662         0.999080394761361\n",
      "         0.983052466469856         0.171121066356432\n",
      "\n"
     ]
    }
   ],
   "source": [
    "randPoints"
   ]
  },
  {
   "cell_type": "code",
   "execution_count": 195,
   "metadata": {},
   "outputs": [],
   "source": [
    "% save 函数有两种用法\n",
    "% save(\"filename.txt\") 将工作区数据保存为 txt 文件\n",
    "% save(\"filename.txt\", \"var1\", \"var2\")\n",
    "% 例如 save(\"filename.txt\", \"randPoints\", \"-ascii\")\n",
    "% 表示指定保存工作区变量 randPoints, 格式为 ascii\n",
    "save(\"randPoints.txt\", \"randPoints\", \"-ascii\")"
   ]
  },
  {
   "cell_type": "code",
   "execution_count": 196,
   "metadata": {},
   "outputs": [],
   "source": [
    "clear;"
   ]
  },
  {
   "cell_type": "code",
   "execution_count": 197,
   "metadata": {},
   "outputs": [
    {
     "name": "stdout",
     "output_type": "stream",
     "text": [
      "\n",
      "data =\n",
      "\n",
      "                0.95163046                0.30145495\n",
      "                0.92033204                0.70109876\n",
      "               0.052676998                0.66633885\n",
      "                 0.7378581                0.53912647\n",
      "                0.26911943                0.69810552\n",
      "                0.42283562                0.66652791\n",
      "                 0.5478709                0.17813245\n",
      "                0.94273698                 0.1280144\n",
      "                 0.4177441                0.99908039\n",
      "                0.98305247                0.17112107\n",
      "\n"
     ]
    }
   ],
   "source": [
    "% importdata 函数的简单用法\n",
    "data = importdata(\"randPoints.txt\")"
   ]
  },
  {
   "cell_type": "code",
   "execution_count": 198,
   "metadata": {},
   "outputs": [],
   "source": [
    "x_list = [];\n",
    "y_list = [];\n",
    "for point_idx = 1:10\n",
    "    points(point_idx).x = data(point_idx, 1);\n",
    "    points(point_idx).y = data(point_idx, 2);\n",
    "    x_list = [x_list, points(point_idx).x];\n",
    "    y_list = [y_list, points(point_idx).y];\n",
    "end"
   ]
  },
  {
   "cell_type": "code",
   "execution_count": 199,
   "metadata": {},
   "outputs": [
    {
     "data": {
      "image/png": "[encoded data removed]",
      "text/plain": [
       "<IPython.core.display.Image object>"
      ]
     },
     "metadata": {},
     "output_type": "display_data"
    }
   ],
   "source": [
    "scatter(x_list, y_list)\n",
    "box on"
   ]
  },
  {
   "cell_type": "code",
   "execution_count": 209,
   "metadata": {},
   "outputs": [
    {
     "name": "stdout",
     "output_type": "stream",
     "text": [
      "\n",
      "boardPoints_x =\n",
      "\n",
      "               0.052676998                0.98305247\n",
      "               0.052676998                0.98305247\n",
      "\n",
      "\n",
      "boardPoints_y =\n",
      "\n",
      "                 0.1280144                 0.1280144\n",
      "                0.99908039                0.99908039\n",
      "\n"
     ]
    }
   ],
   "source": [
    "x_min = min(x_list);\n",
    "x_max = max(x_list);\n",
    "y_min = min(y_list);\n",
    "y_max = max(y_list);\n",
    "[boardPoints_x, boardPoints_y] = meshgrid([x_min, x_max], [y_min, y_max])"
   ]
  },
  {
   "cell_type": "code",
   "execution_count": 212,
   "metadata": {},
   "outputs": [
    {
     "data": {
      "image/png": "[encoded data removed]",
      "text/plain": [
       "<IPython.core.display.Image object>"
      ]
     },
     "metadata": {},
     "output_type": "display_data"
    }
   ],
   "source": [
    "scatter(x_list, y_list)\n",
    "hold on\n",
    "box on\n",
    "plot(boardPoints_x, boardPoints_y)"
   ]
  }
 ],
 "metadata": {
  "kernelspec": {
   "display_name": "Matlab (Connection)",
   "language": "matlab",
   "name": "matlab_connect"
  },
  "language_info": {
   "codemirror_mode": "octave",
   "file_extension": ".m",
   "help_links": [
    {
     "text": "MetaKernel Magics",
     "url": "https://metakernel.readthedocs.io/en/latest/source/README.html"
    }
   ],
   "mimetype": "text/x-octave",
   "name": "matlab",
   "version": "0.17.1"
  }
 },
 "nbformat": 4,
 "nbformat_minor": 2
}
