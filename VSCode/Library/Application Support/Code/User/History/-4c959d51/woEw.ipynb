{
 "cells": [
  {
   "cell_type": "code",
   "execution_count": 24,
   "metadata": {},
   "outputs": [],
   "source": [
    "clear;  % 清空工作区, 防止以前的文件有影响"
   ]
  },
  {
   "cell_type": "code",
   "execution_count": 25,
   "metadata": {},
   "outputs": [
    {
     "name": "stdout",
     "output_type": "stream",
     "text": [
      "\n",
      "randPoints =\n",
      "\n",
      "         0.655740699156587         0.706046088019609\n",
      "        0.0357116785741896        0.0318328463774207\n",
      "         0.849129305868777          0.27692298496089\n",
      "         0.933993247757551        0.0461713906311539\n",
      "         0.678735154857773        0.0971317812358475\n",
      "         0.757740130578333         0.823457828327293\n",
      "         0.743132468124916         0.694828622975817\n",
      "         0.392227019534168         0.317099480060861\n",
      "         0.655477890177557         0.950222048838355\n",
      "         0.171186687811562        0.0344460805029088\n",
      "\n"
     ]
    }
   ],
   "source": [
    "randPoints = rand(10, 2)"
   ]
  },
  {
   "cell_type": "code",
   "execution_count": 26,
   "metadata": {},
   "outputs": [
    {
     "name": "stdout",
     "output_type": "stream",
     "text": [
      "\n",
      "Your variables are:\n",
      "\n",
      "randPoints  \n",
      "\n"
     ]
    }
   ],
   "source": [
    "who"
   ]
  },
  {
   "cell_type": "code",
   "execution_count": 27,
   "metadata": {},
   "outputs": [
    {
     "name": "stdout",
     "output_type": "stream",
     "text": [
      "\n",
      "Your variables are:\n",
      "\n",
      "randPoints  \n",
      "\n"
     ]
    }
   ],
   "source": [
    "who randPoints"
   ]
  },
  {
   "cell_type": "code",
   "execution_count": 28,
   "metadata": {},
   "outputs": [
    {
     "name": "stdout",
     "output_type": "stream",
     "text": [
      "  Name             Size            Bytes  Class     Attributes\n",
      "\n",
      "  randPoints      10x2               160  double              \n",
      "\n"
     ]
    }
   ],
   "source": [
    "whos"
   ]
  },
  {
   "cell_type": "code",
   "execution_count": 29,
   "metadata": {},
   "outputs": [
    {
     "name": "stdout",
     "output_type": "stream",
     "text": [
      "  Name             Size            Bytes  Class     Attributes\n",
      "\n",
      "  randPoints      10x2               160  double              \n",
      "\n"
     ]
    }
   ],
   "source": [
    "whos randPoints"
   ]
  },
  {
   "cell_type": "code",
   "execution_count": 30,
   "metadata": {},
   "outputs": [],
   "source": [
    "save randPoints.mat\n",
    "% ipynb 和 .m 文件在 vscode 中都无法执行这个命令\n",
    "% 又可以执行了, 不清楚为什么"
   ]
  },
  {
   "cell_type": "code",
   "execution_count": 31,
   "metadata": {},
   "outputs": [],
   "source": [
    "clear;"
   ]
  },
  {
   "cell_type": "code",
   "execution_count": 32,
   "metadata": {},
   "outputs": [],
   "source": [
    "load randPoints.mat\n",
    "% 可以执行这个"
   ]
  },
  {
   "cell_type": "code",
   "execution_count": 33,
   "metadata": {},
   "outputs": [
    {
     "name": "stdout",
     "output_type": "stream",
     "text": [
      "\n",
      "randPoints =\n",
      "\n",
      "         0.655740699156587         0.706046088019609\n",
      "        0.0357116785741896        0.0318328463774207\n",
      "         0.849129305868777          0.27692298496089\n",
      "         0.933993247757551        0.0461713906311539\n",
      "         0.678735154857773        0.0971317812358475\n",
      "         0.757740130578333         0.823457828327293\n",
      "         0.743132468124916         0.694828622975817\n",
      "         0.392227019534168         0.317099480060861\n",
      "         0.655477890177557         0.950222048838355\n",
      "         0.171186687811562        0.0344460805029088\n",
      "\n"
     ]
    }
   ],
   "source": [
    "randPoints"
   ]
  },
  {
   "cell_type": "code",
   "execution_count": 34,
   "metadata": {},
   "outputs": [],
   "source": [
    "% save 函数有两种用法\n",
    "% save(\"filename.txt\") 将工作区数据保存为 txt 文件\n",
    "% save(\"filename.txt\", \"var1\", \"var2\")\n",
    "% 例如 save(\"filename.txt\", \"randPoints\", \"-ascii\")\n",
    "% 表示指定保存工作区变量 randPoints, 格式为 ascii\n",
    "save(\"randPoints.txt\", \"randPoints\", \"-ascii\")"
   ]
  },
  {
   "cell_type": "code",
   "execution_count": 35,
   "metadata": {},
   "outputs": [],
   "source": [
    "clear;"
   ]
  },
  {
   "cell_type": "code",
   "execution_count": 36,
   "metadata": {},
   "outputs": [
    {
     "name": "stdout",
     "output_type": "stream",
     "text": [
      "\n",
      "data =\n",
      "\n",
      "                 0.6557407                0.70604609\n",
      "               0.035711679               0.031832846\n",
      "                0.84912931                0.27692298\n",
      "                0.93399325               0.046171391\n",
      "                0.67873515               0.097131781\n",
      "                0.75774013                0.82345783\n",
      "                0.74313247                0.69482862\n",
      "                0.39222702                0.31709948\n",
      "                0.65547789                0.95022205\n",
      "                0.17118669               0.034446081\n",
      "\n"
     ]
    }
   ],
   "source": [
    "% importdata 函数的简单用法\n",
    "data = importdata(\"randPoints.txt\")"
   ]
  },
  {
   "cell_type": "code",
   "execution_count": 37,
   "metadata": {},
   "outputs": [],
   "source": [
    "x_list = [];\n",
    "y_list = [];\n",
    "for point_idx = 1:10\n",
    "    points(point_idx).x = data(point_idx, 1);\n",
    "    points(point_idx).y = data(point_idx, 2);\n",
    "    x_list = [x_list, points(point_idx).x];\n",
    "    y_list = [y_list, points(point_idx).y];\n",
    "end"
   ]
  },
  {
   "cell_type": "code",
   "execution_count": 38,
   "metadata": {},
   "outputs": [
    {
     "data": {
      "image/png": "[encoded data removed]",
      "text/plain": [
       "<IPython.core.display.Image object>"
      ]
     },
     "metadata": {},
     "output_type": "display_data"
    }
   ],
   "source": [
    "scatter(x_list, y_list)\n",
    "box on"
   ]
  },
  {
   "cell_type": "code",
   "execution_count": 39,
   "metadata": {},
   "outputs": [
    {
     "name": "stdout",
     "output_type": "stream",
     "text": [
      "\n",
      "boardPoints_x =\n",
      "\n",
      "               0.035711679                0.93399325\n",
      "               0.035711679                0.93399325\n",
      "\n",
      "\n",
      "boardPoints_y =\n",
      "\n",
      "               0.031832846               0.031832846\n",
      "                0.95022205                0.95022205\n",
      "\n"
     ]
    }
   ],
   "source": [
    "x_min = min(x_list);\n",
    "x_max = max(x_list);\n",
    "y_min = min(y_list);\n",
    "y_max = max(y_list);\n",
    "[boardPoints_x, boardPoints_y] = meshgrid([x_min, x_max], [y_min, y_max])"
   ]
  },
  {
   "cell_type": "code",
   "execution_count": 44,
   "metadata": {},
   "outputs": [
    {
     "data": {
      "image/png": "[encoded data removed]",
      "text/plain": [
       "<IPython.core.display.Image object>"
      ]
     },
     "metadata": {},
     "output_type": "display_data"
    }
   ],
   "source": [
    "scatter(x_list, y_list)\n",
    "hold on\n",
    "box on\n",
    "K = convhull(data(:, 1), data(:, 2));\n",
    "plot(data(K, 1), data(K, 2), '-o')"
   ]
  }
 ],
 "metadata": {
  "kernelspec": {
   "display_name": "Matlab (Connection)",
   "language": "matlab",
   "name": "matlab_connect"
  },
  "language_info": {
   "codemirror_mode": "octave",
   "file_extension": ".m",
   "help_links": [
    {
     "text": "MetaKernel Magics",
     "url": "https://metakernel.readthedocs.io/en/latest/source/README.html"
    }
   ],
   "mimetype": "text/x-octave",
   "name": "matlab",
   "version": "0.17.1"
  }
 },
 "nbformat": 4,
 "nbformat_minor": 2
}
