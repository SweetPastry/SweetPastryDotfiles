{
 "cells": [
  {
   "cell_type": "code",
   "execution_count": 141,
   "metadata": {},
   "outputs": [],
   "source": [
    "clear;  % 清空工作区, 防止以前的文件有影响"
   ]
  },
  {
   "cell_type": "code",
   "execution_count": 142,
   "metadata": {},
   "outputs": [
    {
     "name": "stdout",
     "output_type": "stream",
     "text": [
      "\n",
      "randPoints =\n",
      "\n",
      "        0.0596188675796392         0.659605252908307\n",
      "         0.681971904149063         0.518594942510538\n",
      "        0.0424311375007417         0.972974554763863\n",
      "        0.0714454646006424         0.648991492712356\n",
      "         0.521649842464284         0.800330575352401\n",
      "         0.096730025780867         0.453797708726919\n",
      "         0.818148553859625         0.432391503783462\n",
      "         0.817547092079286         0.825313795402046\n",
      "         0.722439592366842         0.083469814858914\n",
      "         0.149865442477967         0.133171007607162\n",
      "\n"
     ]
    }
   ],
   "source": [
    "randPoints = rand(10, 2)"
   ]
  },
  {
   "cell_type": "code",
   "execution_count": 143,
   "metadata": {},
   "outputs": [
    {
     "name": "stdout",
     "output_type": "stream",
     "text": [
      "\n",
      "Your variables are:\n",
      "\n",
      "randPoints  \n",
      "\n"
     ]
    }
   ],
   "source": [
    "who"
   ]
  },
  {
   "cell_type": "code",
   "execution_count": 144,
   "metadata": {},
   "outputs": [
    {
     "name": "stdout",
     "output_type": "stream",
     "text": [
      "\n",
      "Your variables are:\n",
      "\n",
      "randPoints  \n",
      "\n"
     ]
    }
   ],
   "source": [
    "who randPoints"
   ]
  },
  {
   "cell_type": "code",
   "execution_count": 145,
   "metadata": {},
   "outputs": [
    {
     "name": "stdout",
     "output_type": "stream",
     "text": [
      "  Name             Size            Bytes  Class     Attributes\n",
      "\n",
      "  randPoints      10x2               160  double              \n",
      "\n"
     ]
    }
   ],
   "source": [
    "whos"
   ]
  },
  {
   "cell_type": "code",
   "execution_count": 146,
   "metadata": {},
   "outputs": [
    {
     "name": "stdout",
     "output_type": "stream",
     "text": [
      "  Name             Size            Bytes  Class     Attributes\n",
      "\n",
      "  randPoints      10x2               160  double              \n",
      "\n"
     ]
    }
   ],
   "source": [
    "whos randPoints"
   ]
  },
  {
   "cell_type": "code",
   "execution_count": 147,
   "metadata": {},
   "outputs": [],
   "source": [
    "save randPoints.mat\n",
    "% ipynb 和 .m 文件在 vscode 中都无法执行这个命令\n",
    "% 又可以执行了, 不清楚为什么"
   ]
  },
  {
   "cell_type": "code",
   "execution_count": 148,
   "metadata": {},
   "outputs": [],
   "source": [
    "clear;"
   ]
  },
  {
   "cell_type": "code",
   "execution_count": 149,
   "metadata": {},
   "outputs": [],
   "source": [
    "load randPoints.mat\n",
    "% 可以执行这个"
   ]
  },
  {
   "cell_type": "code",
   "execution_count": 150,
   "metadata": {},
   "outputs": [
    {
     "name": "stdout",
     "output_type": "stream",
     "text": [
      "\n",
      "randPoints =\n",
      "\n",
      "        0.0596188675796392         0.659605252908307\n",
      "         0.681971904149063         0.518594942510538\n",
      "        0.0424311375007417         0.972974554763863\n",
      "        0.0714454646006424         0.648991492712356\n",
      "         0.521649842464284         0.800330575352401\n",
      "         0.096730025780867         0.453797708726919\n",
      "         0.818148553859625         0.432391503783462\n",
      "         0.817547092079286         0.825313795402046\n",
      "         0.722439592366842         0.083469814858914\n",
      "         0.149865442477967         0.133171007607162\n",
      "\n"
     ]
    }
   ],
   "source": [
    "randPoints"
   ]
  },
  {
   "cell_type": "code",
   "execution_count": 152,
   "metadata": {},
   "outputs": [],
   "source": [
    "% save 函数有两种用法\n",
    "% save(\"filename.txt\") 将工作区数据保存为 txt 文件\n",
    "% save(\"filename.txt\", \"var1\", \"var2\")\n",
    "% 例如 save(\"filename.txt\", \"randPoints\", \"-ascii\")\n",
    "% 表示指定保存工作区变量 randPoints, 格式为 ascii\n",
    "save(\"randPoints.txt\", \"randPoints\", \"-ascii\")"
   ]
  },
  {
   "cell_type": "code",
   "execution_count": 153,
   "metadata": {},
   "outputs": [],
   "source": [
    "clear;"
   ]
  },
  {
   "cell_type": "code",
   "execution_count": 155,
   "metadata": {},
   "outputs": [
    {
     "name": "stdout",
     "output_type": "stream",
     "text": [
      "\n",
      "data =\n",
      "\n",
      "               0.059618868                0.65960525\n",
      "                 0.6819719                0.51859494\n",
      "               0.042431138                0.97297455\n",
      "               0.071445465                0.64899149\n",
      "                0.52164984                0.80033058\n",
      "               0.096730026                0.45379771\n",
      "                0.81814855                 0.4323915\n",
      "                0.81754709                 0.8253138\n",
      "                0.72243959               0.083469815\n",
      "                0.14986544                0.13317101\n",
      "\n"
     ]
    }
   ],
   "source": [
    "% importdata 函数的简单用法\n",
    "data = importdata(\"randPoints.txt\")"
   ]
  },
  {
   "cell_type": "code",
   "execution_count": 160,
   "metadata": {},
   "outputs": [],
   "source": [
    "for point_idx = 1:10\n",
    "    points(point_idx).x = data(point_idx, 1);\n",
    "    points(point_idx).y = data(point_idx, 2);\n",
    "end"
   ]
  },
  {
   "cell_type": "code",
   "execution_count": 164,
   "metadata": {},
   "outputs": [
    {
     "name": "stdout",
     "output_type": "stream",
     "text": [
      "\n",
      "x_list =\n",
      "\n",
      "               0.059618868\n",
      "\n"
     ]
    }
   ],
   "source": [
    "x_list = points.x"
   ]
  }
 ],
 "metadata": {
  "kernelspec": {
   "display_name": "Matlab (Connection)",
   "language": "matlab",
   "name": "matlab_connect"
  },
  "language_info": {
   "codemirror_mode": "octave",
   "file_extension": ".m",
   "help_links": [
    {
     "text": "MetaKernel Magics",
     "url": "https://metakernel.readthedocs.io/en/latest/source/README.html"
    }
   ],
   "mimetype": "text/x-octave",
   "name": "matlab",
   "version": "0.17.1"
  }
 },
 "nbformat": 4,
 "nbformat_minor": 2
}
