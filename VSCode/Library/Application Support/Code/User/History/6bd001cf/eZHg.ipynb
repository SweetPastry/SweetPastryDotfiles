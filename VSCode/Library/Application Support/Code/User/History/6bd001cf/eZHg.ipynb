{
 "cells": [
  {
   "cell_type": "code",
   "execution_count": null,
   "metadata": {
    "vscode": {
     "languageId": "plaintext"
    }
   },
   "outputs": [],
   "source": []
  }
 ],
 "metadata": {
  "kernelspec": {
   "display_name": "Wolfram Language 14",
   "language": "Wolfram Language",
   "name": "wolframlanguage14"
  },
  "language_info": {
   "name": "Wolfram Language"
  }
 },
 "nbformat": 4,
 "nbformat_minor": 2
}
