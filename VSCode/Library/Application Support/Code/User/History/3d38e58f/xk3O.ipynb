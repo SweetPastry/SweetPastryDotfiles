{
 "cells": [
  {
   "cell_type": "code",
   "execution_count": 13,
   "metadata": {},
   "outputs": [
    {
     "name": "stdout",
     "output_type": "stream",
     "text": [
      "\n",
      "p =\n",
      "\n",
      "         0.421761282626275\n",
      "         0.915735525189067\n",
      "         0.792207329559554\n",
      "         0.959492426392903\n",
      "\n"
     ]
    }
   ],
   "source": [
    "x=linspace(0,1,1000); \n",
    "p=rand(4,1)\n",
    "y=exp(polyval(p,x));"
   ]
  },
  {
   "cell_type": "code",
   "execution_count": 14,
   "metadata": {},
   "outputs": [],
   "source": [
    "z = log(y);"
   ]
  },
  {
   "cell_type": "code",
   "execution_count": 15,
   "metadata": {},
   "outputs": [
    {
     "name": "stdout",
     "output_type": "stream",
     "text": [
      "\n",
      "p_pre =\n",
      "\n",
      "  Columns 1 through 3\n",
      "\n",
      "     -3.93268257578968e-16         0.421761282626279         0.915735525189061\n",
      "\n",
      "  Columns 4 through 5\n",
      "\n",
      "         0.792207329559557         0.959492426392902\n",
      "\n"
     ]
    }
   ],
   "source": [
    "p_pre = polyfit(x, z, 4)"
   ]
  }
 ],
 "metadata": {
  "kernelspec": {
   "display_name": "Matlab (Connection)",
   "language": "matlab",
   "name": "matlab_connect"
  },
  "language_info": {
   "codemirror_mode": "octave",
   "file_extension": ".m",
   "help_links": [
    {
     "text": "MetaKernel Magics",
     "url": "https://metakernel.readthedocs.io/en/latest/source/README.html"
    }
   ],
   "mimetype": "text/x-octave",
   "name": "matlab",
   "version": "0.17.1"
  }
 },
 "nbformat": 4,
 "nbformat_minor": 2
}
