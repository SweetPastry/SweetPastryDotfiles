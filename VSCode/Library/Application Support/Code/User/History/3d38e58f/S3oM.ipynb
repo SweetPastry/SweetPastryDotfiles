{
 "cells": [
  {
   "cell_type": "code",
   "execution_count": 12,
   "metadata": {},
   "outputs": [
    {
     "name": "stdout",
     "output_type": "stream",
     "text": [
      "\n",
      "p =\n",
      "\n",
      "         0.957166948242946\n",
      "         0.485375648722841\n",
      "           0.8002804688888\n",
      "         0.141886338627215\n",
      "\n"
     ]
    }
   ],
   "source": [
    "x=linspace(0,1,1000); \n",
    "p=rand(4,1)\n",
    "y=exp(polyval(p,x));"
   ]
  },
  {
   "cell_type": "code",
   "execution_count": 8,
   "metadata": {},
   "outputs": [],
   "source": [
    "z = log(y);"
   ]
  },
  {
   "cell_type": "code",
   "execution_count": 10,
   "metadata": {},
   "outputs": [
    {
     "name": "stdout",
     "output_type": "stream",
     "text": [
      "\n",
      "p_pre =\n",
      "\n",
      "  Columns 1 through 3\n",
      "\n",
      "      2.82774303483553e-15         0.632359246225403         0.097540404999414\n",
      "\n",
      "  Columns 4 through 5\n",
      "\n",
      "         0.278498218867047         0.546881519204984\n",
      "\n"
     ]
    }
   ],
   "source": [
    "p_pre = polyfit(x, z, 4)"
   ]
  }
 ],
 "metadata": {
  "kernelspec": {
   "display_name": "Matlab (Connection)",
   "language": "matlab",
   "name": "matlab_connect"
  },
  "language_info": {
   "codemirror_mode": "octave",
   "file_extension": ".m",
   "help_links": [
    {
     "text": "MetaKernel Magics",
     "url": "https://metakernel.readthedocs.io/en/latest/source/README.html"
    }
   ],
   "mimetype": "text/x-octave",
   "name": "matlab",
   "version": "0.17.1"
  }
 },
 "nbformat": 4,
 "nbformat_minor": 2
}
