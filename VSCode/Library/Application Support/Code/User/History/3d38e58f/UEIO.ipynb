{
 "cells": [
  {
   "cell_type": "code",
   "execution_count": 3,
   "metadata": {},
   "outputs": [],
   "source": [
    "x=linspace(0,1,1000); \n",
    "p=rand(4,1); \n",
    "y=exp(polyval(p,x));"
   ]
  },
  {
   "cell_type": "code",
   "execution_count": 8,
   "metadata": {},
   "outputs": [],
   "source": [
    "z = log(y);"
   ]
  },
  {
   "cell_type": "code",
   "execution_count": 9,
   "metadata": {},
   "outputs": [
    {
     "name": "stderr",
     "output_type": "stream",
     "text": [
      "\u001b[0;31mNot enough input arguments.\n",
      "\n",
      "Error in polyfit (line 64)\n",
      "V(:,n+1) = ones(length(x),1,class(x));\n",
      "    ^\n",
      "\n",
      "\u001b[0m"
     ]
    }
   ],
   "source": [
    "p_pre = polyfit(x, z)"
   ]
  }
 ],
 "metadata": {
  "kernelspec": {
   "display_name": "Matlab (Connection)",
   "language": "matlab",
   "name": "matlab_connect"
  },
  "language_info": {
   "codemirror_mode": "octave",
   "file_extension": ".m",
   "help_links": [
    {
     "text": "MetaKernel Magics",
     "url": "https://metakernel.readthedocs.io/en/latest/source/README.html"
    }
   ],
   "mimetype": "text/x-octave",
   "name": "matlab",
   "version": "0.17.1"
  }
 },
 "nbformat": 4,
 "nbformat_minor": 2
}
