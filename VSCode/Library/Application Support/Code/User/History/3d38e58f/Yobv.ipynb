{
 "cells": [
  {
   "cell_type": "code",
   "execution_count": 18,
   "metadata": {},
   "outputs": [
    {
     "name": "stdout",
     "output_type": "stream",
     "text": [
      "\n",
      "p =\n",
      "\n",
      "         0.655740699156587\n",
      "        0.0357116785741896\n",
      "         0.849129305868777\n",
      "         0.933993247757551\n",
      "\n"
     ]
    }
   ],
   "source": [
    "x=linspace(0,1,1000); \n",
    "p=rand(4,1)\n",
    "y=exp(polyval(p,x));"
   ]
  },
  {
   "cell_type": "code",
   "execution_count": 19,
   "metadata": {},
   "outputs": [],
   "source": [
    "z = log(y);"
   ]
  },
  {
   "cell_type": "code",
   "execution_count": 20,
   "metadata": {},
   "outputs": [
    {
     "name": "stdout",
     "output_type": "stream",
     "text": [
      "\n",
      "p_ppre =\n",
      "\n",
      "  Columns 1 through 3\n",
      "\n",
      "         0.655740699156575        0.0357116785741993         0.849129305868774\n",
      "\n",
      "  Column 4\n",
      "\n",
      "         0.933993247757551\n",
      "\n"
     ]
    }
   ],
   "source": [
    "p_pre = polyfit(x, z, 4);\n",
    "p_ppre = p_pre(2:end)"
   ]
  }
 ],
 "metadata": {
  "kernelspec": {
   "display_name": "Matlab (Connection)",
   "language": "matlab",
   "name": "matlab_connect"
  },
  "language_info": {
   "codemirror_mode": "octave",
   "file_extension": ".m",
   "help_links": [
    {
     "text": "MetaKernel Magics",
     "url": "https://metakernel.readthedocs.io/en/latest/source/README.html"
    }
   ],
   "mimetype": "text/x-octave",
   "name": "matlab",
   "version": "0.17.1"
  }
 },
 "nbformat": 4,
 "nbformat_minor": 2
}
