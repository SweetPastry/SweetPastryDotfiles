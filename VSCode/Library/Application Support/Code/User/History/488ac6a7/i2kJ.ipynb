{
 "cells": [
  {
   "cell_type": "markdown",
   "metadata": {
    "vscode": {
     "languageId": "plaintext"
    }
   },
   "source": [
    "# 元胞数组"
   ]
  },
  {
   "cell_type": "code",
   "execution_count": 196,
   "metadata": {},
   "outputs": [],
   "source": [
    "% MATLAB 单引号和双引号是有区别的\n",
    "% ''单引号用来创建字符数组\n",
    "% \"\"双引号用来创建字符串数组"
   ]
  },
  {
   "cell_type": "code",
   "execution_count": 197,
   "metadata": {},
   "outputs": [
    {
     "name": "stdout",
     "output_type": "stream",
     "text": [
      "\n",
      "ans =\n",
      "\n",
      "  3x21 char array\n",
      "\n",
      "    'What is your name?   '\n",
      "    'My name is HanMeimei.'\n",
      "    'Good name!           '\n",
      "\n"
     ]
    }
   ],
   "source": [
    "% Char(c1, c2, ..., cn)\n",
    "% 该函数接受几个字符数组, 按找列拼接, 长度不足添加空格\n",
    "c1 = 'What is your name?';\n",
    "c2 = 'My name is HanMeimei.';\n",
    "c3 = 'Good name!';\n",
    "char(c1, c2, c3)"
   ]
  },
  {
   "cell_type": "code",
   "execution_count": 198,
   "metadata": {},
   "outputs": [
    {
     "name": "stdout",
     "output_type": "stream",
     "text": [
      "\n",
      "S =\n",
      "\n",
      "  1x3 cell array\n",
      "\n",
      "    {'What is your name?'}    {'My name is HanMeimei.'}    {'Good name!'}\n",
      "\n"
     ]
    }
   ],
   "source": [
    "% 引入元胞数组, 数组元素不等长可用, 不自动填充\n",
    "S{1} = c1;\n",
    "S{2} = c2;\n",
    "S{3} = c3;\n",
    "S"
   ]
  },
  {
   "cell_type": "code",
   "execution_count": 199,
   "metadata": {},
   "outputs": [
    {
     "name": "stdout",
     "output_type": "stream",
     "text": [
      " \n",
      "S{1} =\n",
      " \n",
      "What is your name?\n",
      " \n",
      " \n",
      "S{2} =\n",
      " \n",
      "My name is HanMeimei.\n",
      " \n",
      " \n",
      "S{3} =\n",
      " \n",
      "Good name!\n",
      " \n"
     ]
    }
   ],
   "source": [
    "% 一个很好用的函数\n",
    "celldisp(S)"
   ]
  },
  {
   "cell_type": "code",
   "execution_count": 200,
   "metadata": {},
   "outputs": [
    {
     "name": "stdout",
     "output_type": "stream",
     "text": [
      "\n",
      "ans =\n",
      "\n",
      "     3\n",
      "\n",
      "\n",
      "ans =\n",
      "\n",
      "    18\n",
      "\n",
      "\n",
      "ans =\n",
      "\n",
      "    21\n",
      "\n",
      "\n",
      "ans =\n",
      "\n",
      "    10\n",
      "\n"
     ]
    }
   ],
   "source": [
    "length(S)\n",
    "length(S{1})\n",
    "length(S{2})\n",
    "length(S{3})"
   ]
  },
  {
   "cell_type": "code",
   "execution_count": 201,
   "metadata": {},
   "outputs": [
    {
     "name": "stdout",
     "output_type": "stream",
     "text": [
      "\n",
      "S =\n",
      "\n",
      "  1x3 cell array\n",
      "\n",
      "    {0x0 double}    {'My name is HanMeimei.'}    {'Good name!'}\n",
      "\n",
      "\n",
      "S =\n",
      "\n",
      "  1x2 cell array\n",
      "\n",
      "    {0x0 double}    {'Good name!'}\n",
      "\n"
     ]
    }
   ],
   "source": [
    "% 圆括号索引和方括号索引不一样\n",
    "S{1} = [];\n",
    "S\n",
    "S(2) = [];\n",
    "S"
   ]
  },
  {
   "cell_type": "code",
   "execution_count": 202,
   "metadata": {},
   "outputs": [
    {
     "name": "stdout",
     "output_type": "stream",
     "text": [
      "\n",
      "ans =\n",
      "\n",
      "  1x2 cell array\n",
      "\n",
      "    {[1]}    {[2]}\n",
      "\n",
      "\n",
      "S =\n",
      "\n",
      "  1x3 cell array\n",
      "\n",
      "    {0x0 double}    {'Good name!'}    {[1 2 3]}\n",
      "\n",
      "\n",
      "S =\n",
      "\n",
      "  1x3 cell array\n",
      "\n",
      "    {0x0 double}    {[1 2]}    {[1 2 3]}\n",
      "\n"
     ]
    }
   ],
   "source": [
    "% {} 花括号的作用就是生成元胞数组\n",
    "{1, 2}\n",
    "S{3} = [1, 2, 3]\n",
    "S(2) = {[1, 2]}"
   ]
  },
  {
   "cell_type": "code",
   "execution_count": 203,
   "metadata": {},
   "outputs": [
    {
     "name": "stdout",
     "output_type": "stream",
     "text": [
      "\n",
      "A =\n",
      "\n",
      "  1x3 cell array\n",
      "\n",
      "    {[1]}    {[2]}    {[3]}\n",
      "\n",
      "\n",
      "A =\n",
      "\n",
      "  1x3 cell array\n",
      "\n",
      "    {[1]}    {[2]}    {1x2 cell}\n",
      "\n"
     ]
    }
   ],
   "source": [
    "% cell 可以嵌套 cell\n",
    "A = {1, 2, 3}\n",
    "A{3} = {1, 2}"
   ]
  },
  {
   "cell_type": "code",
   "execution_count": 204,
   "metadata": {},
   "outputs": [
    {
     "name": "stdout",
     "output_type": "stream",
     "text": [
      " \n",
      "A{1} =\n",
      " \n",
      "     1\n",
      "\n",
      " \n",
      " \n",
      "A{2} =\n",
      " \n",
      "     2\n",
      "\n",
      " \n",
      " \n",
      "A{3}{1} =\n",
      " \n",
      "     1\n",
      "\n",
      " \n",
      " \n",
      "A{3}{2} =\n",
      " \n",
      "     2\n",
      "\n",
      " \n"
     ]
    }
   ],
   "source": [
    "celldisp(A)"
   ]
  },
  {
   "cell_type": "code",
   "execution_count": 205,
   "metadata": {},
   "outputs": [
    {
     "name": "stdout",
     "output_type": "stream",
     "text": [
      "\n",
      "A =\n",
      "\n",
      "  2x2 cell array\n",
      "\n",
      "    {[1]}    {[2]}\n",
      "    {[3]}    {[4]}\n",
      "\n"
     ]
    }
   ],
   "source": [
    "% 二维元胞数组\n",
    "A = {1, 2;\n",
    "     3, 4}"
   ]
  },
  {
   "cell_type": "code",
   "execution_count": 206,
   "metadata": {},
   "outputs": [
    {
     "name": "stdout",
     "output_type": "stream",
     "text": [
      "\n",
      "A =\n",
      "\n",
      "  2x2 cell array\n",
      "\n",
      "    {1x2 cell}    {[2]}\n",
      "    {[     3]}    {[4]}\n",
      "\n",
      "\n",
      "A =\n",
      "\n",
      "  2x2 cell array\n",
      "\n",
      "    {1x2 cell}    {[  2]}\n",
      "    {[     3]}    {[1 2]}\n",
      "\n"
     ]
    }
   ],
   "source": [
    "A{1, 1} = {1, 2}\n",
    "A{2, 2} = [1, 2]"
   ]
  },
  {
   "cell_type": "code",
   "execution_count": 207,
   "metadata": {},
   "outputs": [],
   "source": [
    "% () 和 {} 分别称为外标识法和内标识法"
   ]
  },
  {
   "cell_type": "code",
   "execution_count": 208,
   "metadata": {},
   "outputs": [
    {
     "name": "stdout",
     "output_type": "stream",
     "text": [
      " cell - Cell array\n",
      "    A cell array is a data type with indexed data containers called cells,\n",
      "    where each cell can contain any type of data.\n",
      "\n",
      "    Creation\n",
      "      Syntax\n",
      "        C = cell(n)\n",
      "        C = cell(sz1,...,szN)\n",
      "        C = cell(sz)\n",
      "\n",
      "        D = cell(obj)\n",
      "\n",
      "      Input Arguments\n",
      "        n - Size of square cell array\n",
      "          integer value\n",
      "        sz1,...,szN - Sizes of dimensions\n",
      "          integer values\n",
      "        sz - Size\n",
      "          row vector of integers\n",
      "        obj - Input array\n",
      "          Java array or object |\n",
      "          .NET array of type System.String or System.Object |\n",
      "          Python sequence type\n",
      "\n",
      "      Output Arguments\n",
      "        C - Output array\n",
      "          cell array\n",
      "        D - Converted array\n",
      "          cell array\n",
      "\n",
      "    Object Functions\n",
      "      unique    - Unique values\n",
      "      setdiff   - Difference of two sets of data\n",
      "      ismember  - Find set members of data\n",
      "      intersect - Intersection of two sets of data\n",
      "      union     - Union of two sets of data\n",
      "      setxor    - Exclusive OR of two sets of data\n",
      "      horzcat   - Concatenate arrays horizontally\n",
      "      vertcat   - Concatenate arrays vertically\n",
      "\n",
      "    Examples\n",
      "      openExample('matlab/StoreDifferentDataTypesInCellArrayExample')\n",
      "      openExample('matlab/SquareCellArrayExample')\n",
      "      openExample('matlab/DCellArrayExample')\n",
      "      openExample('matlab/CloneSizeFromExistingArrayExample')\n",
      "\n",
      "    See also num2cell, table2cell, iscell, cell2mat, cell2struct,\n",
      "      cell2table, mat2cell, struct2cell\n",
      "\n",
      "    Introduced in MATLAB before R2006a\n",
      "    Documentation for cell\n",
      "       doc cell\n",
      "\n",
      "    Folders named cell\n",
      "\n",
      "       datatypes/cell\n",
      "\n"
     ]
    }
   ],
   "source": [
    "help cell"
   ]
  },
  {
   "cell_type": "code",
   "execution_count": 209,
   "metadata": {},
   "outputs": [
    {
     "name": "stdout",
     "output_type": "stream",
     "text": [
      "\n",
      "ans =\n",
      "\n",
      "  2x3 cell array\n",
      "\n",
      "    {0x0 double}    {0x0 double}    {0x0 double}\n",
      "    {0x0 double}    {0x0 double}    {0x0 double}\n",
      "\n"
     ]
    }
   ],
   "source": [
    "cell(2, 3)  % 输出 2*3 形状的元胞数组"
   ]
  },
  {
   "cell_type": "code",
   "execution_count": 210,
   "metadata": {},
   "outputs": [
    {
     "name": "stdout",
     "output_type": "stream",
     "text": [
      "\n",
      "A =\n",
      "\n",
      "  2x2 cell array\n",
      "\n",
      "    {1x2 cell}    {[  2]}\n",
      "    {[     3]}    {[1 2]}\n",
      "\n"
     ]
    },
    {
     "data": {
      "image/png": "[encoded data removed]",
      "text/plain": [
       "<IPython.core.display.Image object>"
      ]
     },
     "metadata": {},
     "output_type": "display_data"
    }
   ],
   "source": [
    "% 这个函数很好用\n",
    "cellplot(A)\n",
    "A"
   ]
  },
  {
   "cell_type": "code",
   "execution_count": 211,
   "metadata": {},
   "outputs": [
    {
     "name": "stdout",
     "output_type": "stream",
     "text": [
      "\n",
      "F =\n",
      "\n",
      "  1x2 cell array\n",
      "\n",
      "    {1x3 cell}    {1x2 cell}\n",
      "\n"
     ]
    },
    {
     "data": {
      "image/png": "[encoded data removed]",
      "text/plain": [
       "<IPython.core.display.Image object>"
      ]
     },
     "metadata": {},
     "output_type": "display_data"
    }
   ],
   "source": [
    "F = {{1, 2, 3}, {4, 5}}\n",
    "cellplot(F)"
   ]
  },
  {
   "cell_type": "code",
   "execution_count": 212,
   "metadata": {},
   "outputs": [
    {
     "name": "stdout",
     "output_type": "stream",
     "text": [
      "\n",
      "E =\n",
      "\n",
      "  2x6 cell array\n",
      "\n",
      "  Columns 1 through 5\n",
      "\n",
      "    {1x3 cell}    {1x2 cell}    {1x3 cell}    {1x2 cell}    {1x3 cell}\n",
      "    {1x3 cell}    {1x2 cell}    {1x3 cell}    {1x2 cell}    {1x3 cell}\n",
      "\n",
      "  Column 6\n",
      "\n",
      "    {1x2 cell}\n",
      "    {1x2 cell}\n",
      "\n"
     ]
    },
    {
     "data": {
      "image/png": "[encoded data removed]",
      "text/plain": [
       "<IPython.core.display.Image object>"
      ]
     },
     "metadata": {},
     "output_type": "display_data"
    }
   ],
   "source": [
    "E = repmat(F, 2, 3)\n",
    "cellplot(E)"
   ]
  },
  {
   "cell_type": "code",
   "execution_count": 213,
   "metadata": {},
   "outputs": [
    {
     "name": "stdout",
     "output_type": "stream",
     "text": [
      "\n",
      "E =\n",
      "\n",
      "  2x1 cell array\n",
      "\n",
      "    {1x3 cell}\n",
      "    {1x2 cell}\n",
      "\n"
     ]
    },
    {
     "data": {
      "image/png": "[encoded data removed]",
      "text/plain": [
       "<IPython.core.display.Image object>"
      ]
     },
     "metadata": {},
     "output_type": "display_data"
    }
   ],
   "source": [
    "E = reshape(F, 2, 1)\n",
    "cellplot(E)"
   ]
  },
  {
   "cell_type": "code",
   "execution_count": 214,
   "metadata": {},
   "outputs": [
    {
     "name": "stdout",
     "output_type": "stream",
     "text": [
      "\n",
      "E =\n",
      "\n",
      "  1x4 cell array\n",
      "\n",
      "    {1x3 cell}    {1x2 cell}    {1x3 cell}    {1x2 cell}\n",
      "\n"
     ]
    },
    {
     "data": {
      "image/png": "[encoded data removed]",
      "text/plain": [
       "<IPython.core.display.Image object>"
      ]
     },
     "metadata": {},
     "output_type": "display_data"
    }
   ],
   "source": [
    "% reshape 可以, 如下写法也可以\n",
    "E = [F, F]\n",
    "cellplot(E)"
   ]
  },
  {
   "cell_type": "code",
   "execution_count": 215,
   "metadata": {},
   "outputs": [
    {
     "name": "stdout",
     "output_type": "stream",
     "text": [
      "\n",
      "E =\n",
      "\n",
      "  2x2 cell array\n",
      "\n",
      "    {1x3 cell}    {1x2 cell}\n",
      "    {1x3 cell}    {1x2 cell}\n",
      "\n"
     ]
    },
    {
     "data": {
      "image/png": "[encoded data removed]",
      "text/plain": [
       "<IPython.core.display.Image object>"
      ]
     },
     "metadata": {},
     "output_type": "display_data"
    }
   ],
   "source": [
    "E = [F; F]\n",
    "cellplot(E)"
   ]
  },
  {
   "cell_type": "code",
   "execution_count": 216,
   "metadata": {},
   "outputs": [
    {
     "name": "stdout",
     "output_type": "stream",
     "text": [
      "\n",
      "f =\n",
      "\n",
      "  function_handle with value:\n",
      "\n",
      "    @(x,y)x^2/y\n",
      "\n",
      "\n",
      "ans =\n",
      "\n",
      "          1.33333333333333\n",
      "\n",
      "\n",
      "r1 =\n",
      "\n",
      "                       0.5\n",
      "\n",
      "\n",
      "r2 =\n",
      "\n",
      "          1.33333333333333\n",
      "\n",
      "\n",
      "r3 =\n",
      "\n",
      "                       3.2\n",
      "\n"
     ]
    }
   ],
   "source": [
    "% 这个单元格介绍 deal 函数\n",
    "% 相当于取运算和赋值运算一行写完\n",
    "\n",
    "% 匿名函数\n",
    "f = @(x, y) x^2 / y\n",
    "f(2, 3)\n",
    "\n",
    "A = [1, 2;\n",
    "     3, 4;\n",
    "     5, 6];\n",
    "\n",
    "\n",
    "\n",
    "[r1, r2, r3] = deal(f(1, 2), f(2, 3), f(4, 5))"
   ]
  },
  {
   "cell_type": "code",
   "execution_count": 217,
   "metadata": {},
   "outputs": [
    {
     "name": "stdout",
     "output_type": "stream",
     "text": [
      "\n",
      "r1 =\n",
      "\n",
      "     1\n",
      "\n",
      "\n",
      "r2 =\n",
      "\n",
      "     2\n",
      "\n",
      "\n",
      "r3 =\n",
      "\n",
      "     3\n",
      "\n"
     ]
    }
   ],
   "source": [
    "A = {1, 2, 3};\n",
    "[r1, r2, r3] = deal(A{[1, 2, 3]})"
   ]
  },
  {
   "cell_type": "markdown",
   "metadata": {},
   "source": [
    "# 结构数组"
   ]
  },
  {
   "cell_type": "code",
   "execution_count": 218,
   "metadata": {},
   "outputs": [
    {
     "name": "stdout",
     "output_type": "stream",
     "text": [
      "\n",
      "ans = \n",
      "\n",
      "  struct with fields:\n",
      "\n",
      "      name: \"Daming\"\n",
      "    gender: 1\n",
      "       age: 19\n",
      "\n"
     ]
    }
   ],
   "source": [
    "struct(\"name\",    \"Daming\", ...\n",
    "       \"gender\",  1,        ...\n",
    "       \"age\",     19)       % ... 是 matlab 的续航符"
   ]
  },
  {
   "cell_type": "code",
   "execution_count": 219,
   "metadata": {},
   "outputs": [
    {
     "name": "stdout",
     "output_type": "stream",
     "text": [
      "\n",
      "DaMing = \n",
      "\n",
      "  struct with fields:\n",
      "\n",
      "      age: 18\n",
      "    gendr: 1\n",
      "     nick: \"XiaoMing\"\n",
      "\n"
     ]
    }
   ],
   "source": [
    "% 之间按照“属性”创建\n",
    "DaMing.age = 18;\n",
    "DaMing.gendr = 1;\n",
    "DaMing.nick = \"XiaoMing\";\n",
    "DaMing"
   ]
  },
  {
   "cell_type": "code",
   "execution_count": 220,
   "metadata": {},
   "outputs": [
    {
     "name": "stdout",
     "output_type": "stream",
     "text": [
      "\n",
      "ans =\n",
      "\n",
      "    18\n",
      "\n"
     ]
    }
   ],
   "source": [
    "DaMing.age"
   ]
  },
  {
   "cell_type": "code",
   "execution_count": 221,
   "metadata": {},
   "outputs": [
    {
     "name": "stdout",
     "output_type": "stream",
     "text": [
      "\n",
      "Student = \n",
      "\n",
      "  1x2 struct array with fields:\n",
      "\n",
      "    name\n",
      "    age\n",
      "    gender\n",
      "\n"
     ]
    }
   ],
   "source": [
    "% 结构体数组数组\n",
    "Student(1).name = \"DaMing\";\n",
    "Student(1).age = 19;\n",
    "Student(2).name = \"XiaoHong\";\n",
    "Student(2).age = 19;\n",
    "Student"
   ]
  },
  {
   "cell_type": "code",
   "execution_count": 222,
   "metadata": {},
   "outputs": [
    {
     "name": "stdout",
     "output_type": "stream",
     "text": [
      "\n",
      "Student = \n",
      "\n",
      "  1x2 struct array with fields:\n",
      "\n",
      "    name\n",
      "    age\n",
      "    gender\n",
      "\n"
     ]
    }
   ],
   "source": [
    "% 若结构体数组数组的域有不一样的, 取并集\n",
    "Student(1).name = \"DaMing\";\n",
    "Student(1).age = 19;\n",
    "Student(2).name = \"XiaoHong\";\n",
    "Student(2).gender = \"Female\";\n",
    "Student"
   ]
  },
  {
   "cell_type": "code",
   "execution_count": 223,
   "metadata": {},
   "outputs": [
    {
     "name": "stdout",
     "output_type": "stream",
     "text": [
      "\n",
      "ans = \n",
      "\n",
      "  struct with fields:\n",
      "\n",
      "      name: \"DaMing\"\n",
      "       age: 19\n",
      "    gender: []\n",
      "\n",
      "\n",
      "\n",
      "ans = \n",
      "\n",
      "  struct with fields:\n",
      "\n",
      "      name: \"XiaoHong\"\n",
      "       age: 19\n",
      "    gender: \"Female\"\n",
      "\n"
     ]
    }
   ],
   "source": [
    "Student(1)\n",
    "Student(2)"
   ]
  },
  {
   "cell_type": "code",
   "execution_count": 225,
   "metadata": {},
   "outputs": [
    {
     "name": "stdout",
     "output_type": "stream",
     "text": [
      "\n",
      "Student = \n",
      "\n",
      "  struct with fields:\n",
      "\n",
      "      name: [\"Daming\"    \"Xiaohong\"    \"Tom\"]\n",
      "       age: [19 19 20]\n",
      "    gender: [\"male\"    \"female\"    \"female\"]\n",
      "\n"
     ]
    }
   ],
   "source": [
    "nameArray = [\"Daming\", \"Xiaohong\", \"Tom\"];\n",
    "ageArray = [19, 19, 20];\n",
    "genderArray = [\"male\", \"female\", \"female\"];\n",
    "Student = struct(...\n",
    "    \"name\", nameArray, ...\n",
    "    \"age\", ageArray, ...\n",
    "    \"gender\", genderArray ...  \n",
    ")"
   ]
  }
 ],
 "metadata": {
  "kernelspec": {
   "display_name": "Matlab (Connection)",
   "language": "matlab",
   "name": "matlab_connect"
  },
  "language_info": {
   "codemirror_mode": "octave",
   "file_extension": ".m",
   "help_links": [
    {
     "text": "MetaKernel Magics",
     "url": "https://metakernel.readthedocs.io/en/latest/source/README.html"
    }
   ],
   "mimetype": "text/x-octave",
   "name": "matlab",
   "version": "0.17.1"
  }
 },
 "nbformat": 4,
 "nbformat_minor": 2
}
