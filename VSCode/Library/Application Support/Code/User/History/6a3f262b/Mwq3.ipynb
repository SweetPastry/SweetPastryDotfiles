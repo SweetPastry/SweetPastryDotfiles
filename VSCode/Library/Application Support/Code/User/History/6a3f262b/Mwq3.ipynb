{
 "cells": [
  {
   "cell_type": "code",
   "execution_count": 3,
   "metadata": {},
   "outputs": [
    {
     "name": "stderr",
     "output_type": "stream",
     "text": [
      "/var/folders/c5/kj9p5qmd7gndcqhl48t7wf9c0000gn/T/tmpw0bx6_s4.c:1:8: error: expected parameter declarator\n",
      "printf(\"Hello\");\n",
      "       ^\n",
      "/var/folders/c5/kj9p5qmd7gndcqhl48t7wf9c0000gn/T/tmpw0bx6_s4.c:1:8: error: expected ')'\n",
      "/var/folders/c5/kj9p5qmd7gndcqhl48t7wf9c0000gn/T/tmpw0bx6_s4.c:1:7: note: to match this '('\n",
      "printf(\"Hello\");\n",
      "      ^\n",
      "/var/folders/c5/kj9p5qmd7gndcqhl48t7wf9c0000gn/T/tmpw0bx6_s4.c:1:1: error: type specifier missing, defaults to 'int'; ISO C99 and later do not support implicit int [-Wimplicit-int]\n",
      "printf(\"Hello\");\n",
      "^\n",
      "int\n",
      "/var/folders/c5/kj9p5qmd7gndcqhl48t7wf9c0000gn/T/tmpw0bx6_s4.c:1:1: warning: incompatible redeclaration of library function 'printf' [-Wincompatible-library-redeclaration]\n",
      "/var/folders/c5/kj9p5qmd7gndcqhl48t7wf9c0000gn/T/tmpw0bx6_s4.c:1:1: note: 'printf' is a builtin with type 'int (const char *, ...)'\n",
      "1 warning and 3 errors generated.\n",
      "[C kernel] GCC exited with code 1, the executable will not be executed"
     ]
    }
   ],
   "source": [
    "printf(\"Hello\");"
   ]
  },
  {
   "cell_type": "code",
   "execution_count": 7,
   "metadata": {},
   "outputs": [
    {
     "name": "stdout",
     "output_type": "stream",
     "text": [
      "Hello"
     ]
    }
   ],
   "source": [
    "#include <stdio.h>\n",
    "\n",
    "int main() {\n",
    "    int a = 1;\n",
    "    printf(\"Hello\");\n",
    "    return 0;\n",
    "}"
   ]
  },
  {
   "cell_type": "code",
   "execution_count": 8,
   "metadata": {},
   "outputs": [
    {
     "name": "stderr",
     "output_type": "stream",
     "text": [
      "/var/folders/c5/kj9p5qmd7gndcqhl48t7wf9c0000gn/T/tmpq9u7x_k9.c:1:1: error: unknown type name 'a'\n",
      "a\n",
      "^\n",
      "/var/folders/c5/kj9p5qmd7gndcqhl48t7wf9c0000gn/T/tmpq9u7x_k9.c:1:2: error: expected identifier or '('\n",
      "a\n",
      " ^\n",
      "2 errors generated.\n",
      "[C kernel] GCC exited with code 1, the executable will not be executed"
     ]
    }
   ],
   "source": [
    "a"
   ]
  },
  {
   "cell_type": "code",
   "execution_count": null,
   "metadata": {},
   "outputs": [],
   "source": []
  }
 ],
 "metadata": {
  "kernelspec": {
   "display_name": "C",
   "language": "c",
   "name": "c"
  },
  "language_info": {
   "file_extension": ".c",
   "mimetype": "text/plain",
   "name": "c"
  }
 },
 "nbformat": 4,
 "nbformat_minor": 2
}
