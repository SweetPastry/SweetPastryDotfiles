{
 "cells": [
  {
   "cell_type": "code",
   "execution_count": 4,
   "metadata": {
    "vscode": {
     "languageId": "wolfram"
    }
   },
   "outputs": [
    {
     "data": {
      "text/html": [
       "<div><pre style=\"&#102;&#111;&#110;&#116;&#45;&#102;&#97;&#109;&#105;&#108;&#121;&#58;&#32;&#34;&#67;&#111;&#117;&#114;&#105;&#101;&#114;&#32;&#78;&#101;&#119;&#34;&#44;&#67;&#111;&#117;&#114;&#105;&#101;&#114;&#44;&#109;&#111;&#110;&#111;&#115;&#112;&#97;&#99;&#101;&#59;\">&#52;</pre></div>"
      ],
      "text/plain": [
       "4"
      ]
     },
     "execution_count": 4,
     "metadata": {
      "text/html": [],
      "text/plain": []
     },
     "output_type": "execute_result"
    }
   ],
   "source": [
    "(* 最简单算式 *)\n",
    "2+2"
   ]
  },
  {
   "cell_type": "code",
   "execution_count": 18,
   "metadata": {
    "vscode": {
     "languageId": "wolfram"
    }
   },
   "outputs": [
    {
     "data": {
      "text/html": [
       "<style>\n",
       "\t\t\t\t\t\t\t\t\t\t\t\t\t.grid-container {\n",
       "\t\t\t\t\t\t\t\t\t\t\t\t\t\tdisplay: inline-grid;\n",
       "\t\t\t\t\t\t\t\t\t\t\t\t\t\tgrid-template-columns: auto;\n",
       "\t\t\t\t\t\t\t\t\t\t\t\t\t}\n",
       "\t\t\t\t\t\t\t\t\t\t\t\t</style>\n",
       "\n",
       "\t\t\t\t\t\t\t\t\t\t\t\t<div><div class=\"grid-container\"><div class=\"grid-item\"><pre style=\"&#102;&#111;&#110;&#116;&#45;&#102;&#97;&#109;&#105;&#108;&#121;&#58;&#32;&#34;&#67;&#111;&#117;&#114;&#105;&#101;&#114;&#32;&#78;&#101;&#119;&#34;&#44;&#67;&#111;&#117;&#114;&#105;&#101;&#114;&#44;&#109;&#111;&#110;&#111;&#115;&#112;&#97;&#99;&#101;&#59;\">&#123;&#123;&#54;&#52;&#49;&#44;&#32;&#49;&#125;&#44;&#32;&#123;&#54;&#55;&#48;&#48;&#52;&#49;&#55;&#44;&#32;&#49;&#125;&#125;</pre></div><div class=\"grid-item\"><pre style=\"&#102;&#111;&#110;&#116;&#45;&#102;&#97;&#109;&#105;&#108;&#121;&#58;&#32;&#34;&#67;&#111;&#117;&#114;&#105;&#101;&#114;&#32;&#78;&#101;&#119;&#34;&#44;&#67;&#111;&#117;&#114;&#105;&#101;&#114;&#44;&#109;&#111;&#110;&#111;&#115;&#112;&#97;&#99;&#101;&#59;\">&#123;&#123;&#54;&#52;&#49;&#44;&#32;&#49;&#125;&#44;&#32;&#123;&#54;&#55;&#48;&#48;&#52;&#49;&#55;&#44;&#32;&#49;&#125;&#125;</pre></div></div></div>"
      ],
      "text/plain": [
       "{{641, 1}, {6700417, 1}}\n",
       "{{641, 1}, {6700417, 1}}"
      ]
     },
     "execution_count": 18,
     "metadata": {
      "text/html": [],
      "text/plain": []
     },
     "output_type": "execute_result"
    }
   ],
   "source": [
    "(* 函数 *)\n",
    "FactorInteger[2^2^5 + 1]    (* Fermet 素数 *)\n",
    "(* 和以下写法等价 *)\n",
    "FactorInteger[2^(2^5) + 1]"
   ]
  },
  {
   "cell_type": "code",
   "execution_count": 24,
   "metadata": {
    "vscode": {
     "languageId": "wolfram"
    }
   },
   "outputs": [
    {
     "data": {
      "text/html": [
       "<div><pre style=\"&#102;&#111;&#110;&#116;&#45;&#102;&#97;&#109;&#105;&#108;&#121;&#58;&#32;&#34;&#67;&#111;&#117;&#114;&#105;&#101;&#114;&#32;&#78;&#101;&#119;&#34;&#44;&#67;&#111;&#117;&#114;&#105;&#101;&#114;&#44;&#109;&#111;&#110;&#111;&#115;&#112;&#97;&#99;&#101;&#59;\">&#48;</pre></div>"
      ],
      "text/plain": [
       "0"
      ]
     },
     "execution_count": 24,
     "metadata": {
      "text/html": [],
      "text/plain": []
     },
     "output_type": "execute_result"
    }
   ],
   "source": [
    "(* 虚数运算 *)\n",
    "(* Pi 和 I 之间没有乘号 *)\n",
    "E^(Pi I) + 1"
   ]
  },
  {
   "cell_type": "markdown",
   "metadata": {},
   "source": [
    " `mm` 对整数的位数不做限制, 也就是不区分长短整型等"
   ]
  },
  {
   "cell_type": "code",
   "execution_count": 27,
   "metadata": {
    "vscode": {
     "languageId": "wolfram"
    }
   },
   "outputs": [
    {
     "data": {
      "text/html": [
       "<div><img alt=\"Output\" src=\"data:image/png;base64,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\"></div>"
      ],
      "text/plain": [
       "EulerGamma"
      ]
     },
     "execution_count": 27,
     "metadata": {
      "text/html": [],
      "text/plain": []
     },
     "output_type": "execute_result"
    }
   ],
   "source": [
    "(* 特殊常数之间运算会保留符号 *)\n",
    "EulerGamma"
   ]
  },
  {
   "cell_type": "code",
   "execution_count": null,
   "metadata": {
    "vscode": {
     "languageId": "wolfram"
    }
   },
   "outputs": [
    {
     "data": {
      "text/html": [
       "<div><pre style=\"&#102;&#111;&#110;&#116;&#45;&#102;&#97;&#109;&#105;&#108;&#121;&#58;&#32;&#34;&#67;&#111;&#117;&#114;&#105;&#101;&#114;&#32;&#78;&#101;&#119;&#34;&#44;&#67;&#111;&#117;&#114;&#105;&#101;&#114;&#44;&#109;&#111;&#110;&#111;&#115;&#112;&#97;&#99;&#101;&#59;\">&#48;&#46;&#53;&#55;&#55;&#50;&#49;&#53;&#54;&#54;&#52;&#57;&#48;&#49;&#53;&#51;&#50;&#56;&#54;&#48;&#54;&#48;&#54;&#53;&#49;&#50;&#48;&#57;&#48;&#48;&#56;&#50;&#52;&#48;&#50;&#52;&#51;&#49;&#48;&#52;&#50;&#49;&#53;&#57;&#51;&#51;&#53;&#57;&#51;&#57;&#57;&#50;</pre></div>"
      ],
      "text/plain": [
       "0.57721566490153286060651209008240243104215933593992"
      ]
     },
     "execution_count": 29,
     "metadata": {
      "text/html": [],
      "text/plain": []
     },
     "output_type": "execute_result"
    }
   ],
   "source": [
    "(* 数值计算, 50 位精度 *)\n",
    "N[EulerGamma, 50]   (* N 函数, 任意计算数字精度 *)"
   ]
  },
  {
   "cell_type": "code",
   "execution_count": null,
   "metadata": {
    "vscode": {
     "languageId": "wolfram"
    }
   },
   "outputs": [
    {
     "data": {
      "text/html": [
       "<div><img alt=\"Output\" src=\"data:image/png;base64,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\"></div>"
      ],
      "text/plain": [
       " 3      2          2    3\n",
       "a  + 3 a  b + 3 a b  + b"
      ]
     },
     "execution_count": 30,
     "metadata": {
      "text/html": [],
      "text/plain": []
     },
     "output_type": "execute_result"
    }
   ],
   "source": [
    "(* 表达式展开函数 *)\n",
    "Expand[(a+b)^3]"
   ]
  },
  {
   "cell_type": "code",
   "execution_count": null,
   "metadata": {
    "vscode": {
     "languageId": "wolfram"
    }
   },
   "outputs": [],
   "source": [
    "(* 因式分解函数 *)\n"
   ]
  }
 ],
 "metadata": {
  "kernelspec": {
   "display_name": "Wolfram Language 14",
   "language": "Wolfram Language",
   "name": "wolframlanguage14"
  },
  "language_info": {
   "codemirror_mode": "mathematica",
   "file_extension": ".m",
   "mimetype": "application/vnd.wolfram.m",
   "name": "Wolfram Language",
   "pygments_lexer": "mathematica",
   "version": "12.0"
  }
 },
 "nbformat": 4,
 "nbformat_minor": 2
}
