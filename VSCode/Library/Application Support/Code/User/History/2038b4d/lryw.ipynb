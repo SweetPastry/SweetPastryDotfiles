{
 "cells": [
  {
   "cell_type": "code",
   "execution_count": 2,
   "metadata": {
    "vscode": {
     "languageId": "wolfram"
    }
   },
   "outputs": [
    {
     "data": {
      "text/html": [
       "<div><pre style=\"&#102;&#111;&#110;&#116;&#45;&#102;&#97;&#109;&#105;&#108;&#121;&#58;&#32;&#34;&#67;&#111;&#117;&#114;&#105;&#101;&#114;&#32;&#78;&#101;&#119;&#34;&#44;&#67;&#111;&#117;&#114;&#105;&#101;&#114;&#44;&#109;&#111;&#110;&#111;&#115;&#112;&#97;&#99;&#101;&#59;\">&#52;</pre></div>"
      ],
      "text/plain": [
       "4"
      ]
     },
     "execution_count": 2,
     "metadata": {
      "text/html": [],
      "text/plain": []
     },
     "output_type": "execute_result"
    }
   ],
   "source": [
    "(* 最简单算式 *)\n",
    "2+2"
   ]
  },
  {
   "cell_type": "code",
   "execution_count": 4,
   "metadata": {
    "vscode": {
     "languageId": "wolfram"
    }
   },
   "outputs": [
    {
     "data": {
      "text/html": [
       "<style>\n",
       "\t\t\t\t\t\t\t\t\t\t\t\t\t.grid-container {\n",
       "\t\t\t\t\t\t\t\t\t\t\t\t\t\tdisplay: inline-grid;\n",
       "\t\t\t\t\t\t\t\t\t\t\t\t\t\tgrid-template-columns: auto;\n",
       "\t\t\t\t\t\t\t\t\t\t\t\t\t}\n",
       "\t\t\t\t\t\t\t\t\t\t\t\t</style>\n",
       "\n",
       "\t\t\t\t\t\t\t\t\t\t\t\t<div><div class=\"grid-container\"><div class=\"grid-item\"><pre style=\"&#102;&#111;&#110;&#116;&#45;&#102;&#97;&#109;&#105;&#108;&#121;&#58;&#32;&#34;&#67;&#111;&#117;&#114;&#105;&#101;&#114;&#32;&#78;&#101;&#119;&#34;&#44;&#67;&#111;&#117;&#114;&#105;&#101;&#114;&#44;&#109;&#111;&#110;&#111;&#115;&#112;&#97;&#99;&#101;&#59;\">&#123;&#123;&#54;&#52;&#49;&#44;&#32;&#49;&#125;&#44;&#32;&#123;&#54;&#55;&#48;&#48;&#52;&#49;&#55;&#44;&#32;&#49;&#125;&#125;</pre></div><div class=\"grid-item\"><pre style=\"&#102;&#111;&#110;&#116;&#45;&#102;&#97;&#109;&#105;&#108;&#121;&#58;&#32;&#34;&#67;&#111;&#117;&#114;&#105;&#101;&#114;&#32;&#78;&#101;&#119;&#34;&#44;&#67;&#111;&#117;&#114;&#105;&#101;&#114;&#44;&#109;&#111;&#110;&#111;&#115;&#112;&#97;&#99;&#101;&#59;\">&#123;&#123;&#54;&#52;&#49;&#44;&#32;&#49;&#125;&#44;&#32;&#123;&#54;&#55;&#48;&#48;&#52;&#49;&#55;&#44;&#32;&#49;&#125;&#125;</pre></div></div></div>"
      ],
      "text/plain": [
       "{{641, 1}, {6700417, 1}}\n",
       "{{641, 1}, {6700417, 1}}"
      ]
     },
     "execution_count": 4,
     "metadata": {
      "text/html": [],
      "text/plain": []
     },
     "output_type": "execute_result"
    }
   ],
   "source": [
    "(* 函数 *)\n",
    "FactorInteger[2^2^5 + 1]    (* Fermet 素数 *)\n",
    "(* 和以下写法等价 *)\n",
    "FactorInteger[2^(2^5) + 1]"
   ]
  },
  {
   "cell_type": "code",
   "execution_count": 9,
   "metadata": {
    "vscode": {
     "languageId": "wolfram"
    }
   },
   "outputs": [
    {
     "data": {
      "text/html": [
       "<div><pre style=\"&#102;&#111;&#110;&#116;&#45;&#102;&#97;&#109;&#105;&#108;&#121;&#58;&#32;&#34;&#67;&#111;&#117;&#114;&#105;&#101;&#114;&#32;&#78;&#101;&#119;&#34;&#44;&#67;&#111;&#117;&#114;&#105;&#101;&#114;&#44;&#109;&#111;&#110;&#111;&#115;&#112;&#97;&#99;&#101;&#59;\">&#48;</pre></div>"
      ],
      "text/plain": [
       "0"
      ]
     },
     "execution_count": 9,
     "metadata": {
      "text/html": [],
      "text/plain": []
     },
     "output_type": "execute_result"
    }
   ],
   "source": [
    "(* 虚数运算 *)\n",
    "(* Pi 和 I 之间没有乘号 *)\n",
    "E^(Pi I) + 1"
   ]
  },
  {
   "cell_type": "markdown",
   "metadata": {},
   "source": [
    " `mm` 对整数的位数不做限制, 也就是不区分长短整型等"
   ]
  },
  {
   "cell_type": "code",
   "execution_count": 11,
   "metadata": {
    "vscode": {
     "languageId": "wolfram"
    }
   },
   "outputs": [
    {
     "data": {
      "text/html": [
       "<div><img alt=\"Output\" src=\"data:image/png;base64,iVBORw0KGgoAAAANSUhEUgAAAJwAAAAiCAIAAAAlGicfAAAA03pUWHRSYXcgcHJvZmlsZSB0eXBlIGV4aWYAAHjabU9BcsQgDLvzin2CsY0MzyFZdqY/6PNXBNpOOqsMSAjZwWl8f73SY0KzJC9R0QAhvHnTTlFlYXGWdu0X2rnv8t1PqtvvtMrfBcb2j7sfWKz1XyPZjWz+gdp8F+xGpsvPfZ2Pndde673RzxgbTX6f/vHsFoqCHM7dVSLQqGuiJKGolMALJ8BgxlPFT/JABMsQM2F9Fk7oiHt6JBiN5xzB5nLrlvl16sbSTO5WLsfN9GCqUovNcd5fIlrFnSES+QAAAAlwSFlzAAAWJQAAFiUBSVIk8AAAADx0RVh0U29mdHdhcmUAQ3JlYXRlZCB3aXRoIHRoZSBXb2xmcmFtIExhbmd1YWdlIDogd3d3LndvbGZyYW0uY29tXKKmhQAAACF0RVh0Q3JlYXRpb24gVGltZQAyMDI0OjExOjI5IDEyOjUxOjQzg8Kh5gAACkJJREFUaIHtWllMU90WXi1lENEibZ0QoU3VqlWLE4I4DyhOUUkUgyYqCnGIiQargcSRF33zRfEniKhRIzFEqKI4kJRBRAi0UoEWUUELpaSttUDHcx+2d//nntKiFYdw+z2Qc9b+9trrnO/stffahUYQBHgxtED/0wF4MfjwijoE4RV1CMIr6hCEV9QhCK+oQxCMXz2A2WxeuHChzWYjGxcvXnzp0qVfPfT/Lb6J2tPTU1BQ4KZmnThx4qJFizwYwGaz1dTUUIwTJkzwwNXgwmKx1NXV1dTU1NbW2mw2Ho+3efNmoVD4p+MaDBAEQRCEQqFwT0tISCA8gt1uLydh3rx5ALBu3TrPvA0W6urqBAKB82MmJiYaDIY/G9vPg5p+BQIBm812ftq5c+d69tHQ6fSYmBh8Gxwc7JmfQUR2dvahQ4fMZjMAhIWFLViwwGq1VlVVqdXq27dvWyyW/Pz8Px3jzwFpi2dqfn7+L/2IVq1aBX90pqpUKj8/PwAICAi4ceMGtjscjvPnz7NYrIaGhj8V22Dhb9/9Go3GqqqqlpYW4kfOqK1Wq0qlKisra2hooOzRxGKxxWIBgOLi4qSkJGyn0Wjp6eltbW3Tpk3r16fdbn/37l1FRUVjY6PVanUfgMFgqK2txTETBFFbW9ve3u6KL5fLtVotvtVqta9fv0a5pF/odLr6+vqXL1+Se/0LpO0PzdTk5GQmk7lo0SLnpr179zKZzJUrV7rq+/0z9ebNm1OmTKHRaCiw4cOHb9u2rbOz05lZUFDAZDI3bNhAEERvb69YLB41ahR+QDabrdfrEVMmkyHjxo0bBwwAQyqV7tixg+yTwWBs2bKlo6ODTBOLxUwm8/Lly7t27fL19QWAsLCw5ubmwsLCsLAw1PHgwYOI3N3dHRISwuVypVJpeHg48nns2DGz2bx161YGgwEA48aNk8lk5CF0Ot3FixcjIyPxa0G0W7dukWmeiJqYmAgAIpHIuWn79u0AsGDBAld9v0fUvr6++Ph4FI+/v79QKMS7ZTabLZfLKfxbt24BwOzZs3t6epB/Mng8HmZev34dGcvKygZ8TIS1a9diV3Q6ffz48XQ6Hb9N8q4qNTUVAMjaA0BMTMzIkSPJlsrKSoIgOjo60O3o0aNxk4+PDyX+uLg47P/Ro0dk58HBwWTPFy5cwExq+n379q3MCTqdDn4jMjIyHj58CABpaWlarVYul7e1tVVWVvL5fK1We+DAgX57qdXqjRs3lpSUTJ8+/ebNmx0dHWaz+c2bN1lZWZjT1NSELkQi0XcGw2KxfHx8kpKSpFLply9fPn36ZDAYjhw5gkbMzMyk8HU63aZNm9RqdUZGBgBUVFSEhITIZLLnz58jwrNnz8h8vV4vkUiUSmVYWJjdbi8pKcnIyOjs7Fy3bh0APH/+nPhvDo+IiDAajVwuNysrq6WlRafTGQwGqVQaEREBAOfOndNoNN+cIm3dlzS5ubnkj/eXztTq6mo0FdLS0ihNVVVVKO2UlpaS7WimImzatMlkMrlynpCQAACjR48mGz9//qwkoa2tjdyq0WiampqcXcXGxgKAUCjEFjRTWSyWVqslCKKlpQWriAgTJ04EgAMHDhCkmXrq1CnUunPnTgBYsmSJw+EgCCInJwcRNBoNHuLly5cWi4USSUlJCWLiLEstaXx9fX18fChGJpPpRvLBRXFxscPhCAwMPHPmDKVp/vz5AoHg7du3crl8yZIlzn1nzpx59+5df39/V84NBgM4lVX79+8vKirCt3Q63Waz4UWLw+FwOByKk5aWFqSQSqUiCIK8wk2dOpXFYgEAj8dDlsWLF6MLLpf78eNHtE3DwEc6iB8bG4u8cblcZCfzo6KiyH3tdvuHDx/wctDc3IwuqKLevn1769atLt7J70BtbS0A0Gi0lJQU51b0geMsSkFOTo4bRQEgNDQUAD59+kQ2BgQEDB8+HADsdntfXx+aKGSdAKC+vr6wsPDFixcKhQJPMgDo6+vr7e0NDAz8nkej+PSMbDKZHjx48OTJk9evXyuVSvIOGa+Sv/zs90fR2toKACaT6caNG644rioKtI10g8mTJyPnWq0Wn7Hcu3cPXUgkkvXr11O66PX6pKQkiUSCbnk8Xnx8PJfLbWpqevr06cDPM6jIz8/ft2+fXq8HgGHDhs2ePZvL5fJ4vMzMTIJU8nkuqsPhGIQwnRAaGlpXV8fn8+/cueOKM2bMGM+cT5o0CV08evQIrWHuYTKZoqKimpub/f39T5w4sX37dny4mJ2d/ZtF/eeff1JSUgiCiI6OTktLi4uLwxni2rVr5PTjiajI1797LRIolb4zUFahrCtkREZGSiSSDx8+TJ48ecSIER6E5waxsbGBgYE9PT0XL178HlFLS0vRQvX48eN+V/HfiatXrxIEsWrVKolEgupgV/DkRAmV0p2dnShVYmRlZd2/f99937FjxwJARUVFb29vv4Tly5cDgNVqPXTokAexDTj60aNHAUAul586dWpAPlrg/fz8KIpaLJby8vJBD88NHA5HfX09AKxevZqiaE1NDdoAYlBFVavVyv6AN+gAMGvWLABAm/ju7m4AUKlUYrE4NTV1wJyMEqDJZLp06RLSVaFQvHr1ChOWLVu2d+9eAMjLy0tMTCQfrTU1Ne3Zs+f06dPf/Sr6wfHjx1H2Pnv27I4dOyoqKvr6+iwWi1QqPXv2LIWMtrgWi+XKlSvIYrfbX7x4ERkZmZub+zNh/CjodDra5eXl5XV2diJjV1eXWCyOior6+vXr/7BRZTPgT2+jRo3ChZHdbp8yZQqy02g0tIMHgBkzZqDP302dqlarg4KCED8oKAhVC3w+n8wxGo0LFy7E/rlcbnR0NJriqFdPTw+Zj+vUrq4uV+OS0dDQMH36dPxoDAaDXMWRf2TUaDTjx49H9oiICKFQiPbJNBptzZo1yI7LYlSnxsbG4u6IYLVa0e3SpUsBIDk5mSDVqU+fPkWt6NWlp6ej29LSUkRob29HFnzQ4efnN3PmTFwyhYeHo/NqXNl/m6nOtakb0On0oqIiVDMRBNHd3c3hcHbv3l1WVjZnzhxEcNV37Nix9+/fR8d+X79+7erqotPp48aNMxqNmBMUFCSVSnNycsLDwwmCaG1trays7OjoGDlyZHJycn19/bBhw8g+fyh4AJg2bVp1dfXhw4fROmKz2ex2u6+vr0gkunfvHt4MAwCHwykuLkbnDO/fv3/z5o3D4VixYkV5efndu3fR0Hh0dEHOjb6+vgwGAxcn6Nch9Nc5ZnIr+QI7PHny5JkzZ0aMGGGxWGQy2bt377hcbnp6ukKhiIuLI3ehET/xH/rt7e2NjY1sNnvWrFk/VIRZrValUtna2srhcPh8fkhIiCumTqdraGgwm80CgQDln8GFRqNRqVQBAQFCoRC/FGe8f/9eqVQGBweLRCL3m5RfDZPJ1NjY2NXVJRKJcPai4KdE9eLvxN/+e6oXHsAr6hCEV9QhCK+oQxBeUYcgvKIOQfwHa4e6yaaptdcAAAAASUVORK5CYII=\"></div>"
      ],
      "text/plain": [
       "EulerGamma"
      ]
     },
     "execution_count": 11,
     "metadata": {
      "text/html": [],
      "text/plain": []
     },
     "output_type": "execute_result"
    }
   ],
   "source": [
    "(* 特殊常数之间运算会保留符号 *)\n",
    "EulerGamma"
   ]
  },
  {
   "cell_type": "code",
   "execution_count": 13,
   "metadata": {
    "vscode": {
     "languageId": "wolfram"
    }
   },
   "outputs": [
    {
     "data": {
      "text/html": [
       "<div><pre style=\"&#102;&#111;&#110;&#116;&#45;&#102;&#97;&#109;&#105;&#108;&#121;&#58;&#32;&#34;&#67;&#111;&#117;&#114;&#105;&#101;&#114;&#32;&#78;&#101;&#119;&#34;&#44;&#67;&#111;&#117;&#114;&#105;&#101;&#114;&#44;&#109;&#111;&#110;&#111;&#115;&#112;&#97;&#99;&#101;&#59;\">&#48;&#46;&#53;&#55;&#55;&#50;&#49;&#53;&#54;&#54;&#52;&#57;&#48;&#49;&#53;&#51;&#50;&#56;&#54;&#48;&#54;&#48;&#54;&#53;&#49;&#50;&#48;&#57;&#48;&#48;&#56;&#50;&#52;&#48;&#50;&#52;&#51;&#49;&#48;&#52;&#50;&#49;&#53;&#57;&#51;&#51;&#53;&#57;&#51;&#57;&#57;&#50;</pre></div>"
      ],
      "text/plain": [
       "0.57721566490153286060651209008240243104215933593992"
      ]
     },
     "execution_count": 13,
     "metadata": {
      "text/html": [],
      "text/plain": []
     },
     "output_type": "execute_result"
    }
   ],
   "source": [
    "(* 数值计算, 50 位精度 *)\n",
    "N[EulerGamma, 50]   (* N 函数, 任意计算数字精度 *)"
   ]
  },
  {
   "cell_type": "code",
   "execution_count": 15,
   "metadata": {
    "vscode": {
     "languageId": "wolfram"
    }
   },
   "outputs": [
    {
     "data": {
      "text/html": [
       "<div><img alt=\"Output\" src=\"data:image/png;base64,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\"></div>"
      ],
      "text/plain": [
       " 3      2          2    3\n",
       "a  + 3 a  b + 3 a b  + b"
      ]
     },
     "execution_count": 15,
     "metadata": {
      "text/html": [],
      "text/plain": []
     },
     "output_type": "execute_result"
    }
   ],
   "source": [
    "(* 表达式展开函数 *)\n",
    "Expand[(a+b)^3]"
   ]
  },
  {
   "cell_type": "code",
   "execution_count": null,
   "metadata": {
    "vscode": {
     "languageId": "wolfram"
    }
   },
   "outputs": [
    {
     "data": {
      "text/html": [
       "<div><img alt=\"Output\" src=\"data:image/png;base64,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\"></div>"
      ],
      "text/plain": [
       "              2          2                2\n",
       "(x + y + z) (x  - x y + y  - x z - y z + z )"
      ]
     },
     "execution_count": 79,
     "metadata": {
      "text/html": [],
      "text/plain": []
     },
     "output_type": "execute_result"
    }
   ],
   "source": [
    "(* 因式分解函数 *)\n",
    "Factor[x^3+y^3+z^3-3x y z]    (* 这里没要求 x y z 中间写乘号 *)\n",
    "(* 空格被解释为乘号 *)"
   ]
  },
  {
   "cell_type": "code",
   "execution_count": 77,
   "metadata": {
    "vscode": {
     "languageId": "wolfram"
    }
   },
   "outputs": [
    {
     "data": {
      "text/html": [
       "<div><img alt=\"Output\" src=\"data:image/png;base64,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\"></div>"
      ],
      "text/plain": [
       "                  1 - Sqrt[5]         1 + Sqrt[5]\n",
       "{{x -> -1}, {x -> -----------}, {x -> -----------}}\n",
       "                       2                   2"
      ]
     },
     "execution_count": 77,
     "metadata": {
      "text/html": [],
      "text/plain": []
     },
     "output_type": "execute_result"
    }
   ],
   "source": [
    "(* 解方程, 注意使用 == 符号 *)\n",
    "Solve[x^3 - 2x - 1 == 0, x]"
   ]
  },
  {
   "cell_type": "code",
   "execution_count": 27,
   "metadata": {
    "vscode": {
     "languageId": "wolfram"
    }
   },
   "outputs": [
    {
     "data": {
      "text/html": [
       "<div><pre style=\"&#102;&#111;&#110;&#116;&#45;&#102;&#97;&#109;&#105;&#108;&#121;&#58;&#32;&#34;&#67;&#111;&#117;&#114;&#105;&#101;&#114;&#32;&#78;&#101;&#119;&#34;&#44;&#67;&#111;&#117;&#114;&#105;&#101;&#114;&#44;&#109;&#111;&#110;&#111;&#115;&#112;&#97;&#99;&#101;&#59;\">&#50;</pre></div>"
      ],
      "text/plain": [
       "2"
      ]
     },
     "execution_count": 27,
     "metadata": {
      "text/html": [],
      "text/plain": []
     },
     "output_type": "execute_result"
    }
   ],
   "source": [
    "(* 求极限 *)\n",
    "Limit[(Tan[x] - x) / (x - Sin[x]), x->0]"
   ]
  },
  {
   "cell_type": "code",
   "execution_count": 29,
   "metadata": {
    "vscode": {
     "languageId": "wolfram"
    }
   },
   "outputs": [
    {
     "data": {
      "text/html": [
       "<div><img alt=\"Output\" src=\"data:image/png;base64,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\"></div>"
      ],
      "text/plain": [
       " x\n",
       "x  (1 + Log[x])"
      ]
     },
     "execution_count": 29,
     "metadata": {
      "text/html": [],
      "text/plain": []
     },
     "output_type": "execute_result"
    }
   ],
   "source": [
    "(* 求导数 *)\n",
    "D[x^x, x]"
   ]
  },
  {
   "cell_type": "code",
   "execution_count": 38,
   "metadata": {
    "vscode": {
     "languageId": "wolfram"
    }
   },
   "outputs": [
    {
     "data": {
      "text/html": [
       "<div><img alt=\"Output\" src=\"data:image/png;base64,iVBORw0KGgoAAAANSUhEUgAAAYYAAAAoCAIAAAB1g8qYAAAA0HpUWHRSYXcgcHJvZmlsZSB0eXBlIGV4aWYAAHjabY/rjQMhDIT/U0VK8APGUA6bEOk6uPIzLEQnpPMK+2PWY+Q0fn/e6THDVFIuUdEAYeSWm3VClRWrqrQ7Lwmb9NSTbZN2SuXvB8bWr1MPrErfOUhsgc8XyJ63YQ9yW7r2db92v/Vaz0HfNXa0L+j/9+xhKNDIzNkkAo1cE5EFxaQE3ngCbFS8TPKTdSCCNsTs8D6NM2zE2T0SnMJrruDzZO+u/Dq50aruZLmzUrnI9VbmOh8lFFqfdv7BzAAAAAlwSFlzAAAWJQAAFiUBSVIk8AAAADx0RVh0U29mdHdhcmUAQ3JlYXRlZCB3aXRoIHRoZSBXb2xmcmFtIExhbmd1YWdlIDogd3d3LndvbGZyYW0uY29tXKKmhQAAACF0RVh0Q3JlYXRpb24gVGltZQAyMDI0OjExOjI5IDEzOjAzOjE52v7w8gAAEC9JREFUeJztnXtQE9f3wO9CEsEg4SEPpSIjhjfyUiqFqqkPHmoVLX+gFQSkI3SmUHVGO8U61CrTKoJVa0XtyLMzahVBqKItCAqIgCiohdKmYARUQOQVwiP7++N+f+uakM0mG9io+/kr3L333HP2Hk7uOwiKooCBgYFBO9ChWwEGBm3k6dOnDx48kEgkdCvyzsGEJAaG1zh8+LCtra2lpaWLiwuXy42NjR0cHKRbqXcIJiQxvMbQ0NCRI0eGhoboVoQeYmJi4uPj58yZk5aWdvDgQXd39+PHj+/YsUNR/urq6sLCwsnU8K0HYeaSGPBkZWVt27atvb1dV1eXbl1ooLa2tqysLC4uDv45NDQ0Y8aMsbGxly9fIgginz8/Pz88PLytrU1PT29yNX1rYXpJDK+RlpYWHBz8bsYjAICnpycWjwAAenp6ixYt6uvr6+3tHTd/YGAgi8U6f/78ZCn49sOEJIZXPHr0qKysLCQkhG5FtAUURWtra/l8Po/HGzcDi8XasGFDWlraJCv2FsOEJIZXnDx50tTUdMmSJXQroi2kpKSIRKKoqCiCPGFhYWVlZY8ePZo0rTD27du3YMGCXbt2vU3TL+PMJXV3d7e1tdna2urr69OiEwBAKBRWV1fX1NS0tbV5enr6+vp6eHiwWCy69HkXQFF01qxZgYGBJ0+enAj52uBXKlFZWbl48WJnZ+eqqipi33NycgoNDd29e7fadd29e7e4uLipqWl4eNjd3d3Ly8vLy4t4furevXvu7u7w89WrV1esWKF27VrFqxfd1NT0/fffl5eXNzY2oiiKIAifz9+9e/fGjRvHndibIAYGBuLi4k6fPo2lZGZmAgA8PT3PnTs3Z86cSdME4+DBgyMjI/DzvHnzVq5cSV3m2NjYgQMHsO8Db2/vpUuXUhdLhZqamidPnnzyySeaFaslfqUq1dXVAQEB5ubmubm5Sr8LAwIC8vPz1QtJ3d3dW7duPX/+vEznwMbG5vTp0x999JGigmw2G/s8OjqqRtUE0OnzKIqiKHr27Nlp06bBFA6Hgx85f/bZZ+hk0djY6ODgAOudNm2aQCAICwtzdXWFvmtsbNzT0zNpymCw2Wx3d/fAwMDAwMDk5GSNyBweHg4KCoIyTU1NP//8c42IpUJCQoKJicnw8LAGZWqJX6nK7du3jY2Np0+f/uDBAzL5CwoKEARpb29XtaLR0VGsdzNlyhSBQPDpp5+6ubnBIIggyJkzZwiKHzt2bPXq1UlJSVKpVNWqiaHR5wGKohUVFfCl+Pj4FBYWDgwMoCja1NSERejff/9dIzopZdGiRbDG8PDwoaEhLP369esWFhYpKSmTo4YMbDa7sLBw4uSvXbtWG0KSq6treHi4BgVqj1+pxJUrV7hcrpWV1cOHD0kW6evrY7PZp06dUrUubE/TF198MTg4iKU3NTUtXryYz+e/ePFCVZkagUafZwEAFi5cmJSU1NbWlpycjPUG+Xz+xYsX7e3tOzo68vLyAgICVO2nqcqFCxdKS0sBAPHx8SkpKfhHS5cuFQqFBHMQQqHw6dOnjo6OilZGMFAU7ejoaG1t5XK59vb2+N7vu0xvb29DQ0NsbKwGZWqJX6lETk7O5s2bR0ZGQkNDs7OzpVIpTHdwcAgLC1NUysDAwNvb++bNm8QT4fLcunULAIAgSFJSEt69+Xx+cXFxb2+vUn9Wifb29tbWVjs7O2NjYw2K1TDEwSw0NBQA4OvrS5xtZGTEwcGBx+PNnz9fLBbjH9XX10+fPp3H4+3cuZNYiJOTEwCAx+OR/2bo6uqKiIjAN5utrW16evq4mZ89exYbG2toaIhlZrPZrq6uKSkp+C8oeYi/Majbrg29JPhlUFFRMTnVkfQr6qjaOosXLx7330QgEBBXFBER4e7urqp6u3btgvKFQqHSzNeuXeONh5GR0bj5Q0JCeDxednb2yMjInj17XFxcMHPef//9pqYmgrpo9HklIQnOP61Zs4Y4G4qily9fhtbia5JIJG5ubgCAuXPn9vX1ERQfHByEE0Y7duxQWhfk9u3bFhYWsFIWizV9+nTsja9atWpkZASfub+/38vLCz61sLDw8fFxcHDApi1nzpzZ29urqCKlnViKtlMPSffv33/+/DkVCT/++KOOjk5/fz8VIeQh71cyqGEpxdYhSUJCAofDUXUm7sKFC1A3T0/Pv//+mzhzbm6uSh2LZcuWAQB27dqFjZSnTp2KFbGyssLPjchAo88ThaTBwUG4DAnnyZUSHx8PtczLy4MpO3fuhJ2Rqqoq4rL37t2DZbOyssjUJRaL7e3tAQAcDufo0aOwm9PS0hIYGAjl7N+/H58/JycHpqempo6NjcFEiURy5swZGxubxMREgrrIjKup2E49JNnZ2R07doyKhMjISHt7eyoSyKOqX+FRz1IqrUOS48ePAwDu3bunUqnR0VE/Pz+oG4fD2bRp0507dxRlFovFotdJTExUGpIgmzZtgh2x9vb2NWvWwMSTJ08qqotGnycKSV999RWsAC7fKkUikXh4eMBuSGdn5507d+C5hKSkJKVlz549C80rLy8nU9fevXth/oyMDHz62NgYnCOfMmVKS0sLlv7111/D/F1dXTKixsbGiBcsyDQPFdu1IST5+/uvWLGCigTyqOpXeNSzlErrkCQvLw8AkJ+fr2rBzs5OmSV2X1/f3377jcwiWmpqqtKQhCDIkSNH8OldXV1cLhcAEBMTo0gyjT6vMCSVlJTo6OgAAHbv3q20AozGxkYDAwMAwMqVK+HYVSAQYL0SAk6dOgVfLsllV7jD2NnZWb7l4LQIACAnJwdLLCoqgonu7u65ubkEXVZ5SK4+qG27NoSkhQsXhoSEUJFAEvX8CkNtS9VuHZLU1NQAADIzM9Urfu3ateXLl+MDk4uLS11dHXEpMiHJ399f/pG3tzd8FYok0+jz4x8oEQqFGzdulEqlzs7OCQkJ4+YZF+gxAICCgoKGhgYTE5PMzEzogsTMmjULfmhtbSVT0f379wEAfn5+8tvtPvjgA7i+A/NAli9fnpiYiCBIXV3d2rVrLSwsNm/efPHixf7+fnKWKUdt27WBly9fGhkZTXQtavsVdSa6daysrAAAPT096hVftmxZUVFRQ0NDdHQ0HNU2NDT4+PjU1dVRVGzcNWU4CTswMEBR+ES81XG2pba0tAgEgidPnsycOfPy5cscDkcliR9//DGXy4XWRkVFwaZSCpwYAgAIhUKlmfv7+7u7u8H/v1kZdHV1LS0tHz9+3NzcjE//5ptvVq9evX///sLCwpcvX6anp6enp3O53Ojo6O3bt7/33ntk9CRGPdvV4Pr161hnEADw9OnTS5cudXR0YCnbtm1TKcQoDUkyNcqjtEb1/EqDlk5o65ibm7PZbLVDEsTZ2TktLW3v3r07duzIysoSi8VxcXE3btzQlJIYGrzpQeNvVTYkPX78WCAQtLS0GBsbFxUV2djYqCoxOjoai74//fRTRESEo6Oj0lLW1tb6+vpisTgvLy8mJoY4M5fLNTQ07O3t7erqkn8qlUqfPXsGAJg9e7bMIw8Pj3PnzonF4j/++KOgoCA3N7ejoyM1NTUjI+PGjRv4VVL1UM92NRAKhTdv3sT+FIvF//zzD3YCAAAQExOjUkgaHR1FCY9uytQoD3GNavuVBi2d0NZBEGTq1Kka6XZZWFhkZmY+f/786tWrlZWVIyMj2rx7TvNvVWZkCH3FyMiosrJS6YBQnp9//hkAgCDIuXPnoChnZ2e4bZfM8BKqRGYRxNfXFwDg5eUl/6i6uhrKkZn5lkcikSQnJ8NvjNDQUEXZSI6r1bZdG+aS7OzsNm7cSEUCAdT9CkNtS6l4Jkl0dXVTU1NVLaVoGvvbb7+FbtzZ2amoLJm5pFWrVsk/gv9rS5YsUSSZRp9/ZUxVVRXc2mNubn737l2lQuWpr6+HO1BhZbdu3YL/7WFhYWSKNzY2wm8DNzc3kUgk8/SXX36BlzBA4KoNACA3N1cmJ9wHoKuri9/o0dzcrGh958MPPwQAzJ8/X5FiZJqHiu3aEJK8vb2V7gZUD+p+hUc9Syl6Jhn6+voAAIq26Sriyy+/XLBgwV9//SWTLpVK4WYia2trguL0hqQJ8vn/GQPP9QAAzMzMSkpK/v3336bXkY8RMgwMDMDt1/b29liY3LdvH3xlBDsg8GAX+s2YMSMnJ0ckEo2OjlZXV2/duhWmnzhxAubs7e21trYGABgYGGRnZ8NJ/hcvXsBtwQAAfPzq7+93dHRksVixsbH//fcfvsYrV67A10plQZSi7doQkvz9/R0cHKhIGBfqfiWDGpZqxDOVIhKJgIqbAK5evQp10NfX37NnT2lp6eDgoFQqbWxs3LBhA3xEvHOYxpA0cT4PUBStr69XOlhVumlly5YtAAA2m11TU4MlSqVS2GfR09NTuqKJoqhEIsFfMwpeXy9Yt24dfkvon3/+iR0lMTAwmDt3LjaS9/Pzwy/zt7a24reN8Xi8hQsXBgUFYbcOWFlZ4TcxyaC0eSjarg0hKSoqytDQkIoEeTTiVzKoYalGPFMp5eXlAIDq6mqVSp04cQK7KQEAoKuri78jycfHRyKREBSnMSRNnM8DFLeRR23XwQ40//DDDzKPOjs74QK/vb09ySsU8vPzvby8sBUZBEGcnJwOHDggX1wkEgUHB+P93tTUFL8/G09paenq1astLS3xdk2ZMiU8PLy5uZlAH+LmoW479ZCUlpZGcUx0+PBhAIBm51ao+5U8qlqqWc8kVozFYskc+CID3BghcxGYmZnZoUOHiOMRqiwk+fv7AwDWrVsn/4hiSJpQn9feXygZHh6ur6/v6enx8vIiXlIZHh5+8ODBwMCAtbU1HM0R093d/fDhQwRBzMzMrK2tlf62BIfDuXTpEnZUReMEBwdbWVkdPXp0guSToaSkRCAQNDc329ra0qjGm0tcXFxxcTF+K5yq9PT01NXVIQhiZ2c3Y8YMDeqmBjT6vPZeHcvhcLCDskpzwo3tJDExMcEOFjFA5s2bBwAQCoVMSFKPhoYGlZxQHiMjI+bWc8D8HAADxMTEhM/nl5SU0K3IGwlchFmwYAHdirwNaG8vSasoLy+H1xvPnj0bdigoAgfk8IawJ0+eTNw+b/IEBgZev379u+++o1uRN4+Kioq+vr7g4GC6FdEkdPm89s4laQ98Ph/7QeqQkJBDhw5RlymRSOzs7LBLCyMjI7GLJuiiqKgoKCioq6tLszcZvgskJCSUlZVNxMkPuqDR55mQxPA/JBKJqalpenr6+vXr6dblDcPb2zsyMhLbPcdABSYkMbxi/fr1KO6qQwYyiEQiW1vbtrY2U1NTunV5G2CmtxleER0dXVBQMO5hZgZFZGdnL126lIlHmoIJSQyvWLFixcyZM3/99Ve6FXmTyMjIwI4xMVCHCUkMr9DR0dmyZUt6ejrdirwx1NbWCoVC7BILBuowIYnhNSIjI83MzLDVFgZihELh9u3b8efUGCjCTG8zMDBoEUwviYGBQYtgQhIDA4MW8X/n38T/BHYdRQAAAABJRU5ErkJggg==\"></div>"
      ],
      "text/plain": [
       "                    2\n",
       "2 x Cos[x] + (-2 + x ) Sin[x]"
      ]
     },
     "execution_count": 38,
     "metadata": {
      "text/html": [],
      "text/plain": []
     },
     "output_type": "execute_result"
    }
   ],
   "source": [
    "(* 求积分 *)\n",
    "Integrate[x^2Cos[x], x] (* 不定积分是没有积分常数的 *)"
   ]
  },
  {
   "cell_type": "code",
   "execution_count": 68,
   "metadata": {
    "vscode": {
     "languageId": "wolfram"
    }
   },
   "outputs": [
    {
     "data": {
      "text/html": [
       "<div><img alt=\"Output\" src=\"data:image/png;base64,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\"></div>"
      ],
      "text/plain": [
       "         x 2\n",
       "2 ArcSin[-]\n",
       "         2"
      ]
     },
     "execution_count": 68,
     "metadata": {
      "text/html": [],
      "text/plain": []
     },
     "output_type": "execute_result"
    }
   ],
   "source": [
    "(* 求和函数 *)\n",
    "Sum[x^(2n) / (n^2 Binomial[2n, n]), {n, Infinity}]   \n",
    "(* Binomial: 组合数 *)\n",
    "(* {n, Infinity} 等价于 {n, 1,Infinity} *)"
   ]
  },
  {
   "cell_type": "code",
   "execution_count": 84,
   "metadata": {
    "vscode": {
     "languageId": "wolfram"
    }
   },
   "outputs": [
    {
     "data": {
      "text/html": [
       "<div><img alt=\"Output\" src=\"data:image/png;base64,iVBORw0KGgoAAAANSUhEUgAAAswAAAAoCAIAAABl+TvwAAAA0HpUWHRSYXcgcHJvZmlsZSB0eXBlIGV4aWYAAHjabU/bDQMhDPtnio6QFwmMw91RqRt0/JqDqkKqEcQYOyipv1/P9BgQpmQ5ild3AqxalQZSaGJWpnqfN86TZKmbnmSFuEHKvwfvSz92PXxW5PZGqz/p+AFcbQVWI5Wpc5v3Y/mllbI3+o6xUL+E/99NQzw7h+E0oQiv4CWBongWyuFPP91hZL+E7ETtHoGYx3BoG8EB6bG7e3KFcI0RdGzTpozVwCuirHorcismB1wFnHSM8wGoElr0kBUErAAAAAlwSFlzAAAWJQAAFiUBSVIk8AAAADx0RVh0U29mdHdhcmUAQ3JlYXRlZCB3aXRoIHRoZSBXb2xmcmFtIExhbmd1YWdlIDogd3d3LndvbGZyYW0uY29tXKKmhQAAACF0RVh0Q3JlYXRpb24gVGltZQAyMDI0OjExOjI5IDEzOjEyOjI0Cr6RWQAAGgFJREFUeJztnXlcE9f2wO8kJIARE1Bkc/ugYRVlUR6IlFIX8FlcaO0r+gQFsSwq9KmvaLHiE+uKopVaKVUQgaf4FFF4oBRRKFo2RfFZqBCRVVlkDwFCfn/cX+eTJiGZJEMSZL5/wcy5d07mzrlz5t5zz0V4PB4gICAgICAgIMAbkrIVICCQhTdv3jx//pzD4ShbEQICAgKCESGcDIIxxunTp2fPnq2vrz937lwajRYUFNTX16dspQgICAgIRECOiIgY6VxVVdXVq1cLCgocHR2x1CWtPAFG+vv7z507N3/+fDU1NWXromQCAwMjIyPt7OzCwsJcXFxaW1vT09PfvXu3cuVKZauGAyUlJU+ePGEymcpWhICAYNzBYrHOnTvX3t4+a9YsLO8arPI8UXC53K1bt5JIJAMDAz8/P5Ey8sgTSEViYqKuru7Q0JCyFVE+paWl0dHR6L9sNpvBYGhpaQ0PDytRK7xIT0/X1tZms9nKVoSAgGDc8fz588WLF2tqak6bNu2///0vXvKinYwDBw5QqdTExESMfbe08gRS4ezsvHXrVmVroaKsWrUKANDR0aFsRXBgcHBQV1c3MTFR2YoQEBCMU5qbmz09PbW0tGpqanCRFx2TkZKSsnPnzr///e8IgmAZZpFWngA7L168yM/PX7dunbIVUUV4PF5ZWRmTyaTT6crWBQfU1NTWr18fGxurbEUICAjGKXp6esnJyVpaWrdu3cJFXrSTUVNT4+DggF0taeUJsPPjjz9Onjz5ww8/VLYiqsipU6fq6+v9/PyUrQhueHt75+fnv3jxQtmKEBAQCHLo0KGFCxeGhYXx3uvUD+rq6jY2Nr///jsu8qKDNXg8HoVCwa6TtPIEGOHxeFevXl27du2YCPlsb29vbGycPXu2pqamAi736NGjPXv22NjY7Ny5UwGXUwy2trbm5ubXrl3bt28fvjWzWKySkpLS0tLGxkZbW1snJycbG5sx8VyNBxRsOwSPHz++d+9eVVXVwMCAtbW1nZ2dnZ2dhoaGmCLl5eXh4eEAgJKSko8++mj58uWKUlYJUCgUqRwpMfJjo4s5ceLE4OAg/HvevHm4LCXgcrnHjx9H74u9vf2SJUvkrxZfSktLGxoaPv30U/Fib968SU1NvXjx4tu3bwMDA/fu3asY9SBVVVVHjx4tLCysrKzk8XgIgjCZzH379m3YsGH0ps9KSkrc3d2nTp2alpb2nr0p3d3db926haOT0dvbGxIS8tNPP6FHEhMTAQC2trapqanGxsZ4XQg748qiq6ur4+LiDh8+LHxKKbYzhigvL8/IyMC3Q2tvbw8ICLh27ZrAS3HWrFk//fTTRx99NFJB/g/poaEhHFUC77VFjI3eee/evZaWlgYGBgAAdXV1XBpgeHg4Pz8fNkBRUdHnn3+uIl0SPzdv3tTR0RHz3N+8eTM0NPTVq1fokc7OTkVo9gepqal+fn7d3d0AACqVqqmp2dnZWVVVtXHjxvz8/PPnz4/GRYuKitzd3SkUSnZ29owZM0bjEkpk6dKl0dHRzc3N+vr68tdWVVW1evXq3377DQCgpaW1YMGC6dOnP378uKKioqysbMGCBSwWS/ERLePKovfs2SPyuFJsZ2xhYGAQGRlpa2vr7u6OS4VcLtfLy+vOnTsAAHV19UWLFhkZGT179uz58+evXr1aunTpxYsXfXx8RJa1sLCIiYnJyspatGjRihUrcNEH5X22CJHhoBQKJTMzE3s8qrTy0jLa9a9ZsyY4OHj06pcZKysrHx8fMQKnT58WaNB//vOfitKO9/DhQ3hRR0fHzMzM3t5eHo9XVVWFekVY1kFJS1ZWFo1GMzIy+t///od75apAd3c3hUKJi4vDpbYPPvgAtoWPj09/fz96PCcnR09P79SpU7hcRVrGj0WXlJSQSKQnT54IHFeK7YxFtm3bZmNjg9e6xczMTHh7d+zY0dfXhx6vqqpycXFhMpnv3r3D5ULSomoWgaP82BjJGJ90dXVVVFQEBQWJkdm+fXtwcDD8e/r06U1NTQpR7f9xcHA4fPhwY2NjVFQUOpbIZDJv3Lhhamra3Nycnp6O1ycIJDk5edOmTYODg15eXklJScPDw/C4mZmZt7c3jhdSIhMnTrS3ty8oKJA/oPX69esPHjwAAISGhp46dYr/1JIlS1gslpgIABaL9ebNG3Nzc4njHDwer7m5+fXr1zQazdTUlAjP4mfPnj3Lli2bP3++wHHF284YZffu3efPn79y5crnn38uf22//PILAABBkMOHD/M//Ewm8969e11dXfiO6jU1Nb1+/drExERbWxvHascWikgr7unpyWAwRhqo6ejo0NfXZzAYcJ5YBoaGhszNzRkMxsKFC/v7+/lPVVRU6OrqMhiMsLAw2SpXIuXl5Twez9raWowMgiDkP1DKJG5YWNiZM2cE3iuTJk1ydXUFADx9+lR8cWnbLjY2Fs5cxsXFHTp06PAfxMfH4/WLVAETE5MnT57IXw8M7KDT6fv37xc+K9LDaG9v9/X1ZTAYxsbGjo6ODAZjzpw5ly5dEll/S0tLcHAwg8EwNDR0cHCwsrKi0Wjz5s2Ljo5ms9kyq/3eWHRubu7du3e3b98u8qyCbWeMMmPGjPXr14eHh6MhC/LA5XIBADwe7+3btwKnEAQR8DBycnIYohjJY/jss88YDEZycvLQ0FBERISVlRW0Cx0dHQcHB+yLNYQZ220tcnwD3+mSlJQUeK1Hjx4Jnz179iwAgEajdXZ2ylY/j8e7ffs2vAT/iA2Hw4EfEHPmzOnu7hZTfDQGV1++fJmSkiJPDWfOnCGRSD09PRjlDQ0NgWKnS8QAfcrVq1dLlJSz7eTh6dOnLS0tspXNzs4ODw9fvXq1h4fHsWPHHj58ODAwgJdi4eHhVCpVzgr7+vqg37lr1y6MRX799Vc9PT3YHGpqalOmTEE7io8//nhwcJBfuKenx87ODp7V09NzdHQ0MzNDg3ANDQ27urpGupDqW7Q8zwaKs7OzsbExl8uVqpQSbUc1LQKu6L5w4YL8VV2/fh3eMVtb299//128cFpamlTvzaVLlwIAwsLC0DmvCRMmoEWMjIz45ysFUDWLwFFeEU7G0NAQjGD/7LPPhM/Ce7RlyxaZ64eEhobCNkhPT4dHvvrqKwAAhUIpKioSX3Y0nIxjx44hCHL+/HmZa/D19TU1NcUurzpORl9fH1wMBmObJSJP28mDiYlJTEyMtKUaGhrWrFmD9h36+vpwtMnExKSsrAwXxc6dOwf+GMqSmfLycqjh5cuXsciz2WxTU1MAAJVKPXv2LJyxrq2tRWPcvv32W3755ORkeDw6Ohp9j3I4nPj4+FmzZh04cEDMtVTfomV7NvhpaGhAEOTrr7+WqpRybUdlLcLOzs7d3V3+eoaGhhYvXgz1pFKpGzduLC4uHkmYzWbX/5kDBw5IdDIgGzduZLFYPB6vqalp9erV8OCPP/440rVUzSJG18no7+8nk8nYw46wyMfExAAAyGRybW0t//GioiJ410pKSsQUx9IAHA7HxsYGAKCnp9fa2lpcXEwmkwEAhw8flvgTRilM7Msvv0QQJDY2Vrbibm5uy5cvxy6vOk4GDKenUChwYZ5E5Gk7eZChS2Wz2RYWFjo6Ojt27CCRSIGBgXCrkadPn1pbWzMYDIEnXDbS09MBALdu3ZKnkqtXr0LjKiwsxCJ/8OBBKH/p0iX+41wuF0aPqqur8/+6r7/+Gsq3tbUJVMXlcsVH6qm+RcvvZHz//fcSezZhlGs7KmsRkZGRVCpVzNgYdlpbWwXWbjg5Of3nP//BElsaHR0t0clAEOS7777jP97W1kaj0QAAgYGBI9Wsahaxdu1aX19fXORF3KyMjAwEQZqamjDWjkW+r69v6tSpQGjk1t/fHwCwYMEC8ZfAOLJSWVk5ceJEAMDKlSvnzp0LAHB1dcUyVjl6seghISEIgohxYMXg4OCwbt067PIq4mTk5eWRSCQAwL59+7CXkrnt5EGGLjU0NJRCoRQWFk6aNGnlypX8HROLxTIwMBB4Q8tGaWkpAEDOTUzi4uJgh/j8+XMs8jCrrKWlpXBvC6NHAQDJycnoQbgOEABgbW2dlpYmZihYGNW3aPmdDC8vLyMjI6mKKN12FGYRzc3NFRUV2J+ZkpISAMDdu3el0k0Md+/eXbZsGb+rMXfuXOFFQAJgcTLc3NyET9nb28MGGqlmVbOIiIiIGTNm4CIveLO6urrWrFljbW2NsWrs8pGRkQAAOp2OTh11d3draWkBACSu1sM+fZOQkIA+NDo6OvX19VhKjeqCt+3btyMIIsOKRHNzc39/f+zyquBk1NTUGBkZwXcVh8ORqqxsbScPMnSpurq627dvhy/dBw8eCJwVfj2/ffv2ypUrmzdvptFoixcvxniV5uZmAIDA95C0ZGdnw5uJcVRSR0cHAPDFF18InxoaGoLxiTChMsqBAwfQcGM6ne7j43P9+nUscQCqb9HyOxkuLi7Lli3DLq8KtqMAi4iOjkbzv5HJ5MDAQLh8VzwtLS0AgISEBKl0k0hFRYW/vz+a6FNTU/Px48di5LE4GR9//LHwKQ8PDwDAhx9+OFLNqmYRBQUFgG9eRh75Py1hjYiIOHHiBJ1O5/8ZYpBKPigo6MiRI52dnRcuXNixYwcA4MqVK93d3XQ63cvLC8vlsLBq1Soajdbb2wsA8PPzg0Y7GnR3dx8/fhyLJJ1OJ5FI/v7+CIL4+vpiv0RnZyeDwZBVQUzk5OSgH6ki+cc//oFdh9raWldX14aGBkNDw9u3b1OpVKmUUUDbCfzeN2/e3Lx5E77RIeJ/L4vFamlp8fDwKC0tJZFIwvv1CC/wuXDhAhr1jS64lcjUqVMpFEpHRwdGeZHAAAsAAIvFkijc09PT3t4OAEADP/khk8n6+vp1dXUvX77kP/7NN994eHh8++23mZmZnZ2dCQkJCQkJNBrN399/586d06ZNk0d/iMIsWs5nQ5jGxkYXFxeMwsqyHQVbRGBg4A8//LB06dKwsLCurq6UlBQYfgSnlsQwefJkKpXa2NiI8XdhxNLSMjY29uDBg7t27bp8+TKbzQ4JCbl//z6+VwEAwHkNXFCMRTg5OcXExHh5eX3wwQcHDx5EQ7xlkP+Tk1FZWdnb27ts2TKJNcogr62t/cUXX0RFRX333Xfw4/7ChQsAAG9vb/4QXDnx9/eHdx8A8P3332/evNnc3ByvyvnhcDjQd8MCXDcl7a5XQ0NDvFHehofFYon/FYGBgRg71rq6OldX19raWm1t7Tt37syaNUtaZRTQdgK/l81mV1dX8y+NE/97Yeerp6eXlZVFp9OxJIQICQnZunUrAECqNy6CIBMmTIAj5zIzY8YMTU1NNpudnp4eGBgoXphGo02aNKmrq6utrU347PDwMFzyN3PmTIFTNjY2qampbDb7559/zsjISEtLa25ujo6OvnTp0v379+GIrjwozKLlfDaEGRgYwLgRiRJtR8EW4e/vb2ZmFhISAv8NDg42MDC4fPlyTEyM+BX4CIJI63hhR09PLzExsaWlJTs7+9GjR4ODg6qc60VhFqGvr6+mppaVlRUQEIDlFT+ivMDIRnV1tZWVFfY4Xqnk6+vr4YNy+/ZtdNFwRUWFxIIYh5J++OEHAACCIKmpqdBQLS0tsYzFjep0yeXLl0kkUlBQkLQFTUxMNmzYgF1eidMllZWV8IYzGAyRC5UlInPbyYO0g8MdHR1Qw7i4OARBpFKPRqMtWrQIuzyZTI6OjsYuLxI05h/LQgMnJycAgJ2dnfApOCMOhGJCheFwOFFRUfC7zcvLayQx1bdo+adL/vKXv4hcTyeAStmOIi0CsmrVKgBAR0eHeLG+vj4AgMxB9PyMFOD5r3/9Cz7kra2tI5WVeboEWqL80yUKs4iKigoymezr6ytxoa9EeRE3Kz4+Xl1dHfvjIpX85s2bAQBubm4wTZCzszOWUlga4NmzZ/C7Ad7KX375BfZ03t7eEusfPScjKSmJTCYHBATIkBbX3t7e1dUVu7yynIyioiKYUGHq1KniZzRHQp62kwcZXiRMJtPJyamsrAzLG5cfqZwMuJ+F/DPQlZWV8Jts/vz5wnO3cCoH/RfdYiMtLU1AEq5iJZPJ/D3Iy5cvR1oB4ezsDMQGdKu+RcvvZKxZs0ZiFI6q2Y4iLYLH4w0PD0+bNo3JZEqUhFN+cq634vF4X3755cKFC3/77TdhTWByC/HRjsp1MhRpEVFRUTQajT/zuszyIm5WW1sbgiA///wzxtqlkn/x4gWCIGhutaSkJCylJDZAb2+vhYUFAMDU1BR1dw4dOgQfCImLO0bJyUhOTiaTyf7+/rIl3ndzczMzMxMj0Nvb284H3E8rODgYPYLLii/xwJ1EAAC6urp5eXk1NTVVf0ZiXJKcbScPMnSpV65cgVZtbm5ubGz89u1b/rM9PT3Cb2iIVE5GfX09Ll0qj8dDh6YNDAySk5Pr6+uHhoZKSkoCAgLgcTSVS1dXF9xtbuLEiUlJSTBk/d27d2jIFL9H0tPTY25urqamFhQU9OrVK/4rZmVlwa5QngV7Srdo+Z2MiIgITU1NMd20CtqOIi2Cx+NFRUUBAI4cOSLxKv/+978BAK9fv5ZKNwHQUGhNTc39+/c/ePCgr69veHi4srJy/fr18JT4zHVKdDIUbBF/+9vfPv30U1zklbBBGjqEO2XKFIxLmCTWv2XLFgAAhUIpLS1FDw4PD8MvMA0NDfFrk0bDybh27RocPpJ5ax8/P79JkyaJEYALgMVgbGws26Ux8uzZM4mTlxJTfcjZdvIg24sEhi1DLC0tc3NzOzs7c3Nzd+/ezWAwJkyYIDIxgFRORmFhIZA+xYJIOBwO6mdA+JvM09OTfzFIbm4umll54sSJc+bMQeNCFi9ezG+tr1+/5k89RKfTHRwc/vrXv5qZmcEjRkZGYhIkqL5Fy+9kFBcXAwAyMjJEnlVN21GkRTx8+JBKpdrY2AhkkhWJt7f3/PnzpVVMmPPnz8MljRAymYwuLQEAODo6il/Xo0QnQ8EWMcYyfgqAxhnt3r0bl/rRjfWOHTsmcKq1tXX69OkAAFNTUzEv+9FwMrKzs7dt2yZPpge4w6qYeSh0a7SRkGqhswyIX5mCpaOUv+3kITY2VrYx6hs3bqDL8FAsLCzOnDkz0i6OUjkZsbGxampqMKkRLty6dcvOzg4NnUMQxMLC4vjx48I3tr6+fu3atfzvv8mTJ/Pn9OTnwYMHHh4eAlvSq6ur+/j4vHz5Uow+qm/RMj8bKMPDwwYGBiPlMlZN21GYRRQXF9Pp9GnTpmFJ1dXf3z9lypTw8HAZFBOGxWJt2LBBQFtdXd2TJ09KXDks3slwc3MDAHh6egqfktPJULxFjG0n48aNG7CbE98NyaOPtKjOxtD83Lt3DwCA/S4RKBIul1tdXZ2RkZGQkFBQUCAmWAwilZOxY8cOKysruXUUhMPhlJSU5OTkSNzPmsPhlJWV5efnY0zX2NbWlp+fX1BQUFlZicU3GicWffToUQ0NDYEZhPcV7Bbx66+/amtrT5kyBWOauNjYWHV19bq6OvyU5fF4vHfv3t27dy8vL6+xsRHfmmVA1SxiDG/13t3dDROwe3h4zJ49W8FXH1vMmzcPAMBisYgbpYKQSCRjY2PhrzdcqKiogPmD8YVKpWJcnQ7HsbHXrKOjg24JQYCybdu2kydPnj17Ft3z4j0Go0VkZ2d/8sknDAbj7t27WNZeDg8PnzhxYuvWrbikXeGHwWDALLcEo4pCnYy6urpdu3bV1tbCfYMUeemxiI6ODpPJzMvL45/8JhhDVFdXp6amwr8HBgYaGhqOHDkCANDV1fXz8xupFAzMXLt2rYK0JBg1JkyYEBYWFhkZ+dVXX+GYDWjskpycvGnTpsHBQS8vr6SkJDQ9nZmZmbe3t8giaWlpdXV16NIngjGHIpyMjo4OT0/PgYEBuFETAOCbb76BudyxU1hYODQ0BACYOXMm/MSXEx6Pl5mZCZ/yhoaG0cskKA8rVqzIycmBGdkJxhxVVVX8nWNtbS38l8lkinEyHj582N3d/d47GePEogMCAo4fP37x4kWJEVTjgdjYWJjpC91YB+Lq6jqSk3H06NHAwEADAwNF6KdU3leLUISTcf/+fRheAACg0Wj79+/ftWuXVDXMnDkzPj4+Pj4eALBu3bqTJ0/Kr9XAwEBQUBDqSk+ePFn+OnFn5cqVMTExnZ2daMw/wRhixYoVPOlztmZnZzs7O6vIO3KUGD8WraGhcejQodzcXMLJAADk5eVJJV9bW8vlcuGG5u8377FFKMLJWLRo0Y0bN5qamphMpq2tLdyHSSrQ9KA4Avetxr1afHFxcdHQ0MjJyfnkk0+UrQuBgrhz545Ue9yMRcaVRW/atGnTpk3K1mJMMnPmTDTb7PvNe2wRIzoZ0n6BiZHX1dVFc2MQSIW6urqbm1tSUhLhZIwT6uvry8vL161bp2xFCAgIxi84OgCid2DS09MT2G5RPNLKE2DH398/IyND5LZVBO8fSUlJS5YsUZGhfgICgvFJTU2NQP4bmeVFOxmurq5HjhzBskO0bPIE2Fm+fLmhoWFKSoqyFSFQBJcuXULTeBMQEBAontOnTz979mzJkiW4yIt2MqKjoxkMhrm5+caNG+GG7OKRVp4AOyQSacuWLQkJCcpWhGDUKSsrY7FYxNwiAQGB4mlsbNy7d++CBQtCQ0P37dvn6OiIi7xoJ0NHR6e8vPzMmTNcLjcnJ0eictLKE0iFr6+vrq5uf3+/shUhGF1YLNbOnTv591YgICAgUAwtLS2PHj2yt7cvLi5GN76XXx6RYYkdAQEBAQEBAYFERI9kEBAQEBAQEBDICeFkEBAQEBAQEIwK/we2tkWrWlqOYwAAAABJRU5ErkJggg==\"></div>"
      ],
      "text/plain": [
       "                  2\n",
       "{{y[x] -> (1 - 2 x  + C[1]) Cos[x] + (2 x + C[2]) Sin[x]}}"
      ]
     },
     "execution_count": 84,
     "metadata": {
      "text/html": [],
      "text/plain": []
     },
     "output_type": "execute_result"
    }
   ],
   "source": [
    "FullSimplify[\n",
    "    DSolve[y''[x] + y[x] == 8x Sin[x], \n",
    "    y[x], x]\n",
    "]"
   ]
  },
  {
   "cell_type": "code",
   "execution_count": 85,
   "metadata": {
    "vscode": {
     "languageId": "wolfram"
    }
   },
   "outputs": [
    {
     "data": {
      "text/html": [
       "<div><img alt=\"Output\" src=\"data:image/png;base64,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\"></div>"
      ],
      "text/plain": [
       "{{y[x] -> 2 x (-(x Cos[x]) + Sin[x])}}"
      ]
     },
     "execution_count": 85,
     "metadata": {
      "text/html": [],
      "text/plain": []
     },
     "output_type": "execute_result"
    }
   ],
   "source": [
    "FullSimplify[\n",
    "    DSolve[{\n",
    "        y''[x] + y[x] == 8x Sin[x], \n",
    "        y[0] == 0, \n",
    "        y'[0] == 0\n",
    "},  y[x], x]\n",
    "]"
   ]
  },
  {
   "cell_type": "code",
   "execution_count": null,
   "metadata": {
    "vscode": {
     "languageId": "wolfram"
    }
   },
   "outputs": [],
   "source": []
  }
 ],
 "metadata": {
  "kernelspec": {
   "display_name": "Wolfram Language 14",
   "language": "Wolfram Language",
   "name": "wolframlanguage14"
  },
  "language_info": {
   "codemirror_mode": "mathematica",
   "file_extension": ".m",
   "mimetype": "application/vnd.wolfram.m",
   "name": "Wolfram Language",
   "pygments_lexer": "mathematica",
   "version": "12.0"
  }
 },
 "nbformat": 4,
 "nbformat_minor": 2
}
