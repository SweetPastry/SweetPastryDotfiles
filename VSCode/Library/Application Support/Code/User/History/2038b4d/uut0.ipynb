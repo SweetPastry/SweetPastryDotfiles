{
 "cells": [
  {
   "cell_type": "code",
   "execution_count": 2,
   "metadata": {
    "vscode": {
     "languageId": "wolfram"
    }
   },
   "outputs": [
    {
     "data": {
      "text/html": [
       "<div><pre style=\"&#102;&#111;&#110;&#116;&#45;&#102;&#97;&#109;&#105;&#108;&#121;&#58;&#32;&#34;&#67;&#111;&#117;&#114;&#105;&#101;&#114;&#32;&#78;&#101;&#119;&#34;&#44;&#67;&#111;&#117;&#114;&#105;&#101;&#114;&#44;&#109;&#111;&#110;&#111;&#115;&#112;&#97;&#99;&#101;&#59;\">&#52;</pre></div>"
      ],
      "text/plain": [
       "4"
      ]
     },
     "execution_count": 2,
     "metadata": {
      "text/html": [],
      "text/plain": []
     },
     "output_type": "execute_result"
    }
   ],
   "source": [
    "(* 最简单算式 *)\n",
    "2+2"
   ]
  },
  {
   "cell_type": "code",
   "execution_count": 4,
   "metadata": {
    "vscode": {
     "languageId": "wolfram"
    }
   },
   "outputs": [
    {
     "data": {
      "text/html": [
       "<style>\n",
       "\t\t\t\t\t\t\t\t\t\t\t\t\t.grid-container {\n",
       "\t\t\t\t\t\t\t\t\t\t\t\t\t\tdisplay: inline-grid;\n",
       "\t\t\t\t\t\t\t\t\t\t\t\t\t\tgrid-template-columns: auto;\n",
       "\t\t\t\t\t\t\t\t\t\t\t\t\t}\n",
       "\t\t\t\t\t\t\t\t\t\t\t\t</style>\n",
       "\n",
       "\t\t\t\t\t\t\t\t\t\t\t\t<div><div class=\"grid-container\"><div class=\"grid-item\"><pre style=\"&#102;&#111;&#110;&#116;&#45;&#102;&#97;&#109;&#105;&#108;&#121;&#58;&#32;&#34;&#67;&#111;&#117;&#114;&#105;&#101;&#114;&#32;&#78;&#101;&#119;&#34;&#44;&#67;&#111;&#117;&#114;&#105;&#101;&#114;&#44;&#109;&#111;&#110;&#111;&#115;&#112;&#97;&#99;&#101;&#59;\">&#123;&#123;&#54;&#52;&#49;&#44;&#32;&#49;&#125;&#44;&#32;&#123;&#54;&#55;&#48;&#48;&#52;&#49;&#55;&#44;&#32;&#49;&#125;&#125;</pre></div><div class=\"grid-item\"><pre style=\"&#102;&#111;&#110;&#116;&#45;&#102;&#97;&#109;&#105;&#108;&#121;&#58;&#32;&#34;&#67;&#111;&#117;&#114;&#105;&#101;&#114;&#32;&#78;&#101;&#119;&#34;&#44;&#67;&#111;&#117;&#114;&#105;&#101;&#114;&#44;&#109;&#111;&#110;&#111;&#115;&#112;&#97;&#99;&#101;&#59;\">&#123;&#123;&#54;&#52;&#49;&#44;&#32;&#49;&#125;&#44;&#32;&#123;&#54;&#55;&#48;&#48;&#52;&#49;&#55;&#44;&#32;&#49;&#125;&#125;</pre></div></div></div>"
      ],
      "text/plain": [
       "{{641, 1}, {6700417, 1}}\n",
       "{{641, 1}, {6700417, 1}}"
      ]
     },
     "execution_count": 4,
     "metadata": {
      "text/html": [],
      "text/plain": []
     },
     "output_type": "execute_result"
    }
   ],
   "source": [
    "(* 函数 *)\n",
    "FactorInteger[2^2^5 + 1]    (* Fermet 素数 *)\n",
    "(* 和以下写法等价 *)\n",
    "FactorInteger[2^(2^5) + 1]"
   ]
  },
  {
   "cell_type": "code",
   "execution_count": 9,
   "metadata": {
    "vscode": {
     "languageId": "wolfram"
    }
   },
   "outputs": [
    {
     "data": {
      "text/html": [
       "<div><pre style=\"&#102;&#111;&#110;&#116;&#45;&#102;&#97;&#109;&#105;&#108;&#121;&#58;&#32;&#34;&#67;&#111;&#117;&#114;&#105;&#101;&#114;&#32;&#78;&#101;&#119;&#34;&#44;&#67;&#111;&#117;&#114;&#105;&#101;&#114;&#44;&#109;&#111;&#110;&#111;&#115;&#112;&#97;&#99;&#101;&#59;\">&#48;</pre></div>"
      ],
      "text/plain": [
       "0"
      ]
     },
     "execution_count": 9,
     "metadata": {
      "text/html": [],
      "text/plain": []
     },
     "output_type": "execute_result"
    }
   ],
   "source": [
    "(* 虚数运算 *)\n",
    "(* Pi 和 I 之间没有乘号 *)\n",
    "E^(Pi I) + 1"
   ]
  },
  {
   "cell_type": "markdown",
   "metadata": {},
   "source": [
    " `mm` 对整数的位数不做限制, 也就是不区分长短整型等"
   ]
  },
  {
   "cell_type": "code",
   "execution_count": 11,
   "metadata": {
    "vscode": {
     "languageId": "wolfram"
    }
   },
   "outputs": [
    {
     "data": {
      "text/html": [
       "<div><img alt=\"Output\" src=\"data:image/png;base64,iVBORw0KGgoAAAANSUhEUgAAAJwAAAAiCAIAAAAlGicfAAAA03pUWHRSYXcgcHJvZmlsZSB0eXBlIGV4aWYAAHjabU9BcsQgDLvzin2CsY0MzyFZdqY/6PNXBNpOOqsMSAjZwWl8f73SY0KzJC9R0QAhvHnTTlFlYXGWdu0X2rnv8t1PqtvvtMrfBcb2j7sfWKz1XyPZjWz+gdp8F+xGpsvPfZ2Pndde673RzxgbTX6f/vHsFoqCHM7dVSLQqGuiJKGolMALJ8BgxlPFT/JABMsQM2F9Fk7oiHt6JBiN5xzB5nLrlvl16sbSTO5WLsfN9GCqUovNcd5fIlrFnSES+QAAAAlwSFlzAAAWJQAAFiUBSVIk8AAAADx0RVh0U29mdHdhcmUAQ3JlYXRlZCB3aXRoIHRoZSBXb2xmcmFtIExhbmd1YWdlIDogd3d3LndvbGZyYW0uY29tXKKmhQAAACF0RVh0Q3JlYXRpb24gVGltZQAyMDI0OjExOjI5IDEyOjUxOjQzg8Kh5gAACkJJREFUaIHtWllMU90WXi1lENEibZ0QoU3VqlWLE4I4DyhOUUkUgyYqCnGIiQargcSRF33zRfEniKhRIzFEqKI4kJRBRAi0UoEWUUELpaSttUDHcx+2d//nntKiFYdw+z2Qc9b+9trrnO/stffahUYQBHgxtED/0wF4MfjwijoE4RV1CMIr6hCEV9QhCK+oQxCMXz2A2WxeuHChzWYjGxcvXnzp0qVfPfT/Lb6J2tPTU1BQ4KZmnThx4qJFizwYwGaz1dTUUIwTJkzwwNXgwmKx1NXV1dTU1NbW2mw2Ho+3efNmoVD4p+MaDBAEQRCEQqFwT0tISCA8gt1uLydh3rx5ALBu3TrPvA0W6urqBAKB82MmJiYaDIY/G9vPg5p+BQIBm812ftq5c+d69tHQ6fSYmBh8Gxwc7JmfQUR2dvahQ4fMZjMAhIWFLViwwGq1VlVVqdXq27dvWyyW/Pz8Px3jzwFpi2dqfn7+L/2IVq1aBX90pqpUKj8/PwAICAi4ceMGtjscjvPnz7NYrIaGhj8V22Dhb9/9Go3GqqqqlpYW4kfOqK1Wq0qlKisra2hooOzRxGKxxWIBgOLi4qSkJGyn0Wjp6eltbW3Tpk3r16fdbn/37l1FRUVjY6PVanUfgMFgqK2txTETBFFbW9ve3u6KL5fLtVotvtVqta9fv0a5pF/odLr6+vqXL1+Se/0LpO0PzdTk5GQmk7lo0SLnpr179zKZzJUrV7rq+/0z9ebNm1OmTKHRaCiw4cOHb9u2rbOz05lZUFDAZDI3bNhAEERvb69YLB41ahR+QDabrdfrEVMmkyHjxo0bBwwAQyqV7tixg+yTwWBs2bKlo6ODTBOLxUwm8/Lly7t27fL19QWAsLCw5ubmwsLCsLAw1PHgwYOI3N3dHRISwuVypVJpeHg48nns2DGz2bx161YGgwEA48aNk8lk5CF0Ot3FixcjIyPxa0G0W7dukWmeiJqYmAgAIpHIuWn79u0AsGDBAld9v0fUvr6++Ph4FI+/v79QKMS7ZTabLZfLKfxbt24BwOzZs3t6epB/Mng8HmZev34dGcvKygZ8TIS1a9diV3Q6ffz48XQ6Hb9N8q4qNTUVAMjaA0BMTMzIkSPJlsrKSoIgOjo60O3o0aNxk4+PDyX+uLg47P/Ro0dk58HBwWTPFy5cwExq+n379q3MCTqdDn4jMjIyHj58CABpaWlarVYul7e1tVVWVvL5fK1We+DAgX57qdXqjRs3lpSUTJ8+/ebNmx0dHWaz+c2bN1lZWZjT1NSELkQi0XcGw2KxfHx8kpKSpFLply9fPn36ZDAYjhw5gkbMzMyk8HU63aZNm9RqdUZGBgBUVFSEhITIZLLnz58jwrNnz8h8vV4vkUiUSmVYWJjdbi8pKcnIyOjs7Fy3bh0APH/+nPhvDo+IiDAajVwuNysrq6WlRafTGQwGqVQaEREBAOfOndNoNN+cIm3dlzS5ubnkj/eXztTq6mo0FdLS0ihNVVVVKO2UlpaS7WimImzatMlkMrlynpCQAACjR48mGz9//qwkoa2tjdyq0WiampqcXcXGxgKAUCjEFjRTWSyWVqslCKKlpQWriAgTJ04EgAMHDhCkmXrq1CnUunPnTgBYsmSJw+EgCCInJwcRNBoNHuLly5cWi4USSUlJCWLiLEstaXx9fX18fChGJpPpRvLBRXFxscPhCAwMPHPmDKVp/vz5AoHg7du3crl8yZIlzn1nzpx59+5df39/V84NBgM4lVX79+8vKirCt3Q63Waz4UWLw+FwOByKk5aWFqSQSqUiCIK8wk2dOpXFYgEAj8dDlsWLF6MLLpf78eNHtE3DwEc6iB8bG4u8cblcZCfzo6KiyH3tdvuHDx/wctDc3IwuqKLevn1769atLt7J70BtbS0A0Gi0lJQU51b0geMsSkFOTo4bRQEgNDQUAD59+kQ2BgQEDB8+HADsdntfXx+aKGSdAKC+vr6wsPDFixcKhQJPMgDo6+vr7e0NDAz8nkej+PSMbDKZHjx48OTJk9evXyuVSvIOGa+Sv/zs90fR2toKACaT6caNG644rioKtI10g8mTJyPnWq0Wn7Hcu3cPXUgkkvXr11O66PX6pKQkiUSCbnk8Xnx8PJfLbWpqevr06cDPM6jIz8/ft2+fXq8HgGHDhs2ePZvL5fJ4vMzMTIJU8nkuqsPhGIQwnRAaGlpXV8fn8+/cueOKM2bMGM+cT5o0CV08evQIrWHuYTKZoqKimpub/f39T5w4sX37dny4mJ2d/ZtF/eeff1JSUgiCiI6OTktLi4uLwxni2rVr5PTjiajI1797LRIolb4zUFahrCtkREZGSiSSDx8+TJ48ecSIER6E5waxsbGBgYE9PT0XL178HlFLS0vRQvX48eN+V/HfiatXrxIEsWrVKolEgupgV/DkRAmV0p2dnShVYmRlZd2/f99937FjxwJARUVFb29vv4Tly5cDgNVqPXTokAexDTj60aNHAUAul586dWpAPlrg/fz8KIpaLJby8vJBD88NHA5HfX09AKxevZqiaE1NDdoAYlBFVavVyv6AN+gAMGvWLABAm/ju7m4AUKlUYrE4NTV1wJyMEqDJZLp06RLSVaFQvHr1ChOWLVu2d+9eAMjLy0tMTCQfrTU1Ne3Zs+f06dPf/Sr6wfHjx1H2Pnv27I4dOyoqKvr6+iwWi1QqPXv2LIWMtrgWi+XKlSvIYrfbX7x4ERkZmZub+zNh/CjodDra5eXl5XV2diJjV1eXWCyOior6+vXr/7BRZTPgT2+jRo3ChZHdbp8yZQqy02g0tIMHgBkzZqDP302dqlarg4KCED8oKAhVC3w+n8wxGo0LFy7E/rlcbnR0NJriqFdPTw+Zj+vUrq4uV+OS0dDQMH36dPxoDAaDXMWRf2TUaDTjx49H9oiICKFQiPbJNBptzZo1yI7LYlSnxsbG4u6IYLVa0e3SpUsBIDk5mSDVqU+fPkWt6NWlp6ej29LSUkRob29HFnzQ4efnN3PmTFwyhYeHo/NqXNl/m6nOtakb0On0oqIiVDMRBNHd3c3hcHbv3l1WVjZnzhxEcNV37Nix9+/fR8d+X79+7erqotPp48aNMxqNmBMUFCSVSnNycsLDwwmCaG1trays7OjoGDlyZHJycn19/bBhw8g+fyh4AJg2bVp1dfXhw4fROmKz2ex2u6+vr0gkunfvHt4MAwCHwykuLkbnDO/fv3/z5o3D4VixYkV5efndu3fR0Hh0dEHOjb6+vgwGAxcn6Nch9Nc5ZnIr+QI7PHny5JkzZ0aMGGGxWGQy2bt377hcbnp6ukKhiIuLI3ehET/xH/rt7e2NjY1sNnvWrFk/VIRZrValUtna2srhcPh8fkhIiCumTqdraGgwm80CgQDln8GFRqNRqVQBAQFCoRC/FGe8f/9eqVQGBweLRCL3m5RfDZPJ1NjY2NXVJRKJcPai4KdE9eLvxN/+e6oXHsAr6hCEV9QhCK+oQxBeUYcgvKIOQfwHa4e6yaaptdcAAAAASUVORK5CYII=\"></div>"
      ],
      "text/plain": [
       "EulerGamma"
      ]
     },
     "execution_count": 11,
     "metadata": {
      "text/html": [],
      "text/plain": []
     },
     "output_type": "execute_result"
    }
   ],
   "source": [
    "(* 特殊常数之间运算会保留符号 *)\n",
    "EulerGamma"
   ]
  },
  {
   "cell_type": "code",
   "execution_count": 13,
   "metadata": {
    "vscode": {
     "languageId": "wolfram"
    }
   },
   "outputs": [
    {
     "data": {
      "text/html": [
       "<div><pre style=\"&#102;&#111;&#110;&#116;&#45;&#102;&#97;&#109;&#105;&#108;&#121;&#58;&#32;&#34;&#67;&#111;&#117;&#114;&#105;&#101;&#114;&#32;&#78;&#101;&#119;&#34;&#44;&#67;&#111;&#117;&#114;&#105;&#101;&#114;&#44;&#109;&#111;&#110;&#111;&#115;&#112;&#97;&#99;&#101;&#59;\">&#48;&#46;&#53;&#55;&#55;&#50;&#49;&#53;&#54;&#54;&#52;&#57;&#48;&#49;&#53;&#51;&#50;&#56;&#54;&#48;&#54;&#48;&#54;&#53;&#49;&#50;&#48;&#57;&#48;&#48;&#56;&#50;&#52;&#48;&#50;&#52;&#51;&#49;&#48;&#52;&#50;&#49;&#53;&#57;&#51;&#51;&#53;&#57;&#51;&#57;&#57;&#50;</pre></div>"
      ],
      "text/plain": [
       "0.57721566490153286060651209008240243104215933593992"
      ]
     },
     "execution_count": 13,
     "metadata": {
      "text/html": [],
      "text/plain": []
     },
     "output_type": "execute_result"
    }
   ],
   "source": [
    "(* 数值计算, 50 位精度 *)\n",
    "N[EulerGamma, 50]   (* N 函数, 任意计算数字精度 *)"
   ]
  },
  {
   "cell_type": "code",
   "execution_count": 15,
   "metadata": {
    "vscode": {
     "languageId": "wolfram"
    }
   },
   "outputs": [
    {
     "data": {
      "text/html": [
       "<div><img alt=\"Output\" src=\"data:image/png;base64,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\"></div>"
      ],
      "text/plain": [
       " 3      2          2    3\n",
       "a  + 3 a  b + 3 a b  + b"
      ]
     },
     "execution_count": 15,
     "metadata": {
      "text/html": [],
      "text/plain": []
     },
     "output_type": "execute_result"
    }
   ],
   "source": [
    "(* 表达式展开函数 *)\n",
    "Expand[(a+b)^3]"
   ]
  },
  {
   "cell_type": "code",
   "execution_count": 17,
   "metadata": {
    "vscode": {
     "languageId": "wolfram"
    }
   },
   "outputs": [
    {
     "data": {
      "text/html": [
       "<div><img alt=\"Output\" src=\"data:image/png;base64,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\"></div>"
      ],
      "text/plain": [
       " 3            3    3\n",
       "x  - 3 xyz + y  + z"
      ]
     },
     "execution_count": 17,
     "metadata": {
      "text/html": [],
      "text/plain": []
     },
     "output_type": "execute_result"
    }
   ],
   "source": [
    "(* 因式分解函数 *)\n",
    "Factor[x^3+y^3+z^3-3xyz]    (* 这里没要求 xyz 中间写乘号 *)"
   ]
  },
  {
   "cell_type": "code",
   "execution_count": 19,
   "metadata": {
    "vscode": {
     "languageId": "wolfram"
    }
   },
   "outputs": [
    {
     "data": {
      "text/html": [
       "<div><img alt=\"Output\" src=\"data:image/png;base64,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\"></div>"
      ],
      "text/plain": [
       "                          3                                   3\n",
       "{{x -> Root[-2 - 2 #1 + #1  & , 1]}, {x -> Root[-2 - 2 #1 + #1  & , 2]}, \n",
       " \n",
       "                             3\n",
       ">   {x -> Root[-2 - 2 #1 + #1  & , 3]}}"
      ]
     },
     "execution_count": 19,
     "metadata": {
      "text/html": [],
      "text/plain": []
     },
     "output_type": "execute_result"
    }
   ],
   "source": [
    "(* 解方程, 注意使用 == 符号 *)\n",
    "Solve[x^3 - 2x - 2 == 0, x]"
   ]
  },
  {
   "cell_type": "code",
   "execution_count": 27,
   "metadata": {
    "vscode": {
     "languageId": "wolfram"
    }
   },
   "outputs": [
    {
     "data": {
      "text/html": [
       "<div><pre style=\"&#102;&#111;&#110;&#116;&#45;&#102;&#97;&#109;&#105;&#108;&#121;&#58;&#32;&#34;&#67;&#111;&#117;&#114;&#105;&#101;&#114;&#32;&#78;&#101;&#119;&#34;&#44;&#67;&#111;&#117;&#114;&#105;&#101;&#114;&#44;&#109;&#111;&#110;&#111;&#115;&#112;&#97;&#99;&#101;&#59;\">&#50;</pre></div>"
      ],
      "text/plain": [
       "2"
      ]
     },
     "execution_count": 27,
     "metadata": {
      "text/html": [],
      "text/plain": []
     },
     "output_type": "execute_result"
    }
   ],
   "source": [
    "(* 求极限 *)\n",
    "Limit[(Tan[x] - x) / (x - Sin[x]), x->0]"
   ]
  },
  {
   "cell_type": "code",
   "execution_count": 29,
   "metadata": {
    "vscode": {
     "languageId": "wolfram"
    }
   },
   "outputs": [
    {
     "data": {
      "text/html": [
       "<div><img alt=\"Output\" src=\"data:image/png;base64,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\"></div>"
      ],
      "text/plain": [
       " x\n",
       "x  (1 + Log[x])"
      ]
     },
     "execution_count": 29,
     "metadata": {
      "text/html": [],
      "text/plain": []
     },
     "output_type": "execute_result"
    }
   ],
   "source": [
    "(* 求导数 *)\n",
    "D[x^x, x]"
   ]
  },
  {
   "cell_type": "code",
   "execution_count": null,
   "metadata": {
    "vscode": {
     "languageId": "wolfram"
    }
   },
   "outputs": [],
   "source": []
  }
 ],
 "metadata": {
  "kernelspec": {
   "display_name": "Wolfram Language 14",
   "language": "Wolfram Language",
   "name": "wolframlanguage14"
  },
  "language_info": {
   "codemirror_mode": "mathematica",
   "file_extension": ".m",
   "mimetype": "application/vnd.wolfram.m",
   "name": "Wolfram Language",
   "pygments_lexer": "mathematica",
   "version": "12.0"
  }
 },
 "nbformat": 4,
 "nbformat_minor": 2
}
