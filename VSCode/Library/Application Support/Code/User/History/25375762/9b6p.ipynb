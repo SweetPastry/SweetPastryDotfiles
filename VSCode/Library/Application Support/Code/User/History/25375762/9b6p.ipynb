{
 "cells": [
  {
   "cell_type": "code",
   "execution_count": 1,
   "metadata": {},
   "outputs": [
    {
     "name": "stderr",
     "output_type": "stream",
     "text": [
      "\u001b[0;31mError: Function definitions are not supported in this context. Functions can only be created as local or nested functions in code files.\n",
      "\n",
      "\u001b[0m"
     ]
    }
   ],
   "source": [
    "% MATLAB 默认是传值调用, 程序内部对形参的修改不会返回主程序\n",
    "function func_demo(a)\n",
    "    a = a+1;\n",
    "    % 顺带一提, 在 MATLAB 中 a += 1 这种写法是不支持的, 也就是不支持增量赋值\n",
    "end\n",
    "\n",
    "a = 1;\n",
    "func_demo(a);\n",
    "a"
   ]
  }
 ],
 "metadata": {
  "kernelspec": {
   "display_name": "Matlab (Connection)",
   "language": "matlab",
   "name": "matlab_connect"
  },
  "language_info": {
   "codemirror_mode": "octave",
   "file_extension": ".m",
   "help_links": [
    {
     "text": "MetaKernel Magics",
     "url": "https://metakernel.readthedocs.io/en/latest/source/README.html"
    }
   ],
   "mimetype": "text/x-octave",
   "name": "matlab",
   "version": "0.17.1"
  }
 },
 "nbformat": 4,
 "nbformat_minor": 2
}
