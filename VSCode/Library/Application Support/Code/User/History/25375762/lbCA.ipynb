{
 "cells": [
  {
   "cell_type": "code",
   "execution_count": null,
   "metadata": {},
   "outputs": [],
   "source": [
    "% MATLAB 默认是传值调用, 程序内部对形参的修改不会返回主程序\n",
    "function func_demo(a)\n",
    "    a = a+1;\n",
    "    % 顺带一提, 在 MATLAB 中 a += 1 这种写法是不支持的"
   ]
  }
 ],
 "metadata": {
  "kernelspec": {
   "display_name": "Matlab (Connection)",
   "language": "matlab",
   "name": "matlab_connect"
  },
  "language_info": {
   "name": "matlab"
  }
 },
 "nbformat": 4,
 "nbformat_minor": 2
}
