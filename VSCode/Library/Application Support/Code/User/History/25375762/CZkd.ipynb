{
 "cells": [
  {
   "cell_type": "code",
   "execution_count": null,
   "metadata": {},
   "outputs": [],
   "source": [
    "% MATLAB 默认是传值调用, 程序内部对形参的修改不会返回主程序\n",
    "function func_demo(a)\n",
    "    a = a+1;\n",
    "    % 顺带一提, 在 MATLAB 中 a += 1 这种写法是不支持的, 也就是不支持赋值运算符"
   ]
  }
 ],
 "metadata": {
  "kernelspec": {
   "display_name": "Matlab (Connection)",
   "language": "matlab",
   "name": "matlab_connect"
  },
  "language_info": {
   "name": "matlab"
  }
 },
 "nbformat": 4,
 "nbformat_minor": 2
}
