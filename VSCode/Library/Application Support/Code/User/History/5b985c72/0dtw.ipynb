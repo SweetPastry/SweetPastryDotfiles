{
 "cells": [
  {
   "cell_type": "code",
   "execution_count": 28,
   "metadata": {
    "vscode": {
     "languageId": "r"
    }
   },
   "outputs": [],
   "source": [
    "a <- 1\n",
    "b = 2   # R 推荐把 = 留给函数传参\n",
    "3 -> c"
   ]
  },
  {
   "cell_type": "code",
   "execution_count": 29,
   "metadata": {
    "vscode": {
     "languageId": "r"
    }
   },
   "outputs": [
    {
     "data": {
      "text/html": [
       "<style>\n",
       ".list-inline {list-style: none; margin:0; padding: 0}\n",
       ".list-inline>li {display: inline-block}\n",
       ".list-inline>li:not(:last-child)::after {content: \"\\00b7\"; padding: 0 .5ex}\n",
       "</style>\n",
       "<ol class=list-inline><li>'a'</li><li>'b'</li><li>'c'</li><li>'var_list'</li></ol>\n"
      ],
      "text/latex": [
       "\\begin{enumerate*}\n",
       "\\item 'a'\n",
       "\\item 'b'\n",
       "\\item 'c'\n",
       "\\item 'var\\_list'\n",
       "\\end{enumerate*}\n"
      ],
      "text/markdown": [
       "1. 'a'\n",
       "2. 'b'\n",
       "3. 'c'\n",
       "4. 'var_list'\n",
       "\n",
       "\n"
      ],
      "text/plain": [
       "[1] \"a\"        \"b\"        \"c\"        \"var_list\""
      ]
     },
     "metadata": {},
     "output_type": "display_data"
    }
   ],
   "source": [
    "ls()"
   ]
  },
  {
   "cell_type": "code",
   "execution_count": 30,
   "metadata": {
    "vscode": {
     "languageId": "r"
    }
   },
   "outputs": [
    {
     "name": "stdout",
     "output_type": "stream",
     "text": [
      "[1] 3\n"
     ]
    }
   ],
   "source": [
    "print(a+b)"
   ]
  },
  {
   "cell_type": "code",
   "execution_count": 31,
   "metadata": {
    "vscode": {
     "languageId": "r"
    }
   },
   "outputs": [],
   "source": [
    "rm(b)"
   ]
  },
  {
   "cell_type": "code",
   "execution_count": 32,
   "metadata": {
    "vscode": {
     "languageId": "r"
    }
   },
   "outputs": [
    {
     "data": {
      "text/html": [
       "<style>\n",
       ".list-inline {list-style: none; margin:0; padding: 0}\n",
       ".list-inline>li {display: inline-block}\n",
       ".list-inline>li:not(:last-child)::after {content: \"\\00b7\"; padding: 0 .5ex}\n",
       "</style>\n",
       "<ol class=list-inline><li>'a'</li><li>'c'</li><li>'var_list'</li></ol>\n"
      ],
      "text/latex": [
       "\\begin{enumerate*}\n",
       "\\item 'a'\n",
       "\\item 'c'\n",
       "\\item 'var\\_list'\n",
       "\\end{enumerate*}\n"
      ],
      "text/markdown": [
       "1. 'a'\n",
       "2. 'c'\n",
       "3. 'var_list'\n",
       "\n",
       "\n"
      ],
      "text/plain": [
       "[1] \"a\"        \"c\"        \"var_list\""
      ]
     },
     "metadata": {},
     "output_type": "display_data"
    }
   ],
   "source": [
    "ls()"
   ]
  },
  {
   "cell_type": "code",
   "execution_count": null,
   "metadata": {
    "vscode": {
     "languageId": "r"
    }
   },
   "outputs": [
    {
     "data": {
      "text/html": [],
      "text/latex": [],
      "text/markdown": [],
      "text/plain": [
       "character(0)"
      ]
     },
     "metadata": {},
     "output_type": "display_data"
    }
   ],
   "source": [
    "rm(list=ls())   # list 是 rm() 签名的形参数\n",
    "ls()"
   ]
  },
  {
   "cell_type": "code",
   "execution_count": 42,
   "metadata": {
    "vscode": {
     "languageId": "r"
    }
   },
   "outputs": [
    {
     "name": "stdout",
     "output_type": "stream",
     "text": [
      "remove                  package:base                   R Documentation\n",
      "\n",
      "_\bR_\be_\bm_\bo_\bv_\be _\bO_\bb_\bj_\be_\bc_\bt_\bs _\bf_\br_\bo_\bm _\ba _\bS_\bp_\be_\bc_\bi_\bf_\bi_\be_\bd _\bE_\bn_\bv_\bi_\br_\bo_\bn_\bm_\be_\bn_\bt\n",
      "\n",
      "_\bD_\be_\bs_\bc_\br_\bi_\bp_\bt_\bi_\bo_\bn:\n",
      "\n",
      "     'remove' and 'rm' are identical R functions that can be used to\n",
      "     remove objects.  These can be specified successively as character\n",
      "     strings, or in the character vector 'list', or through a\n",
      "     combination of both.  All objects thus specified will be removed.\n",
      "\n",
      "     If 'envir' is NULL then the currently active environment is\n",
      "     searched first.\n",
      "\n",
      "     If 'inherits' is 'TRUE' then parents of the supplied directory are\n",
      "     searched until a variable with the given name is encountered.  A\n",
      "     warning is printed for each variable that is not found.\n",
      "\n",
      "_\bU_\bs_\ba_\bg_\be:\n",
      "\n",
      "     remove(..., list = character(), pos = -1,\n",
      "            envir = as.environment(pos), inherits = FALSE)\n",
      "     \n",
      "     rm    (..., list = character(), pos = -1,\n",
      "            envir = as.environment(pos), inherits = FALSE)\n",
      "     \n",
      "_\bA_\br_\bg_\bu_\bm_\be_\bn_\bt_\bs:\n",
      "\n",
      "     ...: the objects to be removed, as names (unquoted) or character\n",
      "          strings (quoted).\n",
      "\n",
      "    list: a character vector (or 'NULL') naming objects to be removed.\n",
      "\n",
      "     pos: where to do the removal.  By default, uses the current\n",
      "          environment.  See 'details' for other possibilities.\n",
      "\n",
      "   envir: the 'environment' to use.  See 'details'.\n",
      "\n",
      "inherits: should the enclosing frames of the environment be inspected?\n",
      "\n",
      "_\bD_\be_\bt_\ba_\bi_\bl_\bs:\n",
      "\n",
      "     The 'pos' argument can specify the environment from which to\n",
      "     remove the objects in any of several ways: as an integer (the\n",
      "     position in the 'search' list); as the character string name of an\n",
      "     element in the search list; or as an 'environment' (including\n",
      "     using 'sys.frame' to access the currently active function calls).\n",
      "     The 'envir' argument is an alternative way to specify an\n",
      "     environment, but is primarily there for back compatibility.\n",
      "\n",
      "     It is not allowed to remove variables from the base environment\n",
      "     and base namespace, nor from any environment which is locked (see\n",
      "     'lockEnvironment').\n",
      "\n",
      "     Earlier versions of R incorrectly claimed that supplying a\n",
      "     character vector in '...' removed the objects named in the\n",
      "     character vector, but it removed the character vector.  Use the\n",
      "     'list' argument to specify objects _via_ a character vector.\n",
      "\n",
      "_\bR_\be_\bf_\be_\br_\be_\bn_\bc_\be_\bs:\n",
      "\n",
      "     Becker, R. A., Chambers, J. M. and Wilks, A. R. (1988) _The New S\n",
      "     Language_.  Wadsworth & Brooks/Cole.\n",
      "\n",
      "_\bS_\be_\be _\bA_\bl_\bs_\bo:\n",
      "\n",
      "     'ls', 'objects'\n",
      "\n",
      "_\bE_\bx_\ba_\bm_\bp_\bl_\be_\bs:\n",
      "\n",
      "     tmp <- 1:4\n",
      "     ## work with tmp  and cleanup\n",
      "     rm(tmp)\n",
      "     \n",
      "     ## Not run:\n",
      "     \n",
      "     ## remove (almost) everything in the working environment.\n",
      "     ## You will get no warning, so don't do this unless you are really sure.\n",
      "     rm(list = ls())\n",
      "     ## End(Not run)\n",
      "     "
     ]
    }
   ],
   "source": [
    "help(rm)"
   ]
  }
 ],
 "metadata": {
  "kernelspec": {
   "display_name": "R",
   "language": "R",
   "name": "ir"
  },
  "language_info": {
   "codemirror_mode": "r",
   "file_extension": ".r",
   "mimetype": "text/x-r-source",
   "name": "R",
   "pygments_lexer": "r",
   "version": "4.4.1"
  }
 },
 "nbformat": 4,
 "nbformat_minor": 2
}
