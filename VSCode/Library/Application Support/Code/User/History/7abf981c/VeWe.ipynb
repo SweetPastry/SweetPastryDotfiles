{
 "cells": [
  {
   "cell_type": "code",
   "execution_count": 1,
   "id": "f6c85fe7",
   "metadata": {
    "vscode": {
     "languageId": "java"
    }
   },
   "outputs": [],
   "source": [
    "// 像这样写一段完整的代码在单元格内是无法运行的\n",
    "public class Hello_World {\n",
    "    public static void main(String[] args) {\n",
    "        System.out.println(\"Hello World\");\n",
    "    }\n",
    "}"
   ]
  },
  {
   "cell_type": "code",
   "execution_count": 3,
   "id": "7b44c468",
   "metadata": {
    "vscode": {
     "languageId": "java"
    }
   },
   "outputs": [
    {
     "name": "stdout",
     "output_type": "stream",
     "text": [
      "Hello\n"
     ]
    }
   ],
   "source": [
    "// 像这样把 Java 当作解释型语句来写可以运行\n",
    "System.out.println(\"Hello\");"
   ]
  },
  {
   "cell_type": "code",
   "execution_count": 10,
   "id": "c75e3af9",
   "metadata": {
    "vscode": {
     "languageId": "java"
    }
   },
   "outputs": [
    {
     "name": "stdout",
     "output_type": "stream",
     "text": [
      "123\n"
     ]
    }
   ],
   "source": [
    "// 像这样写，会在顶端搜索框要求输入\n",
    "// import java.util.Scanner; 可以省略不写，真方便\n",
    "Scanner sc = new Scanner(System.in);\n",
    "int x_input = sc.nextInt();\n",
    "System.out.println(x_input);"
   ]
  }
 ],
 "metadata": {
  "kernelspec": {
   "display_name": "Java",
   "language": "java",
   "name": "java"
  },
  "language_info": {
   "codemirror_mode": "java",
   "file_extension": ".jshell",
   "mimetype": "text/x-java-source",
   "name": "Java",
   "pygments_lexer": "java",
   "version": "22.0.1+8"
  }
 },
 "nbformat": 4,
 "nbformat_minor": 5
}
