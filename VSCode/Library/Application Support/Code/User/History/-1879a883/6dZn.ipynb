{
 "cells": [
  {
   "cell_type": "code",
   "execution_count": null,
   "metadata": {},
   "outputs": [],
   "source": [
    "import numpy as np\n",
    "import matplotlib.pyplot as plt\n",
    "from scipy import stats"
   ]
  },
  {
   "cell_type": "code",
   "execution_count": null,
   "metadata": {},
   "outputs": [],
   "source": [
    "def plot_linear_fit(x, y, xName, yName, xUnit, yUnit):   \n",
    "    slope, intercept, r_value, p_value, std_err = stats.linregress(x, y)\n",
    "    y_fit = slope * x + intercept\n",
    "    r_squared = r_value ** 2\n",
    "\n",
    "    plt.figure(figsize=(12, 5))\n",
    "\n",
    "    plt.subplot(1, 2, 1)\n",
    "    plt.plot(x, y,'--x',label='Original Data', linewidth=1)\n",
    "    plt.plot(x, y_fit, color='red', label='Fitting Line')\n",
    "    plt.xlabel(f'${xName}$/$\\\\mathrm{{{xUnit}}}$')\n",
    "    plt.ylabel(f'${yName}$/$\\\\mathrm{{{yUnit}}}$')\n",
    "    plt.title('Linear Fitting')\n",
    "    plt.legend()\n",
    "\n",
    "\n",
    "    equation = f'y = {slope:.3f}x + {intercept:.3f}'\n",
    "    # truncated_rSquare = float(str(r_squared)[:str(r_squared).find('.') + 2 + next((i for i, c in enumerate(str(r_squared).split('.')[1]) if c != '9'), len(str(r_squared).split('.')[1]))])\n",
    "    truncated_rSquare_text = f\"$R^2$ = \" + str(float(str(r_squared)[:str(r_squared).find('.') + 2 + next((i for i, c in enumerate(str(r_squared).split('.')[1]) if c != '9'), len(str(r_squared).split('.')[1]))]))\n",
    "    print(r_squared)\n",
    "    \n",
    "    props = dict(boxstyle='round', facecolor='white', alpha=0.5, edgecolor='black')\n",
    "    plt.text(0.05, 0.95, \n",
    "             equation + '\\n' + truncated_rSquare_text,\n",
    "             transform=plt.gca().transAxes,\n",
    "             fontsize=12, \n",
    "             verticalalignment='top',  \n",
    "             bbox=props\n",
    "    )\n",
    "\n",
    "    residuals = y - y_fit\n",
    "    plt.subplot(1, 2, 2)\n",
    "    plt.scatter(x, residuals, marker='x')\n",
    "    plt.axhline(0, color='red', linestyle='--')\n",
    "    plt.xlabel(f'${xName}$/{xUnit}')\n",
    "    plt.ylabel(f'Residual/$\\\\mathrm{{{yUnit}}}$')\n",
    "    plt.title('Residual Distribution')\n",
    "\n",
    "    plt.tight_layout()\n",
    "    plt.show()"
   ]
  }
 ],
 "metadata": {
  "kernelspec": {
   "display_name": "MyEnv",
   "language": "python",
   "name": "python3"
  },
  "language_info": {
   "name": "python",
   "version": "3.12.2"
  }
 },
 "nbformat": 4,
 "nbformat_minor": 2
}
