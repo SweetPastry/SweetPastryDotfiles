{
 "cells": [
  {
   "cell_type": "code",
   "execution_count": 2,
   "metadata": {},
   "outputs": [
    {
     "name": "stdout",
     "output_type": "stream",
     "text": [
      "\n",
      "ans =\n",
      "\n",
      "     3\n",
      "\n",
      "\n",
      "ans =\n",
      "\n",
      "     3\n",
      "\n"
     ]
    }
   ],
   "source": [
    "% MATLAB 中 length(某个二维矩阵) 返回的是矩阵行数和列数的最大值\n",
    "\n",
    "A = [\n",
    "    1, 2;\n",
    "    3, 4;\n",
    "    5, 6;\n",
    "];\n",
    "\n",
    "B = [\n",
    "    1, 2, 3;\n",
    "    4, 5, 6;\n",
    "];\n",
    "\n",
    "length(A)\n",
    "length(B)"
   ]
  }
 ],
 "metadata": {
  "kernelspec": {
   "display_name": "Matlab (Connection)",
   "language": "matlab",
   "name": "matlab_connect"
  },
  "language_info": {
   "codemirror_mode": "octave",
   "file_extension": ".m",
   "help_links": [
    {
     "text": "MetaKernel Magics",
     "url": "https://metakernel.readthedocs.io/en/latest/source/README.html"
    }
   ],
   "mimetype": "text/x-octave",
   "name": "matlab",
   "version": "0.17.1"
  }
 },
 "nbformat": 4,
 "nbformat_minor": 2
}
