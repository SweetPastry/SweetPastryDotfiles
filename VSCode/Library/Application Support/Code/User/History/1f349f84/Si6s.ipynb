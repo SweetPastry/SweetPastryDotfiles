{
 "cells": [
  {
   "cell_type": "code",
   "execution_count": 21,
   "metadata": {},
   "outputs": [
    {
     "name": "stdout",
     "output_type": "stream",
     "text": [
      "\n",
      "ans =\n",
      "\n",
      "  Columns 1 through 3\n",
      "\n",
      "         0.971661004605254         0.650437446840704         0.732623206044981\n",
      "\n",
      "  Columns 4 through 6\n",
      "\n",
      "         0.952787994907081         0.948761595846777         0.968592273345789\n",
      "\n",
      "  Columns 7 through 9\n",
      "\n",
      "         0.627545866209504         0.916786771186866          0.84824755737919\n",
      "\n",
      "  Column 10\n",
      "\n",
      "          0.95963731808866\n",
      "\n"
     ]
    }
   ],
   "source": [
    "clear\n",
    "X = rand(3,100);\n",
    "X = X./repmat(sqrt(sum(X.*X)),size(X,1),1);\n",
    "\n",
    "Y = rand(3,1000);\n",
    "Y = Y./repmat(sqrt(sum(Y.*Y)),size(Y,1),1);\n",
    "\n",
    "A = X'*Y;\n",
    "B = X'*X;\n",
    "\n",
    "I = randi([1,100],1,10);\n",
    "J = randi([1,1000],1,10);\n",
    "index = sub2ind([100,1000],I,J);\n",
    "C = A(index);\n",
    "\n",
    "\n",
    "% index\n",
    "A(index)\n",
    "\n",
    "\n",
    "\n",
    "\n",
    "A(index) = nan;"
   ]
  },
  {
   "cell_type": "code",
   "execution_count": 22,
   "metadata": {},
   "outputs": [],
   "source": [
    "% for idx = 1:length(index)\n",
    "%     [row, col] = ind2sub([100, 1000], index(idx));\n",
    "    \n",
    "% end"
   ]
  },
  {
   "cell_type": "code",
   "execution_count": 23,
   "metadata": {},
   "outputs": [
    {
     "name": "stdout",
     "output_type": "stream",
     "text": [
      "\n",
      "ans =\n",
      "\n",
      "  Columns 1 through 3\n",
      "\n",
      "          0.87524244792805         0.701222229031151         0.878715146558807\n",
      "\n",
      "  Columns 4 through 6\n",
      "\n",
      "         0.896059157355135         0.881638725073583         0.733547372351886\n",
      "\n",
      "  Columns 7 through 9\n",
      "\n",
      "         0.736924215506966         0.784647792639505         0.838089104228409\n",
      "\n",
      "  Column 10\n",
      "\n",
      "         0.875834112960986\n",
      "\n"
     ]
    }
   ],
   "source": [
    "[num_users, num_items] = size(A);\n",
    "A_est = A;\n",
    "\n",
    "for idx = 1:length(index)\n",
    "    i = I(idx);\n",
    "    j = J(idx);\n",
    "\n",
    "    known_users = find(~isnan(A(:, j)));\n",
    "    known_users(known_users == i) = [];\n",
    "    \n",
    "    if isempty(known_users)\n",
    "        A_est(i,j) = nanmean(A(:));\n",
    "        continue;\n",
    "    end\n",
    "    \n",
    "    sim_vec = B(i, known_users);\n",
    "    rating_vec = A(known_users, j)';\n",
    "\n",
    "    weight_sum = sum(sim_vec);\n",
    "    if weight_sum == 0\n",
    "        A_est(i,j) = nanmean(A(:));\n",
    "    else\n",
    "        A_est(i,j) = sum(sim_vec .* rating_vec) / weight_sum;\n",
    "    end\n",
    "end\n",
    "A_est(index)"
   ]
  }
 ],
 "metadata": {
  "kernelspec": {
   "display_name": "Matlab (Connection)",
   "language": "matlab",
   "name": "matlab_connect"
  },
  "language_info": {
   "codemirror_mode": "octave",
   "file_extension": ".m",
   "help_links": [
    {
     "text": "MetaKernel Magics",
     "url": "https://metakernel.readthedocs.io/en/latest/source/README.html"
    }
   ],
   "mimetype": "text/x-octave",
   "name": "matlab",
   "version": "0.17.1"
  }
 },
 "nbformat": 4,
 "nbformat_minor": 2
}
