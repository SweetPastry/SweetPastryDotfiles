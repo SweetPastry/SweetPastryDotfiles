{
 "cells": [
  {
   "cell_type": "code",
   "execution_count": 2,
   "metadata": {},
   "outputs": [],
   "source": [
    "clear\n",
    "\n",
    "X=rand(3,100);\n",
    "\n",
    "X=X./repmat(sqrt(sum(X.*X)),size(X,1),1);\n",
    "\n",
    "Y=rand(3,1000);\n",
    "\n",
    "Y=Y./repmat(sqrt(sum(Y.*Y)),size(Y,1),1);\n",
    "\n",
    "A=X'*Y;\n",
    "\n",
    "B=X'*X;\n",
    "\n",
    "I=randi([1,100],1,10);\n",
    "\n",
    "J=randi([1,1000],1,10);\n",
    "\n",
    "index=sub2ind([100,1000],I,J);\n",
    "\n",
    "C=A(index);\n",
    "\n",
    "A(index)=nan;"
   ]
  },
  {
   "cell_type": "code",
   "execution_count": 6,
   "metadata": {},
   "outputs": [],
   "source": [
    "% for idx = 1:length(index)\n",
    "%     [row, col] = ind2sub([100, 1000], index(idx));\n",
    "    \n",
    "% end"
   ]
  },
  {
   "cell_type": "code",
   "execution_count": 7,
   "metadata": {},
   "outputs": [
    {
     "name": "stderr",
     "output_type": "stream",
     "text": [
      "\u001b[0;31mUnable to perform assignment because the size of the left side is 1-by-1 and the size of the right side is 1-by-99.\n",
      "\n",
      "\u001b[0m"
     ]
    }
   ],
   "source": [
    "[num_users, num_items] = size(A);\n",
    "A_est = A;\n",
    "\n",
    "for idx = 1:length(index)\n",
    "    i = I(idx);\n",
    "    j = J(idx);\n",
    "    \n",
    "    known_users = find(~isnan(A(:, j)));\n",
    "    known_users(known_users == i) = [];\n",
    "    \n",
    "    if isempty(known_users)\n",
    "        % 若没有任何用户对该商品有评分，则用全局平均值或0填充\n",
    "        A_est(i,j) = nanmean(A(:));\n",
    "        continue;\n",
    "    end\n",
    "    \n",
    "    % 从B中取出用户i与已知用户的相似度\n",
    "    sim_vec = B(i, known_users);\n",
    "    \n",
    "    % 已知评分\n",
    "    rating_vec = A(known_users, j);\n",
    "    \n",
    "    % 对评分进行加权平均\n",
    "    weight_sum = sum(sim_vec);\n",
    "    if weight_sum == 0\n",
    "        % 若相似度总和为0，则用全局平均值（或其他策略）填充\n",
    "        A_est(i,j) = nanmean(A(:));\n",
    "    else\n",
    "        A_est(i,j) = sum(sim_vec .* rating_vec) / weight_sum;\n",
    "    end\n",
    "end\n",
    "\n",
    "% 此时，A_est中已填充了先前的缺失值\n",
    "% 可以检查填充精度（比如MSE）：\n",
    "diff = A_est(index) - C;\n",
    "mse = mean(diff.^2);\n",
    "fprintf('填充缺失值后的MSE: %.4f\\n', mse);"
   ]
  }
 ],
 "metadata": {
  "kernelspec": {
   "display_name": "Matlab (Connection)",
   "language": "matlab",
   "name": "matlab_connect"
  },
  "language_info": {
   "codemirror_mode": "octave",
   "file_extension": ".m",
   "help_links": [
    {
     "text": "MetaKernel Magics",
     "url": "https://metakernel.readthedocs.io/en/latest/source/README.html"
    }
   ],
   "mimetype": "text/x-octave",
   "name": "matlab",
   "version": "0.17.1"
  }
 },
 "nbformat": 4,
 "nbformat_minor": 2
}
