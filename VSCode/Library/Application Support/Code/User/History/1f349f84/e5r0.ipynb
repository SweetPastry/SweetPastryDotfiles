{
 "cells": [
  {
   "cell_type": "code",
   "execution_count": 1,
   "metadata": {},
   "outputs": [],
   "source": [
    "clear\n",
    "\n",
    "X=rand(3,100);\n",
    "\n",
    "X=X./repmat(sqrt(sum(X.*X)),size(X,1),1);\n",
    "\n",
    "Y=rand(3,1000);\n",
    "\n",
    "Y=Y./repmat(sqrt(sum(Y.*Y)),size(Y,1),1);\n",
    "\n",
    "A=X'*Y;\n",
    "\n",
    "B=X'*X;\n",
    "\n",
    "I=randi([1,100],1,10);\n",
    "\n",
    "J=randi([1,1000],1,10);\n",
    "\n",
    "index=sub2ind([100,1000],I,J);\n",
    "\n",
    "C=A(index);\n",
    "\n",
    "A(index)=nan;"
   ]
  },
  {
   "cell_type": "code",
   "execution_count": null,
   "metadata": {},
   "outputs": [],
   "source": [
    "A_filled = A;\n",
    "nan_pos = isnan(A);\n",
    "A_filled(nan_pos) = 0;\n",
    "\n",
    "% 参数设置\n",
    "max_iter = 100; % 最大迭代次数\n",
    "tolerance = 1e-5; % 收敛阈值\n",
    "\n",
    "% 迭代估算缺失值\n",
    "for iter = 1:max_iter\n",
    "    A_prev = A_filled; % 保存上一轮的估算结果\n",
    "    \n",
    "    % 遍历缺失值\n",
    "    for i = 1:100\n",
    "        for j = 1:1000\n",
    "            if nan_mask(i, j) % 如果是缺失值\n",
    "                % 使用加权平均估算\n",
    "                weights = B(i, :); % 用户i与其他用户的相似度\n",
    "                weights(i) = 0; % 排除自身相似度\n",
    "                valid = ~nan_mask(:, j); % 有效评分位置\n",
    "                A_filled(i, j) = sum(weights(valid) .* A_filled(valid, j)) / sum(weights(valid) + eps);\n",
    "            end\n",
    "        end\n",
    "    end\n",
    "    \n",
    "    % 检查收敛\n",
    "    if max(abs(A_filled(:) - A_prev(:))) < tolerance\n",
    "        disp(['Converged in ', num2str(iter), ' iterations.']);\n",
    "        break;\n",
    "    end\n",
    "end\n",
    "\n",
    "% 输出结果\n",
    "disp('原始缺失值：');\n",
    "disp(C);\n",
    "\n",
    "disp('估算值：');\n",
    "disp(A_filled(index));"
   ]
  }
 ],
 "metadata": {
  "kernelspec": {
   "display_name": "Matlab (Connection)",
   "language": "matlab",
   "name": "matlab_connect"
  },
  "language_info": {
   "codemirror_mode": "octave",
   "file_extension": ".m",
   "help_links": [
    {
     "text": "MetaKernel Magics",
     "url": "https://metakernel.readthedocs.io/en/latest/source/README.html"
    }
   ],
   "mimetype": "text/x-octave",
   "name": "matlab",
   "version": "0.17.1"
  }
 },
 "nbformat": 4,
 "nbformat_minor": 2
}
