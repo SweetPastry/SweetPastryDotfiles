{
 "cells": [
  {
   "cell_type": "code",
   "execution_count": 15,
   "metadata": {},
   "outputs": [
    {
     "name": "stdout",
     "output_type": "stream",
     "text": [
      "\n",
      "index =\n",
      "\n",
      "  Columns 1 through 6\n",
      "\n",
      "       21674       48109       93317       60786       35590       97090\n",
      "\n",
      "  Columns 7 through 10\n",
      "\n",
      "       30128       22662       46782       69976\n",
      "\n",
      "\n",
      "ans =\n",
      "\n",
      "  Columns 1 through 3\n",
      "\n",
      "         0.835012875714128         0.945535042725946         0.540764986769017\n",
      "\n",
      "  Columns 4 through 6\n",
      "\n",
      "          0.75189133674847         0.874640166181171          0.77524021446797\n",
      "\n",
      "  Columns 7 through 9\n",
      "\n",
      "         0.622772649170517          0.74520199687215         0.751111090044072\n",
      "\n",
      "  Column 10\n",
      "\n",
      "         0.630360559498069\n",
      "\n"
     ]
    }
   ],
   "source": [
    "clear\n",
    "X = rand(3,100);\n",
    "X = X./repmat(sqrt(sum(X.*X)),size(X,1),1);\n",
    "\n",
    "Y = rand(3,1000);\n",
    "Y = Y./repmat(sqrt(sum(Y.*Y)),size(Y,1),1);\n",
    "\n",
    "A = X'*Y;\n",
    "B = X'*X;\n",
    "\n",
    "I = randi([1,100],1,10);\n",
    "J = randi([1,1000],1,10);\n",
    "index = sub2ind([100,1000],I,J);\n",
    "C = A(index);\n",
    "\n",
    "\n",
    "index\n",
    "A(index)\n",
    "\n",
    "\n",
    "\n",
    "\n",
    "A(index) = nan;"
   ]
  },
  {
   "cell_type": "code",
   "execution_count": 16,
   "metadata": {},
   "outputs": [],
   "source": [
    "% for idx = 1:length(index)\n",
    "%     [row, col] = ind2sub([100, 1000], index(idx));\n",
    "    \n",
    "% end"
   ]
  },
  {
   "cell_type": "code",
   "execution_count": 17,
   "metadata": {},
   "outputs": [
    {
     "name": "stdout",
     "output_type": "stream",
     "text": [
      "\n",
      "ans =\n",
      "\n",
      "  Columns 1 through 3\n",
      "\n",
      "         0.814872185058944         0.870314071006198         0.772797307065928\n",
      "\n",
      "  Columns 4 through 6\n",
      "\n",
      "         0.859003517769952         0.906411596213306         0.753596054852441\n",
      "\n",
      "  Columns 7 through 9\n",
      "\n",
      "         0.775349182215779         0.667605904929218         0.626115161184828\n",
      "\n",
      "  Column 10\n",
      "\n",
      "         0.752181030655011\n",
      "\n"
     ]
    }
   ],
   "source": [
    "[num_users, num_items] = size(A);\n",
    "A_est = A;\n",
    "\n",
    "for idx = 1:length(index)\n",
    "    i = I(idx);\n",
    "    j = J(idx);\n",
    "\n",
    "    known_users = find(~isnan(A(:, j)));\n",
    "    known_users(known_users == i) = [];\n",
    "    \n",
    "    if isempty(known_users)\n",
    "        A_est(i,j) = nanmean(A(:));\n",
    "        continue;\n",
    "    end\n",
    "    \n",
    "    sim_vec = B(i, known_users);\n",
    "    rating_vec = A(known_users, j)';\n",
    "\n",
    "    weight_sum = sum(sim_vec);\n",
    "    if weight_sum == 0\n",
    "        A_est(i,j) = nanmean(A(:));\n",
    "    else\n",
    "        A_est(i,j) = sum(sim_vec .* rating_vec) / weight_sum;\n",
    "    end\n",
    "end\n",
    "A_est(index)"
   ]
  }
 ],
 "metadata": {
  "kernelspec": {
   "display_name": "Matlab (Connection)",
   "language": "matlab",
   "name": "matlab_connect"
  },
  "language_info": {
   "codemirror_mode": "octave",
   "file_extension": ".m",
   "help_links": [
    {
     "text": "MetaKernel Magics",
     "url": "https://metakernel.readthedocs.io/en/latest/source/README.html"
    }
   ],
   "mimetype": "text/x-octave",
   "name": "matlab",
   "version": "0.17.1"
  }
 },
 "nbformat": 4,
 "nbformat_minor": 2
}
