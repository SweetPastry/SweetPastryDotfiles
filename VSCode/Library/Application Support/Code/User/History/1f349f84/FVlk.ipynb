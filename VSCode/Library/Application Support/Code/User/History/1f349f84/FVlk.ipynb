{
 "cells": [
  {
   "cell_type": "code",
   "execution_count": 2,
   "metadata": {},
   "outputs": [],
   "source": [
    "clear\n",
    "\n",
    "X=rand(3,100);\n",
    "\n",
    "X=X./repmat(sqrt(sum(X.*X)),size(X,1),1);\n",
    "\n",
    "Y=rand(3,1000);\n",
    "\n",
    "Y=Y./repmat(sqrt(sum(Y.*Y)),size(Y,1),1);\n",
    "\n",
    "A=X'*Y;\n",
    "\n",
    "B=X'*X;\n",
    "\n",
    "I=randi([1,100],1,10);\n",
    "\n",
    "J=randi([1,1000],1,10);\n",
    "\n",
    "index=sub2ind([100,1000],I,J);\n",
    "\n",
    "C=A(index);\n",
    "\n",
    "A(index)=nan;"
   ]
  },
  {
   "cell_type": "code",
   "execution_count": 3,
   "metadata": {},
   "outputs": [
    {
     "name": "stderr",
     "output_type": "stream",
     "text": [
      "\u001b[0;31mUnable to perform assignment because the size of the left side is 1-by-1 and the size of the right side is 1-by-99.\n",
      "\n",
      "\u001b[0m"
     ]
    }
   ],
   "source": [
    "A_filled = A;\n",
    "nan_pos = isnan(A);\n",
    "A_filled(nan_pos) = 0;\n",
    "\n",
    "max_iter = 100;\n",
    "tolerance = 1e-5; \n",
    "\n",
    "for iter = 1:max_iter\n",
    "    A_prev = A_filled;\n",
    "    \n",
    "    for i = 1:100\n",
    "        for j = 1:1000\n",
    "            if nan_pos(i, j) \n",
    "                weights = B(i, :);\n",
    "                weights(i) = 0;\n",
    "                valid = ~nan_pos(:, j);\n",
    "                A_filled(i, j) = sum(weights(valid) .* A_filled(valid, j)) / sum(weights(valid) + eps);\n",
    "            end\n",
    "        end\n",
    "    end\n",
    "    \n",
    "    if max(abs(A_filled(:) - A_prev(:))) < tolerance\n",
    "        disp(['Converged in ', num2str(iter), ' iterations.']);\n",
    "        break;\n",
    "    end\n",
    "end\n",
    "\n",
    "disp('原始缺失值：');\n",
    "disp(C);\n",
    "\n",
    "disp('估算值：');\n",
    "disp(A_filled(index));"
   ]
  }
 ],
 "metadata": {
  "kernelspec": {
   "display_name": "Matlab (Connection)",
   "language": "matlab",
   "name": "matlab_connect"
  },
  "language_info": {
   "codemirror_mode": "octave",
   "file_extension": ".m",
   "help_links": [
    {
     "text": "MetaKernel Magics",
     "url": "https://metakernel.readthedocs.io/en/latest/source/README.html"
    }
   ],
   "mimetype": "text/x-octave",
   "name": "matlab",
   "version": "0.17.1"
  }
 },
 "nbformat": 4,
 "nbformat_minor": 2
}
