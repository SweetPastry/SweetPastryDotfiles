{
 "cells": [
  {
   "cell_type": "code",
   "execution_count": 2,
   "metadata": {},
   "outputs": [],
   "source": [
    "clear\n",
    "\n",
    "X=rand(3,100);\n",
    "\n",
    "X=X./repmat(sqrt(sum(X.*X)),size(X,1),1);\n",
    "\n",
    "Y=rand(3,1000);\n",
    "\n",
    "Y=Y./repmat(sqrt(sum(Y.*Y)),size(Y,1),1);\n",
    "\n",
    "A=X'*Y;\n",
    "\n",
    "B=X'*X;\n",
    "\n",
    "I=randi([1,100],1,10);\n",
    "\n",
    "J=randi([1,1000],1,10);\n",
    "\n",
    "index=sub2ind([100,1000],I,J);\n",
    "\n",
    "C=A(index);\n",
    "\n",
    "A(index)=nan;"
   ]
  },
  {
   "cell_type": "code",
   "execution_count": 4,
   "metadata": {},
   "outputs": [
    {
     "name": "stdout",
     "output_type": "stream",
     "text": [
      "\n",
      "index =\n",
      "\n",
      "  Columns 1 through 6\n",
      "\n",
      "        2792       29565       12019       14386       73298       46133\n",
      "\n",
      "  Columns 7 through 10\n",
      "\n",
      "       53326       28957       84074       15863\n",
      "\n"
     ]
    }
   ],
   "source": [
    "index"
   ]
  }
 ],
 "metadata": {
  "kernelspec": {
   "display_name": "Matlab (Connection)",
   "language": "matlab",
   "name": "matlab_connect"
  },
  "language_info": {
   "codemirror_mode": "octave",
   "file_extension": ".m",
   "help_links": [
    {
     "text": "MetaKernel Magics",
     "url": "https://metakernel.readthedocs.io/en/latest/source/README.html"
    }
   ],
   "mimetype": "text/x-octave",
   "name": "matlab",
   "version": "0.17.1"
  }
 },
 "nbformat": 4,
 "nbformat_minor": 2
}
