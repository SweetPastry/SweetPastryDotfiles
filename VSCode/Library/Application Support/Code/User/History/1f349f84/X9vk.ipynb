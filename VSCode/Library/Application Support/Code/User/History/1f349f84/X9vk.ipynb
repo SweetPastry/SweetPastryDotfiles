{
 "cells": [
  {
   "cell_type": "code",
   "execution_count": 18,
   "metadata": {},
   "outputs": [
    {
     "name": "stdout",
     "output_type": "stream",
     "text": [
      "\n",
      "ans =\n",
      "\n",
      "  Columns 1 through 3\n",
      "\n",
      "         0.840789590107815         0.666020799312915         0.922691476516453\n",
      "\n",
      "  Columns 4 through 6\n",
      "\n",
      "         0.579249014614252         0.732482717036148         0.931033367106668\n",
      "\n",
      "  Columns 7 through 9\n",
      "\n",
      "         0.946036430078381          0.84267085505522         0.989085326413322\n",
      "\n",
      "  Column 10\n",
      "\n",
      "         0.897503396913498\n",
      "\n"
     ]
    }
   ],
   "source": [
    "clear\n",
    "X = rand(3,100);\n",
    "X = X./repmat(sqrt(sum(X.*X)),size(X,1),1);\n",
    "\n",
    "Y = rand(3,1000);\n",
    "Y = Y./repmat(sqrt(sum(Y.*Y)),size(Y,1),1);\n",
    "\n",
    "A = X'*Y;\n",
    "B = X'*X;\n",
    "\n",
    "I = randi([1,100],1,10);\n",
    "J = randi([1,1000],1,10);\n",
    "index = sub2ind([100,1000],I,J);\n",
    "C = A(index);\n",
    "\n",
    "\n",
    "% index\n",
    "A(index)\n",
    "\n",
    "\n",
    "\n",
    "\n",
    "A(index) = nan;"
   ]
  },
  {
   "cell_type": "code",
   "execution_count": 19,
   "metadata": {},
   "outputs": [],
   "source": [
    "% for idx = 1:length(index)\n",
    "%     [row, col] = ind2sub([100, 1000], index(idx));\n",
    "    \n",
    "% end"
   ]
  },
  {
   "cell_type": "code",
   "execution_count": 20,
   "metadata": {},
   "outputs": [
    {
     "name": "stdout",
     "output_type": "stream",
     "text": [
      "\n",
      "ans =\n",
      "\n",
      "  Columns 1 through 3\n",
      "\n",
      "         0.878553795121602         0.846471760100202         0.891474103032326\n",
      "\n",
      "  Columns 4 through 6\n",
      "\n",
      "         0.879215039857894          0.89846094099441         0.794885258079509\n",
      "\n",
      "  Columns 7 through 9\n",
      "\n",
      "         0.891866512831759          0.85153986635508         0.896921063473193\n",
      "\n",
      "  Column 10\n",
      "\n",
      "            0.856202255841\n",
      "\n"
     ]
    }
   ],
   "source": [
    "[num_users, num_items] = size(A);\n",
    "A_est = A;\n",
    "\n",
    "for idx = 1:length(index)\n",
    "    i = I(idx);\n",
    "    j = J(idx);\n",
    "\n",
    "    known_users = find(~isnan(A(:, j)));\n",
    "    known_users(known_users == i) = [];\n",
    "    \n",
    "    if isempty(known_users)\n",
    "        A_est(i,j) = nanmean(A(:));\n",
    "        continue;\n",
    "    end\n",
    "    \n",
    "    sim_vec = B(i, known_users);\n",
    "    rating_vec = A(known_users, j)';\n",
    "\n",
    "    weight_sum = sum(sim_vec);\n",
    "    if weight_sum == 0\n",
    "        A_est(i,j) = nanmean(A(:));\n",
    "    else\n",
    "        A_est(i,j) = sum(sim_vec .* rating_vec) / weight_sum;\n",
    "    end\n",
    "end\n",
    "A_est(index)"
   ]
  }
 ],
 "metadata": {
  "kernelspec": {
   "display_name": "Matlab (Connection)",
   "language": "matlab",
   "name": "matlab_connect"
  },
  "language_info": {
   "codemirror_mode": "octave",
   "file_extension": ".m",
   "help_links": [
    {
     "text": "MetaKernel Magics",
     "url": "https://metakernel.readthedocs.io/en/latest/source/README.html"
    }
   ],
   "mimetype": "text/x-octave",
   "name": "matlab",
   "version": "0.17.1"
  }
 },
 "nbformat": 4,
 "nbformat_minor": 2
}
