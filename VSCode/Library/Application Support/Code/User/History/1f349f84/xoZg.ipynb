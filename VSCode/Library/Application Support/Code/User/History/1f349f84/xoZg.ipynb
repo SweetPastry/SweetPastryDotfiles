{
 "cells": [
  {
   "cell_type": "code",
   "execution_count": 10,
   "metadata": {},
   "outputs": [
    {
     "name": "stdout",
     "output_type": "stream",
     "text": [
      "\n",
      "index =\n",
      "\n",
      "  Columns 1 through 6\n",
      "\n",
      "       16466       19242       85642       17372       21392       75365\n",
      "\n",
      "  Columns 7 through 10\n",
      "\n",
      "       85034       32272       44022       79632\n",
      "\n",
      "\n",
      "ans =\n",
      "\n",
      "  Columns 1 through 3\n",
      "\n",
      "         0.829836977173444         0.867654296898231          0.96788927868958\n",
      "\n",
      "  Columns 4 through 6\n",
      "\n",
      "         0.755315819526404         0.965508980805662         0.776918113195142\n",
      "\n",
      "  Columns 7 through 9\n",
      "\n",
      "         0.966601510259456         0.758081437556897         0.992906444206722\n",
      "\n",
      "  Column 10\n",
      "\n",
      "         0.978098648190746\n",
      "\n"
     ]
    }
   ],
   "source": [
    "clear\n",
    "X = rand(3,100);\n",
    "X = X./repmat(sqrt(sum(X.*X)),size(X,1),1);\n",
    "\n",
    "Y = rand(3,1000);\n",
    "Y = Y./repmat(sqrt(sum(Y.*Y)),size(Y,1),1);\n",
    "\n",
    "A = X'*Y;\n",
    "B = X'*X;\n",
    "\n",
    "I = randi([1,100],1,10);\n",
    "J = randi([1,1000],1,10);\n",
    "index = sub2ind([100,1000],I,J);\n",
    "C = A(index);\n",
    "\n",
    "\n",
    "index\n",
    "A(index)\n",
    "\n",
    "\n",
    "\n",
    "\n",
    "A(index) = nan;"
   ]
  },
  {
   "cell_type": "code",
   "execution_count": 6,
   "metadata": {},
   "outputs": [],
   "source": [
    "% for idx = 1:length(index)\n",
    "%     [row, col] = ind2sub([100, 1000], index(idx));\n",
    "    \n",
    "% end"
   ]
  },
  {
   "cell_type": "code",
   "execution_count": 11,
   "metadata": {},
   "outputs": [
    {
     "name": "stdout",
     "output_type": "stream",
     "text": [
      "\n",
      "ans =\n",
      "\n",
      "  Columns 1 through 3\n",
      "\n",
      "         0.770902123148143         0.883775053021073         0.824700064220557\n",
      "\n",
      "  Columns 4 through 6\n",
      "\n",
      "          0.79423612522206         0.862953374539445         0.760546590187319\n",
      "\n",
      "  Columns 7 through 9\n",
      "\n",
      "         0.883911738651765         0.689944373960118         0.894532386273206\n",
      "\n",
      "  Column 10\n",
      "\n",
      "          0.89417761649112\n",
      "\n"
     ]
    }
   ],
   "source": [
    "\n",
    "[num_users, num_items] = size(A);\n",
    "A_est = A;\n",
    "\n",
    "for idx = 1:length(index)\n",
    "    i = I(idx);\n",
    "    j = J(idx);\n",
    "\n",
    "    known_users = find(~isnan(A(:, j)));\n",
    "    known_users(known_users == i) = [];\n",
    "    \n",
    "    if isempty(known_users)\n",
    "        A_est(i,j) = nanmean(A(:));\n",
    "        continue;\n",
    "    end\n",
    "    \n",
    "    sim_vec = B(i, known_users);\n",
    "    rating_vec = A(known_users, j)';\n",
    "\n",
    "    weight_sum = sum(sim_vec);\n",
    "    if weight_sum == 0\n",
    "        A_est(i,j) = nanmean(A(:));\n",
    "    else\n",
    "        A_est(i,j) = sum(sim_vec .* rating_vec) / weight_sum;\n",
    "    end\n",
    "end\n",
    "A_est(index)"
   ]
  }
 ],
 "metadata": {
  "kernelspec": {
   "display_name": "Matlab (Connection)",
   "language": "matlab",
   "name": "matlab_connect"
  },
  "language_info": {
   "codemirror_mode": "octave",
   "file_extension": ".m",
   "help_links": [
    {
     "text": "MetaKernel Magics",
     "url": "https://metakernel.readthedocs.io/en/latest/source/README.html"
    }
   ],
   "mimetype": "text/x-octave",
   "name": "matlab",
   "version": "0.17.1"
  }
 },
 "nbformat": 4,
 "nbformat_minor": 2
}
