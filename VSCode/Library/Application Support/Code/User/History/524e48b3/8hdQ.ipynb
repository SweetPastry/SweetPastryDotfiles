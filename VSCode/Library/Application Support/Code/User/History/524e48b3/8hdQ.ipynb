{
 "cells": [
  {
   "cell_type": "code",
   "execution_count": 7,
   "metadata": {},
   "outputs": [
    {
     "name": "stdout",
     "output_type": "stream",
     "text": [
      "\n",
      "a =\n",
      "\n",
      "    'I love the game'\n",
      "\n"
     ]
    }
   ],
   "source": [
    "a = 'I love the game'"
   ]
  },
  {
   "cell_type": "code",
   "execution_count": 3,
   "metadata": {},
   "outputs": [
    {
     "name": "stdout",
     "output_type": "stream",
     "text": [
      "\n",
      "ans =\n",
      "\n",
      "    15\n",
      "\n"
     ]
    }
   ],
   "source": [
    "length(a)"
   ]
  },
  {
   "cell_type": "code",
   "execution_count": 5,
   "metadata": {},
   "outputs": [
    {
     "name": "stdout",
     "output_type": "stream",
     "text": [
      "  Name      Size            Bytes  Class    Attributes\n",
      "\n",
      "  a         1x15               30  char               \n",
      "\n"
     ]
    }
   ],
   "source": [
    "whos a"
   ]
  },
  {
   "cell_type": "code",
   "execution_count": 8,
   "metadata": {},
   "outputs": [
    {
     "name": "stdout",
     "output_type": "stream",
     "text": [
      "\n",
      "ans =\n",
      "\n",
      "  Columns 1 through 13\n",
      "\n",
      "    73    32   108   111   118   101    32   116   104   101    32   103    97\n",
      "\n",
      "  Columns 14 through 15\n",
      "\n",
      "   109   101\n",
      "\n"
     ]
    }
   ],
   "source": [
    "double(a)"
   ]
  },
  {
   "cell_type": "code",
   "execution_count": 14,
   "metadata": {},
   "outputs": [
    {
     "name": "stdout",
     "output_type": "stream",
     "text": [
      "\n",
      "myStr = \n",
      "\n",
      "    \"This is myStr!\"\n",
      "\n",
      "\n",
      "myStr2 = \n",
      "\n",
      "    \"This is myStr2!\"\n",
      "\n",
      "\n",
      "catStr = \n",
      "\n",
      "    \"This is myStr!This is myStr2!\"\n",
      "\n"
     ]
    }
   ],
   "source": [
    "myStr = \"This is myStr!\"\n",
    "myStr2 = \"This is myStr2!\"\n",
    "\n",
    "catStr = strcat(myStr, myStr2)"
   ]
  },
  {
   "cell_type": "code",
   "execution_count": 16,
   "metadata": {},
   "outputs": [
    {
     "name": "stdout",
     "output_type": "stream",
     "text": [
      "\n",
      "num =\n",
      "\n",
      "                   1145.13\n",
      "\n",
      "\n",
      "a =\n",
      "\n",
      "    '1145.13'\n",
      "\n",
      "\n",
      "b =\n",
      "\n",
      "                   1145.13\n",
      "\n"
     ]
    }
   ],
   "source": [
    "num = 1145.13\n",
    "a = num2str(num)\n",
    "b = str2num(a)"
   ]
  },
  {
   "cell_type": "code",
   "execution_count": 26,
   "metadata": {},
   "outputs": [
    {
     "name": "stdout",
     "output_type": "stream",
     "text": [
      "Hello\n",
      "World\n"
     ]
    }
   ],
   "source": [
    "str1 = 'Hello';\n",
    "str2 = 'World';\n",
    "result = char(str1, str2);\n",
    "disp(result);"
   ]
  },
  {
   "cell_type": "code",
   "execution_count": 30,
   "metadata": {},
   "outputs": [
    {
     "name": "stdout",
     "output_type": "stream",
     "text": [
      "\n",
      "ans =\n",
      "\n",
      "  2x5 char array\n",
      "\n",
      "    'hello'\n",
      "    'world'\n",
      "\n"
     ]
    }
   ],
   "source": [
    "char('hello', 'world')"
   ]
  },
  {
   "cell_type": "code",
   "execution_count": 31,
   "metadata": {},
   "outputs": [
    {
     "name": "stdout",
     "output_type": "stream",
     "text": [
      "\n",
      "N =\n",
      "\n",
      "     1     3     2     3     2     0\n",
      "\n"
     ]
    }
   ],
   "source": [
    "X = [1 2 2 3 4 5 6 6 7 8 9];\n",
    "edges = [0 2 4 6 8 10];\n",
    "\n",
    "N = histc(X, edges)"
   ]
  },
  {
   "cell_type": "code",
   "execution_count": 1,
   "metadata": {},
   "outputs": [
    {
     "name": "stdout",
     "output_type": "stream",
     "text": [
      "\n",
      "N =\n",
      "\n",
      "     1     3     2     3     2     1\n",
      "\n"
     ]
    }
   ],
   "source": [
    "X = [1 2 2 3 4 5 6 6 7 8 9 10];\n",
    "edges = [0 2 4 6 8 10];\n",
    "\n",
    "N = histc(X, edges)"
   ]
  },
  {
   "cell_type": "code",
   "execution_count": 7,
   "metadata": {},
   "outputs": [
    {
     "name": "stdout",
     "output_type": "stream",
     "text": [
      "\n",
      "  1x16x3 char array\n",
      "\n",
      "T(:,:,1) =\n",
      "\n",
      "    'I love this game'\n",
      "\n",
      "T(:,:,2) =\n",
      "\n",
      "    'So easy         '\n",
      "\n",
      "T(:,:,3) =\n",
      "\n",
      "    'emmm            '\n",
      "\n"
     ]
    }
   ],
   "source": [
    "A = \"I love this game\";\n",
    "B = \"So easy\";\n",
    "C = \"emmm\";\n",
    "\n",
    "T = char([A, B, C])"
   ]
  },
  {
   "cell_type": "code",
   "execution_count": 9,
   "metadata": {},
   "outputs": [
    {
     "name": "stdout",
     "output_type": "stream",
     "text": [
      "    {[\"I love this game\"]}    {[\"So easy\"]}    {[\"emmm\"]}\n",
      "\n",
      " \n",
      "S{1} =\n",
      " \n",
      "I love this game\n",
      " \n",
      " \n",
      "S{2} =\n",
      " \n",
      "So easy\n",
      " \n",
      " \n",
      "S{3} =\n",
      " \n",
      "emmm\n",
      " \n"
     ]
    }
   ],
   "source": [
    "S{1} = A;\n",
    "S{2} = B;\n",
    "S{3} = C;\n",
    "disp(S)\n",
    "celldisp(S)"
   ]
  }
 ],
 "metadata": {
  "kernelspec": {
   "display_name": "Matlab (Connection)",
   "language": "matlab",
   "name": "matlab_connect"
  },
  "language_info": {
   "codemirror_mode": "octave",
   "file_extension": ".m",
   "help_links": [
    {
     "text": "MetaKernel Magics",
     "url": "https://metakernel.readthedocs.io/en/latest/source/README.html"
    }
   ],
   "mimetype": "text/x-octave",
   "name": "matlab",
   "version": "0.17.1"
  }
 },
 "nbformat": 4,
 "nbformat_minor": 2
}
