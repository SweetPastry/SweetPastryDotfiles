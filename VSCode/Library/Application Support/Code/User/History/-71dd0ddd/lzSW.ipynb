{
 "cells": [
  {
   "cell_type": "code",
   "execution_count": 5,
   "metadata": {},
   "outputs": [
    {
     "name": "stdout",
     "output_type": "stream",
     "text": [
      "\n",
      "ans =\n",
      "\n",
      "     1\n",
      "     5\n",
      "     9\n",
      "\n"
     ]
    }
   ],
   "source": [
    "A = [\n",
    "    1, 2, 3;\n",
    "    2, 1, 3;\n",
    "    3, 2, 1;\n",
    "];\n",
    "find(A==1)  % nargin=1 的时候返回的是一维的索引"
   ]
  },
  {
   "cell_type": "code",
   "execution_count": 6,
   "metadata": {},
   "outputs": [
    {
     "name": "stdout",
     "output_type": "stream",
     "text": [
      "\n",
      "row =\n",
      "\n",
      "     2\n",
      "     1\n",
      "     3\n",
      "\n",
      "\n",
      "col =\n",
      "\n",
      "     1\n",
      "     2\n",
      "     2\n",
      "\n"
     ]
    }
   ],
   "source": [
    "[row, col] = find(A==2)"
   ]
  }
 ],
 "metadata": {
  "kernelspec": {
   "display_name": "Matlab (Connection)",
   "language": "matlab",
   "name": "matlab_connect"
  },
  "language_info": {
   "codemirror_mode": "octave",
   "file_extension": ".m",
   "help_links": [
    {
     "text": "MetaKernel Magics",
     "url": "https://metakernel.readthedocs.io/en/latest/source/README.html"
    }
   ],
   "mimetype": "text/x-octave",
   "name": "matlab",
   "version": "0.17.1"
  }
 },
 "nbformat": 4,
 "nbformat_minor": 2
}
