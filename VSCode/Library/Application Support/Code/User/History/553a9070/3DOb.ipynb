{
 "cells": [
  {
   "cell_type": "markdown",
   "metadata": {
    "vscode": {
     "languageId": "plaintext"
    }
   },
   "source": [
    "# MATLAB 的五种控制语句"
   ]
  },
  {
   "cell_type": "markdown",
   "metadata": {
    "vscode": {
     "languageId": "plaintext"
    }
   },
   "source": [
    "#### `for` 循环"
   ]
  },
  {
   "cell_type": "markdown",
   "metadata": {
    "vscode": {
     "languageId": "plaintext"
    }
   },
   "source": [
    "#### `while` 循环"
   ]
  },
  {
   "cell_type": "markdown",
   "metadata": {
    "vscode": {
     "languageId": "plaintext"
    }
   },
   "source": [
    "#### `if-else-end` 分支结构"
   ]
  },
  {
   "cell_type": "markdown",
   "metadata": {
    "vscode": {
     "languageId": "plaintext"
    }
   },
   "source": [
    "#### `switch-case` 结构"
   ]
  },
  {
   "cell_type": "code",
   "execution_count": null,
   "metadata": {},
   "outputs": [
    {
     "name": "stdout",
     "output_type": "stream",
     "text": [
      "x=2\n"
     ]
    }
   ],
   "source": [
    "% switch ex\n",
    "%   case test1\n",
    "%       command1\n",
    "%   case test2\n",
    "%       command2\n",
    "%   ...\n",
    "%   otherwise\n",
    "%       command\n",
    "\n",
    "% 和 C 语言不一样, 没有 break, 不用 default 用 otherwise\n",
    "\n",
    "x = 2;\n",
    "switch x\n",
    "    case 1\n",
    "        disp(\"x=1\");\n",
    "    case 2\n",
    "        disp(\"x=2\");\n",
    "    case 3\n",
    "        disp(\"x=3\");\n",
    "    otherwise\n",
    "        disp(\"x != 1, 2, 3\");\n",
    "end"
   ]
  },
  {
   "cell_type": "code",
   "execution_count": 3,
   "metadata": {},
   "outputs": [
    {
     "name": "stdout",
     "output_type": "stream",
     "text": [
      "x is odd\n"
     ]
    }
   ],
   "source": [
    "x = 3;\n",
    "switch x\n",
    "    case {1, 3, 5, 7, 9}\n",
    "        disp(\"x is odd\");\n",
    "    case {0, 2, 4, 6, 8}\n",
    "        disp(\"x is even\");\n",
    "    otherwise\n",
    "        disp(\"x is not correct num!\");\n",
    "end"
   ]
  },
  {
   "cell_type": "markdown",
   "metadata": {
    "vscode": {
     "languageId": "plaintext"
    }
   },
   "source": [
    "#### `try-catch` 结构"
   ]
  },
  {
   "cell_type": "markdown",
   "metadata": {},
   "source": [
    "执行 `command1` 如果正确跳出结构\n",
    "```MATLAB\n",
    "try \n",
    "    command1\n",
    "catch\n",
    "    command2\n",
    "end\n",
    "```\n",
    "若 `command1` 执行出现错误则执行 `command2`"
   ]
  },
  {
   "cell_type": "code",
   "execution_count": null,
   "metadata": {},
   "outputs": [
    {
     "name": "stdout",
     "output_type": "stream",
     "text": [
      "\n",
      "A =\n",
      "\n",
      "         0.964888535199277         0.957166948242946         0.141886338627215\n",
      "         0.157613081677548         0.485375648722841         0.421761282626275\n",
      "         0.970592781760616           0.8002804688888         0.915735525189067\n",
      "\n",
      "\n",
      "A_N =\n",
      "\n",
      "         0.970592781760616           0.8002804688888         0.915735525189067\n",
      "\n",
      "\n",
      "ans =\n",
      "\n",
      "    'Index in position 1 exceeds array bounds. Index must not exceed 3.'\n",
      "\n"
     ]
    }
   ],
   "source": [
    "N = 4;\n",
    "A = rand(3)\n",
    "\n",
    "try\n",
    "    A_N = A(N, :)\n",
    "catch\n",
    "    A_N = A(end, :)\n",
    "end\n",
    "\n",
    "lasterr\n",
    "% 显示最新出错信息并终止程序"
   ]
  },
  {
   "cell_type": "markdown",
   "metadata": {
    "vscode": {
     "languageId": "plaintext"
    }
   },
   "source": [
    "# 知识点"
   ]
  },
  {
   "cell_type": "code",
   "execution_count": 1,
   "metadata": {},
   "outputs": [
    {
     "name": "stdout",
     "output_type": "stream",
     "text": [
      "\n",
      "ans =\n",
      "\n",
      "    -3\n",
      "\n",
      "\n",
      "ans =\n",
      "\n",
      "     1\n",
      "\n"
     ]
    }
   ],
   "source": [
    "% rem 和 mod 函数的区别\n",
    "% rem(x, y) 结果和 x 同符号\n",
    "% mod(x, y) 结果和 y 同符号\n",
    "rem(-99, 4)\n",
    "mod(-99, 4)"
   ]
  },
  {
   "cell_type": "code",
   "execution_count": null,
   "metadata": {},
   "outputs": [],
   "source": [
    "% 暂停执行文件, 等待用户按任意键后继续\n",
    "% pause\n",
    "\n",
    "% 不要在 ipynb 里允许这个程序"
   ]
  },
  {
   "cell_type": "code",
   "execution_count": 9,
   "metadata": {},
   "outputs": [],
   "source": [
    "% 暂停 2 秒\n",
    "pause(2)"
   ]
  },
  {
   "cell_type": "code",
   "execution_count": 10,
   "metadata": {},
   "outputs": [],
   "source": [
    "% 暂停 1.5 秒\n",
    "pause(1.5)"
   ]
  },
  {
   "cell_type": "code",
   "execution_count": null,
   "metadata": {},
   "outputs": [
    {
     "name": "stdout",
     "output_type": "stream",
     "text": [
      "\n",
      "ans =\n",
      "\n",
      "    'Index in position 1 exceeds array bounds. Index must not exceed 3.'\n",
      "\n",
      "\n",
      "ans =\n",
      "\n",
      "  0x0 empty char array\n",
      "\n"
     ]
    }
   ],
   "source": [
    "% 最近的出错\n",
    "% 最近的警告\n",
    "lasterr\n",
    "lastwarn"
   ]
  },
  {
   "cell_type": "code",
   "execution_count": 15,
   "metadata": {},
   "outputs": [
    {
     "name": "stderr",
     "output_type": "stream",
     "text": [
      "\u001b[0;31mRise error and stop. 抛出错误并终止\n",
      "\n",
      "\u001b[0m"
     ]
    }
   ],
   "source": [
    "% error 会抛出错误并且终止\n",
    "error(\"Rise error and stop. 抛出错误并终止\")\n",
    "disp(\"Not run this. 此语句不执行\")"
   ]
  },
  {
   "cell_type": "code",
   "execution_count": 17,
   "metadata": {},
   "outputs": [
    {
     "name": "stdout",
     "output_type": "stream",
     "text": [
      "Warning: Rise warn but not stop. 抛出警告但是不终止\n",
      "This will run. 此语句仍执行\n"
     ]
    }
   ],
   "source": [
    "warning(\"Rise warn but not stop. 抛出警告但是不终止\")\n",
    "disp(\"This will run. 此语句仍执行\")"
   ]
  }
 ],
 "metadata": {
  "kernelspec": {
   "display_name": "Matlab (Connection)",
   "language": "matlab",
   "name": "matlab_connect"
  },
  "language_info": {
   "codemirror_mode": "octave",
   "file_extension": ".m",
   "help_links": [
    {
     "text": "MetaKernel Magics",
     "url": "https://metakernel.readthedocs.io/en/latest/source/README.html"
    }
   ],
   "mimetype": "text/x-octave",
   "name": "matlab",
   "version": "0.17.1"
  }
 },
 "nbformat": 4,
 "nbformat_minor": 2
}
