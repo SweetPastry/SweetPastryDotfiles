{
 "cells": [
  {
   "cell_type": "code",
   "execution_count": 1,
   "metadata": {},
   "outputs": [
    {
     "name": "stdout",
     "output_type": "stream",
     "text": [
      "\n",
      "A =\n",
      "\n",
      "     1     2     3\n",
      "     4     5     6\n",
      "     7     8     9\n",
      "\n",
      "\n",
      "A =\n",
      "\n",
      "     1     2     3\n",
      "     7     8     9\n",
      "\n",
      "\n",
      "A =\n",
      "\n",
      "     2     3\n",
      "     8     9\n",
      "\n"
     ]
    }
   ],
   "source": [
    "A = [1, 2, 3;\n",
    "     4, 5, 6;\n",
    "     7, 8, 9]\n",
    "\n",
    "%  删除某一行\n",
    "A(2, :) = []\n",
    "\n",
    "% 删除某一列\n",
    "A(:, 1) = []"
   ]
  }
 ],
 "metadata": {
  "kernelspec": {
   "display_name": "Matlab (Connection)",
   "language": "matlab",
   "name": "matlab_connect"
  },
  "language_info": {
   "codemirror_mode": "octave",
   "file_extension": ".m",
   "help_links": [
    {
     "text": "MetaKernel Magics",
     "url": "https://metakernel.readthedocs.io/en/latest/source/README.html"
    }
   ],
   "mimetype": "text/x-octave",
   "name": "matlab",
   "version": "0.17.1"
  }
 },
 "nbformat": 4,
 "nbformat_minor": 2
}
