{
 "cells": [
  {
   "cell_type": "code",
   "execution_count": 4,
   "metadata": {},
   "outputs": [],
   "source": [
    "load im.mat"
   ]
  },
  {
   "cell_type": "code",
   "execution_count": 15,
   "metadata": {},
   "outputs": [
    {
     "name": "stdout",
     "output_type": "stream",
     "text": [
      "\n",
      "ans =\n",
      "\n",
      "  logical\n",
      "\n",
      "   0\n",
      "\n"
     ]
    }
   ],
   "source": [
    "im(1, 1)"
   ]
  },
  {
   "cell_type": "code",
   "execution_count": 21,
   "metadata": {},
   "outputs": [
    {
     "name": "stdout",
     "output_type": "stream",
     "text": [
      "\n",
      "ans =\n",
      "\n",
      "     5\n",
      "\n"
     ]
    }
   ],
   "source": [
    "arr = [\n",
    "    1, 2, 3;\n",
    "    4, 5, 6;\n",
    "];\n",
    "\n",
    "arr(2, 2)"
   ]
  }
 ],
 "metadata": {
  "kernelspec": {
   "display_name": "Matlab (Connection)",
   "language": "matlab",
   "name": "matlab_connect"
  },
  "language_info": {
   "codemirror_mode": "octave",
   "file_extension": ".m",
   "help_links": [
    {
     "text": "MetaKernel Magics",
     "url": "https://metakernel.readthedocs.io/en/latest/source/README.html"
    }
   ],
   "mimetype": "text/x-octave",
   "name": "matlab",
   "version": "0.17.1"
  }
 },
 "nbformat": 4,
 "nbformat_minor": 2
}
