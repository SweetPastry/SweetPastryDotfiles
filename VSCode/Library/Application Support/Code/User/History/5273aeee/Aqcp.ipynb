{
 "cells": [
  {
   "cell_type": "code",
   "execution_count": 4,
   "metadata": {},
   "outputs": [],
   "source": [
    "load im.mat"
   ]
  },
  {
   "cell_type": "code",
   "execution_count": 26,
   "metadata": {},
   "outputs": [
    {
     "name": "stdout",
     "output_type": "stream",
     "text": [
      "\n",
      "ans =\n",
      "\n",
      "  logical\n",
      "\n",
      "   0\n",
      "\n"
     ]
    }
   ],
   "source": [
    "im(1, 1)"
   ]
  },
  {
   "cell_type": "code",
   "execution_count": 29,
   "metadata": {},
   "outputs": [
    {
     "name": "stdout",
     "output_type": "stream",
     "text": [
      "\n",
      "point =\n",
      "\n",
      "     1     1\n",
      "\n",
      "\n",
      "ans =\n",
      "\n",
      "  1x2 logical array\n",
      "\n",
      "   0   0\n",
      "\n"
     ]
    }
   ],
   "source": [
    "point = [1, 1]\n",
    "im(point)"
   ]
  },
  {
   "cell_type": "code",
   "execution_count": 30,
   "metadata": {},
   "outputs": [
    {
     "name": "stderr",
     "output_type": "stream",
     "text": [
      "\u001b[0;31mInvalid expression. When calling a function or indexing a variable, use parentheses. Otherwise, check for mismatched delimiters.\n",
      "\n",
      "\u001b[0m"
     ]
    }
   ],
   "source": [
    "(0, 0) + point"
   ]
  },
  {
   "cell_type": "code",
   "execution_count": 31,
   "metadata": {},
   "outputs": [
    {
     "name": "stdout",
     "output_type": "stream",
     "text": [
      "\n",
      "ans =\n",
      "\n",
      "     3     3\n",
      "\n"
     ]
    }
   ],
   "source": [
    "[1, 1] + [2, 2]"
   ]
  },
  {
   "cell_type": "code",
   "execution_count": 1,
   "metadata": {},
   "outputs": [
    {
     "name": "stdout",
     "output_type": "stream",
     "text": [
      "\n",
      "ans =\n",
      "\n",
      "     5\n",
      "\n"
     ]
    }
   ],
   "source": [
    "arr = [\n",
    "    1, 2, 3;\n",
    "    4, 5, 6;\n",
    "];\n",
    "\n",
    "arr(2, 2)"
   ]
  },
  {
   "cell_type": "code",
   "execution_count": 1,
   "metadata": {},
   "outputs": [
    {
     "name": "stdout",
     "output_type": "stream",
     "text": [
      "\n",
      "ans =\n",
      "\n",
      "     3     3\n",
      "\n"
     ]
    }
   ],
   "source": [
    "consider_point = [1, 1];\n",
    "consider_point + [2, 2]"
   ]
  },
  {
   "cell_type": "code",
   "execution_count": 7,
   "metadata": {},
   "outputs": [
    {
     "name": "stdout",
     "output_type": "stream",
     "text": [
      "\n",
      "ans =\n",
      "\n",
      "     2     1\n",
      "\n"
     ]
    }
   ],
   "source": [
    "directions = [\n",
    "         1,  0;\n",
    "         0,  1;\n",
    "        -1,  0;\n",
    "         0, -1;\n",
    "         1,  1;\n",
    "        -1,  1;\n",
    "        -1, -1;\n",
    "         1, -1;\n",
    "    ];\n",
    "\n",
    "directions(1, :) + [1, 1]"
   ]
  },
  {
   "cell_type": "code",
   "execution_count": null,
   "metadata": {},
   "outputs": [],
   "source": []
  }
 ],
 "metadata": {
  "kernelspec": {
   "display_name": "Matlab (Connection)",
   "language": "matlab",
   "name": "matlab_connect"
  },
  "language_info": {
   "codemirror_mode": "octave",
   "file_extension": ".m",
   "help_links": [
    {
     "text": "MetaKernel Magics",
     "url": "https://metakernel.readthedocs.io/en/latest/source/README.html"
    }
   ],
   "mimetype": "text/x-octave",
   "name": "matlab",
   "version": "0.17.1"
  }
 },
 "nbformat": 4,
 "nbformat_minor": 2
}
