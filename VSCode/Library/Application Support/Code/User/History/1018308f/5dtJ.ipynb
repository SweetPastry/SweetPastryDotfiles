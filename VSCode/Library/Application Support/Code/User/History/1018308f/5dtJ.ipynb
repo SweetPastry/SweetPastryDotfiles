{
 "cells": [
  {
   "cell_type": "code",
   "execution_count": 5,
   "id": "41f63670",
   "metadata": {},
   "outputs": [
    {
     "name": "stderr",
     "output_type": "stream",
     "text": [
      "/var/folders/c5/kj9p5qmd7gndcqhl48t7wf9c0000gn/T/tmpt2cllta8.c:4:5: error: call to undeclared function 'print'; ISO C99 and later do not support implicit function declarations [-Wimplicit-function-declaration]\n",
      "    4 |     print(\"Hello Wolrd!\\n\");\n",
      "      |     ^\n",
      "/var/folders/c5/kj9p5qmd7gndcqhl48t7wf9c0000gn/T/tmpt2cllta8.c:4:5: note: did you mean 'printf'?\n",
      "/Library/Developer/CommandLineTools/SDKs/MacOSX.sdk/usr/include/_printf.h:34:6: note: 'printf' declared here\n",
      "   34 | int      printf(const char * __restrict, ...) __printflike(1, 2);\n",
      "      |          ^\n",
      "1 error generated.\n",
      "[C kernel] GCC exited with code 1, the executable will not be executed"
     ]
    }
   ],
   "source": [
    "#include <stdio.h>\n",
    "\n",
    "int main() {\n",
    "    print(\"Hello Wolrd!\\n\");\n",
    "    return 0;\n",
    "}"
   ]
  }
 ],
 "metadata": {
  "kernelspec": {
   "display_name": "C",
   "language": "c",
   "name": "c"
  },
  "language_info": {
   "file_extension": ".c",
   "mimetype": "text/plain",
   "name": "c"
  }
 },
 "nbformat": 4,
 "nbformat_minor": 5
}
