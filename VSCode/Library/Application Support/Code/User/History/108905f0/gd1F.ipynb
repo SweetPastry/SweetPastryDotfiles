{
 "cells": [
  {
   "cell_type": "markdown",
   "metadata": {
    "vscode": {
     "languageId": "plaintext"
    }
   },
   "source": [
    "# 1. 系统默认变量"
   ]
  },
  {
   "cell_type": "code",
   "execution_count": 39,
   "metadata": {},
   "outputs": [
    {
     "name": "stdout",
     "output_type": "stream",
     "text": [
      "\n",
      "ans =\n",
      "\n",
      "     1\n",
      "\n"
     ]
    }
   ],
   "source": [
    "% ans 是表达式左侧缺省变量时的默认变量\n",
    "1"
   ]
  },
  {
   "cell_type": "code",
   "execution_count": 40,
   "metadata": {},
   "outputs": [
    {
     "name": "stdout",
     "output_type": "stream",
     "text": [
      "\n",
      "ans =\n",
      "\n",
      "     1\n",
      "\n"
     ]
    }
   ],
   "source": [
    "% 运行上面那个单元格再运行次单元格\n",
    "ans"
   ]
  },
  {
   "cell_type": "code",
   "execution_count": 41,
   "metadata": {},
   "outputs": [
    {
     "name": "stdout",
     "output_type": "stream",
     "text": [
      "\n",
      "ans =\n",
      "\n",
      "          3.14159265358979\n",
      "\n"
     ]
    }
   ],
   "source": [
    "% pi 不必多说\n",
    "pi"
   ]
  },
  {
   "cell_type": "code",
   "execution_count": 42,
   "metadata": {},
   "outputs": [
    {
     "name": "stdout",
     "output_type": "stream",
     "text": [
      "\n",
      "ans =\n",
      "\n",
      "                         -4 +                     7i\n",
      "\n"
     ]
    }
   ],
   "source": [
    "% i 和 j 都是虚数单位\n",
    "z1 = 1 + 2i;\n",
    "z2 = 2 + 3j;\n",
    "z1*z2\n",
    "% 注意表示虚数单位时 i 和 j 直接贴在纯数上面"
   ]
  },
  {
   "cell_type": "code",
   "execution_count": 43,
   "metadata": {},
   "outputs": [
    {
     "name": "stdout",
     "output_type": "stream",
     "text": [
      "\n",
      "ans =\n",
      "\n",
      "   Inf\n",
      "\n",
      "\n",
      "ans =\n",
      "\n",
      "   Inf\n",
      "\n",
      "\n",
      "ans =\n",
      "\n",
      "   Inf\n",
      "\n"
     ]
    }
   ],
   "source": [
    "% Inf 和 inf 表示无穷大\n",
    "Inf\n",
    "inf\n",
    "1 / 0"
   ]
  },
  {
   "cell_type": "code",
   "execution_count": 44,
   "metadata": {},
   "outputs": [
    {
     "name": "stdout",
     "output_type": "stream",
     "text": [
      "\n",
      "ans =\n",
      "\n",
      "   NaN\n",
      "\n",
      "\n",
      "ans =\n",
      "\n",
      "   NaN\n",
      "\n",
      "\n",
      "ans =\n",
      "\n",
      "   NaN\n",
      "\n"
     ]
    }
   ],
   "source": [
    "% NaN 或 nan 表示非数字或者未定元\n",
    "NaN\n",
    "nan\n",
    "0 / 0"
   ]
  },
  {
   "cell_type": "code",
   "execution_count": 45,
   "metadata": {},
   "outputs": [
    {
     "name": "stdout",
     "output_type": "stream",
     "text": [
      "\n",
      "ans =\n",
      "\n",
      "      2.22044604925031e-16\n",
      "\n"
     ]
    }
   ],
   "source": [
    "% eps MATLAB 浮点精度常数\n",
    "eps"
   ]
  },
  {
   "cell_type": "code",
   "execution_count": 46,
   "metadata": {},
   "outputs": [
    {
     "name": "stdout",
     "output_type": "stream",
     "text": [
      "\n",
      "ans =\n",
      "\n",
      "      2.2250738585072e-308\n",
      "\n",
      "\n",
      "ans =\n",
      "\n",
      "     1.79769313486232e+308\n",
      "\n"
     ]
    }
   ],
   "source": [
    "% realmin, realmax 最小最大正双精度浮点数\n",
    "realmin\n",
    "realmax"
   ]
  },
  {
   "cell_type": "markdown",
   "metadata": {},
   "source": [
    "# 2. 操作符"
   ]
  },
  {
   "cell_type": "code",
   "execution_count": 47,
   "metadata": {},
   "outputs": [
    {
     "name": "stdout",
     "output_type": "stream",
     "text": [
      "\n",
      "ans =\n",
      "\n",
      "                       0.5\n",
      "\n",
      "\n",
      "ans =\n",
      "\n",
      "                       0.5\n",
      "\n"
     ]
    }
   ],
   "source": [
    "% MATLAB 区分左除和右除\n",
    "1/2\n",
    "2\\1"
   ]
  },
  {
   "cell_type": "code",
   "execution_count": 48,
   "metadata": {},
   "outputs": [
    {
     "name": "stdout",
     "output_type": "stream",
     "text": [
      "\n",
      "ans =\n",
      "\n",
      "     1\n",
      "\n",
      "\n",
      "ans =\n",
      "\n",
      "     2\n",
      "\n",
      "\n",
      "ans =\n",
      "\n",
      "     3\n",
      "\n"
     ]
    }
   ],
   "source": [
    "% , 逗号的作用是多行语句一行执行, 但是都显示\n",
    "1, 2, 3"
   ]
  },
  {
   "cell_type": "code",
   "execution_count": 49,
   "metadata": {},
   "outputs": [
    {
     "name": "stdout",
     "output_type": "stream",
     "text": [
      "\n",
      "ans =\n",
      "\n",
      "  logical\n",
      "\n",
      "   0\n",
      "\n",
      "\n",
      "ans =\n",
      "\n",
      "  logical\n",
      "\n",
      "   1\n",
      "\n"
     ]
    }
   ],
   "source": [
    "% 在 MATLAB 中不等于是 ~=\n",
    "1~=1\n",
    "1~=2"
   ]
  },
  {
   "cell_type": "code",
   "execution_count": 50,
   "metadata": {},
   "outputs": [
    {
     "name": "stdout",
     "output_type": "stream",
     "text": [
      "\n",
      "ans =\n",
      "\n",
      "  1x5 logical array\n",
      "\n",
      "   0   1   0   1   0\n",
      "\n",
      "\n",
      "ans =\n",
      "\n",
      "  logical\n",
      "\n",
      "   0\n",
      "\n"
     ]
    }
   ],
   "source": [
    "% & 与 && 有明显区别, & 谁逐元素逻辑与, && 是短路逻辑与\n",
    "[1, 2, 0, 1, 0] & [0, 1, 1, 1, 1]\n",
    "\n",
    "% 不会爆发数组形状不匹配的错误, 因为被短路了\n",
    "0 && [1, 2]*[1, 2, 3]'"
   ]
  },
  {
   "cell_type": "code",
   "execution_count": 51,
   "metadata": {},
   "outputs": [
    {
     "name": "stdout",
     "output_type": "stream",
     "text": [
      "\n",
      "ans =\n",
      "\n",
      "  1x5 logical array\n",
      "\n",
      "   1   1   0   1   1\n",
      "\n",
      "\n",
      "ans =\n",
      "\n",
      "  logical\n",
      "\n",
      "   1\n",
      "\n"
     ]
    }
   ],
   "source": [
    "% | 和 || 一样, 一个是逐元素逻辑或, 一个是短路逻辑或\n",
    "[1, 2, 0, 1, 1] | [0, 1, 0, 0, 0]\n",
    "\n",
    "% 不会爆发数组形状不匹配的错误, 因为被短路了\n",
    "1 || [1, 2]*[1, 2, 3]'"
   ]
  },
  {
   "cell_type": "code",
   "execution_count": 52,
   "metadata": {},
   "outputs": [
    {
     "name": "stdout",
     "output_type": "stream",
     "text": [
      "\n",
      "e =\n",
      "\n",
      "  logical\n",
      "\n",
      "   0\n",
      "\n",
      "\n",
      "f =\n",
      "\n",
      "  logical\n",
      "\n",
      "   1\n",
      "\n"
     ]
    }
   ],
   "source": [
    "a = 1; b = 2; c = 3;\n",
    "e = (a>b)\n",
    "f = c>b\n",
    "% 从这个例子中可以看出, 括号可以去掉 (回答 ppt 上的问题)"
   ]
  },
  {
   "cell_type": "code",
   "execution_count": 53,
   "metadata": {},
   "outputs": [
    {
     "name": "stdout",
     "output_type": "stream",
     "text": [
      "\n",
      "ans =\n",
      "\n",
      "     4\n",
      "\n"
     ]
    }
   ],
   "source": [
    "% 一维下标寻址是列优先\n",
    "A = [1, 2, 3;\n",
    "     4, 5, 6;\n",
    "     7, 8, 9];\n",
    "A(2)"
   ]
  },
  {
   "cell_type": "markdown",
   "metadata": {},
   "source": [
    "# 一些函数"
   ]
  },
  {
   "cell_type": "code",
   "execution_count": 54,
   "metadata": {},
   "outputs": [
    {
     "name": "stdout",
     "output_type": "stream",
     "text": [
      "\n",
      "I =\n",
      "\n",
      "     2\n",
      "     2\n",
      "\n",
      "\n",
      "J =\n",
      "\n",
      "     1\n",
      "     2\n",
      "\n"
     ]
    }
   ],
   "source": [
    "% find 函数\n",
    "[I, J] = find(A>3 & A<6)  % 注意这里用代数逻辑算符"
   ]
  },
  {
   "cell_type": "code",
   "execution_count": 55,
   "metadata": {},
   "outputs": [
    {
     "name": "stdout",
     "output_type": "stream",
     "text": [
      "\n",
      "ans =\n",
      "\n",
      "     4\n",
      "     5\n",
      "\n"
     ]
    }
   ],
   "source": [
    "A(find(A>3 & A<6))"
   ]
  },
  {
   "cell_type": "code",
   "execution_count": 56,
   "metadata": {},
   "outputs": [
    {
     "name": "stdout",
     "output_type": "stream",
     "text": [
      "\n",
      "ans =\n",
      "\n",
      "  logical\n",
      "\n",
      "   0\n",
      "\n",
      "\n",
      "ans =\n",
      "\n",
      "  logical\n",
      "\n",
      "   1\n",
      "\n"
     ]
    }
   ],
   "source": [
    "% MATLAB 似乎逻辑值不等价于整数值 0, 1\n",
    "islogical([0, 1, 0])\n",
    "islogical(A<10)"
   ]
  },
  {
   "cell_type": "code",
   "execution_count": 57,
   "metadata": {},
   "outputs": [
    {
     "name": "stdout",
     "output_type": "stream",
     "text": [
      "\n",
      "A(:,:,1) =\n",
      "\n",
      "         0.814723686393179         0.126986816293506          0.63235924622541\n",
      "         0.905791937075619         0.913375856139019        0.0975404049994095\n",
      "\n",
      "\n",
      "A(:,:,2) =\n",
      "\n",
      "         0.278498218867048         0.957506835434298         0.157613081677548\n",
      "         0.546881519204984         0.964888535199277         0.970592781760616\n",
      "\n",
      "\n",
      "B(:,:,1) =\n",
      "\n",
      "    15    13     9\n",
      "    10     6    15\n",
      "\n",
      "\n",
      "B(:,:,2) =\n",
      "\n",
      "    13    12    14\n",
      "    15     5    15\n",
      "\n"
     ]
    }
   ],
   "source": [
    "A = rand(2, 3, 2)\n",
    "B = randi([5 15], 2, 3, 2)     % 先指定范围, 再输入形状"
   ]
  },
  {
   "cell_type": "code",
   "execution_count": 58,
   "metadata": {},
   "outputs": [
    {
     "name": "stdout",
     "output_type": "stream",
     "text": [
      "\n",
      "ans(:,:,1) =\n",
      "\n",
      "         0.814723686393179         0.126986816293506          0.63235924622541\n",
      "         0.905791937075619         0.913375856139019        0.0975404049994095\n",
      "                        15                        13                         9\n",
      "                        10                         6                        15\n",
      "\n",
      "\n",
      "ans(:,:,2) =\n",
      "\n",
      "         0.278498218867048         0.957506835434298         0.157613081677548\n",
      "         0.546881519204984         0.964888535199277         0.970592781760616\n",
      "                        13                        12                        14\n",
      "                        15                         5                        15\n",
      "\n",
      "\n",
      "ans(:,:,1) =\n",
      "\n",
      "         0.814723686393179         0.126986816293506          0.63235924622541\n",
      "         0.905791937075619         0.913375856139019        0.0975404049994095\n",
      "                        15                        13                         9\n",
      "                        10                         6                        15\n",
      "\n",
      "\n",
      "ans(:,:,2) =\n",
      "\n",
      "         0.278498218867048         0.957506835434298         0.157613081677548\n",
      "         0.546881519204984         0.964888535199277         0.970592781760616\n",
      "                        13                        12                        14\n",
      "                        15                         5                        15\n",
      "\n"
     ]
    }
   ],
   "source": [
    "cat(1, A, B)    % 竖着\n",
    "[A; B]  % 等价"
   ]
  },
  {
   "cell_type": "code",
   "execution_count": 59,
   "metadata": {},
   "outputs": [
    {
     "name": "stdout",
     "output_type": "stream",
     "text": [
      "\n",
      "ans(:,:,1) =\n",
      "\n",
      "  Columns 1 through 3\n",
      "\n",
      "         0.814723686393179         0.126986816293506          0.63235924622541\n",
      "         0.905791937075619         0.913375856139019        0.0975404049994095\n",
      "\n",
      "  Columns 4 through 6\n",
      "\n",
      "                        15                        13                         9\n",
      "                        10                         6                        15\n",
      "\n",
      "\n",
      "ans(:,:,2) =\n",
      "\n",
      "  Columns 1 through 3\n",
      "\n",
      "         0.278498218867048         0.957506835434298         0.157613081677548\n",
      "         0.546881519204984         0.964888535199277         0.970592781760616\n",
      "\n",
      "  Columns 4 through 6\n",
      "\n",
      "                        13                        12                        14\n",
      "                        15                         5                        15\n",
      "\n",
      "\n",
      "ans(:,:,1) =\n",
      "\n",
      "  Columns 1 through 3\n",
      "\n",
      "         0.814723686393179         0.126986816293506          0.63235924622541\n",
      "         0.905791937075619         0.913375856139019        0.0975404049994095\n",
      "\n",
      "  Columns 4 through 6\n",
      "\n",
      "                        15                        13                         9\n",
      "                        10                         6                        15\n",
      "\n",
      "\n",
      "ans(:,:,2) =\n",
      "\n",
      "  Columns 1 through 3\n",
      "\n",
      "         0.278498218867048         0.957506835434298         0.157613081677548\n",
      "         0.546881519204984         0.964888535199277         0.970592781760616\n",
      "\n",
      "  Columns 4 through 6\n",
      "\n",
      "                        13                        12                        14\n",
      "                        15                         5                        15\n",
      "\n"
     ]
    }
   ],
   "source": [
    "cat(2, A, B)    % 横着\n",
    "[A B]   % 等价"
   ]
  },
  {
   "cell_type": "code",
   "execution_count": 60,
   "metadata": {},
   "outputs": [
    {
     "name": "stdout",
     "output_type": "stream",
     "text": [
      "\n",
      "ans(:,:,1) =\n",
      "\n",
      "         0.814723686393179         0.126986816293506          0.63235924622541\n",
      "         0.905791937075619         0.913375856139019        0.0975404049994095\n",
      "\n",
      "\n",
      "ans(:,:,2) =\n",
      "\n",
      "         0.278498218867048         0.957506835434298         0.157613081677548\n",
      "         0.546881519204984         0.964888535199277         0.970592781760616\n",
      "\n",
      "\n",
      "ans(:,:,3) =\n",
      "\n",
      "    15    13     9\n",
      "    10     6    15\n",
      "\n",
      "\n",
      "ans(:,:,4) =\n",
      "\n",
      "    13    12    14\n",
      "    15     5    15\n",
      "\n"
     ]
    }
   ],
   "source": [
    "cat(3, A, B)"
   ]
  },
  {
   "cell_type": "markdown",
   "metadata": {},
   "source": [
    "# 矩阵操作函数"
   ]
  },
  {
   "cell_type": "code",
   "execution_count": 61,
   "metadata": {},
   "outputs": [
    {
     "name": "stdout",
     "output_type": "stream",
     "text": [
      "\n",
      "ans =\n",
      "\n",
      "     3     2     1\n",
      "     6     5     4\n",
      "\n"
     ]
    }
   ],
   "source": [
    "% fliplr -> flip left to right\n",
    "A = [1, 2, 3;\n",
    "     4, 5, 6];\n",
    "fliplr(A)"
   ]
  },
  {
   "cell_type": "code",
   "execution_count": 62,
   "metadata": {},
   "outputs": [
    {
     "name": "stdout",
     "output_type": "stream",
     "text": [
      "\n",
      "ans =\n",
      "\n",
      "     4     5     6\n",
      "     1     2     3\n",
      "\n"
     ]
    }
   ],
   "source": [
    "% flipud -> flip up to down\n",
    "flipud(A)"
   ]
  },
  {
   "cell_type": "code",
   "execution_count": 63,
   "metadata": {},
   "outputs": [
    {
     "name": "stdout",
     "output_type": "stream",
     "text": [
      "\n",
      "ans =\n",
      "\n",
      "     3     6\n",
      "     2     5\n",
      "     1     4\n",
      "\n"
     ]
    }
   ],
   "source": [
    "rot90(A)    % 逆时针"
   ]
  },
  {
   "cell_type": "code",
   "execution_count": 64,
   "metadata": {},
   "outputs": [
    {
     "name": "stdout",
     "output_type": "stream",
     "text": [
      "\n",
      "ans =\n",
      "\n",
      "     4     1\n",
      "     5     2\n",
      "     6     3\n",
      "\n"
     ]
    }
   ],
   "source": [
    "rot90(A,-1) % 顺时针"
   ]
  },
  {
   "cell_type": "code",
   "execution_count": 65,
   "metadata": {},
   "outputs": [
    {
     "name": "stdout",
     "output_type": "stream",
     "text": [
      "\n",
      "ans =\n",
      "\n",
      "     1\n",
      "     5\n",
      "\n"
     ]
    }
   ],
   "source": [
    "diag(A) % 提取主对角线元素, diag 也可以创建矩阵, 这很熟了"
   ]
  },
  {
   "cell_type": "code",
   "execution_count": 66,
   "metadata": {},
   "outputs": [
    {
     "name": "stdout",
     "output_type": "stream",
     "text": [
      "\n",
      "B =\n",
      "\n",
      "     1     0     0     0\n",
      "     0     2     0     0\n",
      "     0     0     3     0\n",
      "     0     0     0     4\n",
      "\n",
      "\n",
      "ans =\n",
      "\n",
      "    10\n",
      "\n"
     ]
    }
   ],
   "source": [
    "B = diag(1:4)\n",
    "trace(B)    % trace 求矩阵的迹"
   ]
  },
  {
   "cell_type": "code",
   "execution_count": 67,
   "metadata": {},
   "outputs": [
    {
     "name": "stdout",
     "output_type": "stream",
     "text": [
      "\n",
      "ans =\n",
      "\n",
      "     1     2     3\n",
      "     0     5     6\n",
      "     0     0     9\n",
      "\n",
      "\n",
      "ans =\n",
      "\n",
      "     1     0     0\n",
      "     4     5     0\n",
      "     7     8     9\n",
      "\n"
     ]
    }
   ],
   "source": [
    "% triu, tril, up and low, 提取上下三角部分\n",
    "C = [1, 2, 3;\n",
    "     4, 5, 6;\n",
    "     7, 8, 9];\n",
    "triu(C)\n",
    "tril(C)"
   ]
  },
  {
   "cell_type": "code",
   "execution_count": 68,
   "metadata": {},
   "outputs": [
    {
     "name": "stdout",
     "output_type": "stream",
     "text": [
      "\n",
      "ans =\n",
      "\n",
      "     3\n",
      "\n",
      "\n",
      "ans =\n",
      "\n",
      "     3     3\n",
      "\n",
      "\n",
      "ans =\n",
      "\n",
      "  logical\n",
      "\n",
      "   0\n",
      "\n",
      "\n",
      "ans =\n",
      "\n",
      "  logical\n",
      "\n",
      "   1\n",
      "\n"
     ]
    }
   ],
   "source": [
    "% 矩阵的属性, length, size, isempty, ismember, isfinite, isinf, isnan, ndims\n",
    "length(C)   % 返回最长维度的长度\n",
    "size(C)     % 返回形状\n",
    "isempty([0])% 检查是否为空, 注意空和 0 不一样\n",
    "isempty([])"
   ]
  },
  {
   "cell_type": "code",
   "execution_count": 69,
   "metadata": {},
   "outputs": [
    {
     "name": "stdout",
     "output_type": "stream",
     "text": [
      "\n",
      "result =\n",
      "\n",
      "  1x4 logical array\n",
      "\n",
      "   0   1   0   1\n",
      "\n"
     ]
    }
   ],
   "source": [
    "% 检查数组中的元素是否为另一个数组的成员。\n",
    "A = [1 2 3 4];\n",
    "B = [2 4 6];\n",
    "result = ismember(A, B) "
   ]
  },
  {
   "cell_type": "code",
   "execution_count": 70,
   "metadata": {},
   "outputs": [
    {
     "name": "stdout",
     "output_type": "stream",
     "text": [
      "\n",
      "finite =\n",
      "\n",
      "  1x4 logical array\n",
      "\n",
      "   1   1   0   0\n",
      "\n"
     ]
    }
   ],
   "source": [
    "% 检查是否是有限数\n",
    "A = [1 2 Inf NaN];\n",
    "finite = isfinite(A)"
   ]
  },
  {
   "cell_type": "code",
   "execution_count": 71,
   "metadata": {},
   "outputs": [
    {
     "name": "stdout",
     "output_type": "stream",
     "text": [
      "\n",
      "inf =\n",
      "\n",
      "  1x4 logical array\n",
      "\n",
      "   0   0   1   0\n",
      "\n"
     ]
    }
   ],
   "source": [
    "% 检查是否是无限数\n",
    "inf = isinf(A)"
   ]
  },
  {
   "cell_type": "code",
   "execution_count": 72,
   "metadata": {},
   "outputs": [
    {
     "name": "stdout",
     "output_type": "stream",
     "text": [
      "\n",
      "nan =\n",
      "\n",
      "  1x4 logical array\n",
      "\n",
      "   0   0   0   1\n",
      "\n"
     ]
    }
   ],
   "source": [
    "% 检查是否是非数\n",
    "nan = isnan(A)"
   ]
  },
  {
   "cell_type": "code",
   "execution_count": 73,
   "metadata": {},
   "outputs": [
    {
     "name": "stdout",
     "output_type": "stream",
     "text": [
      "\n",
      "dims =\n",
      "\n",
      "     3\n",
      "\n"
     ]
    }
   ],
   "source": [
    "% 返回维度\n",
    "A = rand(2,2,2);\n",
    "dims = ndims(A)"
   ]
  },
  {
   "cell_type": "code",
   "execution_count": 74,
   "metadata": {},
   "outputs": [
    {
     "name": "stdout",
     "output_type": "stream",
     "text": [
      "\n",
      "S =\n",
      "\n",
      "    -1     0     1    -1\n",
      "\n"
     ]
    }
   ],
   "source": [
    "% 返回每个元素的符号\n",
    "X = [-2, 0, 3, -1];\n",
    "S = sign(X)"
   ]
  },
  {
   "cell_type": "code",
   "execution_count": 75,
   "metadata": {},
   "outputs": [
    {
     "name": "stdout",
     "output_type": "stream",
     "text": [
      "\n",
      "ans =\n",
      "\n",
      "     2     3     1\n",
      "\n",
      "\n",
      "ans =\n",
      "\n",
      "     2\n",
      "     3\n",
      "     1\n",
      "\n"
     ]
    }
   ],
   "source": [
    "% diff 默认沿着第一个长度不是 1 的维度进行相邻元素差分\n",
    "diff([1, 3, 6, 7])\n",
    "diff([\n",
    "    1;\n",
    "    3;\n",
    "    6;\n",
    "    7\n",
    "])"
   ]
  },
  {
   "cell_type": "code",
   "execution_count": 76,
   "metadata": {},
   "outputs": [
    {
     "name": "stdout",
     "output_type": "stream",
     "text": [
      "\n",
      "ans =\n",
      "\n",
      "     0     3    -3    -5\n",
      "    -1     4     5     1\n",
      "\n"
     ]
    }
   ],
   "source": [
    "% 注意第一个维度是列维度, 也就是朝下走\n",
    "diff([1, 1, 4, 5;\n",
    "      1, 4, 1, 0;\n",
    "      0, 8, 6, 1])"
   ]
  },
  {
   "cell_type": "code",
   "execution_count": 77,
   "metadata": {},
   "outputs": [
    {
     "name": "stdout",
     "output_type": "stream",
     "text": [
      "\n",
      "ans =\n",
      "\n",
      "    -1     1     8     6\n",
      "\n"
     ]
    }
   ],
   "source": [
    "% diff(Mat, n) 表示进行 n 次差分\n",
    "diff([1, 1, 4, 5;\n",
    "      1, 4, 1, 0;\n",
    "      0, 8, 6, 1], 2)"
   ]
  },
  {
   "cell_type": "code",
   "execution_count": 78,
   "metadata": {},
   "outputs": [
    {
     "name": "stdout",
     "output_type": "stream",
     "text": [
      "\n",
      "ans =\n",
      "\n",
      "     0     3     1\n",
      "     3    -3    -1\n",
      "     8    -2    -5\n",
      "\n"
     ]
    }
   ],
   "source": [
    "% diff(Mat, 1, idim) 表示沿着第 idim 的维度进行 1 次差分\n",
    "% 1 可以改成别的值\n",
    "diff([1, 1, 4, 5;\n",
    "      1, 4, 1, 0;\n",
    "      0, 8, 6, 1], 1, 2)"
   ]
  },
  {
   "cell_type": "code",
   "execution_count": 79,
   "metadata": {},
   "outputs": [
    {
     "name": "stdout",
     "output_type": "stream",
     "text": [
      "\n",
      "ans =\n",
      "\n",
      "     1     8     6     5\n",
      "\n"
     ]
    }
   ],
   "source": [
    "% max 函数返回沿着第一个维度 (列) 的最大值\n",
    "max([1, 1, 4, 5;\n",
    "     1, 4, 1, 0;\n",
    "     0, 8, 6, 1])"
   ]
  },
  {
   "cell_type": "code",
   "execution_count": 80,
   "metadata": {},
   "outputs": [
    {
     "name": "stdout",
     "output_type": "stream",
     "text": [
      "\n",
      "ans =\n",
      "\n",
      "     3\n",
      "\n",
      "\n",
      "ans =\n",
      "\n",
      "     3\n",
      "\n"
     ]
    }
   ],
   "source": [
    "% 准确来说是第一个长度不是 1 的维度\n",
    "max([1;\n",
    "     2;\n",
    "     3])\n",
    "max([1, 2, 3])"
   ]
  },
  {
   "cell_type": "code",
   "execution_count": 81,
   "metadata": {},
   "outputs": [
    {
     "name": "stdout",
     "output_type": "stream",
     "text": [
      "\n",
      "ans =\n",
      "\n",
      "     1     2     4\n",
      "     5     5     6\n",
      "     7     8     9\n",
      "\n"
     ]
    }
   ],
   "source": [
    "% max(A, [], idim) 表示沿着第 idim 维度比较, 第二个参数 [] 是必须的, 表示不进行 max(A, B) 的二元比较\n",
    "A = [\n",
    "    1, 2, 3;\n",
    "    4, 5, 6;\n",
    "    7, 8, 9;\n",
    "];\n",
    "B = [\n",
    "    1, 1, 4;\n",
    "    5, 1, 4;\n",
    "    2, 3, 3;\n",
    "];\n",
    "max(A, B)"
   ]
  },
  {
   "cell_type": "code",
   "execution_count": 82,
   "metadata": {},
   "outputs": [
    {
     "name": "stdout",
     "output_type": "stream",
     "text": [
      "\n",
      "ans =\n",
      "\n",
      "     3\n",
      "     6\n",
      "     9\n",
      "\n"
     ]
    }
   ],
   "source": [
    "max(A, [], 2)"
   ]
  },
  {
   "cell_type": "code",
   "execution_count": 83,
   "metadata": {},
   "outputs": [
    {
     "name": "stdout",
     "output_type": "stream",
     "text": [
      "\n",
      "ans =\n",
      "\n",
      "     1     1     3\n",
      "     2     1     4\n",
      "     5     3     4\n",
      "\n",
      "\n",
      "ans =\n",
      "\n",
      "     5     3     4\n",
      "     2     1     4\n",
      "     1     1     3\n",
      "\n",
      "\n",
      "ans =\n",
      "\n",
      "     1     1     4\n",
      "     1     4     5\n",
      "     2     3     3\n",
      "\n",
      "\n",
      "ans =\n",
      "\n",
      "     4     1     1\n",
      "     5     4     1\n",
      "     3     3     2\n",
      "\n"
     ]
    }
   ],
   "source": [
    "% Y = sort(X, dim, 'ascend' | 'descend')\n",
    "% 第一个参数 X 表示要排序的矩阵\n",
    "% 第二个参数表示要沿着哪个维度\n",
    "% 字符串 “ascend” 表示升序, “descend” 表示降序\n",
    "sort(B)\n",
    "sort(B, 1, \"descend\")\n",
    "sort(B, 2)\n",
    "sort(B, 2, \"descend\")"
   ]
  },
  {
   "cell_type": "code",
   "execution_count": 84,
   "metadata": {},
   "outputs": [
    {
     "name": "stdout",
     "output_type": "stream",
     "text": [
      "\n",
      "ans =\n",
      "\n",
      "    11\n",
      "\n",
      "\n",
      "ans =\n",
      "\n",
      "                     11.45\n",
      "\n"
     ]
    }
   ],
   "source": [
    "% round(flt, N) \n",
    "% 第一个参数 flt 是浮点数\n",
    "% N 可选, 不写时表示四舍五入到整数, 填写时表示四舍五入到点后 N 位\n",
    "round(11.4514)\n",
    "round(11.4514, 2)"
   ]
  },
  {
   "cell_type": "code",
   "execution_count": 85,
   "metadata": {},
   "outputs": [
    {
     "name": "stdout",
     "output_type": "stream",
     "text": [
      "\n",
      "ans =\n",
      "\n",
      "    12\n",
      "\n"
     ]
    }
   ],
   "source": [
    "% ceil 表示 ceiling 表示始终向上近似到最近整数\n",
    "ceil(11.4514)\n",
    "% ceil(11.4514, 2)  % ceil 没有第二个参数"
   ]
  },
  {
   "cell_type": "code",
   "execution_count": 86,
   "metadata": {},
   "outputs": [
    {
     "name": "stdout",
     "output_type": "stream",
     "text": [
      "\n",
      "ans =\n",
      "\n",
      "    11\n",
      "\n"
     ]
    }
   ],
   "source": [
    "% floor 表示始终向下近似到最近整数\n",
    "floor(11.4514)\n",
    "% floor(11.4514, 2)  % floor 没有第二个参数"
   ]
  },
  {
   "cell_type": "code",
   "execution_count": 87,
   "metadata": {},
   "outputs": [
    {
     "name": "stdout",
     "output_type": "stream",
     "text": [
      "\n",
      "ans =\n",
      "\n",
      "     1     2     3     4\n",
      "\n",
      "\n",
      "ans =\n",
      "\n",
      "     1     4     3     2\n",
      "\n"
     ]
    }
   ],
   "source": [
    "% [C, ia, ic] = unique(A, 'sorted'|'stable')\n",
    "% 一般接受一维数组\n",
    "unique([1, 4, 3, 3, 2, 2, 3])\n",
    "unique([1, 4, 3, 3, 2, 2, 3], \"stable\")"
   ]
  },
  {
   "cell_type": "code",
   "execution_count": 88,
   "metadata": {},
   "outputs": [
    {
     "name": "stdout",
     "output_type": "stream",
     "text": [
      "\n",
      "C =\n",
      "\n",
      "     1     2     3     4\n",
      "\n",
      "\n",
      "ia =\n",
      "\n",
      "     1\n",
      "     5\n",
      "     3\n",
      "     2\n",
      "\n",
      "\n",
      "ic =\n",
      "\n",
      "     1\n",
      "     4\n",
      "     3\n",
      "     3\n",
      "     2\n",
      "     2\n",
      "     3\n",
      "\n",
      "\n",
      "C =\n",
      "\n",
      "     1     4     3     2\n",
      "\n",
      "\n",
      "ia =\n",
      "\n",
      "     1\n",
      "     2\n",
      "     3\n",
      "     5\n",
      "\n",
      "\n",
      "ic =\n",
      "\n",
      "     1\n",
      "     2\n",
      "     3\n",
      "     3\n",
      "     4\n",
      "     4\n",
      "     3\n",
      "\n"
     ]
    }
   ],
   "source": [
    "% ia：索引向量，使得 C = A(ia)\n",
    "% ic：索引向量，使得 A = C(ic)\n",
    "[C, ia, ic] = unique([1, 4, 3, 3, 2, 2, 3])\n",
    "[C, ia, ic] = unique([1, 4, 3, 3, 2, 2, 3], \"stable\")"
   ]
  },
  {
   "cell_type": "code",
   "execution_count": 89,
   "metadata": {},
   "outputs": [
    {
     "name": "stdout",
     "output_type": "stream",
     "text": [
      "\n",
      "ans =\n",
      "\n",
      "     4     5     6     5\n",
      "\n"
     ]
    }
   ],
   "source": [
    "% mean(A, idim)\n",
    "mean([1, 2, 3, 2;\n",
    "      4, 5, 6, 8;\n",
    "      7, 8, 9, 5;])"
   ]
  },
  {
   "cell_type": "code",
   "execution_count": 90,
   "metadata": {},
   "outputs": [
    {
     "name": "stdout",
     "output_type": "stream",
     "text": [
      "\n",
      "ans =\n",
      "\n",
      "                         2\n",
      "                      5.75\n",
      "                      7.25\n",
      "\n"
     ]
    }
   ],
   "source": [
    "mean([1, 2, 3, 2;\n",
    "      4, 5, 6, 8;\n",
    "      7, 8, 9, 5;], 2)"
   ]
  },
  {
   "cell_type": "code",
   "execution_count": 91,
   "metadata": {},
   "outputs": [
    {
     "name": "stdout",
     "output_type": "stream",
     "text": [
      "\n",
      "ans =\n",
      "\n",
      "     3     3     3\n",
      "\n"
     ]
    }
   ],
   "source": [
    "% std(A, idim) 计算数组的标准差 (样本方差)\n",
    "std([1, 3, 5;\n",
    "     7, 9, 2;\n",
    "     4, 6, 8;])"
   ]
  },
  {
   "cell_type": "markdown",
   "metadata": {},
   "source": [
    "$$\n",
    "\\sigma=\\sqrt{\\frac{1}{N-1}\\sum_{i=1}^{n}\\left(x_i-\\mu\\right)^2}\n",
    "$$"
   ]
  },
  {
   "cell_type": "code",
   "execution_count": 92,
   "metadata": {},
   "outputs": [
    {
     "name": "stdout",
     "output_type": "stream",
     "text": [
      "\n",
      "N =\n",
      "\n",
      "     2     3     1\n",
      "\n"
     ]
    }
   ],
   "source": [
    "% N = histc(X, edges, dim)\n",
    "X = [1 2 3 4 5 6];\n",
    "edges = [0 3 6];\n",
    "N = histc(X, edges)  % 结果为 [3 2 0 1]，表示 X 中有 3 个值落在 [0,3) 内，2 个值落在 [3,6) 内，1 个值等于 6"
   ]
  },
  {
   "cell_type": "code",
   "execution_count": 93,
   "metadata": {},
   "outputs": [
    {
     "name": "stdout",
     "output_type": "stream",
     "text": [
      "\n",
      "p =\n",
      "\n",
      "  Columns 1 through 3\n",
      "\n",
      "       0.00582750582750584        0.0780885780885782          1.46620046620046\n",
      "\n",
      "  Column 4\n",
      "\n",
      "         0.066666666666673\n",
      "\n"
     ]
    }
   ],
   "source": [
    "% polyfit 函数用来拟合多项式\n",
    "x = 1:10;\n",
    "y = [2 3 5 7 11 13 17 19 23 29];\n",
    "p = polyfit(x, y, 3)"
   ]
  },
  {
   "cell_type": "markdown",
   "metadata": {},
   "source": [
    "$$\n",
    "\\begin{align*}\n",
    "y &= a_nx^n+a_{n-1}x^{n-1}+\\cdots+a_1x^1+a_0x^0\\\\\n",
    "  &= p(1)x^n+p(2)x^{n-1}+\\cdots+p_(n)x^1+p(n+1)x^0\n",
    "\\end{align*}\n",
    "$$"
   ]
  },
  {
   "cell_type": "code",
   "execution_count": 100,
   "metadata": {},
   "outputs": [
    {
     "data": {
      "image/png": "[encoded data removed]",
      "text/plain": [
       "<IPython.core.display.Image object>"
      ]
     },
     "metadata": {},
     "output_type": "display_data"
    }
   ],
   "source": [
    "scatter(x, y)\n",
    "hold on\n",
    "box on\n",
    "plot(x, polyval(p, x))"
   ]
  },
  {
   "cell_type": "markdown",
   "metadata": {},
   "source": [
    "<!--  -->"
   ]
  },
  {
   "cell_type": "code",
   "execution_count": 101,
   "metadata": {},
   "outputs": [
    {
     "name": "stdout",
     "output_type": "stream",
     "text": [
      "\n",
      "ans =\n",
      "\n",
      "           16.116843969807\n",
      "         -1.11684396980704\n",
      "     -1.04594093179094e-15\n",
      "\n"
     ]
    }
   ],
   "source": [
    "% eig() 函数有两种用法\n",
    "% e = eig(A), 其中 A 是方正, e 是特征值组成的列向量\n",
    "% [V, D] = eig(A), V 的列是 A 的特征向量, 对应于 D (对角阵, 每个元素是 A 的特征值) 的列\n",
    "A = [1, 2, 3;\n",
    "     4, 5, 6;\n",
    "     7, 8, 9;];\n",
    "eig(A)"
   ]
  },
  {
   "cell_type": "code",
   "execution_count": 102,
   "metadata": {},
   "outputs": [
    {
     "name": "stdout",
     "output_type": "stream",
     "text": [
      "\n",
      "V =\n",
      "\n",
      "        -0.231970687246286        -0.785830238742067         0.408248290463863\n",
      "        -0.525322093301234       -0.0867513392566285        -0.816496580927726\n",
      "        -0.818673499356181          0.61232756022881         0.408248290463863\n",
      "\n",
      "\n",
      "D =\n",
      "\n",
      "           16.116843969807                         0                         0\n",
      "                         0         -1.11684396980704                         0\n",
      "                         0                         0     -1.04594093179094e-15\n",
      "\n"
     ]
    }
   ],
   "source": [
    "[V, D] = eig(A)"
   ]
  },
  {
   "cell_type": "code",
   "execution_count": null,
   "metadata": {},
   "outputs": [],
   "source": []
  }
 ],
 "metadata": {
  "kernelspec": {
   "display_name": "Matlab (Connection)",
   "language": "matlab",
   "name": "matlab_connect"
  },
  "language_info": {
   "codemirror_mode": "octave",
   "file_extension": ".m",
   "help_links": [
    {
     "text": "MetaKernel Magics",
     "url": "https://metakernel.readthedocs.io/en/latest/source/README.html"
    }
   ],
   "mimetype": "text/x-octave",
   "name": "matlab",
   "version": "0.17.1"
  }
 },
 "nbformat": 4,
 "nbformat_minor": 2
}
