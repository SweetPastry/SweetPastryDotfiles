{
 "cells": [
  {
   "cell_type": "markdown",
   "metadata": {
    "vscode": {
     "languageId": "plaintext"
    }
   },
   "source": [
    "# 1. 重要的函数"
   ]
  },
  {
   "cell_type": "code",
   "execution_count": 2,
   "metadata": {},
   "outputs": [
    {
     "name": "stdout",
     "output_type": "stream",
     "text": [
      "\n",
      "m =\n",
      "\n",
      "     1     2     3\n",
      "     4     5     6\n",
      "     7     8     9\n",
      "\n"
     ]
    }
   ],
   "source": [
    "% \n",
    "m = [1   2   3;\n",
    "     4   5   6;\n",
    "     7   8   9]"
   ]
  },
  {
   "cell_type": "code",
   "execution_count": 3,
   "metadata": {},
   "outputs": [
    {
     "name": "stdout",
     "output_type": "stream",
     "text": [
      "\n",
      "ans =\n",
      "\n",
      "    12    15    18\n",
      "\n"
     ]
    }
   ],
   "source": [
    "sum(m)"
   ]
  },
  {
   "cell_type": "code",
   "execution_count": 5,
   "metadata": {},
   "outputs": [
    {
     "name": "stdout",
     "output_type": "stream",
     "text": [
      "\n",
      "ans =\n",
      "\n",
      "    12    15    18\n",
      "\n"
     ]
    }
   ],
   "source": [
    "sum(m, 1)"
   ]
  },
  {
   "cell_type": "code",
   "execution_count": 6,
   "metadata": {},
   "outputs": [
    {
     "name": "stdout",
     "output_type": "stream",
     "text": [
      "\n",
      "ans =\n",
      "\n",
      "     6\n",
      "    15\n",
      "    24\n",
      "\n"
     ]
    }
   ],
   "source": [
    "sum(m, 2)"
   ]
  },
  {
   "cell_type": "code",
   "execution_count": 8,
   "metadata": {},
   "outputs": [
    {
     "name": "stdout",
     "output_type": "stream",
     "text": [
      "\n",
      "m(:,:,1) =\n",
      "\n",
      "     1     2     3\n",
      "     4     5     6\n",
      "     7     8     9\n",
      "\n",
      "\n",
      "m(:,:,2) =\n",
      "\n",
      "     1     1     1\n",
      "     4     5     1\n",
      "     4     4     4\n",
      "\n",
      "\n",
      "ans =\n",
      "\n",
      "     2     3     4\n",
      "     8    10     7\n",
      "    11    12    13\n",
      "\n"
     ]
    }
   ],
   "source": [
    "m = cat(3, [\n",
    "    1   2   3;\n",
    "    4   5   6;\n",
    "    7   8   9;\n",
    "], [\n",
    "    1   1   1;\n",
    "    4   5   1;\n",
    "    4   4   4])\n",
    "sum(m, 3)"
   ]
  },
  {
   "cell_type": "code",
   "execution_count": null,
   "metadata": {},
   "outputs": [
    {
     "name": "stdout",
     "output_type": "stream",
     "text": [
      "\n",
      "mat =\n",
      "\n",
      "     1     2     3\n",
      "     4     5     6\n",
      "\n",
      "\n",
      "ans =\n",
      "\n",
      "     1     2     3\n",
      "\n"
     ]
    }
   ],
   "source": [
    "% min 函数\n",
    "% 默认对着列的方向看, 得到看过去的轴上每个元素的最小值\n",
    "mat = [\n",
    "    1, 2, 3;\n",
    "    4, 5, 6;\n",
    "]\n",
    "\n",
    "min(mat)"
   ]
  },
  {
   "cell_type": "code",
   "execution_count": null,
   "metadata": {},
   "outputs": [
    {
     "name": "stdout",
     "output_type": "stream",
     "text": [
      "\n",
      "ans =\n",
      "\n",
      "     1     2     3\n",
      "\n",
      "\n",
      "ans =\n",
      "\n",
      "     1\n",
      "     4\n",
      "\n"
     ]
    }
   ],
   "source": [
    "% min(mat, [], dim) 指定“看”的维度\n",
    "min(mat, [], 1)\n",
    "min(mat, [], 2)"
   ]
  },
  {
   "cell_type": "code",
   "execution_count": 21,
   "metadata": {},
   "outputs": [
    {
     "name": "stdout",
     "output_type": "stream",
     "text": [
      "\n",
      "ans =\n",
      "\n",
      "     1     1     3\n",
      "     4     1     4\n",
      "\n"
     ]
    }
   ],
   "source": [
    "% min(A, B) 返回同形状矩阵, 每个元素是 min{ a_{ij}, b_{ij} }\n",
    "mat  = [1, 2, 3;\n",
    "       4, 5, 6];\n",
    "mat2 = [1, 1, 4;\n",
    "        5, 1, 4];\n",
    "min(mat, mat2)"
   ]
  },
  {
   "cell_type": "code",
   "execution_count": 22,
   "metadata": {},
   "outputs": [
    {
     "name": "stdout",
     "output_type": "stream",
     "text": [
      "\n",
      "ans =\n",
      "\n",
      "     1     2     3\n",
      "     3     3     3\n",
      "\n"
     ]
    }
   ],
   "source": [
    "% 纯数当矩阵用\n",
    "min(mat, 3)"
   ]
  },
  {
   "cell_type": "code",
   "execution_count": 26,
   "metadata": {},
   "outputs": [
    {
     "name": "stdout",
     "output_type": "stream",
     "text": [
      "\n",
      "ans =\n",
      "\n",
      "     1     2     3\n",
      "     2     3     4\n",
      "\n"
     ]
    }
   ],
   "source": [
    "% 比较怪的语法, 搞不太明白\n",
    "min(mat, [2, 3, 4])\n",
    "% max 同理"
   ]
  },
  {
   "cell_type": "code",
   "execution_count": 32,
   "metadata": {},
   "outputs": [
    {
     "name": "stdout",
     "output_type": "stream",
     "text": [
      "\n",
      "A =\n",
      "\n",
      "     4     7     2     9     8\n",
      "     3     9     1     4     3\n",
      "     1     5     9     6     4\n",
      "     8     3     7     1     0\n",
      "\n",
      "\n",
      "ans =\n",
      "\n",
      "    16\n",
      "\n"
     ]
    }
   ],
   "source": [
    "A = [4 7 2 9 8;\n",
    "     3 9 1 4 3;\n",
    "     1 5 9 6 4;\n",
    "     8 3 7 1 0]\n",
    "sub2ind(size(A), 4, 4)\n",
    "% 意思是,已知矩阵 A 的形状, 求 (4,4) 那个点的坐标"
   ]
  },
  {
   "cell_type": "code",
   "execution_count": null,
   "metadata": {},
   "outputs": [
    {
     "name": "stdout",
     "output_type": "stream",
     "text": [
      "\n",
      "A =\n",
      "\n",
      "     1     5     9    13    17\n",
      "     2     6    10    14    18\n",
      "     3     7    11    15    19\n",
      "     4     8    12    16    20\n",
      "\n"
     ]
    }
   ],
   "source": [
    "% A 中元素的存储是先填充列再填充行的\n",
    "% numel 是求矩阵元素个数的函数\n",
    "for i=1:numel(A)\n",
    "    A(i) = i;\n",
    "end\n",
    "A"
   ]
  },
  {
   "cell_type": "code",
   "execution_count": 39,
   "metadata": {},
   "outputs": [
    {
     "name": "stdout",
     "output_type": "stream",
     "text": [
      "\n",
      "ans =\n",
      "\n",
      "     1     2\n",
      "     6    12\n",
      "\n"
     ]
    }
   ],
   "source": [
    "X = [1, 2;\n",
    "     2, 4;];\n",
    "Y = [1, 1;\n",
    "     2, 3];\n",
    "sub2ind(size(A), X, Y)\n",
    "% 解释: 只有画图时是行有限"
   ]
  },
  {
   "cell_type": "code",
   "execution_count": null,
   "metadata": {},
   "outputs": [],
   "source": []
  }
 ],
 "metadata": {
  "kernelspec": {
   "display_name": "Matlab (Connection)",
   "language": "matlab",
   "name": "matlab_connect"
  },
  "language_info": {
   "codemirror_mode": "octave",
   "file_extension": ".m",
   "help_links": [
    {
     "text": "MetaKernel Magics",
     "url": "https://metakernel.readthedocs.io/en/latest/source/README.html"
    }
   ],
   "mimetype": "text/x-octave",
   "name": "matlab",
   "version": "0.17.1"
  }
 },
 "nbformat": 4,
 "nbformat_minor": 2
}
