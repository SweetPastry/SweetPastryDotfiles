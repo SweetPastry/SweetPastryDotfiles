{
 "cells": [
  {
   "cell_type": "markdown",
   "metadata": {
    "vscode": {
     "languageId": "plaintext"
    }
   },
   "source": [
    "# 1. 重要的函数"
   ]
  },
  {
   "cell_type": "code",
   "execution_count": 2,
   "metadata": {},
   "outputs": [
    {
     "name": "stdout",
     "output_type": "stream",
     "text": [
      "\n",
      "m =\n",
      "\n",
      "     1     2     3\n",
      "     4     5     6\n",
      "     7     8     9\n",
      "\n"
     ]
    }
   ],
   "source": [
    "% \n",
    "m = [1   2   3;\n",
    "     4   5   6;\n",
    "     7   8   9]"
   ]
  },
  {
   "cell_type": "code",
   "execution_count": 3,
   "metadata": {},
   "outputs": [
    {
     "name": "stdout",
     "output_type": "stream",
     "text": [
      "\n",
      "ans =\n",
      "\n",
      "    12    15    18\n",
      "\n"
     ]
    }
   ],
   "source": [
    "sum(m)"
   ]
  },
  {
   "cell_type": "code",
   "execution_count": 4,
   "metadata": {},
   "outputs": [
    {
     "name": "stdout",
     "output_type": "stream",
     "text": [
      "\n",
      "ans =\n",
      "\n",
      "    12    15    18\n",
      "\n"
     ]
    }
   ],
   "source": [
    "sum(m, 1)"
   ]
  },
  {
   "cell_type": "code",
   "execution_count": 5,
   "metadata": {},
   "outputs": [
    {
     "name": "stdout",
     "output_type": "stream",
     "text": [
      "\n",
      "ans =\n",
      "\n",
      "     6\n",
      "    15\n",
      "    24\n",
      "\n"
     ]
    }
   ],
   "source": [
    "sum(m, 2)"
   ]
  },
  {
   "cell_type": "code",
   "execution_count": 6,
   "metadata": {},
   "outputs": [
    {
     "name": "stdout",
     "output_type": "stream",
     "text": [
      "\n",
      "m(:,:,1) =\n",
      "\n",
      "     1     2     3\n",
      "     4     5     6\n",
      "     7     8     9\n",
      "\n",
      "\n",
      "m(:,:,2) =\n",
      "\n",
      "     1     1     1\n",
      "     4     5     1\n",
      "     4     4     4\n",
      "\n",
      "\n",
      "ans =\n",
      "\n",
      "     2     3     4\n",
      "     8    10     7\n",
      "    11    12    13\n",
      "\n"
     ]
    }
   ],
   "source": [
    "m = cat(3, [\n",
    "    1   2   3;\n",
    "    4   5   6;\n",
    "    7   8   9;\n",
    "], [\n",
    "    1   1   1;\n",
    "    4   5   1;\n",
    "    4   4   4])\n",
    "sum(m, 3)"
   ]
  },
  {
   "cell_type": "code",
   "execution_count": 7,
   "metadata": {},
   "outputs": [
    {
     "name": "stdout",
     "output_type": "stream",
     "text": [
      "\n",
      "mat =\n",
      "\n",
      "     1     2     3\n",
      "     4     5     6\n",
      "\n",
      "\n",
      "ans =\n",
      "\n",
      "     1     2     3\n",
      "\n"
     ]
    }
   ],
   "source": [
    "% min 函数\n",
    "% 默认对着列的方向看, 得到看过去的轴上每个元素的最小值\n",
    "mat = [\n",
    "    1, 2, 3;\n",
    "    4, 5, 6;\n",
    "]\n",
    "\n",
    "min(mat)"
   ]
  },
  {
   "cell_type": "code",
   "execution_count": 8,
   "metadata": {},
   "outputs": [
    {
     "name": "stdout",
     "output_type": "stream",
     "text": [
      "\n",
      "ans =\n",
      "\n",
      "     1     2     3\n",
      "\n",
      "\n",
      "ans =\n",
      "\n",
      "     1\n",
      "     4\n",
      "\n"
     ]
    }
   ],
   "source": [
    "% min(mat, [], dim) 指定“看”的维度\n",
    "min(mat, [], 1)\n",
    "min(mat, [], 2)"
   ]
  },
  {
   "cell_type": "code",
   "execution_count": 9,
   "metadata": {},
   "outputs": [
    {
     "name": "stdout",
     "output_type": "stream",
     "text": [
      "\n",
      "ans =\n",
      "\n",
      "     1     1     3\n",
      "     4     1     4\n",
      "\n"
     ]
    }
   ],
   "source": [
    "% min(A, B) 返回同形状矩阵, 每个元素是 min{ a_{ij}, b_{ij} }\n",
    "mat  = [1, 2, 3;\n",
    "       4, 5, 6];\n",
    "mat2 = [1, 1, 4;\n",
    "        5, 1, 4];\n",
    "min(mat, mat2)"
   ]
  },
  {
   "cell_type": "code",
   "execution_count": 10,
   "metadata": {},
   "outputs": [
    {
     "name": "stdout",
     "output_type": "stream",
     "text": [
      "\n",
      "ans =\n",
      "\n",
      "     1     2     3\n",
      "     3     3     3\n",
      "\n"
     ]
    }
   ],
   "source": [
    "% 纯数当矩阵用\n",
    "min(mat, 3)"
   ]
  },
  {
   "cell_type": "code",
   "execution_count": 11,
   "metadata": {},
   "outputs": [
    {
     "name": "stdout",
     "output_type": "stream",
     "text": [
      "\n",
      "ans =\n",
      "\n",
      "     1     2     3\n",
      "     2     3     4\n",
      "\n"
     ]
    }
   ],
   "source": [
    "% 比较怪的语法, 搞不太明白\n",
    "min(mat, [2, 3, 4])\n",
    "% max 同理"
   ]
  },
  {
   "cell_type": "code",
   "execution_count": 12,
   "metadata": {},
   "outputs": [
    {
     "name": "stdout",
     "output_type": "stream",
     "text": [
      "\n",
      "A =\n",
      "\n",
      "     4     7     2     9     8\n",
      "     3     9     1     4     3\n",
      "     1     5     9     6     4\n",
      "     8     3     7     1     0\n",
      "\n",
      "\n",
      "ans =\n",
      "\n",
      "    16\n",
      "\n"
     ]
    }
   ],
   "source": [
    "A = [4 7 2 9 8;\n",
    "     3 9 1 4 3;\n",
    "     1 5 9 6 4;\n",
    "     8 3 7 1 0]\n",
    "sub2ind(size(A), 4, 4)\n",
    "% 意思是,已知矩阵 A 的形状, 求 (4,4) 那个点的坐标"
   ]
  },
  {
   "cell_type": "code",
   "execution_count": 13,
   "metadata": {},
   "outputs": [
    {
     "name": "stdout",
     "output_type": "stream",
     "text": [
      "\n",
      "ans =\n",
      "\n",
      "     1\n",
      "\n"
     ]
    }
   ],
   "source": [
    "A(2, 3)"
   ]
  },
  {
   "cell_type": "code",
   "execution_count": 14,
   "metadata": {},
   "outputs": [
    {
     "name": "stdout",
     "output_type": "stream",
     "text": [
      "\n",
      "A =\n",
      "\n",
      "     1     5     9    13    17\n",
      "     2     6    10    14    18\n",
      "     3     7    11    15    19\n",
      "     4     8    12    16    20\n",
      "\n"
     ]
    }
   ],
   "source": [
    "% A 中元素的存储是先填充列再填充行的\n",
    "% numel 是求矩阵元素个数的函数\n",
    "for i=1:numel(A)\n",
    "    A(i) = i;\n",
    "end\n",
    "A"
   ]
  },
  {
   "cell_type": "code",
   "execution_count": 15,
   "metadata": {},
   "outputs": [
    {
     "name": "stdout",
     "output_type": "stream",
     "text": [
      "\n",
      "ans =\n",
      "\n",
      "     1     2\n",
      "     6    12\n",
      "\n"
     ]
    }
   ],
   "source": [
    "X = [1, 2;\n",
    "     2, 4;];\n",
    "Y = [1, 1;\n",
    "     2, 3];\n",
    "sub2ind(size(A), X, Y)\n",
    "% 解释: matlab 中 x 是竖着, y 是横着的\n",
    "% (1, 1) 那个点是 A 中的元素 2 (这里把元素换成了那个位置的线性索引)\n",
    "% (4, 3) 那个点是 A 中的元素 12"
   ]
  },
  {
   "cell_type": "code",
   "execution_count": 16,
   "metadata": {},
   "outputs": [
    {
     "data": {
      "image/png": "[encoded data removed]",
      "text/plain": [
       "<IPython.core.display.Image object>"
      ]
     },
     "metadata": {},
     "output_type": "display_data"
    }
   ],
   "source": [
    "% 画图的时候, x 是横着的, 变成行优先了\n",
    "bar3(A)\n",
    "xlabel('x')\n",
    "ylabel('y')"
   ]
  },
  {
   "cell_type": "code",
   "execution_count": 17,
   "metadata": {},
   "outputs": [
    {
     "name": "stdout",
     "output_type": "stream",
     "text": [
      "\n",
      "X =\n",
      "\n",
      "     1     2     3     4\n",
      "     1     2     3     4\n",
      "     1     2     3     4\n",
      "     1     2     3     4\n",
      "\n",
      "\n",
      "Y =\n",
      "\n",
      "    -1    -1    -1    -1\n",
      "    -2    -2    -2    -2\n",
      "    -3    -3    -3    -3\n",
      "    -4    -4    -4    -4\n",
      "\n"
     ]
    }
   ],
   "source": [
    "[X, Y] = meshgrid(1:4, -(1:4))"
   ]
  },
  {
   "cell_type": "code",
   "execution_count": 18,
   "metadata": {},
   "outputs": [
    {
     "name": "stdout",
     "output_type": "stream",
     "text": [
      "\n",
      "ans =\n",
      "\n",
      "     1     6    11    16\n",
      "     2     7    12    17\n",
      "     3     8    13    18\n",
      "     4     9    14    19\n",
      "     5    10    15    20\n",
      "\n"
     ]
    }
   ],
   "source": [
    "% reshape 函数\n",
    "reshape(A, [5, 4])"
   ]
  },
  {
   "cell_type": "code",
   "execution_count": 19,
   "metadata": {},
   "outputs": [
    {
     "name": "stdout",
     "output_type": "stream",
     "text": [
      "\n",
      "C(:,:,1) =\n",
      "\n",
      "     1     2\n",
      "     3     4\n",
      "\n",
      "\n",
      "C(:,:,2) =\n",
      "\n",
      "     5     6\n",
      "     7     8\n",
      "\n"
     ]
    }
   ],
   "source": [
    "% cat(3, A, B) 沿着第 3 个方向拼接 A 和 B\n",
    "A = [1, 2;\n",
    "     3, 4];\n",
    "B = [5, 6;\n",
    "     7, 8];\n",
    "C = cat(3, A, B)"
   ]
  },
  {
   "cell_type": "code",
   "execution_count": 20,
   "metadata": {},
   "outputs": [
    {
     "name": "stdout",
     "output_type": "stream",
     "text": [
      "\n",
      "ans =\n",
      "\n",
      "     2\n",
      "\n"
     ]
    }
   ],
   "source": [
    "% length 函数用来获取数组中最长维度的长度\n",
    "length(C)"
   ]
  },
  {
   "cell_type": "code",
   "execution_count": 21,
   "metadata": {},
   "outputs": [
    {
     "name": "stdout",
     "output_type": "stream",
     "text": [
      "\n",
      "ans =\n",
      "\n",
      "     1     2     1     2     1     2\n",
      "     3     4     3     4     3     4\n",
      "     1     2     1     2     1     2\n",
      "     3     4     3     4     3     4\n",
      "\n"
     ]
    }
   ],
   "source": [
    "% 以 A 为元素, 形成 [2,3] 形状的矩阵\n",
    "repmat(A, [2, 3])"
   ]
  },
  {
   "cell_type": "code",
   "execution_count": 22,
   "metadata": {},
   "outputs": [
    {
     "name": "stdout",
     "output_type": "stream",
     "text": [
      "\n",
      "ans =\n",
      "\n",
      "     2\n",
      "\n"
     ]
    }
   ],
   "source": [
    "% 返回维数\n",
    "ndims(A)"
   ]
  },
  {
   "cell_type": "code",
   "execution_count": 23,
   "metadata": {},
   "outputs": [
    {
     "name": "stdout",
     "output_type": "stream",
     "text": [
      "\n",
      "ans =\n",
      "\n",
      "  3x3 logical array\n",
      "\n",
      "   0   0   0\n",
      "   0   1   0\n",
      "   0   0   0\n",
      "\n"
     ]
    }
   ],
   "source": [
    "% isnan 函数\n",
    "A = [1, 2,   3;\n",
    "     4, nan, 5;\n",
    "     6, 7,   8];\n",
    "isnan(A)"
   ]
  },
  {
   "cell_type": "code",
   "execution_count": 24,
   "metadata": {},
   "outputs": [
    {
     "name": "stdout",
     "output_type": "stream",
     "text": [
      "\n",
      "ans =\n",
      "\n",
      "  logical\n",
      "\n",
      "   1\n",
      "\n",
      "\n",
      "ans =\n",
      "\n",
      "  logical\n",
      "\n",
      "   0\n",
      "\n",
      "\n",
      "ans =\n",
      "\n",
      "  logical\n",
      "\n",
      "   1\n",
      "\n"
     ]
    }
   ],
   "source": [
    "% isnumeric 函数\n",
    "isnumeric(A)\n",
    "isnumeric('1')\n",
    "isnumeric(nan)  % 注意这个"
   ]
  },
  {
   "cell_type": "code",
   "execution_count": 25,
   "metadata": {},
   "outputs": [
    {
     "name": "stdout",
     "output_type": "stream",
     "text": [
      "\n",
      "ans =\n",
      "\n",
      "  logical\n",
      "\n",
      "   0\n",
      "\n",
      "\n",
      "ans =\n",
      "\n",
      "  logical\n",
      "\n",
      "   0\n",
      "\n",
      "\n",
      "ans =\n",
      "\n",
      "  logical\n",
      "\n",
      "   1\n",
      "\n",
      "\n",
      "ans =\n",
      "\n",
      "  logical\n",
      "\n",
      "   0\n",
      "\n"
     ]
    }
   ],
   "source": [
    "% isempty 函数\n",
    "isempty(0)\n",
    "isempty([0, 0])\n",
    "isempty([])\n",
    "isempty(nan)"
   ]
  },
  {
   "cell_type": "code",
   "execution_count": 26,
   "metadata": {},
   "outputs": [
    {
     "name": "stdout",
     "output_type": "stream",
     "text": [
      "\n",
      "ans =\n",
      "\n",
      "  3x3 logical array\n",
      "\n",
      "   0   0   0\n",
      "   0   1   0\n",
      "   0   0   0\n",
      "\n"
     ]
    }
   ],
   "source": [
    "% isnan\n",
    "isnan(A)"
   ]
  },
  {
   "cell_type": "code",
   "execution_count": 27,
   "metadata": {},
   "outputs": [
    {
     "name": "stdout",
     "output_type": "stream",
     "text": [
      "\n",
      "X =\n",
      "\n",
      "     2\n",
      "\n",
      "\n",
      "Y =\n",
      "\n",
      "     2\n",
      "\n",
      "\n",
      "ans =\n",
      "\n",
      "     5\n",
      "\n"
     ]
    }
   ],
   "source": [
    "% find 函数\n",
    "% 搭配别的函数, 比如搭配 isnan 函数找到 nan 的位置\n",
    "[X, Y] = find(isnan(A))\n",
    "% 或\n",
    "find(isnan(A))"
   ]
  },
  {
   "cell_type": "code",
   "execution_count": 28,
   "metadata": {},
   "outputs": [
    {
     "name": "stderr",
     "output_type": "stream",
     "text": [
      "\u001b[0;31mExecution of script empty as a function is not supported:\n",
      "/Applications/MATLAB_R2024b.app/toolbox/matlab/lang/empty.m\n",
      "\n",
      "\u001b[0m"
     ]
    }
   ],
   "source": [
    "% squeeze 函数用来删除“孤维”\n",
    "A = [1, 2;\n",
    "     3, 4];\n",
    "B = empty(2, 2, 3)\n"
   ]
  }
 ],
 "metadata": {
  "kernelspec": {
   "display_name": "Matlab (Connection)",
   "language": "matlab",
   "name": "matlab_connect"
  },
  "language_info": {
   "codemirror_mode": "octave",
   "file_extension": ".m",
   "help_links": [
    {
     "text": "MetaKernel Magics",
     "url": "https://metakernel.readthedocs.io/en/latest/source/README.html"
    }
   ],
   "mimetype": "text/x-octave",
   "name": "matlab",
   "version": "0.17.1"
  }
 },
 "nbformat": 4,
 "nbformat_minor": 2
}
