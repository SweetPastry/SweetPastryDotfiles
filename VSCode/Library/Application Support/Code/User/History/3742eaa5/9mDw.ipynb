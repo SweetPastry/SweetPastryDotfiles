{
 "cells": [
  {
   "cell_type": "markdown",
   "metadata": {},
   "source": [
    "# 字符与 ASCII 转换"
   ]
  },
  {
   "cell_type": "code",
   "execution_count": 23,
   "metadata": {},
   "outputs": [
    {
     "name": "stdout",
     "output_type": "stream",
     "text": [
      "\n",
      "ans =\n",
      "\n",
      "    'A'\n",
      "\n"
     ]
    }
   ],
   "source": [
    "char(65)"
   ]
  },
  {
   "cell_type": "code",
   "execution_count": 24,
   "metadata": {},
   "outputs": [
    {
     "name": "stdout",
     "output_type": "stream",
     "text": [
      "\n",
      "ans =\n",
      "\n",
      "    65\n",
      "\n"
     ]
    }
   ],
   "source": [
    "double('A')"
   ]
  },
  {
   "cell_type": "code",
   "execution_count": 25,
   "metadata": {},
   "outputs": [
    {
     "name": "stdout",
     "output_type": "stream",
     "text": [
      "\n",
      "e =\n",
      "\n",
      "    '中文'\n",
      "\n"
     ]
    }
   ],
   "source": [
    "e = '中文'"
   ]
  },
  {
   "cell_type": "code",
   "execution_count": 26,
   "metadata": {},
   "outputs": [],
   "source": [
    "whos b"
   ]
  },
  {
   "cell_type": "code",
   "execution_count": 28,
   "metadata": {},
   "outputs": [
    {
     "name": "stdout",
     "output_type": "stream",
     "text": [
      "\n",
      "ans =\n",
      "\n",
      "       20013       25991\n",
      "\n"
     ]
    }
   ],
   "source": [
    "double(e)"
   ]
  },
  {
   "cell_type": "code",
   "execution_count": 30,
   "metadata": {},
   "outputs": [
    {
     "name": "stdout",
     "output_type": "stream",
     "text": [
      "\n",
      "ans =\n",
      "\n",
      "  2x1 char array\n",
      "\n",
      "    '中'\n",
      "    '文'\n",
      "\n"
     ]
    }
   ],
   "source": [
    "char(20013, 25991)"
   ]
  },
  {
   "cell_type": "code",
   "execution_count": 35,
   "metadata": {},
   "outputs": [
    {
     "name": "stdout",
     "output_type": "stream",
     "text": [
      "\n",
      "ans =\n",
      "\n",
      "  logical\n",
      "\n",
      "   1\n",
      "\n",
      "\n",
      "ans =\n",
      "\n",
      "  logical\n",
      "\n",
      "   0\n",
      "\n"
     ]
    }
   ],
   "source": [
    "strcmp(\"Easy\", \"Easy\")\n",
    "strcmp(\"Easy\", \"easy\")"
   ]
  },
  {
   "cell_type": "markdown",
   "metadata": {},
   "source": [
    "# 格式化字符串"
   ]
  },
  {
   "cell_type": "code",
   "execution_count": null,
   "metadata": {},
   "outputs": [
    {
     "name": "stdout",
     "output_type": "stream",
     "text": [
      "\n",
      "ans = \n",
      "\n",
      "    \"  12.34000\"\n",
      "\n"
     ]
    }
   ],
   "source": [
    "% 至少占 10 格子, 点后至少 5 位, 浮点数\n",
    "sprintf(\"%10.5f\", 12.34)"
   ]
  },
  {
   "cell_type": "code",
   "execution_count": 40,
   "metadata": {},
   "outputs": [
    {
     "name": "stdout",
     "output_type": "stream",
     "text": [
      "\n",
      "ans = \n",
      "\n",
      "    \"    1.23400e+01\"\n",
      "\n"
     ]
    }
   ],
   "source": [
    "% 至少占 15 位, 点后至少 5 位, e 指数表示法\n",
    "sprintf(\"%15.5e\", 12.34)"
   ]
  },
  {
   "cell_type": "code",
   "execution_count": 42,
   "metadata": {},
   "outputs": [
    {
     "name": "stdout",
     "output_type": "stream",
     "text": [
      "\n",
      "ans = \n",
      "\n",
      "    \"1.23400E+01    \"\n",
      "\n"
     ]
    }
   ],
   "source": [
    "% 至少占 15 位, 点后至少 5 位, e 指数表示法, 大写, 左对齐\n",
    "sprintf(\"%-15.5E\", 12.34)"
   ]
  },
  {
   "cell_type": "code",
   "execution_count": null,
   "metadata": {},
   "outputs": [
    {
     "name": "stdout",
     "output_type": "stream",
     "text": [
      "\n",
      "ans = \n",
      "\n",
      "    \"         +12.34\"\n",
      "\n"
     ]
    }
   ],
   "source": [
    "% 明显地写出 + 号\n",
    "sprintf(\"%+15.5g\", 12.34)"
   ]
  },
  {
   "cell_type": "code",
   "execution_count": 54,
   "metadata": {},
   "outputs": [
    {
     "name": "stdout",
     "output_type": "stream",
     "text": [
      "\n",
      "ans = \n",
      "\n",
      "    \"      +0.000123\"\n",
      "\n",
      "\n",
      "ans = \n",
      "\n",
      "    \"      +1.23E-05\"\n",
      "\n",
      "\n",
      "ans = \n",
      "\n",
      "    \"       +0.00001\"\n",
      "\n"
     ]
    }
   ],
   "source": [
    "% 明显地写出 + 号\n",
    "sprintf(\"%+15.5g\", 0.000123)\n",
    "sprintf(\"%+15.5G\", 0.0000123)\n",
    "sprintf(\"%+15.5f\", 0.0000123)\n",
    "% G 和 g 智能地使用浮点或 e 指数. 浮点数只有小数点后五位"
   ]
  },
  {
   "cell_type": "code",
   "execution_count": 55,
   "metadata": {},
   "outputs": [
    {
     "name": "stdout",
     "output_type": "stream",
     "text": [
      "I am David, You are XiaoMing!"
     ]
    }
   ],
   "source": [
    "% idx$  合起来看为一个符号, 指的是 idx 号位置\n",
    "fprintf(\"I am %2$s, You are %1$s!\", \"XiaoMing\", \"David\")"
   ]
  },
  {
   "cell_type": "code",
   "execution_count": 67,
   "metadata": {},
   "outputs": [
    {
     "name": "stdout",
     "output_type": "stream",
     "text": [
      "Calculate 1234.000000\n",
      "Calculate1234\n",
      "Calculate 1234\n"
     ]
    }
   ],
   "source": [
    "% 加入一个空格就有一个空格\n",
    "fprintf(\"Calculate% f\\n\", 1234)\n",
    "fprintf(\"Calculate% s\\n\", \"1234\")   % 浮点数才有?\n",
    "fprintf(\"Calculate% d\\n\", 1234)     % int 可以"
   ]
  },
  {
   "cell_type": "code",
   "execution_count": 72,
   "metadata": {},
   "outputs": [
    {
     "name": "stdout",
     "output_type": "stream",
     "text": [
      "\n",
      "ans = \n",
      "\n",
      "    \"+0000000.000123\"\n",
      "\n",
      "\n",
      "ans = \n",
      "\n",
      "    \"+0000000.000123\"\n",
      "\n"
     ]
    }
   ],
   "source": [
    "% 前头填充 0\n",
    "sprintf(\"%0+15.5g\", 0.000123)\n",
    "sprintf(\"%+015.5g\", 0.000123)"
   ]
  },
  {
   "cell_type": "code",
   "execution_count": null,
   "metadata": {},
   "outputs": [
    {
     "name": "stdout",
     "output_type": "stream",
     "text": [
      "\n",
      "ans = \n",
      "\n",
      "    \"032\"\n",
      "\n",
      "\n",
      "ans = \n",
      "\n",
      "    \"0X1A\"\n",
      "\n",
      "\n",
      "ans = \n",
      "\n",
      "    \"32\"\n",
      "\n",
      "\n",
      "ans = \n",
      "\n",
      "    \"1A\"\n",
      "\n"
     ]
    }
   ],
   "source": [
    "% # 的意思是, 八进制数前添上 0, 十六进制数前添上 0X\n",
    "sprintf(\"%#o\", 26)\n",
    "sprintf(\"%#X\", 26)\n",
    "\n",
    "sprintf(\"%o\", 26)\n",
    "sprintf(\"%X\", 26)"
   ]
  },
  {
   "cell_type": "code",
   "execution_count": 86,
   "metadata": {},
   "outputs": [
    {
     "name": "stdout",
     "output_type": "stream",
     "text": [
      "\n",
      "ans = \n",
      "\n",
      "    \"       12345\"\n",
      "\n",
      "\n",
      "ans = \n",
      "\n",
      "    \"       12345\"\n",
      "\n"
     ]
    }
   ],
   "source": [
    "% * 长度后移, 展位\n",
    "% 一下两种写法等价\n",
    "sprintf(\"%12d\", 12345)\n",
    "sprintf(\"%*d\", 12, 12345)"
   ]
  },
  {
   "cell_type": "code",
   "execution_count": 88,
   "metadata": {},
   "outputs": [
    {
     "name": "stdout",
     "output_type": "stream",
     "text": [
      "\n",
      "ans = \n",
      "\n",
      "    \"400921fb54442d18\"\n",
      "\n",
      "\n",
      "ans = \n",
      "\n",
      "    \"40490fdb\"\n",
      "\n"
     ]
    }
   ],
   "source": [
    "% 浮点数 %bx 双精度十六进制浮点数 %tx 单精度十六进制浮点数\n",
    "% 整数 %ld 64-bit %hd 16-bit\n",
    "sprintf(\"%bx\", pi)\n",
    "sprintf(\"%tx\", pi)"
   ]
  },
  {
   "cell_type": "code",
   "execution_count": null,
   "metadata": {},
   "outputs": [],
   "source": [
    "sprintf(\"%ld\", 114514)\n",
    "sprintf(\"h\", 114514)"
   ]
  }
 ],
 "metadata": {
  "kernelspec": {
   "display_name": "Matlab (Connection)",
   "language": "matlab",
   "name": "matlab_connect"
  },
  "language_info": {
   "codemirror_mode": "octave",
   "file_extension": ".m",
   "help_links": [
    {
     "text": "MetaKernel Magics",
     "url": "https://metakernel.readthedocs.io/en/latest/source/README.html"
    }
   ],
   "mimetype": "text/x-octave",
   "name": "matlab",
   "version": "0.17.1"
  }
 },
 "nbformat": 4,
 "nbformat_minor": 2
}
