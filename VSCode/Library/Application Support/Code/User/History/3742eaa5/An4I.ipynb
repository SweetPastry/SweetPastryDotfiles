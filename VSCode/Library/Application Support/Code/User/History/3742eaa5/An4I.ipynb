{
 "cells": [
  {
   "cell_type": "markdown",
   "metadata": {},
   "source": [
    "# 字符与 ASCII 转换"
   ]
  },
  {
   "cell_type": "code",
   "execution_count": 23,
   "metadata": {},
   "outputs": [
    {
     "name": "stdout",
     "output_type": "stream",
     "text": [
      "\n",
      "ans =\n",
      "\n",
      "    'A'\n",
      "\n"
     ]
    }
   ],
   "source": [
    "char(65)"
   ]
  },
  {
   "cell_type": "code",
   "execution_count": 24,
   "metadata": {},
   "outputs": [
    {
     "name": "stdout",
     "output_type": "stream",
     "text": [
      "\n",
      "ans =\n",
      "\n",
      "    65\n",
      "\n"
     ]
    }
   ],
   "source": [
    "double('A')"
   ]
  },
  {
   "cell_type": "code",
   "execution_count": 25,
   "metadata": {},
   "outputs": [
    {
     "name": "stdout",
     "output_type": "stream",
     "text": [
      "\n",
      "e =\n",
      "\n",
      "    '中文'\n",
      "\n"
     ]
    }
   ],
   "source": [
    "e = '中文'"
   ]
  },
  {
   "cell_type": "code",
   "execution_count": 26,
   "metadata": {},
   "outputs": [],
   "source": [
    "whos b"
   ]
  },
  {
   "cell_type": "code",
   "execution_count": 28,
   "metadata": {},
   "outputs": [
    {
     "name": "stdout",
     "output_type": "stream",
     "text": [
      "\n",
      "ans =\n",
      "\n",
      "       20013       25991\n",
      "\n"
     ]
    }
   ],
   "source": [
    "double(e)"
   ]
  },
  {
   "cell_type": "code",
   "execution_count": 30,
   "metadata": {},
   "outputs": [
    {
     "name": "stdout",
     "output_type": "stream",
     "text": [
      "\n",
      "ans =\n",
      "\n",
      "  2x1 char array\n",
      "\n",
      "    '中'\n",
      "    '文'\n",
      "\n"
     ]
    }
   ],
   "source": [
    "char(20013, 25991)"
   ]
  },
  {
   "cell_type": "code",
   "execution_count": 35,
   "metadata": {},
   "outputs": [
    {
     "name": "stdout",
     "output_type": "stream",
     "text": [
      "\n",
      "ans =\n",
      "\n",
      "  logical\n",
      "\n",
      "   1\n",
      "\n",
      "\n",
      "ans =\n",
      "\n",
      "  logical\n",
      "\n",
      "   0\n",
      "\n"
     ]
    }
   ],
   "source": [
    "strcmp(\"Easy\", \"Easy\")\n",
    "strcmp(\"Easy\", \"easy\")"
   ]
  },
  {
   "cell_type": "markdown",
   "metadata": {},
   "source": [
    "# 格式化字符串"
   ]
  },
  {
   "cell_type": "code",
   "execution_count": null,
   "metadata": {},
   "outputs": [
    {
     "name": "stdout",
     "output_type": "stream",
     "text": [
      "\n",
      "ans = \n",
      "\n",
      "    \"  12.34000\"\n",
      "\n"
     ]
    }
   ],
   "source": [
    "% 至少占 10 格子, 点后至少 5 位, 浮点数\n",
    "sprintf(\"%10.5f\", 12.34)"
   ]
  },
  {
   "cell_type": "code",
   "execution_count": 40,
   "metadata": {},
   "outputs": [
    {
     "name": "stdout",
     "output_type": "stream",
     "text": [
      "\n",
      "ans = \n",
      "\n",
      "    \"    1.23400e+01\"\n",
      "\n"
     ]
    }
   ],
   "source": [
    "% 至少占 15 位, 点后至少 5 位, e 指数表示法\n",
    "sprintf(\"%15.5e\", 12.34)"
   ]
  },
  {
   "cell_type": "code",
   "execution_count": 42,
   "metadata": {},
   "outputs": [
    {
     "name": "stdout",
     "output_type": "stream",
     "text": [
      "\n",
      "ans = \n",
      "\n",
      "    \"1.23400E+01    \"\n",
      "\n"
     ]
    }
   ],
   "source": [
    "% 至少占 15 位, 点后至少 5 位, e 指数表示法, 大写, 左对齐\n",
    "sprintf(\"%-15.5E\", 12.34)"
   ]
  },
  {
   "cell_type": "code",
   "execution_count": null,
   "metadata": {},
   "outputs": [
    {
     "name": "stdout",
     "output_type": "stream",
     "text": [
      "\n",
      "ans = \n",
      "\n",
      "    \"         +12.34\"\n",
      "\n"
     ]
    }
   ],
   "source": [
    "% 明显地写出 + 号\n",
    "sprintf(\"%+15.5g\", 12.34)"
   ]
  },
  {
   "cell_type": "code",
   "execution_count": 54,
   "metadata": {},
   "outputs": [
    {
     "name": "stdout",
     "output_type": "stream",
     "text": [
      "\n",
      "ans = \n",
      "\n",
      "    \"      +0.000123\"\n",
      "\n",
      "\n",
      "ans = \n",
      "\n",
      "    \"      +1.23E-05\"\n",
      "\n",
      "\n",
      "ans = \n",
      "\n",
      "    \"       +0.00001\"\n",
      "\n"
     ]
    }
   ],
   "source": [
    "% 明显地写出 + 号\n",
    "sprintf(\"%+15.5g\", 0.000123)\n",
    "sprintf(\"%+15.5G\", 0.0000123)\n",
    "sprintf(\"%+15.5f\", 0.0000123)\n",
    "% G 和 g 智能地使用浮点或 e 指数. 浮点数只有小数点后五位"
   ]
  },
  {
   "cell_type": "code",
   "execution_count": null,
   "metadata": {},
   "outputs": [],
   "source": [
    "% idx"
   ]
  }
 ],
 "metadata": {
  "kernelspec": {
   "display_name": "Matlab (Connection)",
   "language": "matlab",
   "name": "matlab_connect"
  },
  "language_info": {
   "codemirror_mode": "octave",
   "file_extension": ".m",
   "help_links": [
    {
     "text": "MetaKernel Magics",
     "url": "https://metakernel.readthedocs.io/en/latest/source/README.html"
    }
   ],
   "mimetype": "text/x-octave",
   "name": "matlab",
   "version": "0.17.1"
  }
 },
 "nbformat": 4,
 "nbformat_minor": 2
}
