{
 "cells": [
  {
   "cell_type": "code",
   "execution_count": null,
   "metadata": {},
   "outputs": [
    {
     "name": "stdout",
     "output_type": "stream",
     "text": [
      "\n",
      "ans =\n",
      "\n",
      "  Columns 1 through 3\n",
      "\n",
      "         0.814723686393179         0.913375856139019         0.278498218867048\n",
      "         0.905791937075619          0.63235924622541         0.546881519204984\n",
      "         0.126986816293506        0.0975404049994095         0.957506835434298\n",
      "\n",
      "  Column 4\n",
      "\n",
      "         0.964888535199277\n",
      "         0.157613081677548\n",
      "         0.970592781760616\n",
      "\n"
     ]
    }
   ],
   "source": [
    "rand(3, 4)\n",
    "% 生成在 0~1 的均匀分布的随机数"
   ]
  },
  {
   "cell_type": "code",
   "execution_count": 2,
   "metadata": {},
   "outputs": [
    {
     "name": "stdout",
     "output_type": "stream",
     "text": [
      "\n",
      "ans =\n",
      "\n",
      "     2     1     2\n",
      "     1     1     2\n",
      "     2     2     2\n",
      "\n"
     ]
    }
   ],
   "source": [
    "randi(2, 3)"
   ]
  },
  {
   "cell_type": "code",
   "execution_count": null,
   "metadata": {},
   "outputs": [],
   "source": []
  }
 ],
 "metadata": {
  "kernelspec": {
   "display_name": "Matlab (Connection)",
   "language": "matlab",
   "name": "matlab_connect"
  },
  "language_info": {
   "codemirror_mode": "octave",
   "file_extension": ".m",
   "help_links": [
    {
     "text": "MetaKernel Magics",
     "url": "https://metakernel.readthedocs.io/en/latest/source/README.html"
    }
   ],
   "mimetype": "text/x-octave",
   "name": "matlab",
   "version": "0.17.1"
  }
 },
 "nbformat": 4,
 "nbformat_minor": 2
}
