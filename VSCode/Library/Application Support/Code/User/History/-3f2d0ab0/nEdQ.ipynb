{
 "cells": [
  {
   "cell_type": "code",
   "execution_count": 1,
   "metadata": {},
   "outputs": [],
   "source": [
    "def plot_linear_fit(x, y, xName, yName, xUnit, yUnit):   \n",
    "    import numpy as np\n",
    "    import matplotlib.pyplot as plt\n",
    "    from scipy import stats\n",
    "    slope, intercept, r_value, p_value, std_err = stats.linregress(x, y)\n",
    "    y_fit = slope * x + intercept\n",
    "    r_squared = r_value ** 2\n",
    "\n",
    "    plt.figure(figsize=(12, 5))\n",
    "\n",
    "    plt.subplot(1, 2, 1)\n",
    "    plt.plot(x, y,'--x',label='Original Data', linewidth=1)\n",
    "    plt.plot(x, y_fit, color='red', label='Fitting Line')\n",
    "    plt.xlabel(f'${xName}$/$\\\\mathrm{{{xUnit}}}$')\n",
    "    plt.ylabel(f'${yName}$/$\\\\mathrm{{{yUnit}}}$')\n",
    "    plt.title('Linear Fitting')\n",
    "    plt.legend()\n",
    "\n",
    "\n",
    "    equation = f'y = {slope:.3f}x + {intercept:.3f}'\n",
    "    # truncated_rSquare = float(str(r_squared)[:str(r_squared).find('.') + 2 + next((i for i, c in enumerate(str(r_squared).split('.')[1]) if c != '9'), len(str(r_squared).split('.')[1]))])\n",
    "    truncated_rSquare_text = f\"$R^2$ = \" + str(float(str(r_squared)[:str(r_squared).find('.') + 2 + next((i for i, c in enumerate(str(r_squared).split('.')[1]) if c != '9'), len(str(r_squared).split('.')[1]))]))\n",
    "    print(r_squared)\n",
    "    \n",
    "    props = dict(boxstyle='round', facecolor='white', alpha=0.5, edgecolor='black')\n",
    "    plt.text(0.05, 0.95, \n",
    "             equation + '\\n' + truncated_rSquare_text,\n",
    "             transform=plt.gca().transAxes,\n",
    "             fontsize=12, \n",
    "             verticalalignment='top',  \n",
    "             bbox=props\n",
    "    )\n",
    "\n",
    "    residuals = y - y_fit\n",
    "    plt.subplot(1, 2, 2)\n",
    "    plt.scatter(x, residuals, marker='x')\n",
    "    plt.axhline(0, color='red', linestyle='--')\n",
    "    plt.xlabel(f'${xName}$/{xUnit}')\n",
    "    plt.ylabel(f'Residual/$\\\\mathrm{{{yUnit}}}$')\n",
    "    plt.title('Residual Distribution')\n",
    "\n",
    "    plt.tight_layout()\n",
    "    plt.show()\n"
   ]
  },
  {
   "cell_type": "code",
   "execution_count": 2,
   "metadata": {},
   "outputs": [
    {
     "ename": "NameError",
     "evalue": "name 'np' is not defined",
     "output_type": "error",
     "traceback": [
      "\u001b[0;31m---------------------------------------------------------------------------\u001b[0m",
      "\u001b[0;31mNameError\u001b[0m                                 Traceback (most recent call last)",
      "Cell \u001b[0;32mIn[2], line 1\u001b[0m\n\u001b[0;32m----> 1\u001b[0m plot_linear_fit(np\u001b[38;5;241m.\u001b[39marray([\u001b[38;5;241m1\u001b[39m, \u001b[38;5;241m2\u001b[39m, \u001b[38;5;241m3\u001b[39m]), np\u001b[38;5;241m.\u001b[39marray([\u001b[38;5;241m4\u001b[39m, \u001b[38;5;241m5.001\u001b[39m, \u001b[38;5;241m6.2\u001b[39m]), \u001b[38;5;124m\"\u001b[39m\u001b[38;5;124mL\u001b[39m\u001b[38;5;124m\"\u001b[39m, \u001b[38;5;124m\"\u001b[39m\u001b[38;5;124mS\u001b[39m\u001b[38;5;124m\"\u001b[39m, \u001b[38;5;124m\"\u001b[39m\u001b[38;5;124mm\u001b[39m\u001b[38;5;124m\"\u001b[39m, \u001b[38;5;124m\"\u001b[39m\u001b[38;5;124mm^2\u001b[39m\u001b[38;5;124m\"\u001b[39m)\n",
      "\u001b[0;31mNameError\u001b[0m: name 'np' is not defined"
     ]
    }
   ],
   "source": [
    "plot_linear_fit(np.array([1, 2, 3]), np.array([4, 5.001, 6.2]), \"L\", \"S\", \"m\", \"m^2\")"
   ]
  }
 ],
 "metadata": {
  "kernelspec": {
   "display_name": "MyEnv",
   "language": "python",
   "name": "python3"
  },
  "language_info": {
   "codemirror_mode": {
    "name": "ipython",
    "version": 3
   },
   "file_extension": ".py",
   "mimetype": "text/x-python",
   "name": "python",
   "nbconvert_exporter": "python",
   "pygments_lexer": "ipython3",
   "version": "3.12.2"
  }
 },
 "nbformat": 4,
 "nbformat_minor": 2
}
