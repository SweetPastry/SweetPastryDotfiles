{
 "cells": [
  {
   "cell_type": "code",
   "execution_count": 3,
   "metadata": {},
   "outputs": [
    {
     "name": "stdout",
     "output_type": "stream",
     "text": [
      "\n",
      "c_demo =\n",
      "\n",
      "  2x3 cell array\n",
      "\n",
      "    {[  1]}    {'22'}    {[\"33\"]}\n",
      "    {[4 5]}    {''  }    {[\"qi\"]}\n",
      "\n"
     ]
    }
   ],
   "source": [
    "% 元胞数组必须是方的\n",
    "c_demo = {\n",
    "    1, '22', \"33\";\n",
    "    [4, 5], char(6), \"qi\";\n",
    "}\n",
    "\n",
    "% 显示的结果: 花括号表示“这是一个元胞”,\n",
    "% 无论是标量还是矩阵, 统一表示为矩阵, 也就是 1 也被方括号框起来成为 {[1]} 了\n",
    "% 双引号框起来的字符(字符串)在 MATLAB 中是字符串数组, 类似数字的那种\n",
    "% 单引号框起来的字符(字符串)在 MATLAB 中是字符向量"
   ]
  },
  {
   "cell_type": "code",
   "execution_count": 5,
   "metadata": {},
   "outputs": [
    {
     "name": "stdout",
     "output_type": "stream",
     "text": [
      "\n",
      "ans =\n",
      "\n",
      "  1x1 cell array\n",
      "\n",
      "    {[1]}\n",
      "\n"
     ]
    }
   ],
   "source": [
    "% 圆括号访问, 学名索引访问, 访问得到的是“盒子”, 也就是“元胞本身”\n",
    "c_demo(1, 1)"
   ]
  },
  {
   "cell_type": "code",
   "execution_count": 7,
   "metadata": {},
   "outputs": [
    {
     "name": "stdout",
     "output_type": "stream",
     "text": [
      "\n",
      "ans =\n",
      "\n",
      "     1\n",
      "\n"
     ]
    }
   ],
   "source": [
    "% 花括号访问, 学名内容访问, 解引用, 得到的不是元胞而是元胞里面的内容\n",
    "c_demo{1, 1}"
   ]
  },
  {
   "cell_type": "code",
   "execution_count": 10,
   "metadata": {},
   "outputs": [
    {
     "name": "stdout",
     "output_type": "stream",
     "text": [
      "\n",
      "c_demo =\n",
      "\n",
      "  2x3 cell array\n",
      "\n",
      "    {0x0 double}    {'22'}    {[\"33\"]}\n",
      "    {[     4 5]}    {''  }    {[\"qi\"]}\n",
      "\n"
     ]
    }
   ],
   "source": [
    "% 意思是“内容更改为 0 阶矩阵”\n",
    "c_demo{1, 1} = []"
   ]
  },
  {
   "cell_type": "code",
   "execution_count": 11,
   "metadata": {},
   "outputs": [
    {
     "name": "stderr",
     "output_type": "stream",
     "text": [
      "\u001b[0;31mA null assignment can have only one non-colon index.\n",
      "\n",
      "\u001b[0m"
     ]
    }
   ],
   "source": [
    "%\n",
    "c_demo(1, 1) = []"
   ]
  }
 ],
 "metadata": {
  "kernelspec": {
   "display_name": "Matlab (Connection)",
   "language": "matlab",
   "name": "matlab_connect"
  },
  "language_info": {
   "codemirror_mode": "octave",
   "file_extension": ".m",
   "help_links": [
    {
     "text": "MetaKernel Magics",
     "url": "https://metakernel.readthedocs.io/en/latest/source/README.html"
    }
   ],
   "mimetype": "text/x-octave",
   "name": "matlab",
   "version": "0.17.1"
  }
 },
 "nbformat": 4,
 "nbformat_minor": 2
}
