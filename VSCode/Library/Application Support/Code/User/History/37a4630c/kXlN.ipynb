{
 "cells": [
  {
   "cell_type": "code",
   "execution_count": 2,
   "metadata": {},
   "outputs": [
    {
     "name": "stdout",
     "output_type": "stream",
     "text": [
      "\n",
      "c_demo =\n",
      "\n",
      "  2x3 cell array\n",
      "\n",
      "    {[  1]}    {'2'}    {[\"3\" ]}\n",
      "    {[4 5]}    {'' }    {[\"qi\"]}\n",
      "\n"
     ]
    }
   ],
   "source": [
    "% 元胞数组必须是方的\n",
    "c_demo = {\n",
    "    1, '2', \"3\";\n",
    "    [4, 5], char(6), \"qi\";\n",
    "}\n",
    "\n",
    "% 显示的结果: 花括号表示“这是一个元胞”, "
   ]
  },
  {
   "cell_type": "code",
   "execution_count": null,
   "metadata": {},
   "outputs": [],
   "source": [
    "% 圆括号访问, 学名索引访问, 访问得到的是“盒子”, 也就是“元胞本身”\n"
   ]
  }
 ],
 "metadata": {
  "kernelspec": {
   "display_name": "Matlab (Connection)",
   "language": "matlab",
   "name": "matlab_connect"
  },
  "language_info": {
   "codemirror_mode": "octave",
   "file_extension": ".m",
   "help_links": [
    {
     "text": "MetaKernel Magics",
     "url": "https://metakernel.readthedocs.io/en/latest/source/README.html"
    }
   ],
   "mimetype": "text/x-octave",
   "name": "matlab",
   "version": "0.17.1"
  }
 },
 "nbformat": 4,
 "nbformat_minor": 2
}
