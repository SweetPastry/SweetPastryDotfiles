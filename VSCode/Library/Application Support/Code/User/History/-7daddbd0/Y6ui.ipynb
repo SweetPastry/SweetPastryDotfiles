{
 "cells": [
  {
   "cell_type": "code",
   "execution_count": 2,
   "metadata": {},
   "outputs": [
    {
     "name": "stdout",
     "output_type": "stream",
     "text": [
      "\n",
      "C =\n",
      "\n",
      "  2x2 cell array\n",
      "\n",
      "    {[1]}    {[2]}\n",
      "    {[3]}    {[4]}\n",
      "\n"
     ]
    }
   ],
   "source": [
    "C = {1, 2;\n",
    "3, 4}"
   ]
  },
  {
   "cell_type": "code",
   "execution_count": 7,
   "metadata": {},
   "outputs": [
    {
     "name": "stdout",
     "output_type": "stream",
     "text": [
      "\n",
      "C =\n",
      "\n",
      "  1x4 cell array\n",
      "\n",
      "    {[1]}    {'hello'}    {2x2 double}    {1x2 cell}\n",
      "\n"
     ]
    }
   ],
   "source": [
    "% 创建一个元胞数组\n",
    "C = {1, 'hello', rand(2,2), {2, 3}} % 最后一个元素是一个嵌套元胞数组"
   ]
  },
  {
   "cell_type": "code",
   "execution_count": 4,
   "metadata": {},
   "outputs": [
    {
     "name": "stderr",
     "output_type": "stream",
     "text": [
      "\u001b[0;31mError using type\n",
      "Not enough input arguments.\n",
      "\n",
      "\u001b[0m"
     ]
    }
   ],
   "source": [
    "type()"
   ]
  }
 ],
 "metadata": {
  "kernelspec": {
   "display_name": "Matlab (Connection)",
   "language": "matlab",
   "name": "matlab_connect"
  },
  "language_info": {
   "codemirror_mode": "octave",
   "file_extension": ".m",
   "help_links": [
    {
     "text": "MetaKernel Magics",
     "url": "https://metakernel.readthedocs.io/en/latest/source/README.html"
    }
   ],
   "mimetype": "text/x-octave",
   "name": "matlab",
   "version": "0.17.1"
  }
 },
 "nbformat": 4,
 "nbformat_minor": 2
}
