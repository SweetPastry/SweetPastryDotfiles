{
 "cells": [
  {
   "cell_type": "code",
   "execution_count": 1,
   "metadata": {},
   "outputs": [
    {
     "name": "stderr",
     "output_type": "stream",
     "text": [
      "\u001b[0;31mError using vertcat\n",
      "Dimensions of arrays being concatenated are not consistent.\n",
      "\n",
      "\u001b[0m"
     ]
    }
   ],
   "source": [
    "% 原始元胞数组\n",
    "C = {1, 2, 3; 4, 5, 6};\n",
    "\n",
    "% 指定插入位置\n",
    "row = 1; % 行\n",
    "col = 2; % 列\n",
    "newElement = 10; % 要插入的元素\n",
    "\n",
    "% 移动现有元素\n",
    "C = [C(1:row, 1:col-1), {newElement}, C(row, col:end); C(row+1:end, :)];"
   ]
  }
 ],
 "metadata": {
  "kernelspec": {
   "display_name": "Matlab (Connection)",
   "language": "matlab",
   "name": "matlab_connect"
  },
  "language_info": {
   "codemirror_mode": "octave",
   "file_extension": ".m",
   "help_links": [
    {
     "text": "MetaKernel Magics",
     "url": "https://metakernel.readthedocs.io/en/latest/source/README.html"
    }
   ],
   "mimetype": "text/x-octave",
   "name": "matlab",
   "version": "0.17.1"
  }
 },
 "nbformat": 4,
 "nbformat_minor": 2
}
