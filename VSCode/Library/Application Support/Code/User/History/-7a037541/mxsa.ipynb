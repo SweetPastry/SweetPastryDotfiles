{
 "cells": [
  {
   "cell_type": "markdown",
   "metadata": {},
   "source": [
    "# 输入输出"
   ]
  },
  {
   "cell_type": "code",
   "execution_count": 2,
   "metadata": {},
   "outputs": [
    {
     "name": "stderr",
     "output_type": "stream",
     "text": [
      "\u001b[0;31mError using matlab.internal.engine.input (line 20)\n",
      "'input' command is not supported for MATLAB launched by Engine without Desktop.\n",
      "\n",
      "\u001b[0m"
     ]
    }
   ],
   "source": [
    "usr_name = input(\"What your name?\", \"s\");\n",
    "disp(\"Welcome \"+usr_name);"
   ]
  },
  {
   "cell_type": "markdown",
   "metadata": {},
   "source": [
    "# 科学技术法"
   ]
  },
  {
   "cell_type": "code",
   "execution_count": 3,
   "metadata": {},
   "outputs": [
    {
     "name": "stdout",
     "output_type": "stream",
     "text": [
      "格式化后的输出：1.23e+04\n"
     ]
    }
   ],
   "source": [
    "number = 12345.6789;\n",
    "fprintf('格式化后的输出：%.2e\\n', number);"
   ]
  },
  {
   "cell_type": "code",
   "execution_count": 4,
   "metadata": {},
   "outputs": [
    {
     "name": "stdout",
     "output_type": "stream",
     "text": [
      "格式化后的输出：1.23e-04\n"
     ]
    }
   ],
   "source": [
    "number = 0.000123456;\n",
    "fprintf('格式化后的输出：%.2e\\n', number);"
   ]
  },
  {
   "cell_type": "markdown",
   "metadata": {},
   "source": [
    "# Clcok"
   ]
  },
  {
   "cell_type": "code",
   "execution_count": 5,
   "metadata": {},
   "outputs": [
    {
     "name": "stdout",
     "output_type": "stream",
     "text": [
      "\n",
      "clck =\n",
      "\n",
      "  Columns 1 through 3\n",
      "\n",
      "                      2024                        11                        25\n",
      "\n",
      "  Columns 4 through 6\n",
      "\n",
      "                        16                        30                  9.119658\n",
      "\n"
     ]
    }
   ],
   "source": [
    "clck = clock"
   ]
  },
  {
   "cell_type": "code",
   "execution_count": 6,
   "metadata": {},
   "outputs": [
    {
     "name": "stdout",
     "output_type": "stream",
     "text": [
      "Year:      2024"
     ]
    }
   ],
   "source": [
    "fprintf(\"Year:%10d\", clck(1))"
   ]
  },
  {
   "cell_type": "code",
   "execution_count": null,
   "metadata": {},
   "outputs": [
    {
     "name": "stdout",
     "output_type": "stream",
     "text": [
      "2024/11/25/16/30/9.119658e+00/"
     ]
    }
   ],
   "source": [
    "% Year/Month/Day/Hour/Minute/Second\n",
    "for time_idx=1:length(clck)\n",
    "    fprintf(\"%d/\", clck(time_idx));\n",
    "end"
   ]
  },
  {
   "cell_type": "code",
   "execution_count": 18,
   "metadata": {},
   "outputs": [
    {
     "name": "stdout",
     "output_type": "stream",
     "text": [
      "Year  :           2024\n",
      "Month :             11\n",
      "Day   :             25\n",
      "Hour  :             16\n",
      "Minute:             30\n",
      "Second:   9.119658e+00\n"
     ]
    }
   ],
   "source": [
    "time_dic = [\"Year\", \"Month\", \"Day\", \"Hour\", \"Minute\", \"Second\"];\n",
    "for time_idx = 1:length(clck)\n",
    "    fprintf(\"%-6s:%15d\\n\", time_dic(time_idx), clck(time_idx))\n",
    "end"
   ]
  },
  {
   "cell_type": "code",
   "execution_count": null,
   "metadata": {},
   "outputs": [],
   "source": []
  }
 ],
 "metadata": {
  "kernelspec": {
   "display_name": "Matlab (Connection)",
   "language": "matlab",
   "name": "matlab_connect"
  },
  "language_info": {
   "codemirror_mode": "octave",
   "file_extension": ".m",
   "help_links": [
    {
     "text": "MetaKernel Magics",
     "url": "https://metakernel.readthedocs.io/en/latest/source/README.html"
    }
   ],
   "mimetype": "text/x-octave",
   "name": "matlab",
   "version": "0.17.1"
  }
 },
 "nbformat": 4,
 "nbformat_minor": 2
}
