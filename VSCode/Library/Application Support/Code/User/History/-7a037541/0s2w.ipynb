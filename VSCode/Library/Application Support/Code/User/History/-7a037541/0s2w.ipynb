{
 "cells": [
  {
   "cell_type": "code",
   "execution_count": 5,
   "metadata": {},
   "outputs": [
    {
     "name": "stderr",
     "output_type": "stream",
     "text": [
      "\u001b[0;31mError using eval\n",
      "position requires Navigation Toolbox.\n",
      "\n",
      "\u001b[0m"
     ]
    }
   ],
   "source": [
    "hFig = figure(...\n",
    "        'Position', position, ...\n",
    "        'MenuBar', 'none', ...\n",
    "        'Name', 'My GUI', ...\n",
    "        'NumberTitle', 'off', ...\n",
    "        'Resize', 'on' ...\n",
    "    );\n",
    "    \n",
    "    uicontrol(...\n",
    "        'Parent', hFig, ...\n",
    "        'Style', 'pushbutton', ...\n",
    "        'String', 'Rock', ...\n",
    "        'Position', [50, 100, 70, 30], ...\n",
    "        'Callback', @(src, event) buttonCallbackRock(\"WIN!\") ...\n",
    "    );\n",
    "    \n",
    "    uicontrol(...\n",
    "        'Parent', hFig, ...\n",
    "        'Style', 'pushbutton', ...\n",
    "        'String', 'Scissor', ...\n",
    "        'Position', [50, 60, 70, 30], ...\n",
    "        'Callback', @(src, event) buttonCallbackScissor(\"LOSE!!\") ...\n",
    "    );\n",
    "    \n",
    "    uicontrol(...\n",
    "        'Parent', hFig, ...\n",
    "        'Style', 'pushbutton', ...\n",
    "        'String', 'Paper', ...\n",
    "        'Position', [50, 20, 70, 30], ...\n",
    "        'Callback', @(src, event) buttonCallbackPaper('Button 3 Pressed') ...\n",
    "    );"
   ]
  },
  {
   "cell_type": "code",
   "execution_count": 2,
   "metadata": {},
   "outputs": [
    {
     "name": "stdout",
     "output_type": "stream",
     "text": [
      "\n",
      "ans =\n",
      "\n",
      "     2\n",
      "\n"
     ]
    }
   ],
   "source": [
    "1+1"
   ]
  }
 ],
 "metadata": {
  "kernelspec": {
   "display_name": "Matlab (Connection)",
   "language": "matlab",
   "name": "matlab_connect"
  },
  "language_info": {
   "codemirror_mode": "octave",
   "file_extension": ".m",
   "help_links": [
    {
     "text": "MetaKernel Magics",
     "url": "https://metakernel.readthedocs.io/en/latest/source/README.html"
    }
   ],
   "mimetype": "text/x-octave",
   "name": "matlab",
   "version": "0.17.1"
  }
 },
 "nbformat": 4,
 "nbformat_minor": 2
}
