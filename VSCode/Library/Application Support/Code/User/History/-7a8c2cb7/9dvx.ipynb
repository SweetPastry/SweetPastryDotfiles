{
 "cells": [
  {
   "cell_type": "code",
   "execution_count": 2,
   "metadata": {
    "vscode": {
     "languageId": "matlab"
    }
   },
   "outputs": [
    {
     "data": {
      "text/html": [
       "<div><img alt=\"Output\" src=\"data:image/png;base64,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\"></div>"
      ],
      "text/plain": [
       "Sin[1]"
      ]
     },
     "execution_count": 2,
     "metadata": {
      "text/html": [],
      "text/plain": []
     },
     "output_type": "execute_result"
    }
   ],
   "source": [
    "Sin[1]"
   ]
  },
  {
   "cell_type": "code",
   "execution_count": null,
   "metadata": {
    "vscode": {
     "languageId": "matlab"
    }
   },
   "outputs": [],
   "source": []
  }
 ],
 "metadata": {
  "kernelspec": {
   "display_name": "Wolfram Language 14",
   "language": "Wolfram Language",
   "name": "wolframlanguage14"
  },
  "language_info": {
   "codemirror_mode": "mathematica",
   "file_extension": ".m",
   "mimetype": "application/vnd.wolfram.m",
   "name": "Wolfram Language",
   "pygments_lexer": "mathematica",
   "version": "12.0"
  }
 },
 "nbformat": 4,
 "nbformat_minor": 2
}
