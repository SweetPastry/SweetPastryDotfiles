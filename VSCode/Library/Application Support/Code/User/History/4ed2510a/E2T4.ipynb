{
 "cells": [
  {
   "cell_type": "markdown",
   "metadata": {
    "vscode": {
     "languageId": "plaintext"
    }
   },
   "source": [
    "# `[L, U, P]=lu(mat)`"
   ]
  },
  {
   "cell_type": "markdown",
   "metadata": {},
   "source": [
    "##### Q1: 为什么 LU 分解前要先进行行置换\n",
    "例如, 主对角线上的元素为 0, 无法进行算法"
   ]
  },
  {
   "cell_type": "code",
   "execution_count": 77,
   "metadata": {},
   "outputs": [
    {
     "name": "stdout",
     "output_type": "stream",
     "text": [
      "L = \n",
      "                         1                         0                         0\n",
      "                      -0.5                         1                         0\n",
      "                    -0.625                      0.75                         1\n",
      "\n",
      "U = \n",
      "                        -8                         9                         3\n",
      "                         0                      -0.5                      -0.5\n",
      "                         0                         0                      0.25\n",
      "\n",
      "P = \n",
      "     0     0     1\n",
      "     1     0     0\n",
      "     0     1     0\n",
      "\n"
     ]
    }
   ],
   "source": [
    "% [L, U, P] = lu(A).\n",
    "% PA = LU\n",
    "\n",
    "A = [4 -5 -2;\n",
    "     5 -6 -2;\n",
    "    -8  9  3];\n",
    "[L, U, P] = lu(A);\n",
    "\n",
    "disp('L = ');\n",
    "disp(L);\n",
    "disp('U = ');\n",
    "disp(U);\n",
    "disp('P = ');\n",
    "disp(P);"
   ]
  },
  {
   "cell_type": "code",
   "execution_count": 78,
   "metadata": {},
   "outputs": [
    {
     "name": "stdout",
     "output_type": "stream",
     "text": [
      "PA = \n",
      "    -8     9     3\n",
      "     4    -5    -2\n",
      "     5    -6    -2\n",
      "\n",
      "LU = \n",
      "    -8     9     3\n",
      "     4    -5    -2\n",
      "     5    -6    -2\n",
      "\n"
     ]
    }
   ],
   "source": [
    "disp('PA = ');\n",
    "disp(P*A);\n",
    "disp('LU = ');\n",
    "disp(L*U);"
   ]
  },
  {
   "cell_type": "markdown",
   "metadata": {},
   "source": [
    "# `inv(mat)`"
   ]
  },
  {
   "cell_type": "code",
   "execution_count": 79,
   "metadata": {},
   "outputs": [
    {
     "name": "stdout",
     "output_type": "stream",
     "text": [
      "\n",
      "ans =\n",
      "\n",
      "     0    -3    -2\n",
      "     1    -4    -2\n",
      "    -3     4     1\n",
      "\n"
     ]
    }
   ],
   "source": [
    "inv(A)"
   ]
  },
  {
   "cell_type": "markdown",
   "metadata": {},
   "source": [
    "# `det(mat)`"
   ]
  },
  {
   "cell_type": "code",
   "execution_count": 80,
   "metadata": {},
   "outputs": [
    {
     "name": "stdout",
     "output_type": "stream",
     "text": [
      "\n",
      "ans =\n",
      "\n",
      "     1\n",
      "\n"
     ]
    }
   ],
   "source": [
    "det(A)"
   ]
  },
  {
   "cell_type": "markdown",
   "metadata": {},
   "source": [
    "# `norm(v, p)` `norm(A, p)`"
   ]
  },
  {
   "cell_type": "code",
   "execution_count": 81,
   "metadata": {},
   "outputs": [
    {
     "name": "stdout",
     "output_type": "stream",
     "text": [
      "\n",
      "ans =\n",
      "\n",
      "          5.47722557505166\n",
      "\n"
     ]
    }
   ],
   "source": [
    "v = [1, -2, 3, -4];\n",
    "norm(v)"
   ]
  },
  {
   "cell_type": "code",
   "execution_count": 82,
   "metadata": {},
   "outputs": [
    {
     "name": "stdout",
     "output_type": "stream",
     "text": [
      "\n",
      "ans =\n",
      "\n",
      "    10\n",
      "\n",
      "\n",
      "ans =\n",
      "\n",
      "          5.47722557505166\n",
      "\n",
      "\n",
      "ans =\n",
      "\n",
      "          4.64158883361278\n",
      "\n",
      "\n",
      "ans =\n",
      "\n",
      "     4\n",
      "\n",
      "\n",
      "ans =\n",
      "\n",
      "     1\n",
      "\n"
     ]
    }
   ],
   "source": [
    "% 计算向量的范数时, 可选:\n",
    "% 1: 1 范数, 绝对值之和\n",
    "% 2: 2 范数, 默认\n",
    "% n: n 范数\n",
    "% Inf: 无穷范数, 绝对值的最大\n",
    "% -Inf: 负无穷范数, 绝对值的最小\n",
    "norm(v, 1)\n",
    "norm(v, 2)\n",
    "norm(v, 3)\n",
    "norm(v, Inf)\n",
    "norm(v, -Inf)"
   ]
  },
  {
   "cell_type": "code",
   "execution_count": 83,
   "metadata": {},
   "outputs": [
    {
     "name": "stdout",
     "output_type": "stream",
     "text": [
      "\n",
      "ans =\n",
      "\n",
      "          16.8481033526142\n",
      "\n"
     ]
    }
   ],
   "source": [
    "A = [1, -2,  3;\n",
    "    -4,  5, -6;\n",
    "     7, -8,  9];\n",
    "norm(A)"
   ]
  },
  {
   "cell_type": "code",
   "execution_count": 84,
   "metadata": {},
   "outputs": [
    {
     "name": "stdout",
     "output_type": "stream",
     "text": [
      "\n",
      "ans =\n",
      "\n",
      "    18\n",
      "\n"
     ]
    }
   ],
   "source": [
    "% 计算矩阵的范数时, 可选:\n",
    "% 1: 1-范数, 列向量的 1-范数的最大值, 列和范数\n",
    "norm(A, 1)"
   ]
  },
  {
   "cell_type": "code",
   "execution_count": 85,
   "metadata": {},
   "outputs": [
    {
     "name": "stdout",
     "output_type": "stream",
     "text": [
      "\n",
      "ans =\n",
      "\n",
      "          16.8481033526142\n",
      "\n"
     ]
    }
   ],
   "source": [
    "% 2: 2-范数, 谱范数, 矩阵的最大奇异值, (A^T)A 最大特征值的平方根\n",
    "norm(A, 2)"
   ]
  },
  {
   "cell_type": "code",
   "execution_count": 86,
   "metadata": {},
   "outputs": [],
   "source": [
    "% 没有 3 或者其他自然数的范数\n",
    "% norm(A, 3)"
   ]
  },
  {
   "cell_type": "code",
   "execution_count": 87,
   "metadata": {},
   "outputs": [
    {
     "name": "stdout",
     "output_type": "stream",
     "text": [
      "\n",
      "ans =\n",
      "\n",
      "    24\n",
      "\n"
     ]
    }
   ],
   "source": [
    "% Inf: 无穷范数, 行向量的 1-范数的最大值, 行和范数\n",
    "norm(A, Inf)"
   ]
  },
  {
   "cell_type": "code",
   "execution_count": 88,
   "metadata": {},
   "outputs": [],
   "source": [
    "% -Inf: 负无穷范数, 行向量 1-范数的最小值\n",
    "% norm(A, -Inf)\n",
    "\n",
    "% 似乎不支持\n",
    "\n",
    "% Error using norm\n",
    "\n",
    "% When the first input is a matrix, the second input must be 1, 2, inf, or 'fro'.  When the first input is a vector, the second input must be a positive real-valued scalar, inf, -inf, or 'fro'."
   ]
  },
  {
   "cell_type": "code",
   "execution_count": 89,
   "metadata": {},
   "outputs": [
    {
     "name": "stdout",
     "output_type": "stream",
     "text": [
      "\n",
      "ans =\n",
      "\n",
      "          16.8819430161341\n",
      "\n"
     ]
    }
   ],
   "source": [
    "% fro: Frobenius-范数, 所有元素的平方和的平方根, 类似向量的 2-范数\n",
    "norm(A, \"fro\")"
   ]
  },
  {
   "cell_type": "code",
   "execution_count": 90,
   "metadata": {},
   "outputs": [
    {
     "name": "stdout",
     "output_type": "stream",
     "text": [
      "\n",
      "ans =\n",
      "\n",
      "          16.8819430161341\n",
      "\n"
     ]
    }
   ],
   "source": [
    "% 展平操作, 可以验证 Frobenius-范数\n",
    "norm(A(:))"
   ]
  },
  {
   "cell_type": "markdown",
   "metadata": {},
   "source": [
    "# `[U, S, V]=svd(mat)`"
   ]
  },
  {
   "cell_type": "code",
   "execution_count": 91,
   "metadata": {},
   "outputs": [
    {
     "name": "stdout",
     "output_type": "stream",
     "text": [
      "\n",
      "U =\n",
      "\n",
      "        -0.214837238368397        -0.887230688346371         0.408248290463862\n",
      "         0.520587389464737         0.249643952988297         0.816496580927726\n",
      "        -0.826337540561078         0.387942782369774         0.408248290463863\n",
      "\n",
      "\n",
      "S =\n",
      "\n",
      "          16.8481033526142                         0                         0\n",
      "                         0          1.06836951455471                         0\n",
      "                         0                         0      3.33475286503143e-16\n",
      "\n",
      "\n",
      "V =\n",
      "\n",
      "        -0.479671177877772          0.77669099032156        -0.408248290463863\n",
      "         0.572367793972062       -0.0756864701045581        -0.816496580927726\n",
      "        -0.665064410066353        -0.625318050112442        -0.408248290463863\n",
      "\n"
     ]
    }
   ],
   "source": [
    "[U, S, V] = svd(A)"
   ]
  },
  {
   "cell_type": "markdown",
   "metadata": {},
   "source": [
    "# `[V, D]=eig(mat)`"
   ]
  },
  {
   "cell_type": "code",
   "execution_count": 92,
   "metadata": {},
   "outputs": [
    {
     "name": "stdout",
     "output_type": "stream",
     "text": [
      "\n",
      "V =\n",
      "\n",
      "                         0         0.447213595499958\n",
      "                         1         0.894427190999916\n",
      "\n",
      "\n",
      "D =\n",
      "\n",
      "    -1     0\n",
      "     0     3\n",
      "\n"
     ]
    }
   ],
   "source": [
    "A = [3,  0;\n",
    "     8, -1];\n",
    "[V, D] = eig(A)"
   ]
  },
  {
   "cell_type": "code",
   "execution_count": 93,
   "metadata": {},
   "outputs": [
    {
     "name": "stdout",
     "output_type": "stream",
     "text": [
      "\n",
      "ans =\n",
      "\n",
      "                         0          1.34164078649987\n",
      "                        -1          2.68328157299975\n",
      "\n",
      "\n",
      "ans =\n",
      "\n",
      "                         0          1.34164078649987\n",
      "                        -1          2.68328157299975\n",
      "\n"
     ]
    }
   ],
   "source": [
    "A*V\n",
    "V*D"
   ]
  },
  {
   "cell_type": "markdown",
   "metadata": {},
   "source": [
    "# `fzero(fun, x0)`"
   ]
  },
  {
   "cell_type": "markdown",
   "metadata": {},
   "source": [
    "Brent 方法, 结合了二分法, 逆二次插值法, 黄金分割搜索的混合算法"
   ]
  },
  {
   "cell_type": "code",
   "execution_count": 94,
   "metadata": {},
   "outputs": [
    {
     "name": "stdout",
     "output_type": "stream",
     "text": [
      "\n",
      "root1 =\n",
      "\n",
      "     2\n",
      "\n",
      "\n",
      "root2 =\n",
      "\n",
      "    -2\n",
      "\n"
     ]
    }
   ],
   "source": [
    "% fun 方程, x0 迭代的初始值\n",
    "eq = @(x) x.^2 - 4;\n",
    "root1 = fzero(eq, 1)\n",
    "root2 = fzero(eq, -1)"
   ]
  },
  {
   "cell_type": "code",
   "execution_count": 95,
   "metadata": {},
   "outputs": [
    {
     "data": {
      "image/png": "[encoded data removed]",
      "text/plain": [
       "<IPython.core.display.Image object>"
      ]
     },
     "metadata": {},
     "output_type": "display_data"
    }
   ],
   "source": [
    "x_list = linspace(-3, 3, 1000);\n",
    "y_list = eq(x_list);\n",
    "plot(x_list, y_list)\n",
    "hold on\n",
    "plot([x_list(1), x_list(end)], [0, 0])"
   ]
  },
  {
   "cell_type": "markdown",
   "metadata": {},
   "source": [
    "# `quad(fun, a, b)` `quadl(fun, a, b)`"
   ]
  },
  {
   "cell_type": "markdown",
   "metadata": {},
   "source": [
    "`quad` 使用自适应辛普森法，而 `quadl` 使用自适应Lobatto求积法. `quadl` 通常提供更高的精确度但可能需要更多的计算资源。"
   ]
  },
  {
   "cell_type": "code",
   "execution_count": 96,
   "metadata": {},
   "outputs": [
    {
     "name": "stdout",
     "output_type": "stream",
     "text": [
      "\n",
      "ans =\n",
      "\n",
      "         0.886228899324606\n",
      "\n",
      "Warning: Infinite or Not-a-Number function value encountered.\n",
      "> In quad (line 100)\n",
      "\n",
      "ans =\n",
      "\n",
      "   NaN\n",
      "\n"
     ]
    }
   ],
   "source": [
    "fun = @(x) exp(-x.^2);\n",
    "quad(fun, 0, 100000)\n",
    "quad(fun, 0, Inf)\n",
    "% 不知道为什么会有警告"
   ]
  },
  {
   "cell_type": "code",
   "execution_count": 97,
   "metadata": {},
   "outputs": [
    {
     "name": "stdout",
     "output_type": "stream",
     "text": [
      "\n",
      "ans =\n",
      "\n",
      "         0.886226925511496\n",
      "\n",
      "Warning: Minimum step size reached; singularity possible.\n",
      "> In quadl (line 96)\n",
      "\n",
      "ans =\n",
      "\n",
      "   Inf\n",
      "\n"
     ]
    }
   ],
   "source": [
    "quadl(fun, 0, 100000)\n",
    "quadl(fun, 0, Inf)"
   ]
  },
  {
   "cell_type": "code",
   "execution_count": 98,
   "metadata": {},
   "outputs": [
    {
     "name": "stdout",
     "output_type": "stream",
     "text": [
      "\n",
      "ans =\n",
      "\n",
      "          2.00001060948268\n",
      "\n",
      "\n",
      "ans =\n",
      "\n",
      "          2.00000041535995\n",
      "\n"
     ]
    }
   ],
   "source": [
    "func = @(x) 1./x.^(1/2);\n",
    "quad(func, 0, 1)\n",
    "quadl(func, 0, 1)"
   ]
  },
  {
   "cell_type": "code",
   "execution_count": 99,
   "metadata": {},
   "outputs": [
    {
     "name": "stdout",
     "output_type": "stream",
     "text": [
      "\n",
      "ans =\n",
      "\n",
      "         0.999999857609685\n",
      "\n",
      "Warning: Infinite or Not-a-Number function value encountered.\n",
      "> In quad (line 100)\n",
      "\n",
      "ans =\n",
      "\n",
      "   NaN\n",
      "\n",
      "Warning: Minimum step size reached; singularity possible.\n",
      "> In quadl (line 96)\n",
      "\n",
      "ans =\n",
      "\n",
      "   Inf\n",
      "\n"
     ]
    }
   ],
   "source": [
    "h = @(x) 1./x.^2;\n",
    "quad(h, 1, 1000000)\n",
    "quad(h, 1, Inf)\n",
    "quadl(h, 1, Inf)"
   ]
  },
  {
   "cell_type": "markdown",
   "metadata": {},
   "source": [
    "# `[t, y] = ode45(odefun, tspan, y0)`"
   ]
  },
  {
   "cell_type": "markdown",
   "metadata": {},
   "source": [
    "显式 Runge-Kutta 算法, 非刚性微分方程的首选算法"
   ]
  },
  {
   "cell_type": "markdown",
   "metadata": {},
   "source": [
    "#### 解方程\n",
    "$$\n",
    "\\frac{\\mathrm{d}y}{\\mathrm{d}t} = t\n",
    "$$"
   ]
  },
  {
   "cell_type": "code",
   "execution_count": 100,
   "metadata": {},
   "outputs": [],
   "source": [
    "ode_func = @(t, y) t;\n",
    "t_span = [-1, 1];\n",
    "y0 = 1;\n",
    "[t, y] = ode45(ode_func, t_span, y0);"
   ]
  },
  {
   "cell_type": "code",
   "execution_count": 101,
   "metadata": {},
   "outputs": [
    {
     "data": {
      "image/png": "[encoded data removed]",
      "text/plain": [
       "<IPython.core.display.Image object>"
      ]
     },
     "metadata": {},
     "output_type": "display_data"
    }
   ],
   "source": [
    "plot(t, y)\n",
    "hold on\n",
    "plot([-1, 1], [0, 0])"
   ]
  },
  {
   "cell_type": "markdown",
   "metadata": {},
   "source": [
    "#### 解二阶方程\n",
    "$$\n",
    "\\frac{\\mathrm{d^2}y}{\\mathrm{d}t^2}=t\n",
    "$$"
   ]
  },
  {
   "cell_type": "code",
   "execution_count": 102,
   "metadata": {},
   "outputs": [],
   "source": [
    "% 解二阶方程要化为各个一阶方程\n",
    "% 记住, y0 对应的值是 t_span 对应左区间时的值\n",
    "% 不是 t=0 时候的值\n",
    "ode_func = @(t, y) [y(2); t];\n",
    "t_span = [0, 1];\n",
    "y0 = [0, 0];\n",
    "[t, y] = ode45(ode_func, t_span, y0);"
   ]
  },
  {
   "cell_type": "code",
   "execution_count": 103,
   "metadata": {},
   "outputs": [
    {
     "data": {
      "image/png": "[encoded data removed]",
      "text/plain": [
       "<IPython.core.display.Image object>"
      ]
     },
     "metadata": {},
     "output_type": "display_data"
    }
   ],
   "source": [
    "% y(:, 1) 对应的是 y\n",
    "% y(:, 2) 对应的是 y'\n",
    "plot(t, y)"
   ]
  },
  {
   "cell_type": "markdown",
   "metadata": {},
   "source": [
    "#### 解方程\n",
    "$$\n",
    "\\frac{\\mathrm{d}^2y}{\\mathrm{d}t^2} = \\frac{\\mathrm{d}y}{\\mathrm{d}t}+y+t\n",
    "$$"
   ]
  },
  {
   "cell_type": "code",
   "execution_count": 104,
   "metadata": {},
   "outputs": [],
   "source": [
    "ode_func = @(t, y) [y(2); y(2)+y(1)+t];\n",
    "t_span = [0, 1];\n",
    "y0 = [0, 0];\n",
    "[t, y] = ode45(ode_func, t_span, y0);"
   ]
  },
  {
   "cell_type": "code",
   "execution_count": 105,
   "metadata": {},
   "outputs": [
    {
     "data": {
      "image/png": "[encoded data removed]",
      "text/plain": [
       "<IPython.core.display.Image object>"
      ]
     },
     "metadata": {},
     "output_type": "display_data"
    }
   ],
   "source": [
    "plot(t, y)"
   ]
  },
  {
   "cell_type": "markdown",
   "metadata": {},
   "source": [
    "#### 解方程\n",
    "$$\n",
    "x''=-x-1x'\n",
    "$$"
   ]
  },
  {
   "cell_type": "code",
   "execution_count": 106,
   "metadata": {},
   "outputs": [],
   "source": [
    "ode_func = @(t, x) [x(2); -x(2)-x(1)];\n",
    "t_span = [0, 10];\n",
    "x0 = [1, 1];\n",
    "[t, x] = ode45(ode_func, t_span, x0);"
   ]
  },
  {
   "cell_type": "code",
   "execution_count": 107,
   "metadata": {},
   "outputs": [
    {
     "data": {
      "image/png": "[encoded data removed]",
      "text/plain": [
       "<IPython.core.display.Image object>"
      ]
     },
     "metadata": {},
     "output_type": "display_data"
    }
   ],
   "source": [
    "plot(t, x);\n",
    "hold on;\n",
    "plot([0, 10], [0, 0]);"
   ]
  },
  {
   "cell_type": "markdown",
   "metadata": {},
   "source": [
    "#### 解阻尼振荡\n",
    "$$\n",
    "x'' = -7x - 0.5x' + 3 \\cos t\n",
    "$$"
   ]
  },
  {
   "cell_type": "code",
   "execution_count": 108,
   "metadata": {},
   "outputs": [],
   "source": [
    "ode_func = @(t, x) [x(2); -7*x(1)-0.5*x(2)+3*cos(t)];\n",
    "t_span = [0, 25];\n",
    "x0 = [3, 4];\n",
    "[t, x] = ode45(ode_func, t_span, x0);"
   ]
  },
  {
   "cell_type": "code",
   "execution_count": 109,
   "metadata": {},
   "outputs": [
    {
     "data": {
      "image/png": "[encoded data removed]",
      "text/plain": [
       "<IPython.core.display.Image object>"
      ]
     },
     "metadata": {},
     "output_type": "display_data"
    }
   ],
   "source": [
    "plot(t, x)"
   ]
  },
  {
   "cell_type": "markdown",
   "metadata": {},
   "source": [
    "# `p=poly(A)` `p_str=poly2str(p, 's')`"
   ]
  },
  {
   "cell_type": "code",
   "execution_count": 110,
   "metadata": {},
   "outputs": [
    {
     "name": "stdout",
     "output_type": "stream",
     "text": [
      "\n",
      "p =\n",
      "\n",
      "  Columns 1 through 3\n",
      "\n",
      "                         1                       -15                       -18\n",
      "\n",
      "  Column 4\n",
      "\n",
      "     -1.88269367722369e-14\n",
      "\n"
     ]
    }
   ],
   "source": [
    "A = [1, 2, 3;\n",
    "     4, 5, 6;\n",
    "     7, 8, 9];\n",
    "p = poly(A)"
   ]
  },
  {
   "cell_type": "code",
   "execution_count": 111,
   "metadata": {},
   "outputs": [],
   "source": [
    "% p_str = poly2str(p, 's');\n",
    "% 这个函数似乎被这个版本删除了"
   ]
  },
  {
   "cell_type": "markdown",
   "metadata": {},
   "source": [
    "# `polyval(p, x)`"
   ]
  },
  {
   "cell_type": "code",
   "execution_count": null,
   "metadata": {},
   "outputs": [
    {
     "name": "stdout",
     "output_type": "stream",
     "text": [
      "\n",
      "ans =\n",
      "\n",
      "                       -32\n",
      "\n",
      "\n",
      "ans =\n",
      "\n",
      "     -1.88269367722369e-14\n",
      "\n"
     ]
    }
   ],
   "source": [
    "% p 应当是降次的\n",
    "polyval(p, 1)\n",
    "polyval(p, 0)"
   ]
  },
  {
   "cell_type": "markdown",
   "metadata": {},
   "source": [
    "# `polyvalm(p, mat)`"
   ]
  },
  {
   "cell_type": "code",
   "execution_count": null,
   "metadata": {},
   "outputs": [
    {
     "name": "stdout",
     "output_type": "stream",
     "text": [
      "\n",
      "ans =\n",
      "\n",
      "      4.76776621420433e-13      5.93303184359684e-13        7.069900220813e-13\n",
      "      1.10844666778576e-12      1.31699340645675e-12      1.61293201017543e-12\n",
      "      1.71951342053944e-12      2.08899564313469e-12      2.50004706149732e-12\n",
      "\n"
     ]
    }
   ],
   "source": [
    "% Calay-Hamilton 定理, 矩阵应当适合自己的多项式\n",
    "polyvalm(p, A)"
   ]
  },
  {
   "cell_type": "code",
   "execution_count": 1,
   "metadata": {},
   "outputs": [
    {
     "name": "stdout",
     "output_type": "stream",
     "text": [
      "\n",
      "ans =\n",
      "\n",
      "  Columns 1 through 3\n",
      "\n",
      "      2.60833021847873e-14      2.24299745443801e-14      2.37240782574588e-14\n",
      "      3.62956192878627e-14      3.09544057053301e-14      3.34276877012041e-14\n",
      "      5.83769144135715e-14      5.05533115369161e-14      5.37972444369927e-14\n",
      "      6.16728890179274e-14      5.12853648437783e-14      5.62397350911681e-14\n",
      "      6.29704621779581e-14       5.2728654775791e-14      5.76830250231808e-14\n",
      "\n",
      "  Columns 4 through 5\n",
      "\n",
      "       2.2065682614425e-14      2.57710519591114e-14\n",
      "      3.10064474096095e-14      3.79123815674731e-14\n",
      "      4.98490138056695e-14      5.73430192218893e-14\n",
      "      5.09245423607751e-14      5.90361093344427e-14\n",
      "      5.24025267623074e-14      6.10830830360953e-14\n",
      "\n"
     ]
    }
   ],
   "source": [
    "B = rand(5, 5);\n",
    "polyvalm(poly(B), B)"
   ]
  },
  {
   "cell_type": "markdown",
   "metadata": {},
   "source": [
    "# `roots(p)`"
   ]
  },
  {
   "cell_type": "code",
   "execution_count": 4,
   "metadata": {},
   "outputs": [
    {
     "name": "stdout",
     "output_type": "stream",
     "text": [
      "\n",
      "p =\n",
      "\n",
      "                         1                        -5                        -2\n",
      "\n",
      "\n",
      "ans =\n",
      "\n",
      "          5.37228132326901\n",
      "        -0.372281323269014\n",
      "\n"
     ]
    }
   ],
   "source": [
    "A = [1, 2;\n",
    "     3, 4];\n",
    "p = poly(A)\n",
    "roots(p)"
   ]
  },
  {
   "cell_type": "code",
   "execution_count": 3,
   "metadata": {},
   "outputs": [
    {
     "name": "stdout",
     "output_type": "stream",
     "text": [
      "\n",
      "ans =\n",
      "\n",
      "     2\n",
      "     1\n",
      "\n"
     ]
    }
   ],
   "source": [
    "p = [1, -3, 2];\n",
    "roots(p)"
   ]
  },
  {
   "cell_type": "markdown",
   "metadata": {},
   "source": [
    "# `conv(a, b)`"
   ]
  },
  {
   "cell_type": "markdown",
   "metadata": {},
   "source": [
    "$$\n",
    "y_n=(a*b)_n=\\sum_{k=-\\infty}^{+\\infty}a_{k}b_{n-k}\n",
    "$$"
   ]
  },
  {
   "cell_type": "code",
   "execution_count": 6,
   "metadata": {},
   "outputs": [
    {
     "name": "stdout",
     "output_type": "stream",
     "text": [
      "\n",
      "ans =\n",
      "\n",
      "     4    13    28    27    18\n",
      "\n"
     ]
    }
   ],
   "source": [
    "% conv 求两个多项式的卷积\n",
    "p = [1, 2, 3];\n",
    "q = [4, 5, 6];\n",
    "conv(p, q)"
   ]
  },
  {
   "cell_type": "markdown",
   "metadata": {},
   "source": [
    "# `conv2(A, B)`"
   ]
  },
  {
   "cell_type": "markdown",
   "metadata": {},
   "source": [
    "二维离散卷积\n",
    "$$\n",
    "z(i, j)=\\sum_m\\sum_n x(m, n)y(i-m, j-n)\n",
    "$$"
   ]
  },
  {
   "cell_type": "code",
   "execution_count": 7,
   "metadata": {},
   "outputs": [
    {
     "name": "stdout",
     "output_type": "stream",
     "text": [
      "\n",
      "ans =\n",
      "\n",
      "     4    11    20    13     6\n",
      "    15    25    30    15     5\n",
      "    28    43    48    23    11\n",
      "    21    26    27    12     4\n",
      "    12    13    17     8     4\n",
      "\n"
     ]
    }
   ],
   "source": [
    "A = [1, 2, 3;\n",
    "     3, 2, 1;\n",
    "     4, 3, 2];\n",
    "B = [4, 3, 2;\n",
    "     3, 2, 1;\n",
    "     3, 1, 2];\n",
    "conv2(A, B)"
   ]
  },
  {
   "cell_type": "markdown",
   "metadata": {},
   "source": [
    "# `filter2(A, B)`"
   ]
  },
  {
   "cell_type": "markdown",
   "metadata": {},
   "source": [
    "二维相关运算\n",
    "$$\n",
    "z(i, j)=\\sum_m\\sum_n x(m, n)y(i+m, j+n)\n",
    "$$"
   ]
  },
  {
   "cell_type": "markdown",
   "metadata": {},
   "source": [
    "# `diff(arr)`"
   ]
  },
  {
   "cell_type": "code",
   "execution_count": 9,
   "metadata": {},
   "outputs": [
    {
     "name": "stdout",
     "output_type": "stream",
     "text": [
      "\n",
      "ans =\n",
      "\n",
      "     1     1     1    -1    -1    -1\n",
      "\n"
     ]
    }
   ],
   "source": [
    "arr = [1, 2, 3, 4, 3, 2, 1];\n",
    "diff(arr)"
   ]
  },
  {
   "cell_type": "markdown",
   "metadata": {},
   "source": [
    "# `smooth(X, span, method)`"
   ]
  },
  {
   "cell_type": "markdown",
   "metadata": {},
   "source": [
    "smooth 通过多种方法对一维数据进行平滑。它的基本作用是减少数据中的高频噪声，保留低频信号或趋势。"
   ]
  },
  {
   "cell_type": "code",
   "execution_count": null,
   "metadata": {},
   "outputs": [
    {
     "data": {
      "image/png": "[encoded data removed]",
      "text/plain": [
       "<IPython.core.display.Image object>"
      ]
     },
     "metadata": {},
     "output_type": "display_data"
    }
   ],
   "source": [
    "x = 1:100; \n",
    "y = sin(x/10) + rand(1, 100)*0.5;\n",
    "y_smooth = smooth(y);\n",
    "plot(x, y, 'b', x, y_smooth, 'r', 'LineWidth', 2);\n",
    "legend('原始数据', '平滑数据');"
   ]
  },
  {
   "cell_type": "markdown",
   "metadata": {},
   "source": [
    "| 方法               | 关键词              | 说明                                                                 |\n",
    "|--------------------|---------------------|----------------------------------------------------------------------|\n",
    "| 移动平均           | `'moving'`（默认） | 使用简单的移动平均法对数据进行平滑。                                |\n",
    "| Savitzky-Golay     | `'sgolay'`          | 使用 Savitzky-Golay 滤波器，可以保留数据的局部特性，如峰值和斜率。   |\n",
    "| 高斯滤波           | `'gaussian'`        | 使用高斯加权的方法进行平滑。                                        |\n",
    "| Loess              | `'lowess'`          | 局部加权线性回归，适合少量噪声的平滑。                              |\n",
    "| Robust Loess       | `'rlowess'`         | 带鲁棒性的局部加权线性回归，对异常值的鲁棒性更强。                  |\n",
    "| Loess (二次)       | `'loess'`           | 局部加权二次回归，比 `'lowess'` 更平滑。                            |\n",
    "| Robust Loess (二次)| `'rloess'`          | 带鲁棒性的局部加权二次回归。                                        |"
   ]
  },
  {
   "cell_type": "markdown",
   "metadata": {},
   "source": [
    "# `p=plotfit(x, y, n)`"
   ]
  },
  {
   "cell_type": "code",
   "execution_count": 13,
   "metadata": {},
   "outputs": [
    {
     "data": {
      "image/png": "[encoded data removed]",
      "text/plain": [
       "<IPython.core.display.Image object>"
      ]
     },
     "metadata": {},
     "output_type": "display_data"
    }
   ],
   "source": [
    "x = linspace(0, 10, 50);\n",
    "y_true = 3*x + 5;\n",
    "noise = randn(size(x)) * 5;\n",
    "y_noisy = y_true + noise;\n",
    "\n",
    "fitModel = polyfit(x, y_noisy, 1);  \n",
    "y_fit = polyval(fitModel, x);\n",
    "\n",
    "figure;\n",
    "plot(x, y_noisy, 'bo', 'DisplayName', '原始数据');\n",
    "hold on;\n",
    "plot(x, y_true, 'g--', 'DisplayName', '真实模型');\n",
    "plot(x, y_fit, 'r-', 'DisplayName', '拟合模型');\n",
    "legend show;\n",
    "xlabel('x');\n",
    "ylabel('y');\n",
    "title('测试数据与拟合结果');\n",
    "grid on;"
   ]
  },
  {
   "cell_type": "markdown",
   "metadata": {},
   "source": [
    "# `vq=interp1(x,v,xq,method,extrapval)`"
   ]
  },
  {
   "cell_type": "markdown",
   "metadata": {},
   "source": [
    "    • x：已知数据点的横坐标（必须为单调递增或递减的向量）\n",
    "    • v：对应于 x 的已知函数值（同样是向量）。\n",
    "    • xq：插值点的横坐标，可以是标量或向量。\n",
    "    • method（可选）：插值方法（默认 'linear'）。\n",
    "\n",
    "        •\t'linear'：线性插值。\n",
    "        •\t'nearest'：最近邻插值。\n",
    "        •\t'next' 或 'previous'：使用下一个或上一个点的值。\n",
    "        •\t'spline'：三次样条插值，平滑且适合曲线插值。\n",
    "        •\t'pchip'：分段三次 Hermite 插值，保持局部单调性。\n",
    "        •\t'makima'：修正 Akima 插值，平滑且鲁棒。\n",
    "        •\t'cubic'：等价于 'pchip'。\n",
    "        •\textrapval（可选）：外插值（即超出 x 范围的 xq）的值，默认情况下为 NaN。"
   ]
  },
  {
   "cell_type": "code",
   "execution_count": 21,
   "metadata": {},
   "outputs": [
    {
     "data": {
      "image/png": "[encoded data removed]",
      "text/plain": [
       "<IPython.core.display.Image object>"
      ]
     },
     "metadata": {},
     "output_type": "display_data"
    }
   ],
   "source": [
    "x = [0, 1, 2, 3, 4];\n",
    "v = [1, 2, 0, 2, 1];\n",
    "xq = 0:0.1:4;\n",
    "\n",
    "vq = interp1(x, v, xq);\n",
    "\n",
    "plot(x, v, 'o', xq, vq, '-');\n",
    "legend('原始数据', '线性插值');\n",
    "xlabel('x');\n",
    "ylabel('v');\n",
    "title('线性插值');\n",
    "grid on;"
   ]
  },
  {
   "cell_type": "code",
   "execution_count": 24,
   "metadata": {},
   "outputs": [
    {
     "data": {
      "image/png": "[encoded data removed]",
      "text/plain": [
       "<IPython.core.display.Image object>"
      ]
     },
     "metadata": {},
     "output_type": "display_data"
    }
   ],
   "source": [
    "x = [0, 1, 2, 3, 4];\n",
    "v = [1, 2, 0, 2, 1];\n",
    "xq = 0:0.1:4;\n",
    "\n",
    "vq = interp1(x, v, xq, 'nearest');\n",
    "\n",
    "plot(x, v, 'o', xq, vq, '-');\n",
    "legend('原始数据', '最临近插值');\n",
    "xlabel('x');\n",
    "ylabel('v');\n",
    "grid on;"
   ]
  },
  {
   "cell_type": "code",
   "execution_count": null,
   "metadata": {},
   "outputs": [],
   "source": [
    "x = [0, 1, 2, 3, 4];\n",
    "v = [1, 2, 0, 2, 1];\n",
    "xq = 0:0.1:4;\n",
    "\n",
    "vq = interp1(x, v, xq, 'nearest');\n",
    "\n",
    "plot(x, v, 'o', xq, vq, '-');\n",
    "legend('原始数据', '最临近插值');\n",
    "xlabel('x');\n",
    "ylabel('v');\n",
    "grid on;"
   ]
  },
  {
   "cell_type": "markdown",
   "metadata": {},
   "source": [
    "# `Xf=fft(xt,N,DIM)` `Xt=ifft(xf,N,DIM)`"
   ]
  },
  {
   "cell_type": "code",
   "execution_count": null,
   "metadata": {},
   "outputs": [],
   "source": []
  }
 ],
 "metadata": {
  "kernelspec": {
   "display_name": "Matlab (Connection)",
   "language": "matlab",
   "name": "matlab_connect"
  },
  "language_info": {
   "codemirror_mode": "octave",
   "file_extension": ".m",
   "help_links": [
    {
     "text": "MetaKernel Magics",
     "url": "https://metakernel.readthedocs.io/en/latest/source/README.html"
    }
   ],
   "mimetype": "text/x-octave",
   "name": "matlab",
   "version": "0.17.1"
  }
 },
 "nbformat": 4,
 "nbformat_minor": 2
}
