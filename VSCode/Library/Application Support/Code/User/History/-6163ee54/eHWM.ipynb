{
 "cells": [
  {
   "cell_type": "code",
   "execution_count": 10,
   "metadata": {},
   "outputs": [],
   "source": [
    "XY1 = randi([0, 100], 2, 100);\n",
    "XY2 = XY1 + randi([10, 50], 2, 100);\n",
    "\n",
    "XY1_50 = XY1(:, 1:50);\n",
    "XY2_50 = XY2(:, 1:50);\n",
    "XY1_100 = XY1(:, 51:100);\n",
    "XY2_100 = XY2(:, 51:100);"
   ]
  },
  {
   "cell_type": "code",
   "execution_count": 16,
   "metadata": {},
   "outputs": [],
   "source": [
    "x_overlap = max(0, min(XY2_50(1, :)', XY2_100(1, :)) - max(XY1_50(1, :)', XY1_100(1, :)));\n",
    "y_overlap = max(0, min(XY2_50(2, :)', XY2_100(2, :)) - max(XY1_50(2, :)', XY1_100(2, :)));\n",
    "overlap_area = x_overlap .* y_overlap;"
   ]
  },
  {
   "cell_type": "code",
   "execution_count": null,
   "metadata": {},
   "outputs": [],
   "source": [
    "\n",
    "% 计算每个矩形的面积\n",
    "area_50 = (XY2_50(1, :) - XY1_50(1, :)) .* (XY2_50(2, :) - XY1_50(2, :));\n",
    "area_100 = (XY2_100(1, :) - XY1_100(1, :)) .* (XY2_100(2, :) - XY1_100(2, :));\n",
    "[area_50_grid, area_100_grid] = ndgrid(area_50, area_100);\n",
    "\n",
    "% 计算度量值\n",
    "metric = overlap_area ./ (area_50_grid + area_100_grid - overlap_area);\n",
    "\n",
    "% 筛选最大度量值的配对\n",
    "pairings = zeros(50, 2); % 存储配对结果\n",
    "while true\n",
    "    % 找到当前最大度量值及其索引\n",
    "    [max_metric, linear_idx] = max(metric(:));\n",
    "    if max_metric <= 0\n",
    "        break; % 如果度量值都小于等于0，退出循环\n",
    "    end\n",
    "\n",
    "    [row, col] = ind2sub(size(metric), linear_idx); % 转换为行列索引\n",
    "    pairings(row, :) = [row, col]; % 保存配对\n",
    "\n",
    "    % 更新矩阵，删除已配对的矩形\n",
    "    metric(row, :) = -inf; % 删除当前行\n",
    "    metric(:, col) = -inf; % 删除当前列\n",
    "end\n",
    "\n",
    "% 输出配对结果\n",
    "disp('配对结果（前50矩形和后50矩形的索引）：');\n",
    "disp(pairings);"
   ]
  }
 ],
 "metadata": {
  "kernelspec": {
   "display_name": "Matlab (Connection)",
   "language": "matlab",
   "name": "matlab_connect"
  },
  "language_info": {
   "codemirror_mode": "octave",
   "file_extension": ".m",
   "help_links": [
    {
     "text": "MetaKernel Magics",
     "url": "https://metakernel.readthedocs.io/en/latest/source/README.html"
    }
   ],
   "mimetype": "text/x-octave",
   "name": "matlab",
   "version": "0.17.1"
  }
 },
 "nbformat": 4,
 "nbformat_minor": 2
}
