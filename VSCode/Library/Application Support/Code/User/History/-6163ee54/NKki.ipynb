{
 "cells": [
  {
   "cell_type": "code",
   "execution_count": 18,
   "metadata": {},
   "outputs": [],
   "source": [
    "XY1 = randi([0, 100], 2, 100);\n",
    "XY2 = XY1 + randi([10, 50], 2, 100);\n",
    "\n",
    "XY1_50 = XY1(:, 1:50);\n",
    "XY2_50 = XY2(:, 1:50);\n",
    "XY1_100 = XY1(:, 51:100);\n",
    "XY2_100 = XY2(:, 51:100);"
   ]
  }
 ],
 "metadata": {
  "kernelspec": {
   "display_name": "Matlab (Connection)",
   "language": "matlab",
   "name": "matlab_connect"
  },
  "language_info": {
   "codemirror_mode": "octave",
   "file_extension": ".m",
   "help_links": [
    {
     "text": "MetaKernel Magics",
     "url": "https://metakernel.readthedocs.io/en/latest/source/README.html"
    }
   ],
   "mimetype": "text/x-octave",
   "name": "matlab",
   "version": "0.17.1"
  }
 },
 "nbformat": 4,
 "nbformat_minor": 2
}
