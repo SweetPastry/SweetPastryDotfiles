{
 "cells": [
  {
   "cell_type": "code",
   "execution_count": 24,
   "metadata": {},
   "outputs": [
    {
     "name": "stdout",
     "output_type": "stream",
     "text": [
      "\n",
      "data =\n",
      "\n",
      "  45x25 table\n",
      "\n",
      "       Var1       Var2         Var3             Var4                  Var5                  Var6            Var7              Var8                Var9             Var10         Var11         Var12         Var13         Var14         Var15         Var16         Var17         Var18         Var19         Var20         Var21         Var22         Var23         Var24         Var25   \n",
      "    __________    ____    _______________    __________    __________________________    __________    ______________    _______________    _________________    __________    __________    __________    __________    __________    __________    __________    __________    __________    __________    __________    __________    __________    __________    __________    __________\n",
      "\n",
      "    {0x0 char}    NaN     {'学号'       }    {'姓名'  }     {'专业'                  }     {'性别'  }     {'学生状态'   }    {'是否允许P/NP'}     {'是否已申请P/NP'}     {'1'     }    {'2'     }    {'3'     }    {'4'     }    {'5'     }    {'6'     }    {'7'     }    {'8'     }    {'9'     }    {'10'    }    {'11'    }    {'12'    }    {'13'    }    {'14'    }    {'15'    }    {'16'    }\n",
      "    {'false' }      1     {'21300180031'}    {'周雨田' }    {'数据科学与大数据技术'     }    {'男'    }     {'已注册已返校'}    {'是'         }     {'否'           }    {0x0 char}    {0x0 char}    {0x0 char}    {0x0 char}    {0x0 char}    {0x0 char}    {0x0 char}    {0x0 char}    {0x0 char}    {0x0 char}    {0x0 char}    {0x0 char}    {0x0 char}    {0x0 char}    {0x0 char}    {0x0 char}\n",
      "    {'false' }      2     {'21300180150'}    {'邹仁杰' }    {'数学与应用数学(强基计划)'  }    {'男'    }    {'已注册已返校'}     {'是'         }    {'否'           }    {0x0 char}    {0x0 char}    {0x0 char}    {0x0 char}    {0x0 char}    {0x0 char}    {0x0 char}    {0x0 char}    {0x0 char}    {0x0 char}    {0x0 char}    {0x0 char}    {0x0 char}    {0x0 char}    {0x0 char}    {0x0 char}\n",
      "    {'false' }      3     {'21300680245'}    {'李艺佳' }    {'国际经济与贸易(国际经济学)'}    {'女'    }     {'已注册已返校'}    {'是'         }    {'是'           }     {0x0 char}    {0x0 char}    {0x0 char}    {0x0 char}    {0x0 char}    {0x0 char}    {0x0 char}    {0x0 char}    {0x0 char}    {0x0 char}    {0x0 char}    {0x0 char}    {0x0 char}    {0x0 char}    {0x0 char}    {0x0 char}\n",
      "    {'false' }      4     {'21307110153'}    {'傅睿阳' }    {'物理学'                 }    {'男'    }    {'已注册已返校'}    {'是'         }     {'是'           }    {0x0 char}    {0x0 char}    {0x0 char}    {0x0 char}    {0x0 char}    {0x0 char}    {0x0 char}    {0x0 char}    {0x0 char}    {0x0 char}    {0x0 char}    {0x0 char}    {0x0 char}    {0x0 char}    {0x0 char}    {0x0 char}\n",
      "    {'false' }      5     {'21307110173'}    {'杨一鸣' }    {'高分子材料与工程'         }    {'男'    }    {'已注册已返校'}    {'是'         }     {'否'           }    {0x0 char}    {0x0 char}    {0x0 char}    {0x0 char}    {0x0 char}    {0x0 char}    {0x0 char}    {0x0 char}    {0x0 char}    {0x0 char}    {0x0 char}    {0x0 char}    {0x0 char}    {0x0 char}    {0x0 char}    {0x0 char}\n",
      "    {'false' }      6     {'21307130245'}    {'胡一浚' }    {'数学与应用数学(强基计划)'  }    {'男'    }    {'已注册已返校'}     {'是'         }    {'否'           }    {0x0 char}    {0x0 char}    {0x0 char}    {0x0 char}    {0x0 char}    {0x0 char}    {0x0 char}    {0x0 char}    {0x0 char}    {0x0 char}    {0x0 char}    {0x0 char}    {0x0 char}    {0x0 char}    {0x0 char}    {0x0 char}\n",
      "    {'false' }      7     {'22300180116'}    {'陈子麟' }    {'数学与应用数学(强基计划)'  }    {'男'    }    {'已注册已返校'}     {'是'         }    {'否'           }    {0x0 char}    {0x0 char}    {0x0 char}    {0x0 char}    {0x0 char}    {0x0 char}    {0x0 char}    {0x0 char}    {0x0 char}    {0x0 char}    {0x0 char}    {0x0 char}    {0x0 char}    {0x0 char}    {0x0 char}    {0x0 char}\n",
      "    {'false' }      8     {'22300180137'}    {'黄芷昕' }    {'数学与应用数学(强基计划)'  }    {'女'    }    {'已注册已返校'}     {'是'         }    {'是'           }    {0x0 char}    {0x0 char}    {0x0 char}    {0x0 char}    {0x0 char}    {0x0 char}    {0x0 char}    {0x0 char}    {0x0 char}    {0x0 char}    {0x0 char}    {0x0 char}    {0x0 char}    {0x0 char}    {0x0 char}    {0x0 char}\n",
      "    {'false' }      9     {'22300180161'}    {'陈相宜' }    {'数学与应用数学'          }    {'女'    }     {'已注册已返校'}    {'是'         }    {'否'           }     {0x0 char}    {0x0 char}    {0x0 char}    {0x0 char}    {0x0 char}    {0x0 char}    {0x0 char}    {0x0 char}    {0x0 char}    {0x0 char}    {0x0 char}    {0x0 char}    {0x0 char}    {0x0 char}    {0x0 char}    {0x0 char}\n",
      "    {'false' }     10     {'23300680121'}    {'靳亘浩' }    {'物理学'                 }    {'男'    }    {'已注册已返校'}    {'是'         }     {'否'           }    {0x0 char}    {0x0 char}    {0x0 char}    {0x0 char}    {0x0 char}    {0x0 char}    {0x0 char}    {0x0 char}    {0x0 char}    {0x0 char}    {0x0 char}    {0x0 char}    {0x0 char}    {0x0 char}    {0x0 char}    {0x0 char}\n",
      "    {'false' }     11     {'23300680123'}    {'杨浩泽' }    {'国际经济与贸易(国际经济学)'}    {'男'    }     {'已注册已返校'}    {'是'         }    {'否'           }     {0x0 char}    {0x0 char}    {0x0 char}    {0x0 char}    {0x0 char}    {0x0 char}    {0x0 char}    {0x0 char}    {0x0 char}    {0x0 char}    {0x0 char}    {0x0 char}    {0x0 char}    {0x0 char}    {0x0 char}    {0x0 char}\n",
      "    {'false' }     12     {'23307110035'}    {'浦毅程' }    {'物理学'                 }    {'男'    }    {'已注册已返校'}    {'是'         }     {'否'           }    {0x0 char}    {0x0 char}    {0x0 char}    {0x0 char}    {0x0 char}    {0x0 char}    {0x0 char}    {0x0 char}    {0x0 char}    {0x0 char}    {0x0 char}    {0x0 char}    {0x0 char}    {0x0 char}    {0x0 char}    {0x0 char}\n",
      "    {'false' }     13     {'23307110267'}    {'林海轩' }    {'物理学(英才班)'          }    {'男'    }    {'已注册已返校'}     {'是'         }    {'否'           }    {0x0 char}    {0x0 char}    {0x0 char}    {0x0 char}    {0x0 char}    {0x0 char}    {0x0 char}    {0x0 char}    {0x0 char}    {0x0 char}    {0x0 char}    {0x0 char}    {0x0 char}    {0x0 char}    {0x0 char}    {0x0 char}\n",
      "    {'false' }     14     {'24300180064'}    {'江李'  }    {'数学类'                 }    {'男'    }     {'已注册已返校'}    {'是'         }    {'是'           }     {0x0 char}    {0x0 char}    {0x0 char}    {0x0 char}    {0x0 char}    {0x0 char}    {0x0 char}    {0x0 char}    {0x0 char}    {0x0 char}    {0x0 char}    {0x0 char}    {0x0 char}    {0x0 char}    {0x0 char}    {0x0 char}\n",
      "    {0x0 char}    NaN     {0x0 char     }    {0x0 char}    {0x0 char                }    {0x0 char}    {0x0 char    }    {0x0 char     }    {0x0 char       }    {0x0 char}    {0x0 char}    {0x0 char}    {0x0 char}    {0x0 char}    {0x0 char}    {0x0 char}    {0x0 char}    {0x0 char}    {0x0 char}    {0x0 char}    {0x0 char}    {0x0 char}    {0x0 char}    {0x0 char}    {0x0 char}\n",
      "    {0x0 char}    NaN     {0x0 char     }    {0x0 char}    {0x0 char                }    {0x0 char}    {0x0 char    }    {0x0 char     }    {0x0 char       }    {0x0 char}    {0x0 char}    {0x0 char}    {0x0 char}    {0x0 char}    {0x0 char}    {0x0 char}    {0x0 char}    {0x0 char}    {0x0 char}    {0x0 char}    {0x0 char}    {0x0 char}    {0x0 char}    {0x0 char}    {0x0 char}\n",
      "    {0x0 char}    NaN     {0x0 char     }    {0x0 char}    {0x0 char                }    {0x0 char}    {0x0 char    }    {0x0 char     }    {0x0 char       }    {0x0 char}    {0x0 char}    {0x0 char}    {0x0 char}    {0x0 char}    {0x0 char}    {0x0 char}    {0x0 char}    {0x0 char}    {0x0 char}    {0x0 char}    {0x0 char}    {0x0 char}    {0x0 char}    {0x0 char}    {0x0 char}\n",
      "    {0x0 char}    NaN     {0x0 char     }    {0x0 char}    {0x0 char                }    {0x0 char}    {0x0 char    }    {0x0 char     }    {0x0 char       }    {0x0 char}    {0x0 char}    {0x0 char}    {0x0 char}    {0x0 char}    {0x0 char}    {0x0 char}    {0x0 char}    {0x0 char}    {0x0 char}    {0x0 char}    {0x0 char}    {0x0 char}    {0x0 char}    {0x0 char}    {0x0 char}\n",
      "    {0x0 char}    NaN     {0x0 char     }    {0x0 char}    {0x0 char                }    {0x0 char}    {0x0 char    }    {0x0 char     }    {0x0 char       }    {0x0 char}    {0x0 char}    {0x0 char}    {0x0 char}    {0x0 char}    {0x0 char}    {0x0 char}    {0x0 char}    {0x0 char}    {0x0 char}    {0x0 char}    {0x0 char}    {0x0 char}    {0x0 char}    {0x0 char}    {0x0 char}\n",
      "    {0x0 char}    NaN     {0x0 char     }    {0x0 char}    {0x0 char                }    {0x0 char}    {0x0 char    }    {0x0 char     }    {0x0 char       }    {0x0 char}    {0x0 char}    {0x0 char}    {0x0 char}    {0x0 char}    {0x0 char}    {0x0 char}    {0x0 char}    {0x0 char}    {0x0 char}    {0x0 char}    {0x0 char}    {0x0 char}    {0x0 char}    {0x0 char}    {0x0 char}\n",
      "    {0x0 char}    NaN     {0x0 char     }    {0x0 char}    {0x0 char                }    {0x0 char}    {0x0 char    }    {0x0 char     }    {0x0 char       }    {0x0 char}    {0x0 char}    {0x0 char}    {0x0 char}    {0x0 char}    {0x0 char}    {0x0 char}    {0x0 char}    {0x0 char}    {0x0 char}    {0x0 char}    {0x0 char}    {0x0 char}    {0x0 char}    {0x0 char}    {0x0 char}\n",
      "    {0x0 char}    NaN     {0x0 char     }    {0x0 char}    {0x0 char                }    {0x0 char}    {0x0 char    }    {0x0 char     }    {0x0 char       }    {0x0 char}    {0x0 char}    {0x0 char}    {0x0 char}    {0x0 char}    {0x0 char}    {0x0 char}    {0x0 char}    {0x0 char}    {0x0 char}    {0x0 char}    {0x0 char}    {0x0 char}    {0x0 char}    {0x0 char}    {0x0 char}\n",
      "    {0x0 char}    NaN     {0x0 char     }    {0x0 char}    {0x0 char                }    {0x0 char}    {0x0 char    }    {0x0 char     }    {0x0 char       }    {0x0 char}    {0x0 char}    {0x0 char}    {0x0 char}    {0x0 char}    {0x0 char}    {0x0 char}    {0x0 char}    {0x0 char}    {0x0 char}    {0x0 char}    {0x0 char}    {0x0 char}    {0x0 char}    {0x0 char}    {0x0 char}\n",
      "    {0x0 char}    NaN     {0x0 char     }    {0x0 char}    {0x0 char                }    {0x0 char}    {0x0 char    }    {0x0 char     }    {0x0 char       }    {0x0 char}    {0x0 char}    {0x0 char}    {0x0 char}    {0x0 char}    {0x0 char}    {0x0 char}    {0x0 char}    {0x0 char}    {0x0 char}    {0x0 char}    {0x0 char}    {0x0 char}    {0x0 char}    {0x0 char}    {0x0 char}\n",
      "    {0x0 char}    NaN     {0x0 char     }    {0x0 char}    {0x0 char                }    {0x0 char}    {0x0 char    }    {0x0 char     }    {0x0 char       }    {0x0 char}    {0x0 char}    {0x0 char}    {0x0 char}    {0x0 char}    {0x0 char}    {0x0 char}    {0x0 char}    {0x0 char}    {0x0 char}    {0x0 char}    {0x0 char}    {0x0 char}    {0x0 char}    {0x0 char}    {0x0 char}\n",
      "    {0x0 char}    NaN     {0x0 char     }    {0x0 char}    {0x0 char                }    {0x0 char}    {0x0 char    }    {0x0 char     }    {0x0 char       }    {0x0 char}    {0x0 char}    {0x0 char}    {0x0 char}    {0x0 char}    {0x0 char}    {0x0 char}    {0x0 char}    {0x0 char}    {0x0 char}    {0x0 char}    {0x0 char}    {0x0 char}    {0x0 char}    {0x0 char}    {0x0 char}\n",
      "    {0x0 char}    NaN     {0x0 char     }    {0x0 char}    {0x0 char                }    {0x0 char}    {0x0 char    }    {0x0 char     }    {0x0 char       }    {0x0 char}    {0x0 char}    {0x0 char}    {0x0 char}    {0x0 char}    {0x0 char}    {0x0 char}    {0x0 char}    {0x0 char}    {0x0 char}    {0x0 char}    {0x0 char}    {0x0 char}    {0x0 char}    {0x0 char}    {0x0 char}\n",
      "    {0x0 char}    NaN     {0x0 char     }    {0x0 char}    {0x0 char                }    {0x0 char}    {0x0 char    }    {0x0 char     }    {0x0 char       }    {0x0 char}    {0x0 char}    {0x0 char}    {0x0 char}    {0x0 char}    {0x0 char}    {0x0 char}    {0x0 char}    {0x0 char}    {0x0 char}    {0x0 char}    {0x0 char}    {0x0 char}    {0x0 char}    {0x0 char}    {0x0 char}\n",
      "    {0x0 char}    NaN     {0x0 char     }    {0x0 char}    {0x0 char                }    {0x0 char}    {0x0 char    }    {0x0 char     }    {0x0 char       }    {0x0 char}    {0x0 char}    {0x0 char}    {0x0 char}    {0x0 char}    {0x0 char}    {0x0 char}    {0x0 char}    {0x0 char}    {0x0 char}    {0x0 char}    {0x0 char}    {0x0 char}    {0x0 char}    {0x0 char}    {0x0 char}\n",
      "    {0x0 char}    NaN     {0x0 char     }    {0x0 char}    {0x0 char                }    {0x0 char}    {0x0 char    }    {0x0 char     }    {0x0 char       }    {0x0 char}    {0x0 char}    {0x0 char}    {0x0 char}    {0x0 char}    {0x0 char}    {0x0 char}    {0x0 char}    {0x0 char}    {0x0 char}    {0x0 char}    {0x0 char}    {0x0 char}    {0x0 char}    {0x0 char}    {0x0 char}\n",
      "    {0x0 char}    NaN     {0x0 char     }    {0x0 char}    {0x0 char                }    {0x0 char}    {0x0 char    }    {0x0 char     }    {0x0 char       }    {0x0 char}    {0x0 char}    {0x0 char}    {0x0 char}    {0x0 char}    {0x0 char}    {0x0 char}    {0x0 char}    {0x0 char}    {0x0 char}    {0x0 char}    {0x0 char}    {0x0 char}    {0x0 char}    {0x0 char}    {0x0 char}\n",
      "    {0x0 char}    NaN     {0x0 char     }    {0x0 char}    {0x0 char                }    {0x0 char}    {0x0 char    }    {0x0 char     }    {0x0 char       }    {0x0 char}    {0x0 char}    {0x0 char}    {0x0 char}    {0x0 char}    {0x0 char}    {0x0 char}    {0x0 char}    {0x0 char}    {0x0 char}    {0x0 char}    {0x0 char}    {0x0 char}    {0x0 char}    {0x0 char}    {0x0 char}\n",
      "    {0x0 char}    NaN     {0x0 char     }    {0x0 char}    {0x0 char                }    {0x0 char}    {0x0 char    }    {0x0 char     }    {0x0 char       }    {0x0 char}    {0x0 char}    {0x0 char}    {0x0 char}    {0x0 char}    {0x0 char}    {0x0 char}    {0x0 char}    {0x0 char}    {0x0 char}    {0x0 char}    {0x0 char}    {0x0 char}    {0x0 char}    {0x0 char}    {0x0 char}\n",
      "    {0x0 char}    NaN     {0x0 char     }    {0x0 char}    {0x0 char                }    {0x0 char}    {0x0 char    }    {0x0 char     }    {0x0 char       }    {0x0 char}    {0x0 char}    {0x0 char}    {0x0 char}    {0x0 char}    {0x0 char}    {0x0 char}    {0x0 char}    {0x0 char}    {0x0 char}    {0x0 char}    {0x0 char}    {0x0 char}    {0x0 char}    {0x0 char}    {0x0 char}\n",
      "    {0x0 char}    NaN     {0x0 char     }    {0x0 char}    {0x0 char                }    {0x0 char}    {0x0 char    }    {0x0 char     }    {0x0 char       }    {0x0 char}    {0x0 char}    {0x0 char}    {0x0 char}    {0x0 char}    {0x0 char}    {0x0 char}    {0x0 char}    {0x0 char}    {0x0 char}    {0x0 char}    {0x0 char}    {0x0 char}    {0x0 char}    {0x0 char}    {0x0 char}\n",
      "    {0x0 char}    NaN     {0x0 char     }    {0x0 char}    {0x0 char                }    {0x0 char}    {0x0 char    }    {0x0 char     }    {0x0 char       }    {0x0 char}    {0x0 char}    {0x0 char}    {0x0 char}    {0x0 char}    {0x0 char}    {0x0 char}    {0x0 char}    {0x0 char}    {0x0 char}    {0x0 char}    {0x0 char}    {0x0 char}    {0x0 char}    {0x0 char}    {0x0 char}\n",
      "    {0x0 char}    NaN     {0x0 char     }    {0x0 char}    {0x0 char                }    {0x0 char}    {0x0 char    }    {0x0 char     }    {0x0 char       }    {0x0 char}    {0x0 char}    {0x0 char}    {0x0 char}    {0x0 char}    {0x0 char}    {0x0 char}    {0x0 char}    {0x0 char}    {0x0 char}    {0x0 char}    {0x0 char}    {0x0 char}    {0x0 char}    {0x0 char}    {0x0 char}\n",
      "    {0x0 char}    NaN     {0x0 char     }    {0x0 char}    {0x0 char                }    {0x0 char}    {0x0 char    }    {0x0 char     }    {0x0 char       }    {0x0 char}    {0x0 char}    {0x0 char}    {0x0 char}    {0x0 char}    {0x0 char}    {0x0 char}    {0x0 char}    {0x0 char}    {0x0 char}    {0x0 char}    {0x0 char}    {0x0 char}    {0x0 char}    {0x0 char}    {0x0 char}\n",
      "    {0x0 char}    NaN     {0x0 char     }    {0x0 char}    {0x0 char                }    {0x0 char}    {0x0 char    }    {0x0 char     }    {0x0 char       }    {0x0 char}    {0x0 char}    {0x0 char}    {0x0 char}    {0x0 char}    {0x0 char}    {0x0 char}    {0x0 char}    {0x0 char}    {0x0 char}    {0x0 char}    {0x0 char}    {0x0 char}    {0x0 char}    {0x0 char}    {0x0 char}\n",
      "    {0x0 char}    NaN     {0x0 char     }    {0x0 char}    {0x0 char                }    {0x0 char}    {0x0 char    }    {0x0 char     }    {0x0 char       }    {0x0 char}    {0x0 char}    {0x0 char}    {0x0 char}    {0x0 char}    {0x0 char}    {0x0 char}    {0x0 char}    {0x0 char}    {0x0 char}    {0x0 char}    {0x0 char}    {0x0 char}    {0x0 char}    {0x0 char}    {0x0 char}\n",
      "    {0x0 char}    NaN     {0x0 char     }    {0x0 char}    {0x0 char                }    {0x0 char}    {0x0 char    }    {0x0 char     }    {0x0 char       }    {0x0 char}    {0x0 char}    {0x0 char}    {0x0 char}    {0x0 char}    {0x0 char}    {0x0 char}    {0x0 char}    {0x0 char}    {0x0 char}    {0x0 char}    {0x0 char}    {0x0 char}    {0x0 char}    {0x0 char}    {0x0 char}\n",
      "    {0x0 char}    NaN     {0x0 char     }    {0x0 char}    {0x0 char                }    {0x0 char}    {0x0 char    }    {0x0 char     }    {0x0 char       }    {0x0 char}    {0x0 char}    {0x0 char}    {0x0 char}    {0x0 char}    {0x0 char}    {0x0 char}    {0x0 char}    {0x0 char}    {0x0 char}    {0x0 char}    {0x0 char}    {0x0 char}    {0x0 char}    {0x0 char}    {0x0 char}\n",
      "    {0x0 char}    NaN     {0x0 char     }    {0x0 char}    {0x0 char                }    {0x0 char}    {0x0 char    }    {0x0 char     }    {0x0 char       }    {0x0 char}    {0x0 char}    {0x0 char}    {0x0 char}    {0x0 char}    {0x0 char}    {0x0 char}    {0x0 char}    {0x0 char}    {0x0 char}    {0x0 char}    {0x0 char}    {0x0 char}    {0x0 char}    {0x0 char}    {0x0 char}\n",
      "    {0x0 char}    NaN     {0x0 char     }    {0x0 char}    {0x0 char                }    {0x0 char}    {0x0 char    }    {0x0 char     }    {0x0 char       }    {0x0 char}    {0x0 char}    {0x0 char}    {0x0 char}    {0x0 char}    {0x0 char}    {0x0 char}    {0x0 char}    {0x0 char}    {0x0 char}    {0x0 char}    {0x0 char}    {0x0 char}    {0x0 char}    {0x0 char}    {0x0 char}\n",
      "\n"
     ]
    }
   ],
   "source": [
    "data = readtable(\"上课点名表.xls\", NumHeaderLines=3)"
   ]
  },
  {
   "cell_type": "code",
   "execution_count": 25,
   "metadata": {},
   "outputs": [
    {
     "name": "stdout",
     "output_type": "stream",
     "text": [
      "\n",
      "data_clear =\n",
      "\n",
      "  44x25 table\n",
      "\n",
      "       Var1       Var2         Var3             Var4                  Var5                  Var6            Var7            Var8          Var9         Var10         Var11         Var12         Var13         Var14         Var15         Var16         Var17         Var18         Var19         Var20         Var21         Var22         Var23         Var24         Var25   \n",
      "    __________    ____    _______________    __________    __________________________    __________    ______________    __________    __________    __________    __________    __________    __________    __________    __________    __________    __________    __________    __________    __________    __________    __________    __________    __________    __________\n",
      "\n",
      "    {'false' }      1     {'21300180031'}    {'周雨田' }    {'数据科学与大数据技术'     }    {'男'    }     {'已注册已返校'}    {'是'    }     {'否'    }    {0x0 char}    {0x0 char}    {0x0 char}    {0x0 char}    {0x0 char}    {0x0 char}    {0x0 char}    {0x0 char}    {0x0 char}    {0x0 char}    {0x0 char}    {0x0 char}    {0x0 char}    {0x0 char}    {0x0 char}    {0x0 char}\n",
      "    {'false' }      2     {'21300180150'}    {'邹仁杰' }    {'数学与应用数学(强基计划)'  }    {'男'    }    {'已注册已返校'}     {'是'    }    {'否'    }    {0x0 char}    {0x0 char}    {0x0 char}    {0x0 char}    {0x0 char}    {0x0 char}    {0x0 char}    {0x0 char}    {0x0 char}    {0x0 char}    {0x0 char}    {0x0 char}    {0x0 char}    {0x0 char}    {0x0 char}    {0x0 char}\n",
      "    {'false' }      3     {'21300680245'}    {'李艺佳' }    {'国际经济与贸易(国际经济学)'}    {'女'    }     {'已注册已返校'}    {'是'    }    {'是'    }     {0x0 char}    {0x0 char}    {0x0 char}    {0x0 char}    {0x0 char}    {0x0 char}    {0x0 char}    {0x0 char}    {0x0 char}    {0x0 char}    {0x0 char}    {0x0 char}    {0x0 char}    {0x0 char}    {0x0 char}    {0x0 char}\n",
      "    {'false' }      4     {'21307110153'}    {'傅睿阳' }    {'物理学'                 }    {'男'    }    {'已注册已返校'}    {'是'    }     {'是'    }    {0x0 char}    {0x0 char}    {0x0 char}    {0x0 char}    {0x0 char}    {0x0 char}    {0x0 char}    {0x0 char}    {0x0 char}    {0x0 char}    {0x0 char}    {0x0 char}    {0x0 char}    {0x0 char}    {0x0 char}    {0x0 char}\n",
      "    {'false' }      5     {'21307110173'}    {'杨一鸣' }    {'高分子材料与工程'         }    {'男'    }    {'已注册已返校'}    {'是'    }     {'否'    }    {0x0 char}    {0x0 char}    {0x0 char}    {0x0 char}    {0x0 char}    {0x0 char}    {0x0 char}    {0x0 char}    {0x0 char}    {0x0 char}    {0x0 char}    {0x0 char}    {0x0 char}    {0x0 char}    {0x0 char}    {0x0 char}\n",
      "    {'false' }      6     {'21307130245'}    {'胡一浚' }    {'数学与应用数学(强基计划)'  }    {'男'    }    {'已注册已返校'}     {'是'    }    {'否'    }    {0x0 char}    {0x0 char}    {0x0 char}    {0x0 char}    {0x0 char}    {0x0 char}    {0x0 char}    {0x0 char}    {0x0 char}    {0x0 char}    {0x0 char}    {0x0 char}    {0x0 char}    {0x0 char}    {0x0 char}    {0x0 char}\n",
      "    {'false' }      7     {'22300180116'}    {'陈子麟' }    {'数学与应用数学(强基计划)'  }    {'男'    }    {'已注册已返校'}     {'是'    }    {'否'    }    {0x0 char}    {0x0 char}    {0x0 char}    {0x0 char}    {0x0 char}    {0x0 char}    {0x0 char}    {0x0 char}    {0x0 char}    {0x0 char}    {0x0 char}    {0x0 char}    {0x0 char}    {0x0 char}    {0x0 char}    {0x0 char}\n",
      "    {'false' }      8     {'22300180137'}    {'黄芷昕' }    {'数学与应用数学(强基计划)'  }    {'女'    }    {'已注册已返校'}     {'是'    }    {'是'    }    {0x0 char}    {0x0 char}    {0x0 char}    {0x0 char}    {0x0 char}    {0x0 char}    {0x0 char}    {0x0 char}    {0x0 char}    {0x0 char}    {0x0 char}    {0x0 char}    {0x0 char}    {0x0 char}    {0x0 char}    {0x0 char}\n",
      "    {'false' }      9     {'22300180161'}    {'陈相宜' }    {'数学与应用数学'          }    {'女'    }     {'已注册已返校'}    {'是'    }    {'否'    }     {0x0 char}    {0x0 char}    {0x0 char}    {0x0 char}    {0x0 char}    {0x0 char}    {0x0 char}    {0x0 char}    {0x0 char}    {0x0 char}    {0x0 char}    {0x0 char}    {0x0 char}    {0x0 char}    {0x0 char}    {0x0 char}\n",
      "    {'false' }     10     {'23300680121'}    {'靳亘浩' }    {'物理学'                 }    {'男'    }    {'已注册已返校'}    {'是'    }     {'否'    }    {0x0 char}    {0x0 char}    {0x0 char}    {0x0 char}    {0x0 char}    {0x0 char}    {0x0 char}    {0x0 char}    {0x0 char}    {0x0 char}    {0x0 char}    {0x0 char}    {0x0 char}    {0x0 char}    {0x0 char}    {0x0 char}\n",
      "    {'false' }     11     {'23300680123'}    {'杨浩泽' }    {'国际经济与贸易(国际经济学)'}    {'男'    }     {'已注册已返校'}    {'是'    }    {'否'    }     {0x0 char}    {0x0 char}    {0x0 char}    {0x0 char}    {0x0 char}    {0x0 char}    {0x0 char}    {0x0 char}    {0x0 char}    {0x0 char}    {0x0 char}    {0x0 char}    {0x0 char}    {0x0 char}    {0x0 char}    {0x0 char}\n",
      "    {'false' }     12     {'23307110035'}    {'浦毅程' }    {'物理学'                 }    {'男'    }    {'已注册已返校'}    {'是'    }     {'否'    }    {0x0 char}    {0x0 char}    {0x0 char}    {0x0 char}    {0x0 char}    {0x0 char}    {0x0 char}    {0x0 char}    {0x0 char}    {0x0 char}    {0x0 char}    {0x0 char}    {0x0 char}    {0x0 char}    {0x0 char}    {0x0 char}\n",
      "    {'false' }     13     {'23307110267'}    {'林海轩' }    {'物理学(英才班)'          }    {'男'    }    {'已注册已返校'}     {'是'    }    {'否'    }    {0x0 char}    {0x0 char}    {0x0 char}    {0x0 char}    {0x0 char}    {0x0 char}    {0x0 char}    {0x0 char}    {0x0 char}    {0x0 char}    {0x0 char}    {0x0 char}    {0x0 char}    {0x0 char}    {0x0 char}    {0x0 char}\n",
      "    {'false' }     14     {'24300180064'}    {'江李'  }    {'数学类'                 }    {'男'    }     {'已注册已返校'}    {'是'    }    {'是'    }     {0x0 char}    {0x0 char}    {0x0 char}    {0x0 char}    {0x0 char}    {0x0 char}    {0x0 char}    {0x0 char}    {0x0 char}    {0x0 char}    {0x0 char}    {0x0 char}    {0x0 char}    {0x0 char}    {0x0 char}    {0x0 char}\n",
      "    {0x0 char}    NaN     {0x0 char     }    {0x0 char}    {0x0 char                }    {0x0 char}    {0x0 char    }    {0x0 char}    {0x0 char}    {0x0 char}    {0x0 char}    {0x0 char}    {0x0 char}    {0x0 char}    {0x0 char}    {0x0 char}    {0x0 char}    {0x0 char}    {0x0 char}    {0x0 char}    {0x0 char}    {0x0 char}    {0x0 char}    {0x0 char}    {0x0 char}\n",
      "    {0x0 char}    NaN     {0x0 char     }    {0x0 char}    {0x0 char                }    {0x0 char}    {0x0 char    }    {0x0 char}    {0x0 char}    {0x0 char}    {0x0 char}    {0x0 char}    {0x0 char}    {0x0 char}    {0x0 char}    {0x0 char}    {0x0 char}    {0x0 char}    {0x0 char}    {0x0 char}    {0x0 char}    {0x0 char}    {0x0 char}    {0x0 char}    {0x0 char}\n",
      "    {0x0 char}    NaN     {0x0 char     }    {0x0 char}    {0x0 char                }    {0x0 char}    {0x0 char    }    {0x0 char}    {0x0 char}    {0x0 char}    {0x0 char}    {0x0 char}    {0x0 char}    {0x0 char}    {0x0 char}    {0x0 char}    {0x0 char}    {0x0 char}    {0x0 char}    {0x0 char}    {0x0 char}    {0x0 char}    {0x0 char}    {0x0 char}    {0x0 char}\n",
      "    {0x0 char}    NaN     {0x0 char     }    {0x0 char}    {0x0 char                }    {0x0 char}    {0x0 char    }    {0x0 char}    {0x0 char}    {0x0 char}    {0x0 char}    {0x0 char}    {0x0 char}    {0x0 char}    {0x0 char}    {0x0 char}    {0x0 char}    {0x0 char}    {0x0 char}    {0x0 char}    {0x0 char}    {0x0 char}    {0x0 char}    {0x0 char}    {0x0 char}\n",
      "    {0x0 char}    NaN     {0x0 char     }    {0x0 char}    {0x0 char                }    {0x0 char}    {0x0 char    }    {0x0 char}    {0x0 char}    {0x0 char}    {0x0 char}    {0x0 char}    {0x0 char}    {0x0 char}    {0x0 char}    {0x0 char}    {0x0 char}    {0x0 char}    {0x0 char}    {0x0 char}    {0x0 char}    {0x0 char}    {0x0 char}    {0x0 char}    {0x0 char}\n",
      "    {0x0 char}    NaN     {0x0 char     }    {0x0 char}    {0x0 char                }    {0x0 char}    {0x0 char    }    {0x0 char}    {0x0 char}    {0x0 char}    {0x0 char}    {0x0 char}    {0x0 char}    {0x0 char}    {0x0 char}    {0x0 char}    {0x0 char}    {0x0 char}    {0x0 char}    {0x0 char}    {0x0 char}    {0x0 char}    {0x0 char}    {0x0 char}    {0x0 char}\n",
      "    {0x0 char}    NaN     {0x0 char     }    {0x0 char}    {0x0 char                }    {0x0 char}    {0x0 char    }    {0x0 char}    {0x0 char}    {0x0 char}    {0x0 char}    {0x0 char}    {0x0 char}    {0x0 char}    {0x0 char}    {0x0 char}    {0x0 char}    {0x0 char}    {0x0 char}    {0x0 char}    {0x0 char}    {0x0 char}    {0x0 char}    {0x0 char}    {0x0 char}\n",
      "    {0x0 char}    NaN     {0x0 char     }    {0x0 char}    {0x0 char                }    {0x0 char}    {0x0 char    }    {0x0 char}    {0x0 char}    {0x0 char}    {0x0 char}    {0x0 char}    {0x0 char}    {0x0 char}    {0x0 char}    {0x0 char}    {0x0 char}    {0x0 char}    {0x0 char}    {0x0 char}    {0x0 char}    {0x0 char}    {0x0 char}    {0x0 char}    {0x0 char}\n",
      "    {0x0 char}    NaN     {0x0 char     }    {0x0 char}    {0x0 char                }    {0x0 char}    {0x0 char    }    {0x0 char}    {0x0 char}    {0x0 char}    {0x0 char}    {0x0 char}    {0x0 char}    {0x0 char}    {0x0 char}    {0x0 char}    {0x0 char}    {0x0 char}    {0x0 char}    {0x0 char}    {0x0 char}    {0x0 char}    {0x0 char}    {0x0 char}    {0x0 char}\n",
      "    {0x0 char}    NaN     {0x0 char     }    {0x0 char}    {0x0 char                }    {0x0 char}    {0x0 char    }    {0x0 char}    {0x0 char}    {0x0 char}    {0x0 char}    {0x0 char}    {0x0 char}    {0x0 char}    {0x0 char}    {0x0 char}    {0x0 char}    {0x0 char}    {0x0 char}    {0x0 char}    {0x0 char}    {0x0 char}    {0x0 char}    {0x0 char}    {0x0 char}\n",
      "    {0x0 char}    NaN     {0x0 char     }    {0x0 char}    {0x0 char                }    {0x0 char}    {0x0 char    }    {0x0 char}    {0x0 char}    {0x0 char}    {0x0 char}    {0x0 char}    {0x0 char}    {0x0 char}    {0x0 char}    {0x0 char}    {0x0 char}    {0x0 char}    {0x0 char}    {0x0 char}    {0x0 char}    {0x0 char}    {0x0 char}    {0x0 char}    {0x0 char}\n",
      "    {0x0 char}    NaN     {0x0 char     }    {0x0 char}    {0x0 char                }    {0x0 char}    {0x0 char    }    {0x0 char}    {0x0 char}    {0x0 char}    {0x0 char}    {0x0 char}    {0x0 char}    {0x0 char}    {0x0 char}    {0x0 char}    {0x0 char}    {0x0 char}    {0x0 char}    {0x0 char}    {0x0 char}    {0x0 char}    {0x0 char}    {0x0 char}    {0x0 char}\n",
      "    {0x0 char}    NaN     {0x0 char     }    {0x0 char}    {0x0 char                }    {0x0 char}    {0x0 char    }    {0x0 char}    {0x0 char}    {0x0 char}    {0x0 char}    {0x0 char}    {0x0 char}    {0x0 char}    {0x0 char}    {0x0 char}    {0x0 char}    {0x0 char}    {0x0 char}    {0x0 char}    {0x0 char}    {0x0 char}    {0x0 char}    {0x0 char}    {0x0 char}\n",
      "    {0x0 char}    NaN     {0x0 char     }    {0x0 char}    {0x0 char                }    {0x0 char}    {0x0 char    }    {0x0 char}    {0x0 char}    {0x0 char}    {0x0 char}    {0x0 char}    {0x0 char}    {0x0 char}    {0x0 char}    {0x0 char}    {0x0 char}    {0x0 char}    {0x0 char}    {0x0 char}    {0x0 char}    {0x0 char}    {0x0 char}    {0x0 char}    {0x0 char}\n",
      "    {0x0 char}    NaN     {0x0 char     }    {0x0 char}    {0x0 char                }    {0x0 char}    {0x0 char    }    {0x0 char}    {0x0 char}    {0x0 char}    {0x0 char}    {0x0 char}    {0x0 char}    {0x0 char}    {0x0 char}    {0x0 char}    {0x0 char}    {0x0 char}    {0x0 char}    {0x0 char}    {0x0 char}    {0x0 char}    {0x0 char}    {0x0 char}    {0x0 char}\n",
      "    {0x0 char}    NaN     {0x0 char     }    {0x0 char}    {0x0 char                }    {0x0 char}    {0x0 char    }    {0x0 char}    {0x0 char}    {0x0 char}    {0x0 char}    {0x0 char}    {0x0 char}    {0x0 char}    {0x0 char}    {0x0 char}    {0x0 char}    {0x0 char}    {0x0 char}    {0x0 char}    {0x0 char}    {0x0 char}    {0x0 char}    {0x0 char}    {0x0 char}\n",
      "    {0x0 char}    NaN     {0x0 char     }    {0x0 char}    {0x0 char                }    {0x0 char}    {0x0 char    }    {0x0 char}    {0x0 char}    {0x0 char}    {0x0 char}    {0x0 char}    {0x0 char}    {0x0 char}    {0x0 char}    {0x0 char}    {0x0 char}    {0x0 char}    {0x0 char}    {0x0 char}    {0x0 char}    {0x0 char}    {0x0 char}    {0x0 char}    {0x0 char}\n",
      "    {0x0 char}    NaN     {0x0 char     }    {0x0 char}    {0x0 char                }    {0x0 char}    {0x0 char    }    {0x0 char}    {0x0 char}    {0x0 char}    {0x0 char}    {0x0 char}    {0x0 char}    {0x0 char}    {0x0 char}    {0x0 char}    {0x0 char}    {0x0 char}    {0x0 char}    {0x0 char}    {0x0 char}    {0x0 char}    {0x0 char}    {0x0 char}    {0x0 char}\n",
      "    {0x0 char}    NaN     {0x0 char     }    {0x0 char}    {0x0 char                }    {0x0 char}    {0x0 char    }    {0x0 char}    {0x0 char}    {0x0 char}    {0x0 char}    {0x0 char}    {0x0 char}    {0x0 char}    {0x0 char}    {0x0 char}    {0x0 char}    {0x0 char}    {0x0 char}    {0x0 char}    {0x0 char}    {0x0 char}    {0x0 char}    {0x0 char}    {0x0 char}\n",
      "    {0x0 char}    NaN     {0x0 char     }    {0x0 char}    {0x0 char                }    {0x0 char}    {0x0 char    }    {0x0 char}    {0x0 char}    {0x0 char}    {0x0 char}    {0x0 char}    {0x0 char}    {0x0 char}    {0x0 char}    {0x0 char}    {0x0 char}    {0x0 char}    {0x0 char}    {0x0 char}    {0x0 char}    {0x0 char}    {0x0 char}    {0x0 char}    {0x0 char}\n",
      "    {0x0 char}    NaN     {0x0 char     }    {0x0 char}    {0x0 char                }    {0x0 char}    {0x0 char    }    {0x0 char}    {0x0 char}    {0x0 char}    {0x0 char}    {0x0 char}    {0x0 char}    {0x0 char}    {0x0 char}    {0x0 char}    {0x0 char}    {0x0 char}    {0x0 char}    {0x0 char}    {0x0 char}    {0x0 char}    {0x0 char}    {0x0 char}    {0x0 char}\n",
      "    {0x0 char}    NaN     {0x0 char     }    {0x0 char}    {0x0 char                }    {0x0 char}    {0x0 char    }    {0x0 char}    {0x0 char}    {0x0 char}    {0x0 char}    {0x0 char}    {0x0 char}    {0x0 char}    {0x0 char}    {0x0 char}    {0x0 char}    {0x0 char}    {0x0 char}    {0x0 char}    {0x0 char}    {0x0 char}    {0x0 char}    {0x0 char}    {0x0 char}\n",
      "    {0x0 char}    NaN     {0x0 char     }    {0x0 char}    {0x0 char                }    {0x0 char}    {0x0 char    }    {0x0 char}    {0x0 char}    {0x0 char}    {0x0 char}    {0x0 char}    {0x0 char}    {0x0 char}    {0x0 char}    {0x0 char}    {0x0 char}    {0x0 char}    {0x0 char}    {0x0 char}    {0x0 char}    {0x0 char}    {0x0 char}    {0x0 char}    {0x0 char}\n",
      "    {0x0 char}    NaN     {0x0 char     }    {0x0 char}    {0x0 char                }    {0x0 char}    {0x0 char    }    {0x0 char}    {0x0 char}    {0x0 char}    {0x0 char}    {0x0 char}    {0x0 char}    {0x0 char}    {0x0 char}    {0x0 char}    {0x0 char}    {0x0 char}    {0x0 char}    {0x0 char}    {0x0 char}    {0x0 char}    {0x0 char}    {0x0 char}    {0x0 char}\n",
      "    {0x0 char}    NaN     {0x0 char     }    {0x0 char}    {0x0 char                }    {0x0 char}    {0x0 char    }    {0x0 char}    {0x0 char}    {0x0 char}    {0x0 char}    {0x0 char}    {0x0 char}    {0x0 char}    {0x0 char}    {0x0 char}    {0x0 char}    {0x0 char}    {0x0 char}    {0x0 char}    {0x0 char}    {0x0 char}    {0x0 char}    {0x0 char}    {0x0 char}\n",
      "    {0x0 char}    NaN     {0x0 char     }    {0x0 char}    {0x0 char                }    {0x0 char}    {0x0 char    }    {0x0 char}    {0x0 char}    {0x0 char}    {0x0 char}    {0x0 char}    {0x0 char}    {0x0 char}    {0x0 char}    {0x0 char}    {0x0 char}    {0x0 char}    {0x0 char}    {0x0 char}    {0x0 char}    {0x0 char}    {0x0 char}    {0x0 char}    {0x0 char}\n",
      "    {0x0 char}    NaN     {0x0 char     }    {0x0 char}    {0x0 char                }    {0x0 char}    {0x0 char    }    {0x0 char}    {0x0 char}    {0x0 char}    {0x0 char}    {0x0 char}    {0x0 char}    {0x0 char}    {0x0 char}    {0x0 char}    {0x0 char}    {0x0 char}    {0x0 char}    {0x0 char}    {0x0 char}    {0x0 char}    {0x0 char}    {0x0 char}    {0x0 char}\n",
      "    {0x0 char}    NaN     {0x0 char     }    {0x0 char}    {0x0 char                }    {0x0 char}    {0x0 char    }    {0x0 char}    {0x0 char}    {0x0 char}    {0x0 char}    {0x0 char}    {0x0 char}    {0x0 char}    {0x0 char}    {0x0 char}    {0x0 char}    {0x0 char}    {0x0 char}    {0x0 char}    {0x0 char}    {0x0 char}    {0x0 char}    {0x0 char}    {0x0 char}\n",
      "    {0x0 char}    NaN     {0x0 char     }    {0x0 char}    {0x0 char                }    {0x0 char}    {0x0 char    }    {0x0 char}    {0x0 char}    {0x0 char}    {0x0 char}    {0x0 char}    {0x0 char}    {0x0 char}    {0x0 char}    {0x0 char}    {0x0 char}    {0x0 char}    {0x0 char}    {0x0 char}    {0x0 char}    {0x0 char}    {0x0 char}    {0x0 char}    {0x0 char}\n",
      "    {0x0 char}    NaN     {0x0 char     }    {0x0 char}    {0x0 char                }    {0x0 char}    {0x0 char    }    {0x0 char}    {0x0 char}    {0x0 char}    {0x0 char}    {0x0 char}    {0x0 char}    {0x0 char}    {0x0 char}    {0x0 char}    {0x0 char}    {0x0 char}    {0x0 char}    {0x0 char}    {0x0 char}    {0x0 char}    {0x0 char}    {0x0 char}    {0x0 char}\n",
      "\n"
     ]
    }
   ],
   "source": [
    "data_clear = readtable(\"上课点名表.xls\", NumHeaderLines=4)"
   ]
  },
  {
   "cell_type": "code",
   "execution_count": 26,
   "metadata": {},
   "outputs": [
    {
     "name": "stdout",
     "output_type": "stream",
     "text": [
      "\n",
      "majors_list =\n",
      "\n",
      "  44x1 cell array\n",
      "\n",
      "    {'数据科学与大数据技术'     }\n",
      "    {'数学与应用数学(强基计划)'  }\n",
      "    {'国际经济与贸易(国际经济学)'}\n",
      "    {'物理学'                 }\n",
      "    {'高分子材料与工程'         }\n",
      "    {'数学与应用数学(强基计划)'  }\n",
      "    {'数学与应用数学(强基计划)'  }\n",
      "    {'数学与应用数学(强基计划)'  }\n",
      "    {'数学与应用数学'          }\n",
      "    {'物理学'                 }\n",
      "    {'国际经济与贸易(国际经济学)'}\n",
      "    {'物理学'                 }\n",
      "    {'物理学(英才班)'          }\n",
      "    {'数学类'                 }\n",
      "    {0x0 char                }\n",
      "    {0x0 char                }\n",
      "    {0x0 char                }\n",
      "    {0x0 char                }\n",
      "    {0x0 char                }\n",
      "    {0x0 char                }\n",
      "    {0x0 char                }\n",
      "    {0x0 char                }\n",
      "    {0x0 char                }\n",
      "    {0x0 char                }\n",
      "    {0x0 char                }\n",
      "    {0x0 char                }\n",
      "    {0x0 char                }\n",
      "    {0x0 char                }\n",
      "    {0x0 char                }\n",
      "    {0x0 char                }\n",
      "    {0x0 char                }\n",
      "    {0x0 char                }\n",
      "    {0x0 char                }\n",
      "    {0x0 char                }\n",
      "    {0x0 char                }\n",
      "    {0x0 char                }\n",
      "    {0x0 char                }\n",
      "    {0x0 char                }\n",
      "    {0x0 char                }\n",
      "    {0x0 char                }\n",
      "    {0x0 char                }\n",
      "    {0x0 char                }\n",
      "    {0x0 char                }\n",
      "    {0x0 char                }\n",
      "\n"
     ]
    }
   ],
   "source": [
    "majors_list = data_clear(:, 5).Var5"
   ]
  },
  {
   "cell_type": "code",
   "execution_count": 27,
   "metadata": {},
   "outputs": [
    {
     "name": "stdout",
     "output_type": "stream",
     "text": [
      "\n",
      "ans =\n",
      "\n",
      "    '数据科学与大数据技术'\n",
      "\n"
     ]
    }
   ],
   "source": [
    "majors_list{1}"
   ]
  },
  {
   "cell_type": "code",
   "execution_count": null,
   "metadata": {},
   "outputs": [
    {
     "name": "stderr",
     "output_type": "stream",
     "text": [
      "\u001b[0;31mInvalid field name: '数据科学与大数据技术'.\n",
      "\n",
      "\u001b[0m"
     ]
    }
   ],
   "source": [
    "majors_num = struct();\n",
    "majors_tuple_only = {};\n",
    "for idx = 1:length(majors_list)\n",
    "    major_name = majors_list{idx};\n",
    "    if ~ismember(majors_list{idx}, majors_list_only)\n",
    "        majors_tuple_only = {majors_list_only, majors_list{idx}};\n",
    "    else\n",
    "        find(strcmp(majors_tuple_only, major_name));\n",
    "    end\n",
    "end"
   ]
  },
  {
   "cell_type": "code",
   "execution_count": null,
   "metadata": {},
   "outputs": [],
   "source": []
  }
 ],
 "metadata": {
  "kernelspec": {
   "display_name": "Matlab (Connection)",
   "language": "matlab",
   "name": "matlab_connect"
  },
  "language_info": {
   "codemirror_mode": "octave",
   "file_extension": ".m",
   "help_links": [
    {
     "text": "MetaKernel Magics",
     "url": "https://metakernel.readthedocs.io/en/latest/source/README.html"
    }
   ],
   "mimetype": "text/x-octave",
   "name": "matlab",
   "version": "0.17.1"
  }
 },
 "nbformat": 4,
 "nbformat_minor": 2
}
