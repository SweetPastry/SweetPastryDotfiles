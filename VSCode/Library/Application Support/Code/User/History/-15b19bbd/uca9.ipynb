{
 "cells": [
  {
   "cell_type": "code",
   "execution_count": 6,
   "metadata": {},
   "outputs": [
    {
     "data": {
      "image/png": "[encoded data removed]",
      "text/plain": [
       "<IPython.core.display.Image object>"
      ]
     },
     "metadata": {},
     "output_type": "display_data"
    }
   ],
   "source": [
    "c=randi([40,60],1,2);\n",
    "\n",
    "r=randi([20,30],1,1);\n",
    "\n",
    "figure(1);\n",
    "\n",
    "plot(c(1),c(2),'ko','MarkerSize',r);\n",
    "\n",
    "axis off;\n",
    "\n",
    "saveas(gcf,'o.jpg');\n",
    "\n",
    "clear"
   ]
  },
  {
   "cell_type": "code",
   "execution_count": 7,
   "metadata": {},
   "outputs": [],
   "source": [
    "img = imread('o.jpg');\n",
    "% img"
   ]
  },
  {
   "cell_type": "code",
   "execution_count": 8,
   "metadata": {},
   "outputs": [],
   "source": [
    "% figure(2);\n",
    "% imshow(img);\n",
    "% hold on;\n",
    "\n",
    "% c = randi([40, 60], 1, 2);\n",
    "% r = randi([20, 30], 1, 1);\n",
    "% rectangle('Position', [c(1)-r, c(2)-r, 2*r, 2*r], 'EdgeColor', 'k', 'LineWidth', 2);\n",
    "% plot(c(1), c(2), 'ko', 'MarkerSize', 5, 'MarkerFaceColor', 'k');\n",
    "% hold off;"
   ]
  },
  {
   "cell_type": "code",
   "execution_count": null,
   "metadata": {},
   "outputs": [
    {
     "name": "stderr",
     "output_type": "stream",
     "text": [
      "\u001b[0;31mError using eval\n",
      "imfindcircles requires Image Processing Toolbox.\n",
      "\n",
      "\u001b[0m"
     ]
    }
   ],
   "source": [
    "find()"
   ]
  }
 ],
 "metadata": {
  "kernelspec": {
   "display_name": "Matlab (Connection)",
   "language": "matlab",
   "name": "matlab_connect"
  },
  "language_info": {
   "codemirror_mode": "octave",
   "file_extension": ".m",
   "help_links": [
    {
     "text": "MetaKernel Magics",
     "url": "https://metakernel.readthedocs.io/en/latest/source/README.html"
    }
   ],
   "mimetype": "text/x-octave",
   "name": "matlab",
   "version": "0.17.1"
  }
 },
 "nbformat": 4,
 "nbformat_minor": 2
}
