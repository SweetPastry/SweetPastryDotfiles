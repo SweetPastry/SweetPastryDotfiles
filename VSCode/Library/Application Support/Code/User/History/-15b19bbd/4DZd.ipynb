{
 "cells": [
  {
   "cell_type": "code",
   "execution_count": 45,
   "metadata": {},
   "outputs": [
    {
     "name": "stdout",
     "output_type": "stream",
     "text": [
      "\n",
      "c =\n",
      "\n",
      "    52    58\n",
      "\n",
      "\n",
      "r =\n",
      "\n",
      "    20\n",
      "\n"
     ]
    },
    {
     "data": {
      "image/png": "[encoded data removed]",
      "text/plain": [
       "<IPython.core.display.Image object>"
      ]
     },
     "metadata": {},
     "output_type": "display_data"
    }
   ],
   "source": [
    "c=randi([40,60],1,2)\n",
    "\n",
    "r=randi([20,30],1,1)\n",
    "\n",
    "figure(1);\n",
    "\n",
    "plot(c(1),c(2),'ko','MarkerSize',r);\n",
    "\n",
    "axis off;\n",
    "\n",
    "saveas(gcf,'o.jpg');\n",
    "\n",
    "% clear"
   ]
  },
  {
   "cell_type": "code",
   "execution_count": 50,
   "metadata": {},
   "outputs": [
    {
     "name": "stdout",
     "output_type": "stream",
     "text": [
      "\n",
      "ans =\n",
      "\n",
      "  3x3 uint8 matrix\n",
      "\n",
      "   255   255   255\n",
      "   255   255   255\n",
      "   255   255   255\n",
      "\n",
      "\n",
      "ans =\n",
      "\n",
      "  uint8\n",
      "\n",
      "   255\n",
      "\n"
     ]
    }
   ],
   "source": [
    "img = imread('o.jpg');\n",
    "img(1:3, 1:3)\n",
    "img(52, 58)"
   ]
  },
  {
   "cell_type": "code",
   "execution_count": 52,
   "metadata": {},
   "outputs": [
    {
     "name": "stdout",
     "output_type": "stream",
     "text": [
      "\n",
      "x =\n",
      "\n",
      "   313\n",
      "   309\n",
      "   307\n",
      "   337\n",
      "   298\n",
      "   302\n",
      "   325\n",
      "   320\n",
      "   313\n",
      "   309\n",
      "   307\n",
      "   337\n",
      "   298\n",
      "   302\n",
      "   325\n",
      "   320\n",
      "   313\n",
      "   309\n",
      "   307\n",
      "   337\n",
      "   298\n",
      "   302\n",
      "   325\n",
      "   320\n",
      "\n",
      "\n",
      "y =\n",
      "\n",
      "         434\n",
      "         435\n",
      "         436\n",
      "         449\n",
      "         461\n",
      "         468\n",
      "         473\n",
      "         474\n",
      "        1309\n",
      "        1310\n",
      "        1311\n",
      "        1324\n",
      "        1336\n",
      "        1343\n",
      "        1348\n",
      "        1349\n",
      "        2184\n",
      "        2185\n",
      "        2186\n",
      "        2199\n",
      "        2211\n",
      "        2218\n",
      "        2223\n",
      "        2224\n",
      "\n",
      "\n",
      "ans =\n",
      "\n",
      "  uint8\n",
      "\n",
      "   0\n",
      "\n"
     ]
    }
   ],
   "source": [
    "[x, y] = find(img==0)\n",
    "img(313, 434)"
   ]
  },
  {
   "cell_type": "code",
   "execution_count": 47,
   "metadata": {},
   "outputs": [
    {
     "data": {
      "image/png": "[encoded data removed]",
      "text/plain": [
       "<IPython.core.display.Image object>"
      ]
     },
     "metadata": {},
     "output_type": "display_data"
    }
   ],
   "source": [
    "figure(2);\n",
    "imshow(img);\n",
    "hold on;\n",
    "\n",
    "% c = randi([40, 60], 1, 2);\n",
    "% r = randi([20, 30], 1, 1);\n",
    "[x, y] = find(img==0);\n",
    "x_mean = mean(x);\n",
    "y_mean = mean(y);\n",
    "x_min = min(x);\n",
    "\n",
    "c = [x_mean, y_mean];\n",
    "r = x_mean - x_min;\n",
    "\n",
    "\n",
    "rectangle('Position', [c(1)-r, c(2)-r, 2*r, 2*r], 'EdgeColor', 'k', 'LineWidth', 2);\n",
    "plot(c(1), c(2), 'ko', 'MarkerSize', 5, 'MarkerFaceColor', 'k');\n",
    "hold off;"
   ]
  },
  {
   "cell_type": "code",
   "execution_count": 48,
   "metadata": {},
   "outputs": [
    {
     "name": "stdout",
     "output_type": "stream",
     "text": [
      "\n",
      "x_mean =\n",
      "\n",
      "                   313.875\n",
      "\n",
      "\n",
      "y_mean =\n",
      "\n",
      "                   1328.75\n",
      "\n"
     ]
    }
   ],
   "source": [
    "[x, y] = find(img==0);\n",
    "x_mean = mean(x)\n",
    "y_mean = mean(y)"
   ]
  }
 ],
 "metadata": {
  "kernelspec": {
   "display_name": "Matlab (Connection)",
   "language": "matlab",
   "name": "matlab_connect"
  },
  "language_info": {
   "codemirror_mode": "octave",
   "file_extension": ".m",
   "help_links": [
    {
     "text": "MetaKernel Magics",
     "url": "https://metakernel.readthedocs.io/en/latest/source/README.html"
    }
   ],
   "mimetype": "text/x-octave",
   "name": "matlab",
   "version": "0.17.1"
  }
 },
 "nbformat": 4,
 "nbformat_minor": 2
}
