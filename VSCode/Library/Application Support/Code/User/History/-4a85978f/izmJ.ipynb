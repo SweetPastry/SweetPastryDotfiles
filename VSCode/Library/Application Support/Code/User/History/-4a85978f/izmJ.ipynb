{
 "cells": [
  {
   "cell_type": "markdown",
   "metadata": {
    "vscode": {
     "languageId": "plaintext"
    }
   },
   "source": [
    "# 1. `figure(<figure_order>)`, `subplot(<row>, <col>, <index>)`"
   ]
  },
  {
   "cell_type": "code",
   "execution_count": 2,
   "metadata": {},
   "outputs": [],
   "source": [
    "% 产生数据\n",
    "t = linspace(0, 2*pi, 1000);\n",
    "x = 2*sin(t);\n",
    "y = 0.5*cos(t) + 0.5;"
   ]
  },
  {
   "cell_type": "code",
   "execution_count": null,
   "metadata": {},
   "outputs": [],
   "source": [
    "figure(1)   % 现在在 figure 1 上画图, 缺省是默认采用 figure 1\n",
    "plot(t, x)\n",
    "hold on     % 如果不写, 后续的 plot 会覆盖前面的 plot 的内容\n",
    "plot(t, y)"
   ]
  },
  {
   "cell_type": "code",
   "execution_count": null,
   "metadata": {},
   "outputs": [],
   "source": [
    "% 像这样分别指定两个 figure 就是画“两张”图\n",
    "figure(1)\n",
    "plot(t, x)\n",
    "figure(2)\n",
    "plot(t, y)"
   ]
  },
  {
   "cell_type": "code",
   "execution_count": null,
   "metadata": {},
   "outputs": [],
   "source": [
    "% figure 1 上有一行二列两个子 figure, 只在第一个上画图, 所以另外一侧是空的\n",
    "subplot(1, 2, 1)\n",
    "plot(t, x)"
   ]
  },
  {
   "cell_type": "code",
   "execution_count": null,
   "metadata": {},
   "outputs": [],
   "source": [
    "subplot(1, 2, 1)\n",
    "plot(t, x)\n",
    "% 这样就把两个子 figure 都画了\n",
    "subplot(1, 2, 2)\n",
    "plot(t, y)"
   ]
  },
  {
   "cell_type": "code",
   "execution_count": null,
   "metadata": {},
   "outputs": [],
   "source": [
    "% 横着画\n",
    "subplot(2, 1, 1)\n",
    "plot(t, x)\n",
    "subplot(2, 1, 2)\n",
    "plot(t, y)"
   ]
  },
  {
   "cell_type": "markdown",
   "metadata": {},
   "source": [
    "# 2. `[X, Y] = meshgrid(x, y)`, `plot3()`, `mesh()`"
   ]
  },
  {
   "cell_type": "code",
   "execution_count": null,
   "metadata": {},
   "outputs": [],
   "source": [
    "x = -4:4;\n",
    "y = -4:4;\n",
    "[X, Y] = meshgrid(x, y) % X 储存二维网格各个点的横坐标, Y 储存纵坐标"
   ]
  },
  {
   "cell_type": "code",
   "execution_count": null,
   "metadata": {},
   "outputs": [],
   "source": [
    "% 先这样就可以算出网格上每个点的函数值\n",
    "Z = X.^2 + Y.^2"
   ]
  },
  {
   "cell_type": "code",
   "execution_count": null,
   "metadata": {},
   "outputs": [],
   "source": [
    "% plot3 函数用来绘制空间曲线, mesh 函数会更合适\n",
    "plot3(X, Y, Z)"
   ]
  },
  {
   "cell_type": "code",
   "execution_count": null,
   "metadata": {},
   "outputs": [],
   "source": [
    "% mesh 函数画完点后会填充网格线\n",
    "mesh(X, Y, Z)"
   ]
  },
  {
   "cell_type": "markdown",
   "metadata": {},
   "source": [
    "# 3. `grid on`, `axis()`, `label()`, `legend()`, `title()`"
   ]
  },
  {
   "cell_type": "code",
   "execution_count": null,
   "metadata": {},
   "outputs": [],
   "source": [
    "x = -1:0.001:1;\n",
    "y = x.*exp(-x);"
   ]
  },
  {
   "cell_type": "code",
   "execution_count": null,
   "metadata": {},
   "outputs": [],
   "source": [
    "plot(x, y)"
   ]
  },
  {
   "cell_type": "code",
   "execution_count": null,
   "metadata": {},
   "outputs": [],
   "source": [
    "% grid on 可以把背景网格打开\n",
    "plot(x, y)\n",
    "grid on"
   ]
  },
  {
   "cell_type": "code",
   "execution_count": null,
   "metadata": {},
   "outputs": [],
   "source": [
    "% xlabel, ylable 给轴加上名字\n",
    "plot(x, y)\n",
    "grid on\n",
    "% 数学字体不用美元符号, 切记\n",
    "xlabel(\"\\alpha/s\")\n",
    "ylabel(\"\\beta/m\")"
   ]
  },
  {
   "cell_type": "code",
   "execution_count": null,
   "metadata": {},
   "outputs": [],
   "source": [
    "plot(x, y)\n",
    "grid on\n",
    "xlabel(\"\\alpha/s\")\n",
    "ylabel(\"\\beta/m\")\n",
    "% 不用在 plot 里设置 label, 直接在 legend 里设置\n",
    "legend(\"\\beta=e^{-\\alpha}\")"
   ]
  },
  {
   "cell_type": "code",
   "execution_count": null,
   "metadata": {},
   "outputs": [],
   "source": [
    "plot(x, y)\n",
    "grid on\n",
    "xlabel(\"\\alpha/s\")\n",
    "ylabel(\"\\beta/m\")\n",
    "legend(\"\\beta=e^{-\\alpha}\")\n",
    "% text 添加文字, 前两个参数是坐标, \n",
    "% 横坐标是文字最左侧的, 纵坐标是文字中心横线的\n",
    "text(0.6, -0.5, \"R^2=0.998\")"
   ]
  },
  {
   "cell_type": "code",
   "execution_count": null,
   "metadata": {},
   "outputs": [],
   "source": [
    "plot(x, y)\n",
    "grid on\n",
    "xlabel(\"\\alpha/s\")\n",
    "ylabel(\"\\beta/m\")\n",
    "legend(\"\\beta=e^{-\\alpha}\")\n",
    "% 这样子可以给文字画框框\n",
    "txt = text(0.6, -0.5, \"R^2=0.998\")\n",
    "set(txt, 'EdgeColor', 'black', 'BackgroundColor', 'white');"
   ]
  },
  {
   "cell_type": "code",
   "execution_count": null,
   "metadata": {},
   "outputs": [],
   "source": [
    "plot(x, y)\n",
    "grid on\n",
    "xlabel(\"\\alpha/s\")\n",
    "ylabel(\"\\beta/m\")\n",
    "legend(\"\\beta=e^{-\\alpha}\")\n",
    "txt = text(0.6, -0.5, \"R^2=0.998\");\n",
    "set(txt, 'EdgeColor', 'black', 'BackgroundColor', 'white');\n",
    "box off % 右边和上边没有框了"
   ]
  },
  {
   "cell_type": "code",
   "execution_count": null,
   "metadata": {},
   "outputs": [],
   "source": [
    "plot(x, y)\n",
    "grid on\n",
    "xlabel(\"\\alpha/s\")\n",
    "ylabel(\"\\beta/m\")\n",
    "legend(\"\\beta=e^{-\\alpha}\")\n",
    "txt = text(0.6, -0.5, \"R^2=0.998\");\n",
    "set(txt, 'EdgeColor', 'black', 'BackgroundColor', 'white');\n",
    "box off\n",
    "axis off    % 坐标轴没有个, 所以网格也跟着没了"
   ]
  },
  {
   "cell_type": "code",
   "execution_count": null,
   "metadata": {},
   "outputs": [],
   "source": [
    "plot(x, y)\n",
    "grid on\n",
    "xlabel(\"\\alpha/s\")\n",
    "ylabel(\"\\beta/m\")\n",
    "legend(\"\\beta=e^{-\\alpha}\")\n",
    "txt = text(0.6, -0.5, \"R^2=0.998\");\n",
    "set(txt, 'EdgeColor', 'black', 'BackgroundColor', 'white');\n",
    "box off\n",
    "% 添加标题\n",
    "title(\"Here is title\")"
   ]
  },
  {
   "cell_type": "markdown",
   "metadata": {},
   "source": [
    "# 4. `plot()` 等函数的参数"
   ]
  },
  {
   "cell_type": "markdown",
   "metadata": {},
   "source": [
    "在 MATLAB 中，plot 函数允许通过可选参数自定义 点的形状、线的样式 和 颜色。这些参数可以通过格式化字符串或属性名-值对的方式设置。\n",
    "\n",
    "1. 基本格式：点形状、线形状、颜色\n",
    "\n",
    "格式为：plot(x, y, 'ColorLineStyleMarker')，其中：\n",
    "\n",
    "\t•\t颜色：由一个字符指定线条颜色。\n",
    "\t•\t线条样式：由一个字符或字符串指定线条样式。\n",
    "\t•\t标记符号（点形状）：由一个字符指定点的形状。\n",
    "\n",
    "常用格式符号\n",
    "\n",
    "| 属性          | 符号                    | 含义         |\n",
    "|---------------|-------------------------|--------------|\n",
    "| **颜色**      | `'r'`、`'g'`、`'b'`     | 红、绿、蓝    |\n",
    "|               | `'c'`、`'m'`、`'y'`     | 青、洋红、黄  |\n",
    "|               | `'k'`、`'w'`            | 黑、白        |\n",
    "| **线条样式**  | `'-'`                   | 实线         |\n",
    "|               | `'--'`                  | 虚线         |\n",
    "|               | `':'`                   | 点线         |\n",
    "|               | `'-.'`                  | 点划线       |\n",
    "| **点形状**    | `'.'`                   | 点           |\n",
    "|               | `'o'`                   | 圆圈         |\n",
    "|               | `'x'`                   | 叉号         |\n",
    "|               | `'+'`                   | 加号         |\n",
    "|               | `'*'`                   | 星号         |\n",
    "|               | `'s'`                   | 方块         |\n",
    "|               | `'d'`                   | 菱形         |\n",
    "|               | `'^'`                   | 上三角       |\n",
    "|               | `'v'`                   | 下三角       |\n",
    "|               | `'>'`                   | 右三角       |\n",
    "|               | `'<'`                   | 左三角       |\n",
    "|               | `'p'`                   | 五边形       |\n",
    "|               | `'h'`                   | 六边形       |\n",
    "\n",
    "1. 使用属性名-值对的方式\n",
    "\n",
    "除了格式字符串，还可以使用属性名-值对的方法指定参数。\n",
    "\n",
    "常用属性：\n",
    "\n",
    "| 属性名             | 含义           | 示例                         |\n",
    "|--------------------|----------------|------------------------------|\n",
    "| `'Color'`          | 线条颜色       | `'Color', [0.5, 0.2, 0.8]` （RGB 值） |\n",
    "| `'LineStyle'`      | 线条样式       | `'LineStyle', '--'`          |\n",
    "| `'LineWidth'`      | 线条宽度       | `'LineWidth', 2`             |\n",
    "| `'Marker'`         | 点的形状       | `'Marker', 'o'`              |\n",
    "| `'MarkerSize'`     | 点的大小       | `'MarkerSize', 10`           |\n",
    "| `'MarkerEdgeColor'`| 点的边缘颜色   | `'MarkerEdgeColor', 'r'`     |\n",
    "| `'MarkerFaceColor'`| 点的填充颜色   | `'MarkerFaceColor', 'g'`     |"
   ]
  },
  {
   "cell_type": "code",
   "execution_count": null,
   "metadata": {},
   "outputs": [],
   "source": [
    "x = linspace(0.1, 2, 10);\n",
    "y = x.*log(x);"
   ]
  },
  {
   "cell_type": "code",
   "execution_count": null,
   "metadata": {},
   "outputs": [],
   "source": [
    "plot(x, y, \"r-.o\", \"LineWidth\", 1)"
   ]
  },
  {
   "cell_type": "markdown",
   "metadata": {},
   "source": [
    "# 5. `axis([xmin, xmax, ymin, ymax])`"
   ]
  },
  {
   "cell_type": "code",
   "execution_count": null,
   "metadata": {},
   "outputs": [],
   "source": [
    "x = linspace(-2*pi, 2*pi, 1000);\n",
    "y = x.*sin(x);"
   ]
  },
  {
   "cell_type": "code",
   "execution_count": null,
   "metadata": {},
   "outputs": [],
   "source": [
    "plot(x, y)"
   ]
  },
  {
   "cell_type": "code",
   "execution_count": null,
   "metadata": {},
   "outputs": [],
   "source": [
    "plot(x, y)\n",
    "axis([-6, 6, -4, 1])"
   ]
  },
  {
   "cell_type": "markdown",
   "metadata": {},
   "source": [
    "# 6. `axis equal/normal/square`"
   ]
  },
  {
   "cell_type": "code",
   "execution_count": null,
   "metadata": {},
   "outputs": [],
   "source": [
    "theta = linspace(0, 2*pi, 100);\n",
    "x = cos(theta);\n",
    "y = sin(theta);\n",
    "plot(x, y)\n",
    "axis normal % 缺省时, 默认采用此模式\n",
    "% 看起来不像个圆!"
   ]
  },
  {
   "cell_type": "code",
   "execution_count": null,
   "metadata": {},
   "outputs": [],
   "source": [
    "theta = linspace(0, 2*pi, 100);\n",
    "x = cos(theta);\n",
    "y = sin(theta);\n",
    "plot(x, y); % 绘制单位圆\n",
    "axis equal; % 保证单位圆看起来像圆"
   ]
  },
  {
   "cell_type": "code",
   "execution_count": null,
   "metadata": {},
   "outputs": [],
   "source": [
    "theta = linspace(0, 2*pi, 100);\n",
    "x = cos(theta);\n",
    "y = sin(theta);\n",
    "plot(x, y)\n",
    "axis square     % 采用方形坐标图, 不保证不变形"
   ]
  },
  {
   "cell_type": "markdown",
   "metadata": {},
   "source": [
    "# 7. `subplot('position', [left bottom width height])`"
   ]
  },
  {
   "cell_type": "code",
   "execution_count": null,
   "metadata": {},
   "outputs": [],
   "source": [
    "figure\n",
    "\n",
    "subplot('position', [0.1, 0.55, 0.35, 0.35]);\n",
    "plot(1:10, rand(1, 10));\n",
    "title('Top Left');\n",
    "\n",
    "subplot('position', [0.55, 0.55, 0.35, 0.35]);\n",
    "plot(1:10, rand(1, 10));\n",
    "title('Top Right');\n",
    "\n",
    "subplot('position', [0.1, 0.1, 0.35, 0.35]);\n",
    "plot(1:10, rand(1, 10));\n",
    "title('Bottom Left');"
   ]
  },
  {
   "cell_type": "code",
   "execution_count": null,
   "metadata": {},
   "outputs": [],
   "source": [
    "x = linspace(0, 10, 100);\n",
    "y = exp(-x).*cos(x);\n",
    "z = log(x).*sin(x);\n",
    "subplot('position', [0.1, 0.55, 0.35, 0.35])\n",
    "plot(x, y)\n",
    "subplot('position', [0.55, 0.1, 0.35, 0.8])\n",
    "plot(x, z)\n",
    "subplot('position', [0.1, 0.1, 0.35, 0.35])\n",
    "plot(y, z)"
   ]
  },
  {
   "cell_type": "markdown",
   "metadata": {},
   "source": [
    "# 8. `plotyy(x1, y1, x2, y2)`, `semilogx()`, `semilogy()`, `loglog()`"
   ]
  },
  {
   "cell_type": "code",
   "execution_count": null,
   "metadata": {},
   "outputs": [],
   "source": [
    "t = linspace(0.1, 2, 100);\n",
    "x = exp(t);\n",
    "y = log(t);\n",
    "\n",
    "plotyy(t, x, t, y)"
   ]
  },
  {
   "cell_type": "code",
   "execution_count": null,
   "metadata": {},
   "outputs": [],
   "source": [
    "t = linspace(0, 1, 100);\n",
    "x = log(t);\n",
    "semilogx(t, x)"
   ]
  },
  {
   "cell_type": "code",
   "execution_count": null,
   "metadata": {},
   "outputs": [],
   "source": [
    "t = linspace(0, 1, 100);\n",
    "x = exp(t);\n",
    "semilogy(t, x)"
   ]
  },
  {
   "cell_type": "code",
   "execution_count": null,
   "metadata": {},
   "outputs": [],
   "source": [
    "t = linspace(0, 10, 100);\n",
    "x = exp(t)+t;\n",
    "loglog(t, x)"
   ]
  },
  {
   "cell_type": "code",
   "execution_count": null,
   "metadata": {},
   "outputs": [],
   "source": [
    "t = linspace(0, 2*pi, 100);\n",
    "x = 2*cos(t);\n",
    "y = 3*sin(t);\n",
    "figure(1)\n",
    "plot(x, y)\n",
    "figure(2)\n",
    "polar(x, y)"
   ]
  },
  {
   "cell_type": "markdown",
   "metadata": {},
   "source": [
    "# 9. `view([azimuth, elevation, roll])`"
   ]
  },
  {
   "cell_type": "code",
   "execution_count": null,
   "metadata": {},
   "outputs": [],
   "source": [
    "t=(0:0.02:2)*pi;\n",
    "x=sin(t);\n",
    "y=cos(t);\n",
    "z=cos(2*t);\n",
    "plot3(x,y,z,'b-',x,y,z,'rd'),\n",
    "% view([45, 45])\n",
    "% 这个功能我也搞不明白\n",
    "box on"
   ]
  },
  {
   "cell_type": "markdown",
   "metadata": {},
   "source": [
    "# 10. `mesh()`, `surf()`"
   ]
  },
  {
   "cell_type": "code",
   "execution_count": null,
   "metadata": {},
   "outputs": [],
   "source": [
    "% mesh 会画曲线后织成网格, 但是不会填充每一个面, surf 会填充每个面\n",
    "[X, Y] = meshgrid(-2:0.1:2, -2:0.1:2);\n",
    "Z = exp(-X.^2-Y.^2-X.*Y);\n",
    "figure(1);\n",
    "mesh(X, Y, Z)\n",
    "figure(2);\n",
    "surf(X, Y, Z)"
   ]
  },
  {
   "cell_type": "code",
   "execution_count": null,
   "metadata": {},
   "outputs": [],
   "source": [
    "% surf 函数有很多着色方案\n",
    "% flat 使每个网格面具有均匀的颜色，这些颜色基于面的顶点的值。Flat 着色不会在面之间进行渐变\n",
    "% Interp（Gouraud 着色）：此选项使用顶点数据在各个面之间进行颜色插值，创建平滑过渡的效果。这种着色方式在视觉上更平滑，没有硬边界\n",
    "% Texturemap：此方式允许将图片或纹理映射到表面。通常用于在表面覆盖图像或高级纹理效果\n",
    "% None：不使用任何着色，这通常用于在绘制其他图形层（如网格线或标记）时保持表面透明\n",
    "% 例子\n",
    "surf(X, Y, Z, 'FaceColor', 'interp', 'EdgeColor', 'none');\n",
    "% 键值传参"
   ]
  },
  {
   "cell_type": "code",
   "execution_count": null,
   "metadata": {},
   "outputs": [],
   "source": [
    "surf(X, Y, Z, 'EdgeColor', 'y');"
   ]
  },
  {
   "cell_type": "markdown",
   "metadata": {},
   "source": [
    "# 11. `colormap()`"
   ]
  },
  {
   "cell_type": "code",
   "execution_count": null,
   "metadata": {},
   "outputs": [],
   "source": [
    "x=-4:4;\n",
    "y=x;\n",
    "[X,Y]=meshgrid(x,y); \n",
    "Z=X.^2+Y.^2;\n",
    "surf(X, Y, Z)"
   ]
  },
  {
   "cell_type": "code",
   "execution_count": null,
   "metadata": {},
   "outputs": [],
   "source": [
    "x=-4:4;\n",
    "y=x;\n",
    "[X,Y]=meshgrid(x,y); \n",
    "Z=X.^2+Y.^2;\n",
    "surf(X, Y, Z)\n",
    "colormap(hot)"
   ]
  },
  {
   "cell_type": "code",
   "execution_count": null,
   "metadata": {},
   "outputs": [],
   "source": [
    "x=-4:4;\n",
    "y=x;\n",
    "[X,Y]=meshgrid(x,y); \n",
    "Z=X.^2+Y.^2;\n",
    "surf(X, Y, Z)\n",
    "colormap(cool)\n",
    "hold on\n",
    "stem3(X,Y,Z,'r-x')"
   ]
  },
  {
   "cell_type": "markdown",
   "metadata": {},
   "source": [
    "    · `autumn` 从红色平滑变化到橙色，然后到黄色。\n",
    "    · `bone` 具有较高的蓝色成分的灰度色图。该色图用于对灰度图添加电子的视图。\n",
    "    · `colorcube` 尽可能多地包含在RGB颜色空间中的正常空间的颜色，试图提供更多级别的灰色、纯红色、纯绿色和纯蓝色。\n",
    "    · `cool` 包含青绿色和品红色的阴影色。从青绿色平滑变化到品红色。\n",
    "    · `copper` 从黑色平滑过渡到亮铜色。\n",
    "    · `flag` 包含红、白、绿和黑色。\n",
    "    · `gray` 返回线性灰度色图。\n",
    "    · `hot` 从黑平滑过度到红、橙色和黄色的背景色，然后到白色。\n",
    "    · `hsv` 从红，变化到黄、绿、青绿、品红，返回到红。\n",
    "    · `jet` 从蓝到红，中间经过青绿、黄和橙色。它是hsv色图的一个变异。\n",
    "    · `pink` 柔和的桃红色，它提供了灰度图的深褐色调着色。\n",
    "    · `prism` 重复这六种颜色：红、橙、黄、绿、蓝和紫色。\n",
    "    · `spring` 包含品红和黄的阴影颜色。\n",
    "    · `summer` 包含绿和黄的阴影颜色。\n",
    "    · `white` 全白的单色色图。\n",
    "    · `winter` 包含蓝和绿的阴影色"
   ]
  },
  {
   "cell_type": "code",
   "execution_count": null,
   "metadata": {},
   "outputs": [],
   "source": [
    "dic = {'autumn', 'bone', 'colorcube', 'cool', 'copper', 'flag', 'gray', 'hsv', 'jet', 'hot', 'pink', 'prism', 'spring', 'summer', 'white', 'winter'};"
   ]
  },
  {
   "cell_type": "code",
   "execution_count": null,
   "metadata": {},
   "outputs": [],
   "source": [
    "for figidx=1:4\n",
    "    figure(1);\n",
    "    subfig = subplot(2, 2, figidx);\n",
    "    surf(X, Y, Z);\n",
    "    colormap(subfig, dic{figidx});\n",
    "    title(dic{figidx})\n",
    "end"
   ]
  },
  {
   "cell_type": "code",
   "execution_count": null,
   "metadata": {},
   "outputs": [],
   "source": [
    "for figidx=1:4\n",
    "    figure(1);\n",
    "    subfig = subplot(2, 2, figidx);\n",
    "    surf(X, Y, Z);\n",
    "    colormap(subfig, dic{figidx+4});\n",
    "    title(dic{figidx+4})\n",
    "end"
   ]
  },
  {
   "cell_type": "code",
   "execution_count": null,
   "metadata": {},
   "outputs": [],
   "source": [
    "for figidx=1:4\n",
    "    figure(1);\n",
    "    subfig = subplot(2, 2, figidx);\n",
    "    surf(X, Y, Z);\n",
    "    colormap(subfig, dic{figidx+8});\n",
    "    title(dic{figidx+8})\n",
    "end"
   ]
  },
  {
   "cell_type": "code",
   "execution_count": null,
   "metadata": {},
   "outputs": [],
   "source": [
    "for figidx=1:4\n",
    "    figure(1);\n",
    "    subfig = subplot(2, 2, figidx);\n",
    "    surf(X, Y, Z);\n",
    "    colormap(subfig, dic{figidx+12});\n",
    "    title(dic{figidx+12})\n",
    "end"
   ]
  },
  {
   "cell_type": "markdown",
   "metadata": {},
   "source": [
    "# 12. `3D`"
   ]
  },
  {
   "cell_type": "code",
   "execution_count": null,
   "metadata": {},
   "outputs": [],
   "source": [
    "[X0,Y0,Z0]=sphere(30);\n",
    "X=2*X0;Y=2*Y0;Z=2*Z0;\t\n",
    "surf(X0,Y0,Z0);\t\n",
    "axis equal;\t\t\n",
    "hold on;\n",
    "mesh(X,Y,Z)\t\t\n",
    "colormap(hot)                        \t"
   ]
  },
  {
   "cell_type": "code",
   "execution_count": null,
   "metadata": {},
   "outputs": [],
   "source": [
    "[X0,Y0,Z0]=sphere(30);\n",
    "X=2*X0;Y=2*Y0;Z=2*Z0;\t\n",
    "surf(X0,Y0,Z0);\t\n",
    "axis equal;\t\t\n",
    "hold on;\n",
    "mesh(X,Y,Z)\t\t\n",
    "colormap(hot)                        \t\n",
    "hidden off      % hidden off 使得没有遮挡"
   ]
  },
  {
   "cell_type": "code",
   "execution_count": null,
   "metadata": {},
   "outputs": [],
   "source": [
    "[X0,Y0,Z0]=sphere(30);\n",
    "X=2*X0;Y=2*Y0;Z=2*Z0;\t\n",
    "surf(X0,Y0,Z0);\t\n",
    "axis equal;\t\t\n",
    "hold on;\n",
    "mesh(X,Y,Z)\t\t\n",
    "colormap(hot)                        \t\n",
    "hidden off\n",
    "shading interp  % 插值着色, 平滑"
   ]
  },
  {
   "cell_type": "code",
   "execution_count": null,
   "metadata": {},
   "outputs": [],
   "source": [
    "% peaks(X, Y) 生成 X*Y 测试数据, 每个点有一个 Z, 不传参默认 49*49\n",
    "Z=peaks(15);\n",
    "colormap(jet)\n",
    "figure(1)\n",
    "surf(Z)\n",
    "shading faceted\n",
    "title(\"faceted\")\n",
    "figure(2)\n",
    "surf(Z)\n",
    "shading flat\n",
    "title(\"flat\")\n",
    "figure(3)\n",
    "surf(Z)\n",
    "shading interp\n",
    "title(\"interp\")"
   ]
  },
  {
   "cell_type": "code",
   "execution_count": null,
   "metadata": {},
   "outputs": [],
   "source": [
    "% peaks(X, Y) 生成 X*Y 测试数据, 每个点有一个 Z, 不传参默认 49*49\n",
    "Z=peaks(15);\n",
    "colormap(jet)\n",
    "figure(1)\n",
    "surf(Z)\n",
    "shading faceted\n",
    "title(\"faceted\")\n",
    "alpha(0.8)\n",
    "figure(2)\n",
    "surf(Z)\n",
    "shading flat\n",
    "title(\"flat\")\n",
    "alpha(0.5)\n",
    "figure(3)\n",
    "surf(Z)\n",
    "shading interp\n",
    "title(\"interp\")\n",
    "alpha(0.2)"
   ]
  },
  {
   "cell_type": "markdown",
   "metadata": {},
   "source": [
    "# 13. `imagerc(mat)`, `colorbar`"
   ]
  },
  {
   "cell_type": "code",
   "execution_count": null,
   "metadata": {},
   "outputs": [],
   "source": [
    "% colorbar 运用举例\n",
    "[X, Y] = meshgrid(-pi:0.1*pi:pi, -pi:0.1*pi:pi);\n",
    "Z = sin(X+Y);\n",
    "surf(X, Y, Z, \"FaceColor\", \"flat\", \"EdgeColor\", \"yellow\")\n",
    "alpha(0.5)\n",
    "colorbar"
   ]
  },
  {
   "cell_type": "code",
   "execution_count": null,
   "metadata": {},
   "outputs": [],
   "source": [
    "imagesc(X)\n",
    "colorbar"
   ]
  },
  {
   "cell_type": "code",
   "execution_count": null,
   "metadata": {},
   "outputs": [],
   "source": [
    "% 生成模拟地形数据\n",
    "[X, Y] = meshgrid(1:0.05:10, 1:0.05:10);\n",
    "Z = sin(X) + cos(Y);\n",
    "\n",
    "% 使用 imagesc 显示地形数据\n",
    "figure; % 创建新的图形窗口\n",
    "imagesc(Z);\n",
    "title('Simulated Terrain Elevation');\n",
    "\n",
    "% 添加颜色条\n",
    "colorbar;\n",
    "\n",
    "% 调整颜色映射的范围以增强视觉效果\n",
    "caxis([-2 2]);\n",
    "\n",
    "% 设置坐标轴的标签\n",
    "xlabel('X coordinate');\n",
    "ylabel('Y coordinate');"
   ]
  },
  {
   "cell_type": "code",
   "execution_count": null,
   "metadata": {},
   "outputs": [],
   "source": [
    "% imagesc 的 sc 的意思是 scaler\n",
    "Z = peaks(100);\n",
    "imagesc(Z)\n",
    "colorbar\n",
    "caxis([-5, 5])"
   ]
  },
  {
   "cell_type": "markdown",
   "metadata": {},
   "source": [
    "# 14. `contour` 等高线"
   ]
  },
  {
   "cell_type": "code",
   "execution_count": null,
   "metadata": {},
   "outputs": [],
   "source": [
    "[X, Y] = meshgrid(-3:0.1:3, -3:0.1:3);\n",
    "Z = peaks(X, Y);\n",
    "figure;\n",
    "contour(X, Y, Z, 20);\n",
    "colorbar;\n",
    "title('Contour Plot of Peaks Function');\n",
    "xlabel('X');\n",
    "ylabel('Y');"
   ]
  },
  {
   "cell_type": "code",
   "execution_count": null,
   "metadata": {},
   "outputs": [],
   "source": [
    "[X, Y] = meshgrid(-3:0.1:3, -3:0.1:3);\n",
    "Z = peaks(X, Y);\n",
    "figure;\n",
    "contour(X, Y, Z, 20);\n",
    "colorbar;\n",
    "title('Contour Plot of Peaks Function');\n",
    "xlabel('X');\n",
    "ylabel('Y');"
   ]
  },
  {
   "cell_type": "markdown",
   "metadata": {},
   "source": [
    "# 14. `bar`, `barh`, `hist`"
   ]
  },
  {
   "cell_type": "code",
   "execution_count": null,
   "metadata": {},
   "outputs": [],
   "source": [
    "% 每一行代表一个类别, 每一列代表一次值\n",
    "Y = [5, 10, 15;\n",
    "     2, 5,  8;\n",
    "     9, 6,  11];\n",
    "figure;\n",
    "bar(Y, 'stacked'); \n",
    "title('Stacked Bar Chart');\n",
    "xlabel('Categories');\n",
    "ylabel('Values');\n",
    "legend('Series 1', 'Series 2', 'Series 3');"
   ]
  },
  {
   "cell_type": "code",
   "execution_count": null,
   "metadata": {},
   "outputs": [],
   "source": [
    "% 每一行代表一个类别, 每一列代表一次值\n",
    "Y = [5, 10, 15;\n",
    "     2, 5,  8;\n",
    "     9, 6,  11];\n",
    "figure;\n",
    "bar(Y, 'grouped'); \n",
    "title('Stacked Bar Chart');\n",
    "xlabel('Categories');\n",
    "ylabel('Values');\n",
    "legend('Series 1', 'Series 2', 'Series 3');"
   ]
  },
  {
   "cell_type": "code",
   "execution_count": null,
   "metadata": {},
   "outputs": [],
   "source": [
    "% 每一行代表一个类别, 每一列代表一次值\n",
    "Y = [5, 10, 15;\n",
    "     2, 5,  8;\n",
    "     9, 6,  11];\n",
    "figure;\n",
    "barh(Y, 'stack'); \n",
    "title('Stacked Bar Chart');\n",
    "xlabel('Categories');\n",
    "ylabel('Values');\n",
    "legend('Series 1', 'Series 2', 'Series 3');"
   ]
  },
  {
   "cell_type": "code",
   "execution_count": null,
   "metadata": {},
   "outputs": [],
   "source": [
    "% 每一行代表一个类别, 每一列代表一次值\n",
    "Y = [5, 10, 15;\n",
    "     2, 5,  8;\n",
    "     9, 6,  11];\n",
    "figure;\n",
    "barh(Y, 'grouped'); \n",
    "title('Stacked Bar Chart');\n",
    "xlabel('Categories');\n",
    "ylabel('Values');\n",
    "legend('Series 1', 'Series 2', 'Series 3');"
   ]
  },
  {
   "cell_type": "code",
   "execution_count": null,
   "metadata": {},
   "outputs": [],
   "source": [
    "data = randn(1000,1);\n",
    "figure;\n",
    "for i=1:4\n",
    "    subplot(2, 2, i);\n",
    "    hist(data, 10*i);\n",
    "end"
   ]
  },
  {
   "cell_type": "code",
   "execution_count": null,
   "metadata": {},
   "outputs": [],
   "source": [
    "for i=1:4\n",
    "    figure(1);\n",
    "    subplot(2, 2, i)\n",
    "    Edges=0:(5-i)/20:1;\n",
    "    X=rand(1000,1);\n",
    "    H=histc(X,Edges);\n",
    "    bar(Edges,H,'histc');\n",
    "end"
   ]
  },
  {
   "cell_type": "markdown",
   "metadata": {},
   "source": [
    "# 15. `pie`"
   ]
  },
  {
   "cell_type": "code",
   "execution_count": null,
   "metadata": {},
   "outputs": [],
   "source": [
    "x=[5  6  7  4  1 ];\n",
    "figure(1), pie(x); \n",
    "figure(2), pie3(x);"
   ]
  },
  {
   "cell_type": "code",
   "execution_count": null,
   "metadata": {},
   "outputs": [],
   "source": [
    "X = [10 20 30 40];\n",
    "labels = {'Spring', 'Summer', 'Autumn', 'Winter'};\n",
    "explode = [0 1 0 0];  % 突出显示“Summer”\n",
    "\n",
    "figure;\n",
    "pie(X, explode, labels);"
   ]
  },
  {
   "cell_type": "code",
   "execution_count": null,
   "metadata": {},
   "outputs": [],
   "source": [
    "X = [10 20 30 40];\n",
    "labels = {'Spring', 'Summer', 'Autumn', 'Winter'};\n",
    "explode = [0 1 0 0];  % 突出显示“Summer”\n",
    "\n",
    "figure;\n",
    "pie3(X, explode, labels);"
   ]
  }
 ],
 "metadata": {
  "kernelspec": {
   "display_name": "Matlab (Connection)",
   "language": "matlab",
   "name": "matlab_connect"
  },
  "language_info": {
   "codemirror_mode": "octave",
   "file_extension": ".m",
   "help_links": [
    {
     "text": "MetaKernel Magics",
     "url": "https://metakernel.readthedocs.io/en/latest/source/README.html"
    }
   ],
   "mimetype": "text/x-octave",
   "name": "matlab",
   "version": "0.17.1"
  }
 },
 "nbformat": 4,
 "nbformat_minor": 2
}
