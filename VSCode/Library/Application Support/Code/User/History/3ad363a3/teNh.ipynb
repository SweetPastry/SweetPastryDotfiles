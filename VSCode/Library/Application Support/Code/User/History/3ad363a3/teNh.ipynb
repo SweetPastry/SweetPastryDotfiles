{
 "cells": [
  {
   "cell_type": "markdown",
   "metadata": {},
   "source": [
    "### `mod` 函数保持结果和除数一致, 和数学上一致"
   ]
  },
  {
   "cell_type": "markdown",
   "metadata": {},
   "source": [
    "mod(-7, 3)"
   ]
  },
  {
   "cell_type": "markdown",
   "metadata": {},
   "source": []
  }
 ],
 "metadata": {
  "language_info": {
   "name": "python"
  }
 },
 "nbformat": 4,
 "nbformat_minor": 2
}
