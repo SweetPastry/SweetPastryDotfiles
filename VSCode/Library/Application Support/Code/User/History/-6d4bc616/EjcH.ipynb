{
 "cells": [
  {
   "cell_type": "code",
   "execution_count": 5,
   "id": "3db94635",
   "metadata": {},
   "outputs": [
    {
     "name": "stdout",
     "output_type": "stream",
     "text": [
      "Manim Community \u001b[32mv0.\u001b[0m\u001b[32m19.0\u001b[0m\n",
      "\n",
      "Usage: manim render [OPTIONS] FILE [SCENE_NAMES]...\n",
      "Try 'manim render --help' for help.\n",
      "\n",
      "Error: Invalid value for '-v' / '--verbosity': 'SquareToCircle' is not one of 'DEBUG', 'INFO', 'WARNING', 'ERROR', 'CRITICAL'.\n"
     ]
    },
    {
     "ename": "NameError",
     "evalue": "name 'Scene' is not defined",
     "output_type": "error",
     "traceback": [
      "\u001b[31m---------------------------------------------------------------------------\u001b[39m",
      "\u001b[31mNameError\u001b[39m                                 Traceback (most recent call last)",
      "\u001b[36mCell\u001b[39m\u001b[36m \u001b[39m\u001b[32mIn[5]\u001b[39m\u001b[32m, line 3\u001b[39m\n\u001b[32m      1\u001b[39m get_ipython().system(\u001b[33m'\u001b[39m\u001b[33mmanim -qm -v SquareToCircle\u001b[39m\u001b[33m'\u001b[39m)\n\u001b[32m----> \u001b[39m\u001b[32m3\u001b[39m \u001b[38;5;28;01mclass\u001b[39;00m\u001b[38;5;250m \u001b[39m\u001b[34;01mSquareToCircle\u001b[39;00m(\u001b[43mScene\u001b[49m):\n\u001b[32m      4\u001b[39m    \u001b[38;5;28;01mdef\u001b[39;00m\u001b[38;5;250m \u001b[39m\u001b[34mconstruct\u001b[39m(\u001b[38;5;28mself\u001b[39m):\n\u001b[32m      5\u001b[39m       square = Square()\n",
      "\u001b[31mNameError\u001b[39m: name 'Scene' is not defined"
     ]
    }
   ],
   "source": [
    "!manim -qm -v SquareToCircle\n",
    "\n",
    "class SquareToCircle(Scene):\n",
    "   def construct(self):\n",
    "      square = Square()\n",
    "      circle = Circle()\n",
    "      circle.set_fill(PINK, opacity=0.5)\n",
    "      self.play(Create(square))\n",
    "      self.play(Transform(square, circle))\n",
    "      self.wait()"
   ]
  }
 ],
 "metadata": {
  "kernelspec": {
   "display_name": "Manim",
   "language": "python",
   "name": "python3"
  },
  "language_info": {
   "codemirror_mode": {
    "name": "ipython",
    "version": 3
   },
   "file_extension": ".py",
   "mimetype": "text/x-python",
   "name": "python",
   "nbconvert_exporter": "python",
   "pygments_lexer": "ipython3",
   "version": "3.12.10"
  }
 },
 "nbformat": 4,
 "nbformat_minor": 5
}
