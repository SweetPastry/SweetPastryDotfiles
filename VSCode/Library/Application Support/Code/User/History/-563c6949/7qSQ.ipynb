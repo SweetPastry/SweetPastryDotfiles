{
 "cells": [
  {
   "cell_type": "markdown",
   "metadata": {},
   "source": [
    "# 引用"
   ]
  },
  {
   "cell_type": "markdown",
   "metadata": {},
   "source": [
    "# 引用的例子"
   ]
  },
  {
   "cell_type": "markdown",
   "metadata": {},
   "source": [
    "### 代替指针修改原值"
   ]
  },
  {
   "cell_type": "code",
   "execution_count": 1,
   "metadata": {},
   "outputs": [
    {
     "name": "stderr",
     "output_type": "stream",
     "text": [
      "/var/folders/c5/kj9p5qmd7gndcqhl48t7wf9c0000gn/T/tmpqrus9o67.c:3:18: error: expected ')'\n",
      "int increment(int& a) {\n",
      "                 ^\n",
      "/var/folders/c5/kj9p5qmd7gndcqhl48t7wf9c0000gn/T/tmpqrus9o67.c:3:14: note: to match this '('\n",
      "int increment(int& a) {\n",
      "             ^\n",
      "/var/folders/c5/kj9p5qmd7gndcqhl48t7wf9c0000gn/T/tmpqrus9o67.c:3:18: warning: omitting the parameter name in a function definition is a C2x extension [-Wc2x-extensions]\n",
      "int increment(int& a) {\n",
      "                 ^\n",
      "/var/folders/c5/kj9p5qmd7gndcqhl48t7wf9c0000gn/T/tmpqrus9o67.c:4:5: error: use of undeclared identifier 'a'\n",
      "    a++;\n",
      "    ^\n",
      "1 warning and 2 errors generated.\n",
      "[C kernel] GCC exited with code 1, the executable will not be executed"
     ]
    }
   ],
   "source": [
    "#include <stdio.h>\n",
    "\n",
    "int increment(int& a) {\n",
    "    a++;\n",
    "}\n",
    "\n",
    "int main() {\n",
    "    int a = 1;\n",
    "    printf(\"%d\", increment(a));\n",
    "    return 0;\n",
    "}"
   ]
  },
  {
   "cell_type": "code",
   "execution_count": null,
   "metadata": {},
   "outputs": [],
   "source": []
  },
  {
   "cell_type": "markdown",
   "metadata": {},
   "source": [
    "引用和指针不一样, 引用是对象的别名, 所以存在”指针的引用“, 但不存在”引用的指针“"
   ]
  }
 ],
 "metadata": {
  "kernelspec": {
   "display_name": "C",
   "language": "c",
   "name": "c"
  },
  "language_info": {
   "file_extension": ".c",
   "mimetype": "text/plain",
   "name": "c"
  }
 },
 "nbformat": 4,
 "nbformat_minor": 2
}
