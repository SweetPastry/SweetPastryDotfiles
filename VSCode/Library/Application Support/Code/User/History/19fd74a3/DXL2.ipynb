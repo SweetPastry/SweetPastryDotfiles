{
 "cells": [
  {
   "cell_type": "markdown",
   "metadata": {},
   "source": [
    "# getting staRted in R: First Steps"
   ]
  },
  {
   "cell_type": "markdown",
   "metadata": {},
   "source": [
    "## `print()` function"
   ]
  },
  {
   "cell_type": "code",
   "execution_count": 1,
   "metadata": {
    "vscode": {
     "languageId": "r"
    }
   },
   "outputs": [
    {
     "name": "stdout",
     "output_type": "stream",
     "text": [
      "[1] \"Hello World!\"\n"
     ]
    }
   ],
   "source": [
    "# just like in Python\n",
    "print(\"Hello World!\")"
   ]
  },
  {
   "cell_type": "code",
   "execution_count": 2,
   "metadata": {
    "vscode": {
     "languageId": "r"
    }
   },
   "outputs": [
    {
     "name": "stdout",
     "output_type": "stream",
     "text": [
      "print                   package:base                   R Documentation\n",
      "\n",
      "_\bP_\br_\bi_\bn_\bt _\bV_\ba_\bl_\bu_\be_\bs\n",
      "\n",
      "_\bD_\be_\bs_\bc_\br_\bi_\bp_\bt_\bi_\bo_\bn:\n",
      "\n",
      "     'print' prints its argument and returns it _invisibly_ (via\n",
      "     'invisible(x)').  It is a generic function which means that new\n",
      "     printing methods can be easily added for new 'class'es.\n",
      "\n",
      "_\bU_\bs_\ba_\bg_\be:\n",
      "\n",
      "     print(x, ...)\n",
      "     \n",
      "     ## S3 method for class 'factor'\n",
      "     print(x, quote = FALSE, max.levels = NULL,\n",
      "           width = getOption(\"width\"), ...)\n",
      "     \n",
      "     ## S3 method for class 'table'\n",
      "     print(x, digits = getOption(\"digits\"), quote = FALSE,\n",
      "           na.print = \"\", zero.print = \"0\",\n",
      "           right = is.numeric(x) || is.complex(x),\n",
      "           justify = \"none\", ...)\n",
      "     \n",
      "     ## S3 method for class 'function'\n",
      "     print(x, useSource = TRUE, ...)\n",
      "     \n",
      "_\bA_\br_\bg_\bu_\bm_\be_\bn_\bt_\bs:\n",
      "\n",
      "       x: an object used to select a method.\n",
      "\n",
      "     ...: further arguments passed to or from other methods.\n",
      "\n",
      "   quote: logical, indicating whether or not strings should be printed\n",
      "          with surrounding quotes.\n",
      "\n",
      "max.levels: integer, indicating how many levels should be printed for a\n",
      "          factor; if '0', no extra \"Levels\" line will be printed.  The\n",
      "          default, 'NULL', entails choosing 'max.levels' such that the\n",
      "          levels print on one line of width 'width'.\n",
      "\n",
      "   width: only used when 'max.levels' is NULL, see above.\n",
      "\n",
      "  digits: minimal number of _significant_ digits, see 'print.default'.\n",
      "\n",
      "na.print: character string (or 'NULL') indicating 'NA' values in\n",
      "          printed output, see 'print.default'.\n",
      "\n",
      "zero.print: character specifying how zeros ('0') should be printed; for\n",
      "          sparse tables, using '\".\"' can produce more readable results,\n",
      "          similar to printing sparse matrices in 'Matrix'.\n",
      "\n",
      "   right: logical, indicating whether or not strings should be right\n",
      "          aligned.\n",
      "\n",
      " justify: character indicating if strings should left- or\n",
      "          right-justified or left alone, passed to 'format'.\n",
      "\n",
      "useSource: logical indicating if internally stored source should be\n",
      "          used for printing when present, e.g., if 'options(keep.source\n",
      "          = TRUE)' has been in use.\n",
      "\n",
      "_\bD_\be_\bt_\ba_\bi_\bl_\bs:\n",
      "\n",
      "     The default method, 'print.default' has its own help page.  Use\n",
      "     'methods(\"print\")' to get all the methods for the 'print' generic.\n",
      "\n",
      "     'print.factor' allows some customization and is used for printing\n",
      "     'ordered' factors as well.\n",
      "\n",
      "     'print.table' for printing 'table's allows other customization.\n",
      "     As of R 3.0.0, it only prints a description in case of a table\n",
      "     with 0-extents (this can happen if a classifier has no valid\n",
      "     data).\n",
      "\n",
      "     See 'noquote' as an example of a class whose main purpose is a\n",
      "     specific 'print' method.\n",
      "\n",
      "_\bR_\be_\bf_\be_\br_\be_\bn_\bc_\be_\bs:\n",
      "\n",
      "     Chambers, J. M. and Hastie, T. J. (1992) _Statistical Models in\n",
      "     S._ Wadsworth & Brooks/Cole.\n",
      "\n",
      "_\bS_\be_\be _\bA_\bl_\bs_\bo:\n",
      "\n",
      "     The default method 'print.default', and help for the methods\n",
      "     above; further 'options', 'noquote'.\n",
      "\n",
      "     For more customizable (but cumbersome) printing, see 'cat',\n",
      "     'format' or also 'write'.  For a simple prototypical print method,\n",
      "     see '.print.via.format' in package 'tools'.\n",
      "\n",
      "_\bE_\bx_\ba_\bm_\bp_\bl_\be_\bs:\n",
      "\n",
      "     require(stats)\n",
      "     \n",
      "     ts(1:20)  #-- print is the \"Default function\" --> print.ts(.) is called\n",
      "     for(i in 1:3) print(1:i)\n",
      "     \n",
      "     ## Printing of factors\n",
      "     attenu$station ## 117 levels -> 'max.levels' depending on width\n",
      "     \n",
      "     ## ordered factors: levels  \"l1 < l2 < ..\"\n",
      "     esoph$agegp[1:12]\n",
      "     esoph$alcgp[1:12]\n",
      "     \n",
      "     ## Printing of sparse (contingency) tables\n",
      "     set.seed(521)\n",
      "     t1 <- round(abs(rt(200, df = 1.8)))\n",
      "     t2 <- round(abs(rt(200, df = 1.4)))\n",
      "     table(t1, t2) # simple\n",
      "     print(table(t1, t2), zero.print = \".\") # nicer to read\n",
      "     \n",
      "     ## same for non-integer \"table\":\n",
      "     T <- table(t2,t1)\n",
      "     T <- T * (1+round(rlnorm(length(T)))/4)\n",
      "     print(T, zero.print = \".\") # quite nicer,\n",
      "     print.table(T[,2:8] * 1e9, digits=3, zero.print = \".\")\n",
      "     ## still slightly inferior to  Matrix::Matrix(T)  for larger T\n",
      "     \n",
      "     ## Corner cases with empty extents:\n",
      "     table(1, NA) # < table of extent 1 x 0 >\n",
      "     "
     ]
    }
   ],
   "source": [
    "# this sentence will print out help-info\n",
    "?print()"
   ]
  },
  {
   "cell_type": "markdown",
   "metadata": {
    "vscode": {
     "languageId": "r"
    }
   },
   "source": [
    "## Variables"
   ]
  },
  {
   "cell_type": "code",
   "execution_count": 4,
   "metadata": {
    "vscode": {
     "languageId": "r"
    }
   },
   "outputs": [
    {
     "name": "stdout",
     "output_type": "stream",
     "text": [
      "[1] \"This is a sentence.\"\n",
      "[1] \"this is a sentence.\"\n"
     ]
    }
   ],
   "source": [
    "# in R, we store data in variables by using operator either '<-' or '='\n",
    "# capitalization does matter\n",
    "textToPrint <- \"This is a sentence.\"\n",
    "texttoprint = \"this is a sentence.\"\n",
    "\n",
    "print(textToPrint)\n",
    "print(texttoprint)"
   ]
  },
  {
   "cell_type": "markdown",
   "metadata": {
    "vscode": {
     "languageId": "r"
    }
   },
   "source": [
    "## `nchar()` and `c()` "
   ]
  },
  {
   "cell_type": "code",
   "execution_count": 8,
   "metadata": {
    "vscode": {
     "languageId": "r"
    }
   },
   "outputs": [
    {
     "data": {
      "text/html": [
       "19"
      ],
      "text/latex": [
       "19"
      ],
      "text/markdown": [
       "19"
      ],
      "text/plain": [
       "[1] 19"
      ]
     },
     "metadata": {},
     "output_type": "display_data"
    }
   ],
   "source": [
    "# nchar() counts how many characters in variable\n",
    "nchar(textToPrint)\n",
    "# blankspaces and punctuations are counted"
   ]
  },
  {
   "cell_type": "code",
   "execution_count": 9,
   "metadata": {
    "vscode": {
     "languageId": "r"
    }
   },
   "outputs": [
    {
     "data": {
      "text/html": [
       "<style>\n",
       ".list-inline {list-style: none; margin:0; padding: 0}\n",
       ".list-inline>li {display: inline-block}\n",
       ".list-inline>li:not(:last-child)::after {content: \"\\00b7\"; padding: 0 .5ex}\n",
       "</style>\n",
       "<ol class=list-inline><li>'This is a sentence.'</li><li>'this is a sentence.'</li></ol>\n"
      ],
      "text/latex": [
       "\\begin{enumerate*}\n",
       "\\item 'This is a sentence.'\n",
       "\\item 'this is a sentence.'\n",
       "\\end{enumerate*}\n"
      ],
      "text/markdown": [
       "1. 'This is a sentence.'\n",
       "2. 'this is a sentence.'\n",
       "\n",
       "\n"
      ],
      "text/plain": [
       "[1] \"This is a sentence.\" \"this is a sentence.\""
      ]
     },
     "metadata": {},
     "output_type": "display_data"
    }
   ],
   "source": [
    "# c() means concatenates\n",
    "c(textToPrint, texttoprint)"
   ]
  },
  {
   "cell_type": "markdown",
   "metadata": {},
   "source": [
    "## `str()`"
   ]
  },
  {
   "cell_type": "code",
   "execution_count": null,
   "metadata": {
    "vscode": {
     "languageId": "r"
    }
   },
   "outputs": [
    {
     "name": "stdout",
     "output_type": "stream",
     "text": [
      " num 114514\n",
      " chr \"Hello\"\n",
      " chr \"A\"\n",
      " num 520\n"
     ]
    }
   ],
   "source": [
    "# ATTENTION! In R, str() is DiFFERENT with in Python!\n",
    "# in R, str() means structure, to check the type of variable\n",
    "str(114514); str(\"Hello\"); str('A'); str(520.1314)\n",
    "# what are distinguished in C/C++ like double, int, String, char are not needed to be distinguished now."
   ]
  },
  {
   "cell_type": "markdown",
   "metadata": {},
   "source": [
    "## `class()`"
   ]
  },
  {
   "cell_type": "code",
   "execution_count": 16,
   "metadata": {
    "vscode": {
     "languageId": "r"
    }
   },
   "outputs": [
    {
     "data": {
      "text/html": [
       "'numeric'"
      ],
      "text/latex": [
       "'numeric'"
      ],
      "text/markdown": [
       "'numeric'"
      ],
      "text/plain": [
       "[1] \"numeric\""
      ]
     },
     "metadata": {},
     "output_type": "display_data"
    }
   ],
   "source": [
    "# class() is used to check out which class-type the arguments belongs to\n",
    "class(114514)"
   ]
  },
  {
   "cell_type": "markdown",
   "metadata": {},
   "source": [
    "# "
   ]
  },
  {
   "cell_type": "markdown",
   "metadata": {
    "vscode": {
     "languageId": "r"
    }
   },
   "source": [
    "## `as.numeric(chr)`"
   ]
  },
  {
   "cell_type": "code",
   "execution_count": 18,
   "metadata": {
    "vscode": {
     "languageId": "r"
    }
   },
   "outputs": [
    {
     "name": "stdout",
     "output_type": "stream",
     "text": [
      "[1] 1 1 4 5 1 4\n"
     ]
    },
    {
     "data": {
      "text/html": [
       "'numeric'"
      ],
      "text/latex": [
       "'numeric'"
      ],
      "text/markdown": [
       "'numeric'"
      ],
      "text/plain": [
       "[1] \"numeric\""
      ]
     },
     "metadata": {},
     "output_type": "display_data"
    }
   ],
   "source": [
    "# this is used to transform a number-char to number\n",
    "concatenated = as.numeric(c(\"1\", \"1\", \"4\", \"5\", \"1\", \"4\"))\n",
    "print(concatenated)\n",
    "class(concatenated)"
   ]
  },
  {
   "cell_type": "code",
   "execution_count": null,
   "metadata": {
    "vscode": {
     "languageId": "r"
    }
   },
   "outputs": [],
   "source": []
  }
 ],
 "metadata": {
  "kernelspec": {
   "display_name": "R",
   "language": "R",
   "name": "ir"
  },
  "language_info": {
   "codemirror_mode": "r",
   "file_extension": ".r",
   "mimetype": "text/x-r-source",
   "name": "R",
   "pygments_lexer": "r",
   "version": "4.4.1"
  }
 },
 "nbformat": 4,
 "nbformat_minor": 2
}
