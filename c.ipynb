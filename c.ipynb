{
 "cells": [
  {
   "cell_type": "code",
   "execution_count": 6,
   "id": "41f63670",
   "metadata": {},
   "outputs": [
    {
     "name": "stdout",
     "output_type": "stream",
     "text": [
      "Hello Wolrd!\n"
     ]
    }
   ],
   "source": [
    "#include <stdio.h>\n",
    "\n",
    "int main() {\n",
    "    printf(\"Hello Wolrd!\\n\");\n",
    "    return 0;\n",
    "}"
   ]
  },
  {
   "cell_type": "code",
   "execution_count": 7,
   "id": "956f12e7",
   "metadata": {},
   "outputs": [
    {
     "name": "stderr",
     "output_type": "stream",
     "text": [
      "/var/folders/c5/kj9p5qmd7gndcqhl48t7wf9c0000gn/T/tmpkfp04iyt.c:1:8: error: expected parameter declarator\n",
      "    1 | printf(\"Hello C!\\n\");\n",
      "      |        ^\n",
      "/var/folders/c5/kj9p5qmd7gndcqhl48t7wf9c0000gn/T/tmpkfp04iyt.c:1:8: error: expected ')'\n",
      "/var/folders/c5/kj9p5qmd7gndcqhl48t7wf9c0000gn/T/tmpkfp04iyt.c:1:7: note: to match this '('\n",
      "    1 | printf(\"Hello C!\\n\");\n",
      "      |       ^\n",
      "/var/folders/c5/kj9p5qmd7gndcqhl48t7wf9c0000gn/T/tmpkfp04iyt.c:1:1: error: type specifier missing, defaults to 'int'; ISO C99 and later do not support implicit int [-Wimplicit-int]\n",
      "    1 | printf(\"Hello C!\\n\");\n",
      "      | ^\n",
      "      | int\n",
      "/var/folders/c5/kj9p5qmd7gndcqhl48t7wf9c0000gn/T/tmpkfp04iyt.c:1:1: warning: incompatible redeclaration of library function 'printf' [-Wincompatible-library-redeclaration]\n",
      "/var/folders/c5/kj9p5qmd7gndcqhl48t7wf9c0000gn/T/tmpkfp04iyt.c:1:1: note: 'printf' is a builtin with type 'int (const char *, ...)'\n",
      "1 warning and 3 errors generated.\n",
      "[C kernel] GCC exited with code 1, the executable will not be executed"
     ]
    }
   ],
   "source": [
    "printf(\"Hello C!\\n\");"
   ]
  }
 ],
 "metadata": {
  "kernelspec": {
   "display_name": "C",
   "language": "c",
   "name": "c"
  },
  "language_info": {
   "file_extension": ".c",
   "mimetype": "text/plain",
   "name": "c"
  }
 },
 "nbformat": 4,
 "nbformat_minor": 5
}
