{
 "cells": [
  {
   "cell_type": "code",
   "execution_count": 2,
   "id": "80a1130f",
   "metadata": {},
   "outputs": [],
   "source": [
    "// 像这样写一段完整的代码在单元格内是无法运行的\n",
    "public class Hello_World {\n",
    "    public static void main(String[] args) {\n",
    "        System.out.println(\"Hello World\");\n",
    "    }\n",
    "}"
   ]
  },
  {
   "cell_type": "code",
   "execution_count": 3,
   "id": "f76b4b3e",
   "metadata": {},
   "outputs": [
    {
     "name": "stdout",
     "output_type": "stream",
     "text": [
      "Hello\n"
     ]
    }
   ],
   "source": [
    "// 像这样把 Java 当作解释型语句来写可以运行\n",
    "System.out.println(\"Hello\");"
   ]
  },
  {
   "cell_type": "code",
   "execution_count": 7,
   "id": "33f2a5d7",
   "metadata": {},
   "outputs": [
    {
     "name": "stdout",
     "output_type": "stream",
     "text": [
      "114514\n"
     ]
    }
   ],
   "source": [
    "// 像这样写，会在顶端搜索框要求输入\n",
    "// import java.util.Scanner; 可以省略不写，真方便\n",
    "Scanner sc = new Scanner(System.in);\n",
    "int x_input = sc.nextInt();\n",
    "System.out.println(x_input);"
   ]
  }
 ],
 "metadata": {
  "kernelspec": {
   "display_name": "Java",
   "language": "java",
   "name": "java"
  },
  "language_info": {
   "codemirror_mode": "java",
   "file_extension": ".jshell",
   "mimetype": "text/x-java-source",
   "name": "java",
   "pygments_lexer": "java",
   "version": "11.0.20+8"
  }
 },
 "nbformat": 4,
 "nbformat_minor": 5
}
