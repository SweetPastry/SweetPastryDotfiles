{
 "cells": [
  {
   "cell_type": "code",
   "execution_count": 3,
   "id": "147156c1",
   "metadata": {
    "vscode": {
     "languageId": "rust"
    }
   },
   "outputs": [
    {
     "name": "stdout",
     "output_type": "stream",
     "text": [
      "Hello, Rust in Jupyter!\n"
     ]
    }
   ],
   "source": [
    "println!(\"Hello, Rust in Jupyter!\");"
   ]
  },
  {
   "cell_type": "code",
   "execution_count": 5,
   "id": "d55d47b2",
   "metadata": {
    "vscode": {
     "languageId": "rust"
    }
   },
   "outputs": [],
   "source": [
    "fn main() {\n",
    "    println!(\"Hello, world!\");\n",
    "}"
   ]
  }
 ],
 "metadata": {
  "kernelspec": {
   "display_name": "Rust",
   "language": "rust",
   "name": "rust"
  },
  "language_info": {
   "codemirror_mode": "rust",
   "file_extension": ".rs",
   "mimetype": "text/rust",
   "name": "Rust",
   "pygment_lexer": "rust",
   "version": ""
  }
 },
 "nbformat": 4,
 "nbformat_minor": 5
}
