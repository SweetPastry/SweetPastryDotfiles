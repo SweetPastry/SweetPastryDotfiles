{
 "cells": [
  {
   "cell_type": "code",
   "execution_count": 5,
   "id": "7ddf9425",
   "metadata": {
    "vscode": {
     "languageId": "sql"
    }
   },
   "outputs": [
    {
     "ename": "Error",
     "evalue": "Database was not loaded.",
     "output_type": "error",
     "traceback": [
      "Error: Database was not loaded."
     ]
    }
   ],
   "source": [
    "SELECT 'Hello World';"
   ]
  }
 ],
 "metadata": {
  "kernelspec": {
   "display_name": "xsql",
   "language": "sqlite",
   "name": "xsql"
  },
  "language_info": {
   "codemirror_mode": "sql",
   "file_extension": "",
   "mimetype": "",
   "name": "mysql",
   "version": "0.3.0"
  }
 },
 "nbformat": 4,
 "nbformat_minor": 5
}
