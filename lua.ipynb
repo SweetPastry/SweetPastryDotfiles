{
 "cells": [
  {
   "cell_type": "code",
   "execution_count": 3,
   "id": "98cbc910",
   "metadata": {},
   "outputs": [
    {
     "name": "stdout",
     "output_type": "stream",
     "text": [
      "[[Vector(1.00, 2.00)]] \n",
      "[[Vector(3.00, 4.00)]] \n",
      "[[Vector(4.00, 6.00)]] \n",
      "fib(1) = 1 \n",
      "fib(2) = 1 \n",
      "fib(3) = 2 \n",
      "fib(4) = 3 \n",
      "fib(5) = 5 \n",
      "fib(6) = 8 \n",
      "fib(7) = 13 \n",
      "fib(8) = 21 \n",
      "fib(9) = 34 \n",
      "fib(10) = 55 \n"
     ]
    }
   ],
   "source": [
    "local Vector = {}\n",
    "Vector.__index = Vector\n",
    "\n",
    "\n",
    "function Vector:new(x, y)\n",
    "    local obj = { x = x or 0, y = y or 0 }\n",
    "    setmetatable(obj, self)\n",
    "    return obj\n",
    "end\n",
    "\n",
    "\n",
    "function Vector:__tostring()\n",
    "    return string.format(\"Vector(%.2f, %.2f)\", self.x, self.y)\n",
    "end\n",
    "\n",
    "\n",
    "function Vector.__add(a, b)\n",
    "    return Vector:new(a.x + b.x, a.y + b.y)\n",
    "end\n",
    "\n",
    "\n",
    "\n",
    "local function fib_generator()\n",
    "    return coroutine.wrap(function()\n",
    "        local a, b = 0, 1\n",
    "        while true do\n",
    "            coroutine.yield(b)\n",
    "            a, b = b, a + b\n",
    "        end\n",
    "    end)\n",
    "end\n",
    "\n",
    "\n",
    "local v1 = Vector:new(1, 2)\n",
    "local v2 = Vector:new(3, 4)\n",
    "local v3 = v1 + v2 \n",
    "\n",
    "print(v1)  --> Vector(1.00, 2.00)\n",
    "print(v2)  --> Vector(3.00, 4.00)\n",
    "print(v3)  --> Vector(4.00, 6.00)\n",
    "\n",
    "\n",
    "local fib = fib_generator()\n",
    "for i = 1, 10 do\n",
    "    print(string.format(\"fib(%d) = %d\", i, fib()))\n",
    "end"
   ]
  }
 ],
 "metadata": {
  "kernelspec": {
   "display_name": "Lua  (XLua)",
   "language": "lua",
   "name": "xlua"
  },
  "language_info": {
   "file_extension": ".lua",
   "mimetype": "text/x-luasrc",
   "name": "lua",
   "version": "14.0.0"
  }
 },
 "nbformat": 4,
 "nbformat_minor": 5
}
